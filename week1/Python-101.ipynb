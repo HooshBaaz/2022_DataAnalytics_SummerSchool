{
 "cells": [
  {
   "cell_type": "code",
   "execution_count": 1,
   "id": "4325c816",
   "metadata": {},
   "outputs": [
    {
     "data": {
      "text/plain": [
       "False"
      ]
     },
     "execution_count": 1,
     "metadata": {},
     "output_type": "execute_result"
    }
   ],
   "source": [
    "# calculator\n",
    "(10%3==1)and(10%2==1)"
   ]
  },
  {
   "cell_type": "code",
   "execution_count": 2,
   "id": "627c82ae",
   "metadata": {},
   "outputs": [
    {
     "data": {
      "text/plain": [
       "1267650600228229401496703205376"
      ]
     },
     "execution_count": 2,
     "metadata": {},
     "output_type": "execute_result"
    }
   ],
   "source": [
    "# python operators\n",
    "# + - * / % ** //\n",
    "2**100"
   ]
  },
  {
   "cell_type": "code",
   "execution_count": 3,
   "id": "cacb8074",
   "metadata": {},
   "outputs": [
    {
     "data": {
      "text/plain": [
       "12"
      ]
     },
     "execution_count": 3,
     "metadata": {},
     "output_type": "execute_result"
    }
   ],
   "source": [
    "# python operators priority\n",
    "(2+2)*3"
   ]
  },
  {
   "cell_type": "code",
   "execution_count": 4,
   "id": "ea440bc7",
   "metadata": {},
   "outputs": [
    {
     "name": "stdout",
     "output_type": "stream",
     "text": [
      "Salam\n"
     ]
    }
   ],
   "source": [
    "# print Hello world\n",
    "print(\"Salam\")"
   ]
  },
  {
   "cell_type": "markdown",
   "id": "b1865b49",
   "metadata": {},
   "source": [
    "# Markdown\n",
    "This is a markdown cell"
   ]
  },
  {
   "cell_type": "code",
   "execution_count": 5,
   "id": "d6d8bc53",
   "metadata": {},
   "outputs": [],
   "source": [
    "# variables\n",
    "A_1 = 'Salam'"
   ]
  },
  {
   "cell_type": "code",
   "execution_count": 6,
   "id": "fb8a864a",
   "metadata": {},
   "outputs": [
    {
     "name": "stdout",
     "output_type": "stream",
     "text": [
      "Salam\n"
     ]
    }
   ],
   "source": [
    "print(A_1)"
   ]
  },
  {
   "cell_type": "code",
   "execution_count": 7,
   "id": "95076bcc",
   "metadata": {},
   "outputs": [],
   "source": [
    "# variable names\n",
    "# lower case, separated by underline _"
   ]
  },
  {
   "cell_type": "code",
   "execution_count": 8,
   "id": "d5063bb4",
   "metadata": {
    "scrolled": true
   },
   "outputs": [
    {
     "data": {
      "text/plain": [
       "int"
      ]
     },
     "execution_count": 8,
     "metadata": {},
     "output_type": "execute_result"
    }
   ],
   "source": [
    "# int\n",
    "a=2\n",
    "type(a)"
   ]
  },
  {
   "cell_type": "code",
   "execution_count": 9,
   "id": "7d1d92c1",
   "metadata": {},
   "outputs": [
    {
     "name": "stdout",
     "output_type": "stream",
     "text": [
      "<class 'float'>\n",
      "2.56\n"
     ]
    }
   ],
   "source": [
    "# float\n",
    "a=2.555\n",
    "b=round(a,2)\n",
    "print(type(b))\n",
    "print(b)"
   ]
  },
  {
   "cell_type": "code",
   "execution_count": 10,
   "id": "80e7b8ce",
   "metadata": {},
   "outputs": [],
   "source": [
    "# string\n",
    "a='University of Tehran is a'\n",
    "b='University'"
   ]
  },
  {
   "cell_type": "code",
   "execution_count": 11,
   "id": "b02da6e5",
   "metadata": {},
   "outputs": [
    {
     "name": "stdout",
     "output_type": "stream",
     "text": [
      "University of Tehran is a great University\n"
     ]
    }
   ],
   "source": [
    "# multiple variable print\n",
    "print(a,'great',b)"
   ]
  },
  {
   "cell_type": "code",
   "execution_count": 12,
   "id": "4075d48a",
   "metadata": {},
   "outputs": [
    {
     "name": "stdout",
     "output_type": "stream",
     "text": [
      "23\n"
     ]
    },
    {
     "data": {
      "text/plain": [
       "str"
      ]
     },
     "execution_count": 12,
     "metadata": {},
     "output_type": "execute_result"
    }
   ],
   "source": [
    "# add two different types\n",
    "a='2'\n",
    "b='3'\n",
    "c='2'+'3'\n",
    "print(c)\n",
    "type(c)"
   ]
  },
  {
   "cell_type": "code",
   "execution_count": 13,
   "id": "876ec278",
   "metadata": {},
   "outputs": [
    {
     "name": "stdout",
     "output_type": "stream",
     "text": [
      "4\n"
     ]
    }
   ],
   "source": [
    "# augmented assignment\n",
    "# += %= &=\n",
    "a=2\n",
    "a+=2\n",
    "print(a)"
   ]
  },
  {
   "cell_type": "code",
   "execution_count": 14,
   "id": "d7cc5937",
   "metadata": {},
   "outputs": [
    {
     "name": "stdout",
     "output_type": "stream",
     "text": [
      "-2 is an even number.\n"
     ]
    }
   ],
   "source": [
    "# if statement\n",
    "a=-2\n",
    "if a%2==1 and (a>=0):\n",
    "    print(a,'is a positive odd number.')\n",
    "elif a%2==1 and (a<0):\n",
    "    print(a,'is a negative odd number.')\n",
    "else:\n",
    "    print(a,'is an even number.')"
   ]
  },
  {
   "cell_type": "code",
   "execution_count": 15,
   "id": "c35b3c7f",
   "metadata": {},
   "outputs": [
    {
     "name": "stdout",
     "output_type": "stream",
     "text": [
      "-2 is an even number.\n"
     ]
    }
   ],
   "source": [
    "if a%2==1:\n",
    "    if a<0:\n",
    "        print(a,'is a positive odd number.')\n",
    "    else:\n",
    "        print(a,'is a negative odd number.')\n",
    "else:\n",
    "    print(a,'is an even number.')"
   ]
  },
  {
   "cell_type": "code",
   "execution_count": 17,
   "id": "e71d9125",
   "metadata": {},
   "outputs": [
    {
     "ename": "IndentationError",
     "evalue": "unindent does not match any outer indentation level (<tokenize>, line 6)",
     "output_type": "error",
     "traceback": [
      "\u001b[0;36m  File \u001b[0;32m\"<tokenize>\"\u001b[0;36m, line \u001b[0;32m6\u001b[0m\n\u001b[0;31m    else:\u001b[0m\n\u001b[0m    ^\u001b[0m\n\u001b[0;31mIndentationError\u001b[0m\u001b[0;31m:\u001b[0m unindent does not match any outer indentation level\n"
     ]
    }
   ],
   "source": [
    "# block syntax and errors\n",
    "if a%2==1:\n",
    "    if a<0:\n",
    "        print(a,'is a positive odd number.')\n",
    "        print(a,'is a positive odd number.')\n",
    "     else:\n",
    "        print(a,'is a negative odd number.')\n",
    "else:\n",
    "    print(a,'is an even number.')"
   ]
  },
  {
   "cell_type": "code",
   "execution_count": 18,
   "id": "1d956f86",
   "metadata": {},
   "outputs": [],
   "source": [
    "# comment\n",
    "\n",
    "a=2 # This is how comments work"
   ]
  },
  {
   "cell_type": "code",
   "execution_count": 19,
   "id": "1459ea58",
   "metadata": {},
   "outputs": [
    {
     "data": {
      "text/plain": [
       "True"
      ]
     },
     "execution_count": 19,
     "metadata": {},
     "output_type": "execute_result"
    }
   ],
   "source": [
    "# boolean type\n",
    "a==2"
   ]
  },
  {
   "cell_type": "code",
   "execution_count": 20,
   "id": "747f283b",
   "metadata": {},
   "outputs": [
    {
     "name": "stdout",
     "output_type": "stream",
     "text": [
      "i\n",
      "Uni\n",
      "ran\n",
      "University of Tehran\n"
     ]
    }
   ],
   "source": [
    "# strings slicing\n",
    "a=\"University of Tehran\"\n",
    "print(a[2:3])\n",
    "print(a[:3])\n",
    "print(a[-3:])\n",
    "print(a[:])"
   ]
  },
  {
   "cell_type": "code",
   "execution_count": 21,
   "id": "4968014e",
   "metadata": {},
   "outputs": [
    {
     "data": {
      "text/plain": [
       "[1, 2, 3, 4, 5]"
      ]
     },
     "execution_count": 21,
     "metadata": {},
     "output_type": "execute_result"
    }
   ],
   "source": [
    "# list\n",
    "a=[1,2,3,4]\n",
    "a.append(5)\n",
    "a"
   ]
  },
  {
   "cell_type": "code",
   "execution_count": 22,
   "id": "b712bd41",
   "metadata": {},
   "outputs": [
    {
     "data": {
      "text/plain": [
       "2"
      ]
     },
     "execution_count": 22,
     "metadata": {},
     "output_type": "execute_result"
    }
   ],
   "source": [
    "a.append(5)\n",
    "a.count(5)"
   ]
  },
  {
   "cell_type": "code",
   "execution_count": 23,
   "id": "ea06a5ad",
   "metadata": {
    "scrolled": false
   },
   "outputs": [
    {
     "name": "stdout",
     "output_type": "stream",
     "text": [
      "[3]\n",
      "[3]\n"
     ]
    },
    {
     "data": {
      "text/plain": [
       "list"
      ]
     },
     "execution_count": 23,
     "metadata": {},
     "output_type": "execute_result"
    }
   ],
   "source": [
    "# list slicing\n",
    "a=[1,2,3]\n",
    "print(a[2:3])\n",
    "print(a[2:5])\n",
    "type(a[:-1])\n",
    "#a.append(a)"
   ]
  },
  {
   "cell_type": "code",
   "execution_count": 24,
   "id": "7bf68515",
   "metadata": {
    "scrolled": true
   },
   "outputs": [
    {
     "data": {
      "text/plain": [
       "1"
      ]
     },
     "execution_count": 24,
     "metadata": {},
     "output_type": "execute_result"
    }
   ],
   "source": [
    "# list append\n",
    "a.count(2)"
   ]
  },
  {
   "cell_type": "code",
   "execution_count": 25,
   "id": "cdd38fb6",
   "metadata": {},
   "outputs": [
    {
     "name": "stdout",
     "output_type": "stream",
     "text": [
      "0  s number 10\n",
      "1  s number 8\n",
      "2  s number 6\n"
     ]
    }
   ],
   "source": [
    "for index,i in enumerate(range(10,5,-2)):\n",
    "    print(index,' ''s number',i)"
   ]
  },
  {
   "cell_type": "code",
   "execution_count": 26,
   "id": "278316e4",
   "metadata": {},
   "outputs": [
    {
     "data": {
      "text/plain": [
       "[1, 8, 64, 512]"
      ]
     },
     "execution_count": 26,
     "metadata": {},
     "output_type": "execute_result"
    }
   ],
   "source": [
    "# list comprehension\n",
    "[2**i for i in range(10) if i%3==0]"
   ]
  },
  {
   "cell_type": "code",
   "execution_count": 27,
   "id": "cffaa68b",
   "metadata": {},
   "outputs": [
    {
     "data": {
      "text/plain": [
       "[2, 7]"
      ]
     },
     "execution_count": 27,
     "metadata": {},
     "output_type": "execute_result"
    }
   ],
   "source": [
    "s='University of Tehran'\n",
    "[i for i in range(len(s)) if s[i]=='i']"
   ]
  },
  {
   "cell_type": "code",
   "execution_count": 28,
   "id": "bb977c75",
   "metadata": {},
   "outputs": [
    {
     "name": "stdout",
     "output_type": "stream",
     "text": [
      "[1, 200, 3]\n"
     ]
    }
   ],
   "source": [
    "# list copy\n",
    "a=[1,2,3]\n",
    "b=a        # shallow copy\n",
    "c=b.copy() # deep copy\n",
    "b[1]=200\n",
    "c[0]=100\n",
    "print(a)"
   ]
  },
  {
   "cell_type": "code",
   "execution_count": 29,
   "id": "84abec53",
   "metadata": {},
   "outputs": [
    {
     "name": "stdout",
     "output_type": "stream",
     "text": [
      "[1, 200, 3, 1, 200, 3]\n"
     ]
    }
   ],
   "source": [
    "# list join\n",
    "a=a+b\n",
    "print(a)"
   ]
  },
  {
   "cell_type": "code",
   "execution_count": 30,
   "id": "b27380ae",
   "metadata": {},
   "outputs": [
    {
     "data": {
      "text/plain": [
       "(1, 2, 3, 1, 2, 3)"
      ]
     },
     "execution_count": 30,
     "metadata": {},
     "output_type": "execute_result"
    }
   ],
   "source": [
    "# tuple\n",
    "a=(1,2,3)\n",
    "b=[1,2,3]\n",
    "\n",
    "a+tuple(b)"
   ]
  },
  {
   "cell_type": "code",
   "execution_count": 31,
   "id": "b183312e",
   "metadata": {},
   "outputs": [
    {
     "ename": "TypeError",
     "evalue": "'tuple' object does not support item assignment",
     "output_type": "error",
     "traceback": [
      "\u001b[0;31m---------------------------------------------------------------------------\u001b[0m",
      "\u001b[0;31mTypeError\u001b[0m                                 Traceback (most recent call last)",
      "\u001b[0;32m<ipython-input-31-c56bc4e37dfb>\u001b[0m in \u001b[0;36m<module>\u001b[0;34m\u001b[0m\n\u001b[1;32m      1\u001b[0m \u001b[0;31m# tuple imutability\u001b[0m\u001b[0;34m\u001b[0m\u001b[0;34m\u001b[0m\u001b[0;34m\u001b[0m\u001b[0m\n\u001b[0;32m----> 2\u001b[0;31m \u001b[0ma\u001b[0m\u001b[0;34m[\u001b[0m\u001b[0;36m1\u001b[0m\u001b[0;34m]\u001b[0m\u001b[0;34m=\u001b[0m\u001b[0;36m0\u001b[0m\u001b[0;34m\u001b[0m\u001b[0;34m\u001b[0m\u001b[0m\n\u001b[0m",
      "\u001b[0;31mTypeError\u001b[0m: 'tuple' object does not support item assignment"
     ]
    }
   ],
   "source": [
    "# tuple imutability\n",
    "a[1]=0"
   ]
  },
  {
   "cell_type": "code",
   "execution_count": 32,
   "id": "a6af0978",
   "metadata": {},
   "outputs": [
    {
     "data": {
      "text/plain": [
       "'sf oUvtyeTrniah'"
      ]
     },
     "execution_count": 32,
     "metadata": {},
     "output_type": "execute_result"
    }
   ],
   "source": [
    "# set\n",
    "s='University of Tehran'\n",
    "''.join(list(set(list(s)))) # how to cast between str,list,set"
   ]
  },
  {
   "cell_type": "code",
   "execution_count": 33,
   "id": "97d9b822",
   "metadata": {},
   "outputs": [
    {
     "name": "stdout",
     "output_type": "stream",
     "text": [
      "{1, 2, 3}\n",
      "{1, 2, 3}\n"
     ]
    }
   ],
   "source": [
    "# set definition\n",
    "a={1,2,3}\n",
    "b=set([1,2,3])\n",
    "print(a)\n",
    "print(b)"
   ]
  },
  {
   "cell_type": "code",
   "execution_count": 34,
   "id": "36726dfb",
   "metadata": {},
   "outputs": [
    {
     "name": "stdout",
     "output_type": "stream",
     "text": [
      "{0, 9, 3, 6}\n",
      "{1, 3, 5, 7, 9}\n",
      "{0, 1, 3, 5, 6, 7, 9}\n",
      "9 is in {0, 9, 3, 6}\n"
     ]
    }
   ],
   "source": [
    "# set operations\n",
    "A=set([i for i in range(10) if i%3==0])\n",
    "B=set([i for i in range(10) if i%2==1])\n",
    "print(A)\n",
    "print(B)\n",
    "print(A.union(B))\n",
    "i=9\n",
    "if i in A: print(i,'is in',A)"
   ]
  },
  {
   "cell_type": "code",
   "execution_count": 35,
   "id": "0faf42b0",
   "metadata": {},
   "outputs": [
    {
     "name": "stdout",
     "output_type": "stream",
     "text": [
      "range(10, 0, -1)\n",
      "[10, 9, 8, 7, 6, 5, 4, 3, 2, 1]\n",
      "{1, 2, 3, 4, 5, 6, 7, 8, 9, 10}\n"
     ]
    }
   ],
   "source": [
    "# range\n",
    "print(range(10,0,-1))\n",
    "print(list(range(10,0,-1)))\n",
    "print(set(range(10,0,-1)))"
   ]
  },
  {
   "cell_type": "code",
   "execution_count": 36,
   "id": "887177ce",
   "metadata": {},
   "outputs": [
    {
     "data": {
      "text/plain": [
       "{'Ali': [22, 2], 'Sara': 25, 'Vahid': 32}"
      ]
     },
     "execution_count": 36,
     "metadata": {},
     "output_type": "execute_result"
    }
   ],
   "source": [
    "# dict\n",
    "d={'Ali':10,'Sara': 25, 'Vahid': 32}\n",
    "d['Ali']=[22,2]\n",
    "d"
   ]
  },
  {
   "cell_type": "code",
   "execution_count": 37,
   "id": "3872fa2f",
   "metadata": {},
   "outputs": [
    {
     "data": {
      "text/plain": [
       "3"
      ]
     },
     "execution_count": 37,
     "metadata": {},
     "output_type": "execute_result"
    }
   ],
   "source": [
    "#a={5:10,12:8,1000000000000:5,(12,3):8}\n",
    "a={3:5,5:4,4:100,100:3,8:8}\n",
    "a[a[a[a[a[a[a[5]]]]]]]"
   ]
  },
  {
   "cell_type": "code",
   "execution_count": 38,
   "id": "5f5a76b6",
   "metadata": {},
   "outputs": [
    {
     "name": "stdout",
     "output_type": "stream",
     "text": [
      "{5: 3, 4: 5, 100: 4, 3: 100, 8: 8}\n",
      "{5: 3, 4: 5, 100: 4, 3: 100, 8: 8}\n"
     ]
    }
   ],
   "source": [
    "# inverting key and value\n",
    "print({v:k for (k,v) in a.items()})\n",
    "print({a[k]:k for k in a})\n"
   ]
  },
  {
   "cell_type": "code",
   "execution_count": 39,
   "id": "e40770ca",
   "metadata": {},
   "outputs": [
    {
     "data": {
      "text/plain": [
       "{3: 5, 5: 4, 4: 100, 100: 3, 8: 8, -1: 4}"
      ]
     },
     "execution_count": 39,
     "metadata": {},
     "output_type": "execute_result"
    }
   ],
   "source": [
    "# dict add item\n",
    "a[-1]=4\n",
    "a"
   ]
  },
  {
   "cell_type": "code",
   "execution_count": 40,
   "id": "414e1485",
   "metadata": {},
   "outputs": [
    {
     "name": "stdout",
     "output_type": "stream",
     "text": [
      "3\n",
      "5\n",
      "4\n",
      "100\n",
      "8\n",
      "-1\n"
     ]
    }
   ],
   "source": [
    "# dict pop\n",
    "for i in a:\n",
    "    print(i)"
   ]
  },
  {
   "cell_type": "code",
   "execution_count": 41,
   "id": "33e479d7",
   "metadata": {},
   "outputs": [
    {
     "name": "stdout",
     "output_type": "stream",
     "text": [
      "9\n",
      "8\n",
      "7\n",
      "6\n",
      "5\n",
      "4\n",
      "3\n",
      "2\n",
      "1\n",
      "0\n",
      "-1\n"
     ]
    }
   ],
   "source": [
    "# while\n",
    "i=10\n",
    "while(i>=0):\n",
    "    i-=1\n",
    "    print(i)"
   ]
  },
  {
   "cell_type": "code",
   "execution_count": 42,
   "id": "22e538a0",
   "metadata": {},
   "outputs": [
    {
     "data": {
      "text/plain": [
       "(True, 2)"
      ]
     },
     "execution_count": 42,
     "metadata": {},
     "output_type": "execute_result"
    }
   ],
   "source": [
    "# function\n",
    "def is_prime(n):\n",
    "    if type(n)==float and n==round(n):\n",
    "        n=int(n)\n",
    "    if type(n)!= int:\n",
    "        return False\n",
    "    if n<2:\n",
    "        return False\n",
    "    \n",
    "    for i in range(2,n):\n",
    "        if n%i==0:\n",
    "            return False\n",
    "        \n",
    "    return (True,n)\n",
    "\n",
    "is_prime(2.0)"
   ]
  },
  {
   "cell_type": "code",
   "execution_count": 43,
   "id": "27823206",
   "metadata": {},
   "outputs": [],
   "source": [
    "# class\n",
    "class Student:\n",
    "    def __init__(self,name,ID):\n",
    "        self.name=name\n",
    "        self.ID=ID\n",
    "    \n",
    "    def print_info(self):\n",
    "        print(self.ID,self.name)\n",
    "        \n",
    "s1=Student('Ali',123123)\n",
    "s2=Student('Ahmad',321321)\n"
   ]
  },
  {
   "cell_type": "code",
   "execution_count": 44,
   "id": "30139bcd",
   "metadata": {},
   "outputs": [
    {
     "name": "stdout",
     "output_type": "stream",
     "text": [
      "123123 Ali\n",
      "321321 Ahmad\n"
     ]
    }
   ],
   "source": [
    "s1.print_info()\n",
    "s2.print_info()\n"
   ]
  }
 ],
 "metadata": {
  "kernelspec": {
   "display_name": "Python 3",
   "language": "python",
   "name": "python3"
  },
  "language_info": {
   "codemirror_mode": {
    "name": "ipython",
    "version": 3
   },
   "file_extension": ".py",
   "mimetype": "text/x-python",
   "name": "python",
   "nbconvert_exporter": "python",
   "pygments_lexer": "ipython3",
   "version": "3.7.10"
  }
 },
 "nbformat": 4,
 "nbformat_minor": 5
}
