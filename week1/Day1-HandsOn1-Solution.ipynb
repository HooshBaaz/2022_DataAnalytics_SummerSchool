{
 "cells": [
  {
   "cell_type": "markdown",
   "id": "b1c50c0b-1ae2-45d0-aa8b-1dd5e84ebfca",
   "metadata": {},
   "source": [
    "\n",
    "<img src=\"../assets/logo3.png\" width=\"200\" height=\"200\" >\n",
    "<div style=\"display:block\"><br><br>\n",
    "    <div style=\"display:block\" align=left display=block> \n",
    "        <font size=5><b>Day 1 Hands-On 1 (Solution) - Python Basics</b></font><br>\n",
    "        <hr/>\n",
    "</div>\n"
   ]
  },
  {
   "cell_type": "markdown",
   "id": "eeb1ade4",
   "metadata": {},
   "source": [
    "### 1-\n",
    "add all the items in this list: ['1','2','2.5','3.5']\n"
   ]
  },
  {
   "cell_type": "code",
   "execution_count": 1,
   "id": "62b42805",
   "metadata": {},
   "outputs": [
    {
     "name": "stdout",
     "output_type": "stream",
     "text": [
      "['1', '2', '2.5', '3.5']\n"
     ]
    }
   ],
   "source": [
    "list= ['1','2','2.5','3.5']\n",
    "print(list)\n",
    "# you can also append elements to an empty list."
   ]
  },
  {
   "cell_type": "markdown",
   "id": "fbdf211f",
   "metadata": {},
   "source": [
    "### 2- \n",
    "calculate the average of all 2-digit integers. (numbers 10 to 99)\n"
   ]
  },
  {
   "cell_type": "code",
   "execution_count": 1,
   "id": "14f0bc39",
   "metadata": {},
   "outputs": [
    {
     "name": "stdout",
     "output_type": "stream",
     "text": [
      "mean =  54.0\n"
     ]
    }
   ],
   "source": [
    "s = 0 \n",
    "for i in range(10,99):\n",
    "    s = s + i\n",
    "\n",
    "print('mean = ', str(s/len(range(10, 99))))\n"
   ]
  },
  {
   "cell_type": "markdown",
   "id": "eb3bd609",
   "metadata": {},
   "source": [
    "### 3- \n",
    "Given a variable, check if it is prime (a prime number is a number that is divisible only by itself and 1)\n"
   ]
  },
  {
   "cell_type": "code",
   "execution_count": 2,
   "id": "27f87528",
   "metadata": {},
   "outputs": [
    {
     "name": "stdout",
     "output_type": "stream",
     "text": [
      "2 is a prime number\n"
     ]
    }
   ],
   "source": [
    "n=int(input(\"Enter a number:\"))\n",
    "if n>1:\n",
    "    for i in range(2,n//2):\n",
    "        if(n%i)==0:\n",
    "            print(n,\"is not a prime number\")\n",
    "            break\n",
    "    else:\n",
    "        print(n,\"is a prime number\")\n",
    "else:\n",
    "    print(n,\"is neither prime nor composite\")"
   ]
  },
  {
   "cell_type": "markdown",
   "id": "a8e01dc6",
   "metadata": {},
   "source": [
    "### 4- \n",
    "Given a variable, write a function to check if it is a prime number. You should handle all data types and corner cases (Numbers less than 2)\n"
   ]
  },
  {
   "cell_type": "code",
   "execution_count": 20,
   "id": "99cca5fd",
   "metadata": {},
   "outputs": [
    {
     "data": {
      "text/plain": [
       "False"
      ]
     },
     "execution_count": 20,
     "metadata": {},
     "output_type": "execute_result"
    }
   ],
   "source": [
    "# Solution 1\n",
    "def isprime(num):\n",
    "    if isinstance(num, int):\n",
    "        num=int(num)\n",
    "        prime_flag = True\n",
    "        if num < 2:\n",
    "            prime_flag=False\n",
    "        for n in range(2,int(num**0.5)+1):   \n",
    "            if num%n==0:\n",
    "                prime_flag = False\n",
    "                break\n",
    "    else:\n",
    "        print(\"please insert an integer!\")\n",
    "        \n",
    "    return prime_flag\n",
    "    \n",
    "isprime(1)"
   ]
  },
  {
   "cell_type": "markdown",
   "id": "13ec0f87",
   "metadata": {},
   "source": [
    "### 5- \n",
    "make a list of prime numbers less than 100.\n"
   ]
  },
  {
   "cell_type": "code",
   "execution_count": 21,
   "id": "48d1a3f7",
   "metadata": {},
   "outputs": [
    {
     "name": "stdout",
     "output_type": "stream",
     "text": [
      "[2, 3, 5, 7, 11, 13, 17, 19, 23, 29, 31, 37, 41, 43, 47, 53, 59, 61, 67, 71, 73, 79, 83, 89, 97]\n"
     ]
    }
   ],
   "source": [
    "prime_numbers=[]\n",
    "for i in range(1,100):\n",
    "    if isprime(i):\n",
    "        prime_numbers.append(i)\n",
    "        \n",
    "print(prime_numbers)"
   ]
  },
  {
   "cell_type": "markdown",
   "id": "f4eec208",
   "metadata": {},
   "source": [
    "### 6- \n",
    "make sets of integers S2, S3 less than 100 that are divisible by two, and three. Then take the intersection and union of the two sets. "
   ]
  },
  {
   "cell_type": "code",
   "execution_count": 23,
   "id": "d65bde2d",
   "metadata": {},
   "outputs": [
    {
     "name": "stdout",
     "output_type": "stream",
     "text": [
      "s1 U s2 =  {2, 3, 4, 6, 8, 9, 10, 12, 14, 15, 16, 18, 20, 21, 22, 24, 26, 27, 28, 30, 32, 33, 34, 36, 38, 39, 40, 42, 44, 45, 46, 48, 50, 51, 52, 54, 56, 57, 58, 60, 62, 63, 64, 66, 68, 69, 70, 72, 74, 75, 76, 78, 80, 81, 82, 84, 86, 87, 88, 90, 92, 93, 94, 96, 98, 99}\n",
      "\n",
      "\n",
      "s1 intersection s2 :  {96, 66, 36, 6, 72, 42, 12, 78, 48, 18, 84, 54, 24, 90, 60, 30}\n"
     ]
    }
   ],
   "source": [
    "# Solution 1\n",
    "s1=set()\n",
    "s2=set()\n",
    "for i in range (1,100):\n",
    "    if(i%2)==0:\n",
    "        s1.add(i)\n",
    "    if (i%3)==0:\n",
    "        s2.add(i)\n",
    "\n",
    "print('s1 U s2 = ', s1.union(s2))\n",
    "print('\\n')\n",
    "print(\"s1 intersection s2 : \",s1.intersection(s2))"
   ]
  },
  {
   "cell_type": "code",
   "execution_count": 27,
   "id": "edf586ee",
   "metadata": {},
   "outputs": [
    {
     "name": "stdout",
     "output_type": "stream",
     "text": [
      "s1 U s2 =  {2, 3, 4, 6, 8, 9, 10, 12, 14, 15, 16, 18, 20, 21, 22, 24, 26, 27, 28, 30, 32, 33, 34, 36, 38, 39, 40, 42, 44, 45, 46, 48, 50, 51, 52, 54, 56, 57, 58, 60, 62, 63, 64, 66, 68, 69, 70, 72, 74, 75, 76, 78, 80, 81, 82, 84, 86, 87, 88, 90, 92, 93, 94, 96, 98, 99}\n",
      "\n",
      "\n",
      "s1 intersection s2 :  {96, 66, 36, 6, 72, 42, 12, 78, 48, 18, 84, 54, 24, 90, 60, 30}\n"
     ]
    }
   ],
   "source": [
    "# Solution 2\n",
    "s2 = [i for i in range(1,100) if i%2 == 0]\n",
    "s3 = [i for i in range(1,100) if i%3 ==0]\n",
    "s2 = set(s2)\n",
    "s3 = set(s3)\n",
    "print('s1 U s2 = ', s2.union(s3))\n",
    "print('\\n')\n",
    "print(\"s1 intersection s2 : \",s2.intersection(s3))"
   ]
  },
  {
   "cell_type": "markdown",
   "id": "36bac5d8",
   "metadata": {},
   "source": [
    "### 7-\n",
    "Find the set of all numbers less than 100 that are divisible by 2 and 3 and not by 5.\n"
   ]
  },
  {
   "cell_type": "code",
   "execution_count": 15,
   "id": "47b6fdbb",
   "metadata": {},
   "outputs": [
    {
     "data": {
      "text/plain": [
       "{6, 12, 18, 24, 36, 42, 48, 54, 66, 72, 78, 84, 96}"
      ]
     },
     "execution_count": 15,
     "metadata": {},
     "output_type": "execute_result"
    }
   ],
   "source": [
    "s = [i for i in range(1,100) if i%2 == 0 and i%3 ==0 and not i%5==0]\n",
    "set(s)"
   ]
  },
  {
   "cell_type": "markdown",
   "id": "38d3a022",
   "metadata": {},
   "source": [
    "### 8- \n",
    "\n",
    "Write a code to generate this pattern given n number of lines:\n",
    "(For n = 6)\n",
    "### \\****** \n",
    "### \\***** \n",
    "### \\**** \n",
    "### \\*** \n",
    "### \\** \n",
    "### \\*\n",
    "\n"
   ]
  },
  {
   "cell_type": "code",
   "execution_count": 1,
   "id": "92e8f426",
   "metadata": {},
   "outputs": [
    {
     "name": "stdout",
     "output_type": "stream",
     "text": [
      "* * * * * * \n",
      "* * * * * \n",
      "* * * * \n",
      "* * * \n",
      "* * \n",
      "* \n",
      "\n"
     ]
    }
   ],
   "source": [
    "rows = 6\n",
    "for j in range(rows,-1,-1):\n",
    "    print(\"* \" * j)"
   ]
  },
  {
   "cell_type": "markdown",
   "id": "feeb3cfa",
   "metadata": {},
   "source": [
    "### 9-\n",
    "write a code to reverse this string :\n",
    "\n",
    "\"I love python programming\" --> \"programming python love I\""
   ]
  },
  {
   "cell_type": "code",
   "execution_count": 28,
   "id": "a4de0634",
   "metadata": {},
   "outputs": [
    {
     "data": {
      "text/plain": [
       "'programming python love I'"
      ]
     },
     "execution_count": 28,
     "metadata": {},
     "output_type": "execute_result"
    }
   ],
   "source": [
    "text = \"I love python programming\" \n",
    "text2 = text.split(\" \")\n",
    "text2.reverse()\n",
    "\" \".join(text2)\n"
   ]
  },
  {
   "cell_type": "markdown",
   "id": "a3700b20",
   "metadata": {},
   "source": [
    "### 10- \n",
    "Given this string, make a set of all words\n",
    "(You can use split and replace functions)"
   ]
  },
  {
   "cell_type": "code",
   "execution_count": 27,
   "id": "849f134b",
   "metadata": {},
   "outputs": [
    {
     "data": {
      "text/plain": [
       "{'',\n",
       " 'It',\n",
       " 'Python',\n",
       " 'a',\n",
       " 'alongside',\n",
       " 'also',\n",
       " 'and',\n",
       " 'applications',\n",
       " 'be',\n",
       " 'big',\n",
       " 'can',\n",
       " 'complex',\n",
       " 'connect',\n",
       " 'create',\n",
       " 'data',\n",
       " 'database',\n",
       " 'development',\n",
       " 'files',\n",
       " 'for',\n",
       " 'handle',\n",
       " 'mathematics',\n",
       " 'modify',\n",
       " 'on',\n",
       " 'or',\n",
       " 'perform',\n",
       " 'production-ready',\n",
       " 'prototyping,',\n",
       " 'rapid',\n",
       " 'read',\n",
       " 'server',\n",
       " 'software',\n",
       " 'systems',\n",
       " 'to',\n",
       " 'used',\n",
       " 'web',\n",
       " 'workflows'}"
      ]
     },
     "execution_count": 27,
     "metadata": {},
     "output_type": "execute_result"
    }
   ],
   "source": [
    "my_string = '''Python can be used on a server to create web applications.\n",
    "Python can be used alongside software to create workflows.\n",
    "Python can connect to database systems. It can also read and modify files.\n",
    "Python can be used to handle big data and perform complex mathematics.\n",
    "Python can be used for rapid prototyping, or for production-ready software development.'''\n",
    "my_string=set(my_string.replace('.',' ').replace('\\n',' ').split(' '))\n",
    "my_string\n"
   ]
  }
 ],
 "metadata": {
  "kernelspec": {
   "display_name": "Python 3 (ipykernel)",
   "language": "python",
   "name": "python3"
  },
  "language_info": {
   "codemirror_mode": {
    "name": "ipython",
    "version": 3
   },
   "file_extension": ".py",
   "mimetype": "text/x-python",
   "name": "python",
   "nbconvert_exporter": "python",
   "pygments_lexer": "ipython3",
   "version": "3.8.12"
  },
  "vscode": {
   "interpreter": {
    "hash": "a90aeebcf29d64a654773811cc170cb25061cb2498f10ac689db374c7bf325de"
   }
  }
 },
 "nbformat": 4,
 "nbformat_minor": 5
}
