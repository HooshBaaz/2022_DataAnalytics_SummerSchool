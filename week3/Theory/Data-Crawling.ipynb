{
 "cells": [
  {
   "cell_type": "markdown",
   "metadata": {},
   "source": [
    "# Data Crawling"
   ]
  },
  {
   "cell_type": "code",
   "execution_count": 14,
   "metadata": {},
   "outputs": [],
   "source": [
    "import pandas as pd\n",
    "import matplotlib.pyplot as plt"
   ]
  },
  {
   "cell_type": "markdown",
   "metadata": {},
   "source": [
    "## Let's learn some basic *HTML*!!"
   ]
  },
  {
   "cell_type": "markdown",
   "metadata": {},
   "source": [
    "..."
   ]
  },
  {
   "cell_type": "markdown",
   "metadata": {},
   "source": [
    "## Web Crawling With `BeautifulSoup4`"
   ]
  },
  {
   "cell_type": "code",
   "execution_count": 40,
   "metadata": {},
   "outputs": [
    {
     "data": {
      "text/plain": [
       "'<!doctype html>\\n<html lang=\"fa-IR\" dir=\"rtl\">\\n<head>\\n  <title data-react-helmet=\"true\">دیوار: بزرگترین سایت نیازمندی های رایگان در ایران</title>\\n  <meta data-react-helmet=\"true\" name=\"viewport\" content=\"width=992, initial-scale=1\"/><meta data-react-helmet=\"true\" name=\"description\" content=\"دیوار مرجع اصلی نیازمندی های رایگان و خرید و فروش کالای نو و دست دوم. نیازمندی های املاک، خودرو، استخدام، لوازم خانه، خدمات و سایر بخش های مورد نظر شما\"/><meta data-react-helmet=\"true\" name=\"twitter:card\" content=\"summary\"/><meta data-react-helmet=\"true\" name=\"twitter:site\" content=\"@divar_official\"/><meta data-react-helmet=\"true\" name=\"twitter:url\" content=\"https://divar.ir\"/><meta data-react-helmet=\"true\" name=\"twitter:title\" content=\"دیوار: بزرگترین سایت نیازمندی های رایگان در ایران\"/><meta data-react-helmet=\"true\" name=\"twitter:description\" content=\"دیوار مرجع اصلی نیازمندی های رایگان و خرید و فروش کالای نو و دست دوم. نیازمندی های املاک، خودرو، استخدام، لوازم خانه، خدمات و سایر بخش های مورد نظر شما\"/><meta data-react-helmet=\"true\" name=\"twitter:image\" content=\"https://s100.divarcdn.com/static/thewall-assets/android-chrome-512x512.png\"/><meta data-react-helmet=\"true\" name=\"twitter:creator\" content=\"دیوار\"/><meta data-react-helmet=\"true\" property=\"og:site_name\" content=\"دیوار\"/><meta data-react-helmet=\"true\" property=\"og:type\" content=\"website\"/><meta data-react-helmet=\"true\" property=\"og:url\" content=\"https://divar.ir\"/><meta data-react-helmet=\"true\" property=\"og:title\" content=\"دیوار: بزرگترین سایت نیازمندی های رایگان در ایران\"/><meta data-react-helmet=\"true\" property=\"og:description\" content=\"دیوار مرجع اصلی نیازمندی های رایگان و خرید و فروش کالای نو و دست دوم. نیازمندی های املاک، خودرو، استخدام، لوازم خانه، خدمات و سایر بخش های مورد نظر شما\"/><meta data-react-helmet=\"true\" property=\"og:image\" content=\"https://s100.divarcdn.com/static/thewall-assets/android-chrome-512x512.png\"/><meta data-react-helmet=\"true\" property=\"og:locale\" content=\"fa_IR\"/><meta data-react-helmet=\"true\" name=\"google-play-app\" content=\"app-id=ir.divar\"/>\\n  <meta charset=\"utf-8\">\\n  <meta http-equiv=\"X-UA-Compatible\" content=\"IE=edge\">\\n  <meta http-equiv=\"Content-Type\" content=\"text/html; charset=UTF-8\">\\n    <link data-chunk=\"main\" rel=\"modulepreload\" as=\"script\" href=\"https://s100.divarcdn.com/statics/2022/08/runtime.d9aedf97.desktop.js\">\\n<link data-chunk=\"main\" rel=\"modulepreload\" as=\"script\" href=\"https://s100.divarcdn.com/statics/2022/08/vendors.c501e0b7.desktop.js\">\\n<link data-chunk=\"main\" rel=\"modulepreload\" as=\"script\" href=\"https://s100.divarcdn.com/statics/2022/08/khesht.fb930b7f.desktop.js\">\\n<link data-chunk=\"main\" rel=\"modulepreload\" as=\"script\" href=\"https://s100.divarcdn.com/statics/2022/08/main.792de318.desktop.js\">\\n    \\n  <link rel=\"manifest\" href=\"/manifest.json\">\\n  <link rel=\"search\" type=\"application/opensearchdescription+xml\" title=\"Divar\" href=\"/opensearch.xml\" />\\n  <link rel=\"apple-touch-icon\" sizes=\"180x180\" href=\"https://s100.divarcdn.com/static/thewall-assets/app'"
      ]
     },
     "execution_count": 40,
     "metadata": {},
     "output_type": "execute_result"
    }
   ],
   "source": [
    "import requests\n",
    "html = requests.get('https://stackoverflow.com/questions?tab=newest&pagesize=50&page=1')\n",
    "html.text[:3000]        # A gigantic messy string. Extremely difficult to interact with."
   ]
  },
  {
   "cell_type": "code",
   "execution_count": 16,
   "metadata": {},
   "outputs": [],
   "source": [
    "from bs4 import BeautifulSoup\n",
    "soup = BeautifulSoup(html.text)"
   ]
  },
  {
   "cell_type": "markdown",
   "metadata": {},
   "source": [
    "## Finding Elements"
   ]
  },
  {
   "cell_type": "code",
   "execution_count": 17,
   "metadata": {},
   "outputs": [
    {
     "name": "stdout",
     "output_type": "stream",
     "text": [
      "\n",
      "Stack Overflow\n",
      "Public questions & answers\n",
      "\n"
     ]
    }
   ],
   "source": [
    "all_links = soup.find_all('a')\n",
    "print(all_links[5].text)"
   ]
  },
  {
   "cell_type": "code",
   "execution_count": 18,
   "metadata": {},
   "outputs": [
    {
     "name": "stdout",
     "output_type": "stream",
     "text": [
      "Number of question boxes in page: 50\n",
      "-------------------------------------------------------------\n",
      "<div class=\"s-post-summary js-post-summary\" data-post-id=\"73315667\" data-post-type-id=\"1\" id=\"question-summary-73315667\">\n",
      "<div class=\"s-post-summary--stats js-post-summary-stats\">\n",
      "<div class=\"s-post-summary--stats-item s-post-summary--stats-item__emphasized\" title=\"Score of 0\">\n",
      "<span class=\"s-post-summary--stats-item-number\">0</span>\n",
      "<span class=\"s-post-summary--stats-item-unit\">votes</span>\n",
      "</div>\n",
      "<div class=\"s-post-summary--stats-item\" title=\"0 answers\">\n",
      "<span class=\"s-post-summary--stats-item-number\">0</span>\n",
      "<span class=\"s-post-summary--stats-item-unit\">answers</span>\n",
      "</div>\n",
      "<div class=\"s-post-summary--stats-item\" title=\"2 views\">\n",
      "<span class=\"s-post-summary--stats-item-number\">2</span>\n",
      "<span class=\"s-post-summary--stats-item-unit\">views</span>\n",
      "</div>\n",
      "</div>\n",
      "<div class=\"s-post-summary--content\">\n",
      "<h3 class=\"s-post-summary--content-title\">\n",
      "<a class=\"s-link\" href=\"/questions/73315667/how-to-implement-a-stdfunction-with-operator-that-can-check-if-its-rhs-has-sa\">How to implement a std::function with operator= that can check if its rhs has same signature</a>\n",
      "</h3>\n",
      "<div class=\"s-post-summary--content-excerpt\">\n",
      "                I'm learning to implement std::function and have found several articles about this. Unfortunately, none of their implementations can report a mistake when I assign a funtor with different signature. ...\n",
      "            </div>\n",
      "<div class=\"s-post-summary--meta\">\n",
      "<div class=\"s-post-summary--meta-tags tags js-tags t-cçç t-stl t-sfinae\">\n",
      "<a class=\"post-tag flex--item mt0 js-tagname-cçç\" href=\"/questions/tagged/c%2b%2b\" rel=\"tag\" title=\"show questions tagged 'c++'\">c++</a> <a class=\"post-tag flex--item mt0 js-tagname-stl\" href=\"/questions/tagged/stl\" rel=\"tag\" title=\"show questions tagged 'stl'\">stl</a> <a class=\"post-tag flex--item mt0 js-tagname-sfinae\" href=\"/questions/tagged/sfinae\" rel=\"tag\" title=\"show questions tagged 'sfinae'\">sfinae</a>\n",
      "</div>\n",
      "<div class=\"s-user-card s-user-card__minimal\">\n",
      "<a class=\"s-avatar s-avatar__16 s-user-card--avatar\" href=\"/users/8174611/synchronick\"> <div class=\"gravatar-wrapper-16\" data-user-id=\"8174611\">\n",
      "<img alt=\"user avatar\" class=\"s-avatar--image\" height=\"16\" src=\"https://i.stack.imgur.com/p1QeT.png?s=32&amp;g=1\" width=\"16\"/>\n",
      "</div>\n",
      "</a>\n",
      "<div class=\"s-user-card--info\">\n",
      "<div class=\"s-user-card--link d-flex gs4\">\n",
      "<a class=\"flex--item\" href=\"/users/8174611/synchronick\">SynchronicK</a>\n",
      "</div>\n",
      "<ul class=\"s-user-card--awards\">\n",
      "<li class=\"s-user-card--rep\"><span class=\"todo-no-class-here\" dir=\"ltr\" title=\"reputation score \">1</span></li>\n",
      "</ul>\n",
      "</div>\n",
      "<time class=\"s-user-card--time\">asked <span class=\"relativetime\" title=\"2022-08-11 05:30:31Z\">30 secs ago</span></time>\n",
      "</div>\n",
      "</div>\n",
      "</div>\n",
      "</div>\n"
     ]
    }
   ],
   "source": [
    "all_question_boxes = soup.find_all('div', attrs={'class': 's-post-summary'})\n",
    "print(f'Number of question boxes in page: {len(all_question_boxes)}')\n",
    "print('-------------------------------------------------------------')\n",
    "print(all_question_boxes[1])"
   ]
  },
  {
   "cell_type": "markdown",
   "metadata": {},
   "source": [
    "**Extracting Question Titles**"
   ]
  },
  {
   "cell_type": "code",
   "execution_count": 19,
   "metadata": {},
   "outputs": [
    {
     "data": {
      "text/plain": [
       "['How to check ! $ & present in password variable in Shell script',\n",
       " 'How to implement a std::function with operator= that can check if its rhs has same signature',\n",
       " 'Promise to return instead console.log',\n",
       " 'FileSystemWatcher - The directory name does not exist',\n",
       " 'How to identify that accumulated metadata is a problem in Spark?',\n",
       " \"league/flysystem can't be installled\",\n",
       " 'Hackerrank Euler project #2 Solution in a different way. Receiving segmentation fault for test case 2 and 3',\n",
       " 'Capturing hyperlinks conditionally in regex captures too much',\n",
       " 'starts_with in presto?',\n",
       " 'Error installing Ruby 3.1.2 on macOS 12.5']"
      ]
     },
     "execution_count": 19,
     "metadata": {},
     "output_type": "execute_result"
    }
   ],
   "source": [
    "all_question_title_elements = soup.select('.s-post-summary--content-title > a')     # Notice how we accessed specific tags using CSS selectors\n",
    "all_question_titles = [element.text for element in all_question_title_elements]\n",
    "all_question_titles[:10]"
   ]
  },
  {
   "cell_type": "markdown",
   "metadata": {},
   "source": [
    "**Extracting Question Excerpts**"
   ]
  },
  {
   "cell_type": "code",
   "execution_count": 20,
   "metadata": {},
   "outputs": [
    {
     "data": {
      "text/plain": [
       "['\\r\\n                I am writing shell script which will validate entered password which should not accept ! $ & sign in password. I need to throw error messages. Kindly help me here.\\nHere problem occurring when I ...\\r\\n            ',\n",
       " \"\\r\\n                I'm learning to implement std::function and have found several articles about this. Unfortunately, none of their implementations can report a mistake when I assign a funtor with different signature. ...\\r\\n            \",\n",
       " \"\\r\\n                I'm trying to do a Discord bot. I want to return the console.log content in a variable to return that as a message.\\nI mean, instead of .then(console.log, console.error); assign the console.log content ...\\r\\n            \",\n",
       " '\\r\\n                I have a FileSystemWatcher hosted as a windows service, works fine when pointed to a local folder. but if I point to a network folder in the same server\\nfileWatcher.Path = \"\\\\\\\\uskansclapd01\\\\\\\\Input&...\\r\\n            ',\n",
       " '\\r\\n                I saw that we can trigger automatic clean ups of accumulated metadata in spark by setting spark.cleaner.ttlx or by writing intermediate dataframes into disk. But how do I know that the accumulated ...\\r\\n            ']"
      ]
     },
     "execution_count": 20,
     "metadata": {},
     "output_type": "execute_result"
    }
   ],
   "source": [
    "all_question_excerpt_elements = soup.find_all('div', 's-post-summary--content-excerpt')\n",
    "all_question_excerpts = [element.text for element in all_question_excerpt_elements]\n",
    "all_question_excerpts[:5]"
   ]
  },
  {
   "cell_type": "markdown",
   "metadata": {},
   "source": [
    "**Extracting Username**"
   ]
  },
  {
   "cell_type": "code",
   "execution_count": 21,
   "metadata": {},
   "outputs": [
    {
     "data": {
      "text/plain": [
       "['Dhananjaya D N',\n",
       " 'SynchronicK',\n",
       " 'Lsyk4',\n",
       " 'Kurubaran',\n",
       " 'Davisson Paulino',\n",
       " 'Ahmed Zidan',\n",
       " '776 Shivamrut',\n",
       " 'Lewis Marhin',\n",
       " 'sagar_c_k',\n",
       " 'Justin']"
      ]
     },
     "execution_count": 21,
     "metadata": {},
     "output_type": "execute_result"
    }
   ],
   "source": [
    "all_question_username_elements = soup.select('.s-user-card--info > .s-user-card--link > a')\n",
    "all_question_usernames = [element.text for element in all_question_username_elements]\n",
    "all_question_usernames[:10]"
   ]
  },
  {
   "cell_type": "markdown",
   "metadata": {},
   "source": [
    "**Extracting Question ID**"
   ]
  },
  {
   "cell_type": "code",
   "execution_count": 22,
   "metadata": {},
   "outputs": [
    {
     "data": {
      "text/plain": [
       "['73315669',\n",
       " '73315667',\n",
       " '73315665',\n",
       " '73315663',\n",
       " '73315662',\n",
       " '73315661',\n",
       " '73315660',\n",
       " '73315659',\n",
       " '73315658',\n",
       " '73315657']"
      ]
     },
     "execution_count": 22,
     "metadata": {},
     "output_type": "execute_result"
    }
   ],
   "source": [
    "id_elements = soup.select('.s-post-summary--content > .s-post-summary--content-title > a')\n",
    "all_question_ids = [element['href'].split('/')[2] for element in id_elements]\n",
    "all_question_ids[:10]"
   ]
  },
  {
   "cell_type": "markdown",
   "metadata": {},
   "source": [
    "**Extracting Post Stats**"
   ]
  },
  {
   "cell_type": "code",
   "execution_count": 23,
   "metadata": {},
   "outputs": [
    {
     "name": "stdout",
     "output_type": "stream",
     "text": [
      "['0', '0', '0', '0', '0', '0', '-1', '0', '0', '0']\n",
      "['0', '0', '0', '0', '0', '0', '0', '0', '0', '0']\n",
      "['3', '2', '2', '2', '2', '3', '3', '4', '3', '3']\n"
     ]
    }
   ],
   "source": [
    "stats_element = soup.select('.s-post-summary--stats')\n",
    "questions_upvotes = []\n",
    "questions_answers = []\n",
    "questions_views = []\n",
    "for el in stats_element:\n",
    "    children = list(el.findChildren('div'))\n",
    "    questions_upvotes.append(\n",
    "        children[0].find('span').text\n",
    "    )\n",
    "    questions_answers.append(\n",
    "        children[1].find('span').text\n",
    "    )\n",
    "    questions_views.append(\n",
    "        children[2].find('span').text\n",
    "    )\n",
    "print(questions_upvotes[:10])\n",
    "print(questions_answers[:10])\n",
    "print(questions_views[:10])"
   ]
  },
  {
   "cell_type": "markdown",
   "metadata": {},
   "source": [
    "**Extracting Question Meta Tags**"
   ]
  },
  {
   "cell_type": "code",
   "execution_count": 24,
   "metadata": {},
   "outputs": [
    {
     "data": {
      "text/plain": [
       "[['bash', 'shell', 'script'],\n",
       " ['c++', 'stl', 'sfinae'],\n",
       " ['javascript', 'node.js', 'discord', 'discord.js', 'rcon'],\n",
       " ['c#', '.net', 'filesystemwatcher'],\n",
       " ['apache-spark']]"
      ]
     },
     "execution_count": 24,
     "metadata": {},
     "output_type": "execute_result"
    }
   ],
   "source": [
    "meta_tags_container = soup.find_all('div', 's-post-summary--meta-tags')\n",
    "all_question_meta_tags = []\n",
    "for question_tag_container in meta_tags_container:\n",
    "    temp = []\n",
    "    for child in question_tag_container.findChildren('a'):\n",
    "        temp.append(child.text)\n",
    "    all_question_meta_tags.append(temp)\n",
    "\n",
    "all_question_meta_tags[:5]"
   ]
  },
  {
   "cell_type": "markdown",
   "metadata": {},
   "source": [
    "## Creating Our Dataframe"
   ]
  },
  {
   "cell_type": "code",
   "execution_count": 25,
   "metadata": {},
   "outputs": [],
   "source": [
    "from itertools import chain\n",
    "\n",
    "questions_info_df = pd.DataFrame({\n",
    "    'id': all_question_ids,\n",
    "    'title': all_question_titles,\n",
    "    'excerpt': all_question_excerpts,\n",
    "    'username': all_question_usernames,\n",
    "    'upvotes': questions_upvotes,\n",
    "    'views': questions_views,\n",
    "    'answers': questions_answers,\n",
    "})\n",
    "\n",
    "question_ids_multiplied = list(chain(\n",
    "    *[[id]*len(meta_tags) for id, meta_tags in zip(all_question_ids, all_question_meta_tags)]\n",
    "))      # Don't freak out!!! It's easy!!\n",
    "\n",
    "meta_tags_df = pd.DataFrame({\n",
    "    'id': question_ids_multiplied,\n",
    "    'meta_tag': list(chain(*all_question_meta_tags))\n",
    "})"
   ]
  },
  {
   "cell_type": "code",
   "execution_count": 26,
   "metadata": {},
   "outputs": [
    {
     "data": {
      "text/html": [
       "<div>\n",
       "<style scoped>\n",
       "    .dataframe tbody tr th:only-of-type {\n",
       "        vertical-align: middle;\n",
       "    }\n",
       "\n",
       "    .dataframe tbody tr th {\n",
       "        vertical-align: top;\n",
       "    }\n",
       "\n",
       "    .dataframe thead th {\n",
       "        text-align: right;\n",
       "    }\n",
       "</style>\n",
       "<table border=\"1\" class=\"dataframe\">\n",
       "  <thead>\n",
       "    <tr style=\"text-align: right;\">\n",
       "      <th></th>\n",
       "      <th>id</th>\n",
       "      <th>title</th>\n",
       "      <th>excerpt</th>\n",
       "      <th>username</th>\n",
       "      <th>upvotes</th>\n",
       "      <th>views</th>\n",
       "      <th>answers</th>\n",
       "    </tr>\n",
       "  </thead>\n",
       "  <tbody>\n",
       "    <tr>\n",
       "      <th>0</th>\n",
       "      <td>73315669</td>\n",
       "      <td>How to check ! $ &amp; present in password variabl...</td>\n",
       "      <td>\\r\\n                I am writing shell script ...</td>\n",
       "      <td>Dhananjaya D N</td>\n",
       "      <td>0</td>\n",
       "      <td>3</td>\n",
       "      <td>0</td>\n",
       "    </tr>\n",
       "    <tr>\n",
       "      <th>1</th>\n",
       "      <td>73315667</td>\n",
       "      <td>How to implement a std::function with operator...</td>\n",
       "      <td>\\r\\n                I'm learning to implement ...</td>\n",
       "      <td>SynchronicK</td>\n",
       "      <td>0</td>\n",
       "      <td>2</td>\n",
       "      <td>0</td>\n",
       "    </tr>\n",
       "    <tr>\n",
       "      <th>2</th>\n",
       "      <td>73315665</td>\n",
       "      <td>Promise to return instead console.log</td>\n",
       "      <td>\\r\\n                I'm trying to do a Discord...</td>\n",
       "      <td>Lsyk4</td>\n",
       "      <td>0</td>\n",
       "      <td>2</td>\n",
       "      <td>0</td>\n",
       "    </tr>\n",
       "    <tr>\n",
       "      <th>3</th>\n",
       "      <td>73315663</td>\n",
       "      <td>FileSystemWatcher - The directory name does no...</td>\n",
       "      <td>\\r\\n                I have a FileSystemWatcher...</td>\n",
       "      <td>Kurubaran</td>\n",
       "      <td>0</td>\n",
       "      <td>2</td>\n",
       "      <td>0</td>\n",
       "    </tr>\n",
       "    <tr>\n",
       "      <th>4</th>\n",
       "      <td>73315662</td>\n",
       "      <td>How to identify that accumulated metadata is a...</td>\n",
       "      <td>\\r\\n                I saw that we can trigger ...</td>\n",
       "      <td>Davisson Paulino</td>\n",
       "      <td>0</td>\n",
       "      <td>2</td>\n",
       "      <td>0</td>\n",
       "    </tr>\n",
       "  </tbody>\n",
       "</table>\n",
       "</div>"
      ],
      "text/plain": [
       "         id                                              title  \\\n",
       "0  73315669  How to check ! $ & present in password variabl...   \n",
       "1  73315667  How to implement a std::function with operator...   \n",
       "2  73315665              Promise to return instead console.log   \n",
       "3  73315663  FileSystemWatcher - The directory name does no...   \n",
       "4  73315662  How to identify that accumulated metadata is a...   \n",
       "\n",
       "                                             excerpt          username  \\\n",
       "0  \\r\\n                I am writing shell script ...    Dhananjaya D N   \n",
       "1  \\r\\n                I'm learning to implement ...       SynchronicK   \n",
       "2  \\r\\n                I'm trying to do a Discord...             Lsyk4   \n",
       "3  \\r\\n                I have a FileSystemWatcher...         Kurubaran   \n",
       "4  \\r\\n                I saw that we can trigger ...  Davisson Paulino   \n",
       "\n",
       "  upvotes views answers  \n",
       "0       0     3       0  \n",
       "1       0     2       0  \n",
       "2       0     2       0  \n",
       "3       0     2       0  \n",
       "4       0     2       0  "
      ]
     },
     "execution_count": 26,
     "metadata": {},
     "output_type": "execute_result"
    }
   ],
   "source": [
    "questions_info_df.head()"
   ]
  },
  {
   "cell_type": "code",
   "execution_count": 27,
   "metadata": {},
   "outputs": [
    {
     "data": {
      "text/html": [
       "<div>\n",
       "<style scoped>\n",
       "    .dataframe tbody tr th:only-of-type {\n",
       "        vertical-align: middle;\n",
       "    }\n",
       "\n",
       "    .dataframe tbody tr th {\n",
       "        vertical-align: top;\n",
       "    }\n",
       "\n",
       "    .dataframe thead th {\n",
       "        text-align: right;\n",
       "    }\n",
       "</style>\n",
       "<table border=\"1\" class=\"dataframe\">\n",
       "  <thead>\n",
       "    <tr style=\"text-align: right;\">\n",
       "      <th></th>\n",
       "      <th>id</th>\n",
       "      <th>meta_tag</th>\n",
       "    </tr>\n",
       "  </thead>\n",
       "  <tbody>\n",
       "    <tr>\n",
       "      <th>0</th>\n",
       "      <td>73315669</td>\n",
       "      <td>bash</td>\n",
       "    </tr>\n",
       "    <tr>\n",
       "      <th>1</th>\n",
       "      <td>73315669</td>\n",
       "      <td>shell</td>\n",
       "    </tr>\n",
       "    <tr>\n",
       "      <th>2</th>\n",
       "      <td>73315669</td>\n",
       "      <td>script</td>\n",
       "    </tr>\n",
       "    <tr>\n",
       "      <th>3</th>\n",
       "      <td>73315667</td>\n",
       "      <td>c++</td>\n",
       "    </tr>\n",
       "    <tr>\n",
       "      <th>4</th>\n",
       "      <td>73315667</td>\n",
       "      <td>stl</td>\n",
       "    </tr>\n",
       "    <tr>\n",
       "      <th>5</th>\n",
       "      <td>73315667</td>\n",
       "      <td>sfinae</td>\n",
       "    </tr>\n",
       "    <tr>\n",
       "      <th>6</th>\n",
       "      <td>73315665</td>\n",
       "      <td>javascript</td>\n",
       "    </tr>\n",
       "    <tr>\n",
       "      <th>7</th>\n",
       "      <td>73315665</td>\n",
       "      <td>node.js</td>\n",
       "    </tr>\n",
       "    <tr>\n",
       "      <th>8</th>\n",
       "      <td>73315665</td>\n",
       "      <td>discord</td>\n",
       "    </tr>\n",
       "    <tr>\n",
       "      <th>9</th>\n",
       "      <td>73315665</td>\n",
       "      <td>discord.js</td>\n",
       "    </tr>\n",
       "  </tbody>\n",
       "</table>\n",
       "</div>"
      ],
      "text/plain": [
       "         id    meta_tag\n",
       "0  73315669        bash\n",
       "1  73315669       shell\n",
       "2  73315669      script\n",
       "3  73315667         c++\n",
       "4  73315667         stl\n",
       "5  73315667      sfinae\n",
       "6  73315665  javascript\n",
       "7  73315665     node.js\n",
       "8  73315665     discord\n",
       "9  73315665  discord.js"
      ]
     },
     "execution_count": 27,
     "metadata": {},
     "output_type": "execute_result"
    }
   ],
   "source": [
    "meta_tags_df.head(10)"
   ]
  },
  {
   "cell_type": "markdown",
   "metadata": {},
   "source": [
    "## Putting It All Together"
   ]
  },
  {
   "cell_type": "code",
   "execution_count": 28,
   "metadata": {},
   "outputs": [],
   "source": [
    "def crawl_stackoverflow(pagenumber):\n",
    "    html = requests.get(f'https://stackoverflow.com/questions?tab=newest&pagesize=50&page={pagenumber}')\n",
    "    soup = BeautifulSoup(html.text)\n",
    "    # ---- Titles ---- #\n",
    "    all_question_title_elements = soup.select('.s-post-summary--content-title > a')\n",
    "    all_question_titles = [element.text for element in all_question_title_elements]\n",
    "\n",
    "    # ---- Excerpts ---- #\n",
    "    all_question_excerpt_elements = soup.find_all('div', 's-post-summary--content-excerpt')\n",
    "    all_question_excerpts = [element.text for element in all_question_excerpt_elements]\n",
    "\n",
    "    # ---- Usernames ---- #\n",
    "    all_question_username_elements = soup.select('.s-user-card--info > .s-user-card--link > a')\n",
    "    all_question_usernames = [element.text for element in all_question_username_elements]\n",
    "\n",
    "    # ---- Question IDs ---- #\n",
    "    id_elements = soup.select('.s-post-summary--content > .s-post-summary--content-title > a')\n",
    "    all_question_ids = [element['href'].split('/')[2] for element in id_elements]\n",
    "\n",
    "    # ---- Question Stats ---- #\n",
    "    stats_element = soup.select('.s-post-summary--stats')\n",
    "    questions_upvotes = []\n",
    "    questions_answers = []\n",
    "    questions_views = []\n",
    "    for el in stats_element:\n",
    "        children = list(el.findChildren('div'))\n",
    "        questions_upvotes.append(\n",
    "            children[0].find('span').text\n",
    "        )\n",
    "        questions_answers.append(\n",
    "            children[1].find('span').text\n",
    "        )\n",
    "        questions_views.append(\n",
    "            children[2].find('span').text\n",
    "        )\n",
    "\n",
    "    # ---- Question Meta Tags ---- #\n",
    "    meta_tags_container = soup.find_all('div', 's-post-summary--meta-tags')\n",
    "    all_question_meta_tags = []\n",
    "    for question_tag_container in meta_tags_container:\n",
    "        temp = []\n",
    "        for child in question_tag_container.findChildren('a'):\n",
    "            temp.append(child.text)\n",
    "        all_question_meta_tags.append(temp)\n",
    "\n",
    "\n",
    "    # ---- Creating Dataframes ---- #\n",
    "    questions_info_df = pd.DataFrame({\n",
    "        'id': all_question_ids,\n",
    "        'title': all_question_titles,\n",
    "        'excerpt': all_question_excerpts,\n",
    "        'username': all_question_usernames,\n",
    "        'upvotes': questions_upvotes,\n",
    "        'views': questions_views,\n",
    "        'answers': questions_answers,\n",
    "    })\n",
    "\n",
    "    question_ids_multiplied = list(chain(\n",
    "        *[[id]*len(meta_tags) for id, meta_tags in zip(all_question_ids, all_question_meta_tags)]\n",
    "    ))      # Don't freak out!!! It's easy!!\n",
    "\n",
    "    meta_tags_df = pd.DataFrame({\n",
    "        'id': question_ids_multiplied,\n",
    "        'meta_tag': list(chain(*all_question_meta_tags))\n",
    "    })\n",
    "\n",
    "    return questions_info_df, meta_tags_df\n",
    "    "
   ]
  },
  {
   "cell_type": "code",
   "execution_count": 29,
   "metadata": {},
   "outputs": [
    {
     "name": "stderr",
     "output_type": "stream",
     "text": [
      "100%|██████████| 100/100 [03:30<00:00,  2.11s/it]\n"
     ]
    }
   ],
   "source": [
    "from tqdm import tqdm\n",
    "\n",
    "n_pages = 100\n",
    "question_info_df = []\n",
    "meta_tags_df = []\n",
    "\n",
    "for p in tqdm(range(1, n_pages+1)):\n",
    "    q_df, mt_df = crawl_stackoverflow(p)\n",
    "    question_info_df.append(q_df.copy())        # duplicated dataframes!!!\n",
    "    meta_tags_df.append(mt_df.copy())\n",
    "    # print(q_df.loc[:10, 'id'])\n",
    "question_info_df = pd.concat(question_info_df)\n",
    "meta_tags_df = pd.concat(meta_tags_df)"
   ]
  },
  {
   "cell_type": "code",
   "execution_count": 30,
   "metadata": {},
   "outputs": [
    {
     "name": "stdout",
     "output_type": "stream",
     "text": [
      "(5000, 7)\n"
     ]
    },
    {
     "data": {
      "text/html": [
       "<div>\n",
       "<style scoped>\n",
       "    .dataframe tbody tr th:only-of-type {\n",
       "        vertical-align: middle;\n",
       "    }\n",
       "\n",
       "    .dataframe tbody tr th {\n",
       "        vertical-align: top;\n",
       "    }\n",
       "\n",
       "    .dataframe thead th {\n",
       "        text-align: right;\n",
       "    }\n",
       "</style>\n",
       "<table border=\"1\" class=\"dataframe\">\n",
       "  <thead>\n",
       "    <tr style=\"text-align: right;\">\n",
       "      <th></th>\n",
       "      <th>id</th>\n",
       "      <th>title</th>\n",
       "      <th>excerpt</th>\n",
       "      <th>username</th>\n",
       "      <th>upvotes</th>\n",
       "      <th>views</th>\n",
       "      <th>answers</th>\n",
       "    </tr>\n",
       "  </thead>\n",
       "  <tbody>\n",
       "    <tr>\n",
       "      <th>0</th>\n",
       "      <td>73315669</td>\n",
       "      <td>How to check ! $ &amp; present in password variabl...</td>\n",
       "      <td>\\r\\n                I am writing shell script ...</td>\n",
       "      <td>Dhananjaya D N</td>\n",
       "      <td>0</td>\n",
       "      <td>3</td>\n",
       "      <td>0</td>\n",
       "    </tr>\n",
       "    <tr>\n",
       "      <th>1</th>\n",
       "      <td>73315667</td>\n",
       "      <td>How to implement a std::function with operator...</td>\n",
       "      <td>\\r\\n                I'm learning to implement ...</td>\n",
       "      <td>SynchronicX</td>\n",
       "      <td>0</td>\n",
       "      <td>3</td>\n",
       "      <td>0</td>\n",
       "    </tr>\n",
       "    <tr>\n",
       "      <th>2</th>\n",
       "      <td>73315665</td>\n",
       "      <td>Promise to return instead console.log</td>\n",
       "      <td>\\r\\n                I'm trying to do a Discord...</td>\n",
       "      <td>Lsyk4</td>\n",
       "      <td>0</td>\n",
       "      <td>2</td>\n",
       "      <td>0</td>\n",
       "    </tr>\n",
       "    <tr>\n",
       "      <th>3</th>\n",
       "      <td>73315663</td>\n",
       "      <td>FileSystemWatcher - The directory name does no...</td>\n",
       "      <td>\\r\\n                I have a FileSystemWatcher...</td>\n",
       "      <td>Kurubaran</td>\n",
       "      <td>0</td>\n",
       "      <td>2</td>\n",
       "      <td>0</td>\n",
       "    </tr>\n",
       "    <tr>\n",
       "      <th>4</th>\n",
       "      <td>73315662</td>\n",
       "      <td>How to identify that accumulated metadata is a...</td>\n",
       "      <td>\\r\\n                I saw that we can trigger ...</td>\n",
       "      <td>Davisson Paulino</td>\n",
       "      <td>0</td>\n",
       "      <td>2</td>\n",
       "      <td>0</td>\n",
       "    </tr>\n",
       "  </tbody>\n",
       "</table>\n",
       "</div>"
      ],
      "text/plain": [
       "         id                                              title  \\\n",
       "0  73315669  How to check ! $ & present in password variabl...   \n",
       "1  73315667  How to implement a std::function with operator...   \n",
       "2  73315665              Promise to return instead console.log   \n",
       "3  73315663  FileSystemWatcher - The directory name does no...   \n",
       "4  73315662  How to identify that accumulated metadata is a...   \n",
       "\n",
       "                                             excerpt          username  \\\n",
       "0  \\r\\n                I am writing shell script ...    Dhananjaya D N   \n",
       "1  \\r\\n                I'm learning to implement ...       SynchronicX   \n",
       "2  \\r\\n                I'm trying to do a Discord...             Lsyk4   \n",
       "3  \\r\\n                I have a FileSystemWatcher...         Kurubaran   \n",
       "4  \\r\\n                I saw that we can trigger ...  Davisson Paulino   \n",
       "\n",
       "  upvotes views answers  \n",
       "0       0     3       0  \n",
       "1       0     3       0  \n",
       "2       0     2       0  \n",
       "3       0     2       0  \n",
       "4       0     2       0  "
      ]
     },
     "execution_count": 30,
     "metadata": {},
     "output_type": "execute_result"
    }
   ],
   "source": [
    "print(question_info_df.shape)\n",
    "question_info_df.head()"
   ]
  },
  {
   "cell_type": "code",
   "execution_count": 31,
   "metadata": {},
   "outputs": [
    {
     "name": "stdout",
     "output_type": "stream",
     "text": [
      "(15026, 2)\n"
     ]
    },
    {
     "data": {
      "text/html": [
       "<div>\n",
       "<style scoped>\n",
       "    .dataframe tbody tr th:only-of-type {\n",
       "        vertical-align: middle;\n",
       "    }\n",
       "\n",
       "    .dataframe tbody tr th {\n",
       "        vertical-align: top;\n",
       "    }\n",
       "\n",
       "    .dataframe thead th {\n",
       "        text-align: right;\n",
       "    }\n",
       "</style>\n",
       "<table border=\"1\" class=\"dataframe\">\n",
       "  <thead>\n",
       "    <tr style=\"text-align: right;\">\n",
       "      <th></th>\n",
       "      <th>id</th>\n",
       "      <th>meta_tag</th>\n",
       "    </tr>\n",
       "  </thead>\n",
       "  <tbody>\n",
       "    <tr>\n",
       "      <th>0</th>\n",
       "      <td>73315669</td>\n",
       "      <td>bash</td>\n",
       "    </tr>\n",
       "    <tr>\n",
       "      <th>1</th>\n",
       "      <td>73315669</td>\n",
       "      <td>shell</td>\n",
       "    </tr>\n",
       "    <tr>\n",
       "      <th>2</th>\n",
       "      <td>73315669</td>\n",
       "      <td>script</td>\n",
       "    </tr>\n",
       "    <tr>\n",
       "      <th>3</th>\n",
       "      <td>73315667</td>\n",
       "      <td>c++</td>\n",
       "    </tr>\n",
       "    <tr>\n",
       "      <th>4</th>\n",
       "      <td>73315667</td>\n",
       "      <td>stl</td>\n",
       "    </tr>\n",
       "  </tbody>\n",
       "</table>\n",
       "</div>"
      ],
      "text/plain": [
       "         id meta_tag\n",
       "0  73315669     bash\n",
       "1  73315669    shell\n",
       "2  73315669   script\n",
       "3  73315667      c++\n",
       "4  73315667      stl"
      ]
     },
     "execution_count": 31,
     "metadata": {},
     "output_type": "execute_result"
    }
   ],
   "source": [
    "print(meta_tags_df.shape)\n",
    "meta_tags_df.head()"
   ]
  },
  {
   "cell_type": "code",
   "execution_count": 32,
   "metadata": {},
   "outputs": [
    {
     "name": "stdout",
     "output_type": "stream",
     "text": [
      "39\n",
      "120\n"
     ]
    }
   ],
   "source": [
    "print(question_info_df.duplicated().sum())\n",
    "print(meta_tags_df.duplicated().sum())"
   ]
  },
  {
   "cell_type": "code",
   "execution_count": 33,
   "metadata": {},
   "outputs": [],
   "source": [
    "question_info_df = question_info_df.drop_duplicates()\n",
    "meta_tags_df = meta_tags_df.drop_duplicates()"
   ]
  },
  {
   "cell_type": "code",
   "execution_count": 34,
   "metadata": {},
   "outputs": [
    {
     "name": "stdout",
     "output_type": "stream",
     "text": [
      "\n",
      "                I am writing shell script which will validate entered password which should not accept ! $ & sign in password. I need to throw error messages. Kindly help me here.\n",
      "Here problem occurring when I ...\n",
      "            \n"
     ]
    }
   ],
   "source": [
    "print(question_info_df.excerpt.values[0])\n",
    "question_info_df.excerpt = question_info_df.excerpt.replace(r'^\\r\\n\\s+', '', regex=True) \\\n",
    "                                                   .replace(r'\\r\\n\\s+$', '', regex=True)"
   ]
  },
  {
   "cell_type": "code",
   "execution_count": 35,
   "metadata": {},
   "outputs": [
    {
     "data": {
      "text/plain": [
       "id          object\n",
       "title       object\n",
       "excerpt     object\n",
       "username    object\n",
       "upvotes     object\n",
       "views       object\n",
       "answers     object\n",
       "dtype: object"
      ]
     },
     "execution_count": 35,
     "metadata": {},
     "output_type": "execute_result"
    }
   ],
   "source": [
    "question_info_df.dtypes     # <-- we need to do some cleaning"
   ]
  },
  {
   "cell_type": "code",
   "execution_count": 36,
   "metadata": {},
   "outputs": [
    {
     "data": {
      "text/plain": [
       "id          object\n",
       "title       object\n",
       "excerpt     object\n",
       "username    object\n",
       "upvotes      int64\n",
       "views        int64\n",
       "answers      int64\n",
       "dtype: object"
      ]
     },
     "execution_count": 36,
     "metadata": {},
     "output_type": "execute_result"
    }
   ],
   "source": [
    "question_info_df[['upvotes', 'views', 'answers']] = question_info_df[['upvotes', 'views', 'answers']].astype('int')\n",
    "question_info_df.dtypes"
   ]
  },
  {
   "cell_type": "code",
   "execution_count": 37,
   "metadata": {},
   "outputs": [],
   "source": [
    "question_info_df = question_info_df.set_index('id')\n",
    "meta_tags_df = meta_tags_df.set_index('id')"
   ]
  },
  {
   "cell_type": "code",
   "execution_count": 38,
   "metadata": {},
   "outputs": [],
   "source": [
    "question_info_df.to_csv('question_info.csv')\n",
    "meta_tags_df.to_csv('meta_tags.csv')"
   ]
  },
  {
   "cell_type": "markdown",
   "metadata": {},
   "source": [
    "## Some Data Analysis"
   ]
  },
  {
   "cell_type": "code",
   "execution_count": 39,
   "metadata": {},
   "outputs": [
    {
     "data": {
      "text/plain": [
       "meta_tag  \n",
       "python        814\n",
       "javascript    560\n",
       "java          259\n",
       "reactjs       257\n",
       "c#            232\n",
       "html          209\n",
       "              162\n",
       "css           161\n",
       "pandas        160\n",
       "node.js       155\n",
       "dtype: int64"
      ]
     },
     "execution_count": 39,
     "metadata": {},
     "output_type": "execute_result"
    }
   ],
   "source": [
    "popular_tags = meta_tags_df.value_counts().sort_values()[::-1]\n",
    "popular_tags[:10]"
   ]
  },
  {
   "cell_type": "code",
   "execution_count": null,
   "metadata": {},
   "outputs": [],
   "source": []
  },
  {
   "cell_type": "code",
   "execution_count": null,
   "metadata": {},
   "outputs": [],
   "source": []
  }
 ],
 "metadata": {
  "kernelspec": {
   "display_name": "Python 3 (ipykernel)",
   "language": "python",
   "name": "python3"
  },
  "language_info": {
   "codemirror_mode": {
    "name": "ipython",
    "version": 3
   },
   "file_extension": ".py",
   "mimetype": "text/x-python",
   "name": "python",
   "nbconvert_exporter": "python",
   "pygments_lexer": "ipython3",
   "version": "3.9.7"
  },
  "vscode": {
   "interpreter": {
    "hash": "25aba1949f44877099d449300e326e4451e69b41f5f01d7de2dc51cdf7c75fa4"
   }
  }
 },
 "nbformat": 4,
 "nbformat_minor": 2
}
