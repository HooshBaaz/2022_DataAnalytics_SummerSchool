{
 "cells": [
  {
   "cell_type": "markdown",
   "id": "42e2be01",
   "metadata": {},
   "source": [
    "<img src=\"../assets/logo3.png\" width=\"200\" height=\"200\">\n",
    "\n",
    "<div style=\"display:block\"><br><br>\n",
    "    <div style=\"display:block\" align=left display=block> \n",
    "        <font size=5><b>HandsOn 2: Python </b></font><br>\n",
    "        <hr/>\n",
    "\n",
    "</div>\n",
    "\n",
    "<pre>\n",
    ".\n",
    "├── Mean and Standard Deviation Calculation\n",
    "│\n",
    "├── All possible permutations of list with length n\n",
    "│\n",
    "├── Number of occurences of all words in the text\n",
    "│ \n",
    "└── Count separate cycles of a directed graph. \n",
    "</pre>\n",
    "\n"
   ]
  },
  {
   "cell_type": "markdown",
   "id": "4f000c63",
   "metadata": {},
   "source": [
    "### 1-\n",
    "Given the list of all 2-digit numbers\n",
    "Calculate the mean and standard deviation of all numbers in this list."
   ]
  },
  {
   "cell_type": "code",
   "execution_count": 1,
   "id": "87d9eba2",
   "metadata": {
    "colab": {
     "base_uri": "https://localhost:8080/"
    },
    "executionInfo": {
     "elapsed": 36,
     "status": "ok",
     "timestamp": 1659030136651,
     "user": {
      "displayName": "Banafsheh K",
      "userId": "01479985511976952921"
     },
     "user_tz": -270
    },
    "id": "87d9eba2",
    "outputId": "16f0d47c-fd6b-4ba7-af9b-3fb52ef98d60"
   },
   "outputs": [
    {
     "name": "stdout",
     "output_type": "stream",
     "text": [
      "average: 54.5\n",
      "std: 25.979158313283875\n"
     ]
    }
   ],
   "source": [
    "# @title Q1\n",
    "range_min=10\n",
    "range_max=100\n",
    "\n",
    "count=range_max-range_min\n",
    "total=0\n",
    "for i in range(range_min,range_max):\n",
    "    total+=i\n",
    "\n",
    "average=total/count\n",
    "print('average:',average)\n",
    "\n",
    "sqr=0\n",
    "for i in range(range_min,range_max):\n",
    "    sqr+=(i-average)**2\n",
    "std=(sqr/count)**0.5\n",
    "\n",
    "print('std:',std)"
   ]
  },
  {
   "cell_type": "markdown",
   "id": "927fe7f5",
   "metadata": {},
   "source": [
    "### 2-\n",
    "Write a code to print all possible permutations of length n.\n",
    "#For example, given n=3, we have 6 permutations: [1,2,3],[1,3,2],[2,1,3],[2,3,1],[3,1,2],[3,2,1]"
   ]
  },
  {
   "cell_type": "code",
   "execution_count": 2,
   "id": "34cc1708",
   "metadata": {
    "colab": {
     "base_uri": "https://localhost:8080/"
    },
    "executionInfo": {
     "elapsed": 548,
     "status": "ok",
     "timestamp": 1659030945430,
     "user": {
      "displayName": "Banafsheh K",
      "userId": "01479985511976952921"
     },
     "user_tz": -270
    },
    "id": "34cc1708",
    "outputId": "a15b7c9a-bdde-44ad-a251-efdf1ad4b278"
   },
   "outputs": [
    {
     "name": "stdout",
     "output_type": "stream",
     "text": [
      "[1, 2, 3, 4]\n",
      "[1, 2, 4, 3]\n",
      "[1, 3, 2, 4]\n",
      "[1, 3, 4, 2]\n",
      "[1, 4, 2, 3]\n",
      "[1, 4, 3, 2]\n",
      "[2, 1, 3, 4]\n",
      "[2, 1, 4, 3]\n",
      "[2, 3, 1, 4]\n",
      "[2, 3, 4, 1]\n",
      "[2, 4, 1, 3]\n",
      "[2, 4, 3, 1]\n",
      "[3, 1, 2, 4]\n",
      "[3, 1, 4, 2]\n",
      "[3, 2, 1, 4]\n",
      "[3, 2, 4, 1]\n",
      "[3, 4, 1, 2]\n",
      "[3, 4, 2, 1]\n",
      "[4, 1, 2, 3]\n",
      "[4, 1, 3, 2]\n",
      "[4, 2, 1, 3]\n",
      "[4, 2, 3, 1]\n",
      "[4, 3, 1, 2]\n",
      "[4, 3, 2, 1]\n"
     ]
    }
   ],
   "source": [
    "def permutations(head, tail=[]):\n",
    "    if len(head) == 0:\n",
    "        print(tail)\n",
    "    else:\n",
    "        for i in range(len(head)):\n",
    "            tmp = list(tail)\n",
    "            tmp.append(head[i])\n",
    "            permutations(head[:i] + head[i+1:], tmp)\n",
    "permutations([1,2,3,4])"
   ]
  },
  {
   "cell_type": "markdown",
   "id": "79955fd5",
   "metadata": {},
   "source": [
    "### 3-\n",
    "Given a long text, count the number of occurences of all words in the text in a python dictionary."
   ]
  },
  {
   "cell_type": "code",
   "execution_count": 3,
   "id": "8b842799",
   "metadata": {
    "colab": {
     "base_uri": "https://localhost:8080/"
    },
    "executionInfo": {
     "elapsed": 790,
     "status": "ok",
     "timestamp": 1659031552020,
     "user": {
      "displayName": "Banafsheh K",
      "userId": "01479985511976952921"
     },
     "user_tz": -270
    },
    "id": "8b842799",
    "outputId": "ec2667ec-234c-4beb-d1dc-ba697d5efb49"
   },
   "outputs": [
    {
     "data": {
      "text/plain": [
       "{'Python': 8,\n",
       " 'is': 4,\n",
       " 'a': 4,\n",
       " 'high-level': 1,\n",
       " 'interpreted': 1,\n",
       " 'general-purpose': 1,\n",
       " 'programming': 5,\n",
       " 'language': 3,\n",
       " 'Its': 1,\n",
       " 'design': 1,\n",
       " 'philosophy': 1,\n",
       " 'emphasizes': 1,\n",
       " 'code': 1,\n",
       " 'readability': 1,\n",
       " 'with': 3,\n",
       " 'the': 4,\n",
       " 'use': 1,\n",
       " 'of': 2,\n",
       " 'significant': 1,\n",
       " 'indentation': 1,\n",
       " 'dynamically-typed': 1,\n",
       " 'and': 5,\n",
       " 'garbage-collected': 1,\n",
       " 'It': 2,\n",
       " 'supports': 1,\n",
       " 'multiple': 1,\n",
       " 'paradigms': 1,\n",
       " 'including': 1,\n",
       " 'structured': 1,\n",
       " '(particularly': 1,\n",
       " 'procedural)': 1,\n",
       " 'object-oriented': 1,\n",
       " 'functional': 1,\n",
       " 'often': 1,\n",
       " 'described': 1,\n",
       " 'as': 5,\n",
       " '\"batteries': 1,\n",
       " 'included\"': 1,\n",
       " 'due': 1,\n",
       " 'to': 2,\n",
       " 'its': 1,\n",
       " 'comprehensive': 1,\n",
       " 'standard': 1,\n",
       " 'library': 1,\n",
       " 'Guido': 1,\n",
       " 'van': 1,\n",
       " 'Rossum': 1,\n",
       " 'began': 1,\n",
       " 'working': 1,\n",
       " 'on': 1,\n",
       " 'in': 5,\n",
       " 'late': 1,\n",
       " '1980s': 1,\n",
       " 'successor': 1,\n",
       " 'ABC': 1,\n",
       " 'first': 1,\n",
       " 'released': 3,\n",
       " 'it': 1,\n",
       " '1991': 1,\n",
       " '090[34]': 1,\n",
       " '20': 1,\n",
       " 'was': 3,\n",
       " '2000': 1,\n",
       " 'introduced': 1,\n",
       " 'new': 1,\n",
       " 'features': 1,\n",
       " 'such': 1,\n",
       " 'list': 1,\n",
       " 'comprehensions': 1,\n",
       " 'cycle-detecting': 1,\n",
       " 'garbage': 1,\n",
       " 'collection': 1,\n",
       " 'reference': 1,\n",
       " 'counting': 1,\n",
       " 'Unicode': 1,\n",
       " 'support': 1,\n",
       " '30': 1,\n",
       " '2008': 1,\n",
       " 'major': 1,\n",
       " 'revision': 1,\n",
       " 'that': 1,\n",
       " 'not': 1,\n",
       " 'completely': 1,\n",
       " 'backward-compatible': 1,\n",
       " 'earlier': 1,\n",
       " 'versions': 1,\n",
       " '2': 1,\n",
       " 'discontinued': 1,\n",
       " 'version': 1,\n",
       " '2718': 1,\n",
       " '2020': 1,\n",
       " 'consistently': 1,\n",
       " 'ranks': 1,\n",
       " 'one': 1,\n",
       " 'most': 1,\n",
       " 'popular': 1,\n",
       " 'languages': 1}"
      ]
     },
     "metadata": {},
     "output_type": "display_data"
    }
   ],
   "source": [
    "s='Python is a high-level, interpreted, general-purpose programming language. Its design philosophy emphasizes code readability with the use of significant indentation. Python is dynamically-typed and garbage-collected. It supports multiple programming paradigms, including structured (particularly procedural), object-oriented and functional programming. It is often described as a \"batteries included\" language due to its comprehensive standard library. Guido van Rossum began working on Python in the late 1980s as a successor to the ABC programming language and first released it in 1991 as Python 0.9.0.[34] Python 2.0 was released in 2000 and introduced new features such as list comprehensions, cycle-detecting garbage collection, reference counting, and Unicode support. Python 3.0, released in 2008, was a major revision that is not completely backward-compatible with earlier versions. Python 2 was discontinued with version 2.7.18 in 2020. Python consistently ranks as one of the most popular programming languages.'\n",
    "\n",
    "words = s.replace(\",\", \"\").replace(\".\",\"\").split(\" \")\n",
    "cntr = {}\n",
    "for w in words:\n",
    "    if not w in cntr: cntr[w] = 0\n",
    "    cntr[w] = cntr[w] + 1\n",
    "        \n",
    "display(cntr)"
   ]
  },
  {
   "cell_type": "markdown",
   "id": "3fc12ba3",
   "metadata": {},
   "source": [
    "### 4-\n",
    "A directed graph is given with dictionary d.\n",
    "Count how many separate cycles there are in this graph"
   ]
  },
  {
   "cell_type": "code",
   "execution_count": 4,
   "id": "41b1d7f4",
   "metadata": {
    "colab": {
     "base_uri": "https://localhost:8080/"
    },
    "executionInfo": {
     "elapsed": 573,
     "status": "ok",
     "timestamp": 1659033521828,
     "user": {
      "displayName": "Banafsheh K",
      "userId": "01479985511976952921"
     },
     "user_tz": -270
    },
    "id": "41b1d7f4",
    "outputId": "85b6af6a-255f-40e4-9601-21cc6bfac469"
   },
   "outputs": [
    {
     "name": "stdout",
     "output_type": "stream",
     "text": [
      "{0: 2, 1: 8, 2: 4, 3: 9, 4: 1, 5: 6, 6: 7, 7: 3, 8: 0, 9: 5}\n"
     ]
    }
   ],
   "source": [
    "import numpy as np\n",
    "np.random.seed(0)\n",
    "n=10\n",
    "perm=np.random.permutation(10)\n",
    "d={i:perm[i] for i in range(n)}\n",
    "print(d)"
   ]
  },
  {
   "cell_type": "markdown",
   "id": "1eaad99d",
   "metadata": {},
   "source": [
    "### Solution 1"
   ]
  },
  {
   "cell_type": "code",
   "execution_count": 5,
   "id": "3152193b",
   "metadata": {
    "colab": {
     "base_uri": "https://localhost:8080/"
    },
    "executionInfo": {
     "elapsed": 488,
     "status": "ok",
     "timestamp": 1659033527297,
     "user": {
      "displayName": "Banafsheh K",
      "userId": "01479985511976952921"
     },
     "user_tz": -270
    },
    "id": "3152193b",
    "outputId": "be7c94e9-c310-4221-b5fe-193276bd3af0"
   },
   "outputs": [
    {
     "name": "stdout",
     "output_type": "stream",
     "text": [
      "[0, 2, 4, 1, 8]\n",
      "[3, 9, 5, 6, 7]\n",
      "2 cycles\n"
     ]
    }
   ],
   "source": [
    "d2=d.copy()\n",
    "cntr = 0\n",
    "while len(d2.keys())!=0:\n",
    "    edge = list(d2.keys())[0]\n",
    "    path = [edge]\n",
    "    while True:\n",
    "        edge = d2[edge]\n",
    "        if edge in path:\n",
    "            print(path)\n",
    "            for x in path:\n",
    "                del d2[x]\n",
    "            cntr += 1\n",
    "            break\n",
    "        path.append(edge)\n",
    "print(str(cntr) + \" cycles\")"
   ]
  },
  {
   "cell_type": "markdown",
   "id": "d3dc0d49",
   "metadata": {},
   "source": [
    "### Solution 2"
   ]
  },
  {
   "cell_type": "code",
   "execution_count": 6,
   "id": "e7b80ef1",
   "metadata": {},
   "outputs": [
    {
     "name": "stdout",
     "output_type": "stream",
     "text": [
      "[1, 1, 1, 0, 1, 0, 0, 0, 1, 0]\n",
      "[1, 1, 1, 2, 1, 2, 2, 2, 1, 2]\n",
      "2 cycles\n"
     ]
    }
   ],
   "source": [
    "marked=[0]*len(d)\n",
    "n_cycle=0\n",
    "for i in range(len(d)):\n",
    "    if not marked[i]:\n",
    "        n_cycle+=1\n",
    "        j=i\n",
    "        while not marked[j]:\n",
    "            marked[j]=n_cycle\n",
    "            j=d[j]   \n",
    "        print(marked)\n",
    "print(n_cycle,'cycles')"
   ]
  }
 ],
 "metadata": {
  "colab": {
   "collapsed_sections": [],
   "name": "handson2sol.ipynb",
   "provenance": []
  },
  "kernelspec": {
   "display_name": "Python 3.8.10 64-bit",
   "language": "python",
   "name": "python3"
  },
  "language_info": {
   "codemirror_mode": {
    "name": "ipython",
    "version": 3
   },
   "file_extension": ".py",
   "mimetype": "text/x-python",
   "name": "python",
   "nbconvert_exporter": "python",
   "pygments_lexer": "ipython3",
   "version": "3.8.10"
  },
  "vscode": {
   "interpreter": {
    "hash": "916dbcbb3f70747c44a77c7bcd40155683ae19c65e1c03b4aa3499c5328201f1"
   }
  }
 },
 "nbformat": 4,
 "nbformat_minor": 5
}
