{
 "cells": [
  {
   "cell_type": "markdown",
   "metadata": {},
   "source": [
    "<img src=\"../assets/logo3.png\" width=\"200\" height=\"200\" >\n",
    "\n",
    "<div style=\"display:block\"><br><br>\n",
    "    <div style=\"display:block\" align=left display=block> \n",
    "        <font size=5><b>HandsOn 4 - Pandas in Action</b></font><br>\n",
    "        <hr/>\n",
    "\n",
    "</div>\n",
    "\n",
    "<pre>\n",
    ".\n",
    "├── Importing Modules/Libraries\n",
    "│\n",
    "├── Load data from local disk\n",
    "│\n",
    "├── Quick look at data\n",
    "│ \n",
    "├── Data Statistics\n",
    "│\n",
    "├── Selecting Rows/Columns from dataframe\n",
    "│\n",
    "├── Data Cleaning\n",
    "│\n",
    "└── Final Processing and Saving Dataframes\n",
    "</pre>"
   ]
  },
  {
   "cell_type": "markdown",
   "metadata": {},
   "source": [
    "Pandas is a library for data analysis built on top of the Python programming language. A library (also called a package) is a collection of code for solving problems in a specific field of endeavor. Pandas is a toolbox for data manipulation operations: sorting, filtering, cleaning, deduping, aggregating, pivoting, and more. The epicenter of Python’s vast data science ecosystem, pandas pairs well with other libraries for statistics, natural language processing, machine learning, data visualization, and more.\n",
    "\n",
    "The sections marked with a Thinking Emoji (💭) are those which you need to read and answer. All right, without further ado, let's get started!\n",
    "\n"
   ]
  },
  {
   "cell_type": "markdown",
   "metadata": {},
   "source": [
    "## Import Modules/Libraries"
   ]
  },
  {
   "cell_type": "code",
   "execution_count": 1,
   "metadata": {},
   "outputs": [],
   "source": [
    "import pandas as pd"
   ]
  },
  {
   "cell_type": "markdown",
   "metadata": {},
   "source": [
    "---------------------------------"
   ]
  },
  {
   "cell_type": "markdown",
   "metadata": {},
   "source": [
    "## Load and Inspect Data"
   ]
  },
  {
   "cell_type": "markdown",
   "metadata": {},
   "source": [
    "### 📖 Load data from local disk"
   ]
  },
  {
   "cell_type": "markdown",
   "metadata": {},
   "source": [
    "First, we need to load the data from the local disk as a Pandas dataframe.\n",
    "- income csv, which is the dataset for people's income in `adults_income.csv`"
   ]
  },
  {
   "cell_type": "markdown",
   "metadata": {},
   "source": [
    "💭 **Write the answer below:**  \n",
    "(Hint: You can use `read_csv` method from Pandas library and save the dataframe in `df` variable)"
   ]
  },
  {
   "cell_type": "code",
   "execution_count": null,
   "metadata": {},
   "outputs": [],
   "source": []
  },
  {
   "cell_type": "markdown",
   "metadata": {},
   "source": [
    "-----------------------------------------"
   ]
  },
  {
   "cell_type": "markdown",
   "metadata": {},
   "source": [
    "### 📖 Quick look at data"
   ]
  },
  {
   "cell_type": "markdown",
   "metadata": {},
   "source": [
    "Now, we need to display multiple rows of our dataframe. Pandas have several methods for this task. \n",
    "\n",
    "#### 💭 Questions\n",
    "- Display first 5 rows of dataframe.\n",
    "- Display last 15 rows of dataframe.\n",
    "- Display randomly 5 rows of dataframe."
   ]
  },
  {
   "cell_type": "markdown",
   "metadata": {},
   "source": [
    "**Write the answer below:** "
   ]
  },
  {
   "cell_type": "code",
   "execution_count": 2,
   "metadata": {},
   "outputs": [],
   "source": [
    "# first 5 rows\n"
   ]
  },
  {
   "cell_type": "code",
   "execution_count": 3,
   "metadata": {},
   "outputs": [],
   "source": [
    "# last 15 rows"
   ]
  },
  {
   "cell_type": "code",
   "execution_count": 4,
   "metadata": {},
   "outputs": [],
   "source": [
    "# random 5 rows"
   ]
  },
  {
   "cell_type": "markdown",
   "metadata": {},
   "source": [
    "---------------------------------------------------"
   ]
  },
  {
   "cell_type": "markdown",
   "metadata": {},
   "source": [
    "### 📖 Data Statistics"
   ]
  },
  {
   "cell_type": "markdown",
   "metadata": {},
   "source": [
    "In this cell we want to see some statistics of our dataframe. \n",
    "\n",
    "#### 💭 Questions\n",
    "- print `descriptive statistics` of dataframe. What information does this method provide for each column?\n",
    "- print `shape` of dataframe.\n",
    "- print columns' `data types`.\n",
    "- print a `summery` information of dataframe."
   ]
  },
  {
   "cell_type": "markdown",
   "metadata": {},
   "source": [
    "**Write the answer below:** "
   ]
  },
  {
   "cell_type": "code",
   "execution_count": null,
   "metadata": {},
   "outputs": [],
   "source": [
    "# descriptive statistics"
   ]
  },
  {
   "cell_type": "code",
   "execution_count": null,
   "metadata": {},
   "outputs": [],
   "source": [
    "# shape of dataframe"
   ]
  },
  {
   "cell_type": "code",
   "execution_count": null,
   "metadata": {},
   "outputs": [],
   "source": [
    "# columns data types"
   ]
  },
  {
   "cell_type": "code",
   "execution_count": null,
   "metadata": {},
   "outputs": [],
   "source": [
    "# summery of dataframe"
   ]
  },
  {
   "cell_type": "markdown",
   "metadata": {},
   "source": [
    "---------------------------------------------"
   ]
  },
  {
   "cell_type": "markdown",
   "metadata": {},
   "source": [
    "### 📖 Selecting Rows/Columns from dataframe.\n",
    "here we want to see how we can select rows and columns of a dataframe.\n",
    "for selecting columns of a dataframe we can use different ways like:\n",
    "- using `loc` or `iloc` methods of Pandas.\n",
    "- just putting the string name of the column in brackets.  \n",
    "  \n",
    "\n",
    "for select rows of a dataframe, again we have several ways:\n",
    "- using `loc` or `iloc` methods.\n",
    "- select the same as list indexing.\n",
    "\n",
    "#### 💭 Questions:\n",
    "- Select and print rows 256 to 512 of `age` with `iloc` and `loc` method. calculate `mean`, `max`, and `min` age for these rows.\n",
    "- Select and print rows 256 to 512 of `age` with giving column names in bracket and indexing. calculate `mean`, `max`, and `min` age for these rows.\n",
    "- Is there any difference between the results of different selection methods"
   ]
  },
  {
   "cell_type": "markdown",
   "metadata": {},
   "source": [
    "**Write the answer below:** "
   ]
  },
  {
   "cell_type": "code",
   "execution_count": null,
   "metadata": {},
   "outputs": [],
   "source": [
    "# iloc"
   ]
  },
  {
   "cell_type": "code",
   "execution_count": null,
   "metadata": {},
   "outputs": [],
   "source": [
    "# calculate mean, max, min"
   ]
  },
  {
   "cell_type": "code",
   "execution_count": null,
   "metadata": {},
   "outputs": [],
   "source": [
    "# loc"
   ]
  },
  {
   "cell_type": "code",
   "execution_count": null,
   "metadata": {},
   "outputs": [],
   "source": [
    "# calculate mean, max, min"
   ]
  },
  {
   "cell_type": "code",
   "execution_count": 5,
   "metadata": {},
   "outputs": [],
   "source": [
    "# brackets and indexing"
   ]
  },
  {
   "cell_type": "code",
   "execution_count": null,
   "metadata": {},
   "outputs": [],
   "source": [
    "# calculate mean, max, min"
   ]
  },
  {
   "cell_type": "markdown",
   "metadata": {},
   "source": [
    "--------------------------------------"
   ]
  },
  {
   "cell_type": "markdown",
   "metadata": {},
   "source": [
    "### 📖 Data Cleaning\n"
   ]
  },
  {
   "cell_type": "markdown",
   "metadata": {},
   "source": [
    "Text data can get quite messy. Real-world data sets are riddled with incorrect characters, improper letter casings, whitespace, and more. The process of cleaning data is called wrangling or munging. Often, the majority of our data analysis is dedicated to munging. We may know the insight we want to derive early on, but the difficulty lies in arranging the data in a suitable shape for the manipulation. Luckily for us, one of the primary motivations behind pandas was easing the difficulty of cleaning up improperly formatted text values."
   ]
  },
  {
   "cell_type": "markdown",
   "metadata": {},
   "source": [
    "#### 💭 Questions:\n",
    "- check duplicated values. if there exist, remove them and keep the first one.\n",
    "- check dataframe for unrelated values. if there exist, replace unrelated values in dataframe with `np.nan`\n",
    "- find the number of nan values for each column\n",
    "- handle missing/nan values with different methods (`dropping column`, `impute with proper value`)\n"
   ]
  },
  {
   "cell_type": "markdown",
   "metadata": {},
   "source": [
    "**Write the answer below:** "
   ]
  },
  {
   "cell_type": "code",
   "execution_count": null,
   "metadata": {},
   "outputs": [],
   "source": [
    "# check for duplicates"
   ]
  },
  {
   "cell_type": "code",
   "execution_count": null,
   "metadata": {},
   "outputs": [],
   "source": [
    "# remove duplicates"
   ]
  },
  {
   "cell_type": "code",
   "execution_count": null,
   "metadata": {},
   "outputs": [],
   "source": [
    "# replace unrelated values"
   ]
  },
  {
   "cell_type": "code",
   "execution_count": null,
   "metadata": {},
   "outputs": [],
   "source": [
    "# find numbers of missing values for each column"
   ]
  },
  {
   "cell_type": "code",
   "execution_count": null,
   "metadata": {},
   "outputs": [],
   "source": [
    "# handle missing values"
   ]
  },
  {
   "cell_type": "markdown",
   "metadata": {},
   "source": [
    "--------------------------------"
   ]
  },
  {
   "cell_type": "markdown",
   "metadata": {},
   "source": [
    "### 📖 Final Processing and Saving Dataframes\n",
    "After cleaning data, in this section, you are going to do som final processes and save the processed dataframe as a `csv` file.\n",
    "\n",
    "#### 💭 Questions:\n",
    "- calculate the 1st and 3rd `quantile` of the `age` column and their distance from `median (second quantile)`. which of the quantiles (1st or 3rd) is closer to the median?\n",
    "- Add a new column to dataframe with the name `age_category`. If the age of a person is less than 20 assign the value of this column to 1. if the age is between 20 and 30, age_category's value must be 2. assign 3 to age_category if the age is between 30 and 40. and assign 4 if the age is more than 40.\n",
    "- count number of values in each category for the `age_category` feature.\n",
    "- (Bonus) create a new column with the name `hours_in_year`. calculate the hours that each person works during the year.\n",
    "- (Bonus) In this Question, you are going to use values of multiple columns. create a `avarege_hour_income` column. If a person's income is more than 50K, divide 120 by the number of hours he\\she works during the year. If a person has an income less than 50, divide 50 by the number of hours he\\she works during the year.\n",
    "- (Bonus) print the maximum income per average which you calculated in the last question.\n",
    "- Save the dataframe as a `csv` file with proper `encoding` and dropping the `index` with the name of `clean_adults_income.csv`\n"
   ]
  },
  {
   "cell_type": "markdown",
   "metadata": {},
   "source": [
    "**Write the answer below:**   \n",
    "(Hint: work with `lambda` functions and usefull methods of `pandas`)"
   ]
  },
  {
   "cell_type": "code",
   "execution_count": null,
   "metadata": {},
   "outputs": [],
   "source": [
    "# Calculate Quatiles"
   ]
  },
  {
   "cell_type": "code",
   "execution_count": null,
   "metadata": {},
   "outputs": [],
   "source": [
    "# add age_category column"
   ]
  },
  {
   "cell_type": "code",
   "execution_count": null,
   "metadata": {},
   "outputs": [],
   "source": [
    "# count number of values"
   ]
  },
  {
   "cell_type": "code",
   "execution_count": null,
   "metadata": {},
   "outputs": [],
   "source": [
    "# (Bonus) create new column hours_in_year"
   ]
  },
  {
   "cell_type": "code",
   "execution_count": null,
   "metadata": {},
   "outputs": [],
   "source": [
    "# (Bonus) create avrege_hour_income column"
   ]
  },
  {
   "cell_type": "code",
   "execution_count": null,
   "metadata": {},
   "outputs": [],
   "source": [
    "# (Bonus) max and min avrege_hour_income"
   ]
  },
  {
   "cell_type": "code",
   "execution_count": null,
   "metadata": {},
   "outputs": [],
   "source": [
    "# save csv"
   ]
  },
  {
   "cell_type": "markdown",
   "metadata": {},
   "source": [
    "# Good Luck 😉"
   ]
  },
  {
   "cell_type": "markdown",
   "metadata": {},
   "source": [
    "# Reference:\n",
    "- Pandas in Action, Boris Paskhaver, Manning Publication."
   ]
  }
 ],
 "metadata": {
  "kernelspec": {
   "display_name": "Python 3 (ipykernel)",
   "language": "python",
   "name": "python3"
  },
  "language_info": {
   "codemirror_mode": {
    "name": "ipython",
    "version": 3
   },
   "file_extension": ".py",
   "mimetype": "text/x-python",
   "name": "python",
   "nbconvert_exporter": "python",
   "pygments_lexer": "ipython3",
   "version": "3.9.7"
  },
  "vscode": {
   "interpreter": {
    "hash": "5c3183615832a26a6e752fe1c57826911e31ec709aa29e730b8e3637a0be59be"
   }
  }
 },
 "nbformat": 4,
 "nbformat_minor": 2
}
