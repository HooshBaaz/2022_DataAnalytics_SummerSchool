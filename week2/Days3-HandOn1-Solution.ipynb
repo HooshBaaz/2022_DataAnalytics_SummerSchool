{
  "cells": [
    {
      "cell_type": "markdown",
      "metadata": {
        "id": "ijMaPpTmUnK9"
      },
      "source": [
        "<img src=\"../assets/logo3.png\" width=\"200\" height=\"200\" >\n",
        "\n",
        "<div style=\"display:block\"><br><br>\n",
        "    <div style=\"display:block\" align=left display=block> \n",
        "        <font size=5><b>HandsOn 4 - Solution - Pandas in Action</b></font><br>\n",
        "        <hr/>\n",
        "\n",
        "</div>\n",
        "\n",
        "<pre>\n",
        ".\n",
        "├── Importing Modules/Libraries\n",
        "│\n",
        "├── Load data from local disk\n",
        "│\n",
        "├── Quick look at data\n",
        "│ \n",
        "├── Data Statistics\n",
        "│\n",
        "├── Selecting Rows/Columns from dataframe\n",
        "│\n",
        "├── Data Cleaning\n",
        "│\n",
        "└── Final Processing and Saving Dataframes\n",
        "</pre>"
      ]
    },
    {
      "cell_type": "markdown",
      "metadata": {
        "id": "lHhZZap4UnLG"
      },
      "source": [
        "Pandas is a library for data analysis built on top of the Python programming language. A library (also called a package) is a collection of code for solving problems in a specific field of endeavor. Pandas is a toolbox for data manipulation operations: sorting, filtering, cleaning, deduping, aggregating, pivoting, and more. The epicenter of Python’s vast data science ecosystem, pandas pairs well with other libraries for statistics, natural language processing, machine learning, data visualization, and more.\n",
        "\n",
        "The sections marked with a Thinking Emoji (💭) are those which you need to read and answer. All right, without further ado, let's get started!\n",
        "\n"
      ]
    },
    {
      "cell_type": "markdown",
      "metadata": {
        "id": "wTZCk9iKUnLI"
      },
      "source": [
        "## Import Modules/Libraries"
      ]
    },
    {
      "cell_type": "code",
      "execution_count": 1,
      "metadata": {
        "id": "wnWcsIotUnLJ"
      },
      "outputs": [],
      "source": [
        "import pandas as pd\n",
        "import numpy as np"
      ]
    },
    {
      "cell_type": "markdown",
      "metadata": {
        "id": "bQazGyIjUnLK"
      },
      "source": [
        "---------------------------------"
      ]
    },
    {
      "cell_type": "markdown",
      "metadata": {
        "id": "lmjERpY_UnLK"
      },
      "source": [
        "## Load and Inspect Data"
      ]
    },
    {
      "cell_type": "markdown",
      "metadata": {
        "id": "3kgSLVeFUnLK"
      },
      "source": [
        "### 📖 Load data from local disk"
      ]
    },
    {
      "cell_type": "markdown",
      "metadata": {
        "id": "aOPy2h05UnLK"
      },
      "source": [
        "First, we need to load the data from the local disk as a Pandas dataframe.\n",
        "- income csv, which is the dataset for people's income in `adults_income.csv`"
      ]
    },
    {
      "cell_type": "markdown",
      "metadata": {
        "id": "OedLvGXeUnLK"
      },
      "source": [
        "💭 **Write the answer below:**  \n",
        "(Hint: You can use `read_csv` method from Pandas library and save the dataframe in `df` variable)"
      ]
    },
    {
      "cell_type": "code",
      "execution_count": 2,
      "metadata": {
        "id": "WVjm8pseUnLL"
      },
      "outputs": [],
      "source": [
        "df = pd.read_csv(\"/content/adults_income.csv\")"
      ]
    },
    {
      "cell_type": "markdown",
      "metadata": {
        "id": "2VQE1hPDUnLL"
      },
      "source": [
        "-----------------------------------------"
      ]
    },
    {
      "cell_type": "markdown",
      "metadata": {
        "id": "SbrstHDTUnLL"
      },
      "source": [
        "### 📖 Quick look at data"
      ]
    },
    {
      "cell_type": "markdown",
      "metadata": {
        "id": "YFUhNshXUnLL"
      },
      "source": [
        "Now, we need to display multiple rows of our dataframe. Pandas have several methods for this task. \n",
        "\n",
        "#### 💭 Questions\n",
        "- Display first 5 rows of dataframe.\n",
        "- Display last 15 rows of dataframe.\n",
        "- Display randomly 5 rows of dataframe."
      ]
    },
    {
      "cell_type": "markdown",
      "metadata": {
        "id": "sNdxd0SKUnLL"
      },
      "source": [
        "**Write the answer below:** "
      ]
    },
    {
      "cell_type": "code",
      "execution_count": null,
      "metadata": {
        "id": "Ijkam38NUnLL",
        "outputId": "ce68de00-a416-4887-e42c-b6b5c1d1f801"
      },
      "outputs": [
        {
          "data": {
            "text/html": [
              "<div>\n",
              "<style scoped>\n",
              "    .dataframe tbody tr th:only-of-type {\n",
              "        vertical-align: middle;\n",
              "    }\n",
              "\n",
              "    .dataframe tbody tr th {\n",
              "        vertical-align: top;\n",
              "    }\n",
              "\n",
              "    .dataframe thead th {\n",
              "        text-align: right;\n",
              "    }\n",
              "</style>\n",
              "<table border=\"1\" class=\"dataframe\">\n",
              "  <thead>\n",
              "    <tr style=\"text-align: right;\">\n",
              "      <th></th>\n",
              "      <th>age</th>\n",
              "      <th>workclass</th>\n",
              "      <th>fnlwgt</th>\n",
              "      <th>education</th>\n",
              "      <th>educational-num</th>\n",
              "      <th>marital-status</th>\n",
              "      <th>occupation</th>\n",
              "      <th>relationship</th>\n",
              "      <th>race</th>\n",
              "      <th>gender</th>\n",
              "      <th>capital-gain</th>\n",
              "      <th>capital-loss</th>\n",
              "      <th>hours-per-week</th>\n",
              "      <th>native-country</th>\n",
              "      <th>income</th>\n",
              "    </tr>\n",
              "  </thead>\n",
              "  <tbody>\n",
              "    <tr>\n",
              "      <th>0</th>\n",
              "      <td>0</td>\n",
              "      <td>Private</td>\n",
              "      <td>226802</td>\n",
              "      <td>11th</td>\n",
              "      <td>7.0</td>\n",
              "      <td>!</td>\n",
              "      <td>Machine-op-inspct</td>\n",
              "      <td>Own-child</td>\n",
              "      <td>Black</td>\n",
              "      <td>Male</td>\n",
              "      <td>0</td>\n",
              "      <td>0</td>\n",
              "      <td>40</td>\n",
              "      <td>United-States</td>\n",
              "      <td>&lt;=50K</td>\n",
              "    </tr>\n",
              "    <tr>\n",
              "      <th>1</th>\n",
              "      <td>38</td>\n",
              "      <td>Private</td>\n",
              "      <td>89814</td>\n",
              "      <td>HS-grad</td>\n",
              "      <td>9.0</td>\n",
              "      <td>!</td>\n",
              "      <td>Farming-fishing</td>\n",
              "      <td>Husband</td>\n",
              "      <td>White</td>\n",
              "      <td>Male</td>\n",
              "      <td>0</td>\n",
              "      <td>0</td>\n",
              "      <td>50</td>\n",
              "      <td>United-States</td>\n",
              "      <td>&lt;=50K</td>\n",
              "    </tr>\n",
              "    <tr>\n",
              "      <th>2</th>\n",
              "      <td>28</td>\n",
              "      <td>Local-gov</td>\n",
              "      <td>336951</td>\n",
              "      <td>Assoc-acdm</td>\n",
              "      <td>12.0</td>\n",
              "      <td>!</td>\n",
              "      <td>Protective-serv</td>\n",
              "      <td>Husband</td>\n",
              "      <td>White</td>\n",
              "      <td>Male</td>\n",
              "      <td>0</td>\n",
              "      <td>0</td>\n",
              "      <td>40</td>\n",
              "      <td>United-States</td>\n",
              "      <td>&gt;50K</td>\n",
              "    </tr>\n",
              "    <tr>\n",
              "      <th>3</th>\n",
              "      <td>0</td>\n",
              "      <td>Private</td>\n",
              "      <td>160323</td>\n",
              "      <td>Some-college</td>\n",
              "      <td>10.0</td>\n",
              "      <td>Married-civ-spouse</td>\n",
              "      <td>Machine-op-inspct</td>\n",
              "      <td>Husband</td>\n",
              "      <td>Black</td>\n",
              "      <td>Male</td>\n",
              "      <td>7688</td>\n",
              "      <td>0</td>\n",
              "      <td>40</td>\n",
              "      <td>United-States</td>\n",
              "      <td>&gt;50K</td>\n",
              "    </tr>\n",
              "    <tr>\n",
              "      <th>4</th>\n",
              "      <td>18</td>\n",
              "      <td>?</td>\n",
              "      <td>103497</td>\n",
              "      <td>Some-college</td>\n",
              "      <td>10.0</td>\n",
              "      <td>!</td>\n",
              "      <td>?</td>\n",
              "      <td>Own-child</td>\n",
              "      <td>White</td>\n",
              "      <td>Female</td>\n",
              "      <td>0</td>\n",
              "      <td>0</td>\n",
              "      <td>30</td>\n",
              "      <td>United-States</td>\n",
              "      <td>&lt;=50K</td>\n",
              "    </tr>\n",
              "  </tbody>\n",
              "</table>\n",
              "</div>"
            ],
            "text/plain": [
              "   age  workclass  fnlwgt     education  educational-num      marital-status  \\\n",
              "0    0    Private  226802          11th              7.0                   !   \n",
              "1   38    Private   89814       HS-grad              9.0                   !   \n",
              "2   28  Local-gov  336951    Assoc-acdm             12.0                   !   \n",
              "3    0    Private  160323  Some-college             10.0  Married-civ-spouse   \n",
              "4   18          ?  103497  Some-college             10.0                   !   \n",
              "\n",
              "          occupation relationship   race  gender  capital-gain  capital-loss  \\\n",
              "0  Machine-op-inspct    Own-child  Black    Male             0             0   \n",
              "1    Farming-fishing      Husband  White    Male             0             0   \n",
              "2    Protective-serv      Husband  White    Male             0             0   \n",
              "3  Machine-op-inspct      Husband  Black    Male          7688             0   \n",
              "4                  ?    Own-child  White  Female             0             0   \n",
              "\n",
              "   hours-per-week native-country income  \n",
              "0              40  United-States  <=50K  \n",
              "1              50  United-States  <=50K  \n",
              "2              40  United-States   >50K  \n",
              "3              40  United-States   >50K  \n",
              "4              30  United-States  <=50K  "
            ]
          },
          "execution_count": 84,
          "metadata": {},
          "output_type": "execute_result"
        }
      ],
      "source": [
        "# first 5 rows\n",
        "df.head()"
      ]
    },
    {
      "cell_type": "code",
      "execution_count": null,
      "metadata": {
        "id": "7mGtdGBCUnLM",
        "outputId": "e491558d-022a-4093-cb08-19c9ca6435b6"
      },
      "outputs": [
        {
          "data": {
            "text/html": [
              "<div>\n",
              "<style scoped>\n",
              "    .dataframe tbody tr th:only-of-type {\n",
              "        vertical-align: middle;\n",
              "    }\n",
              "\n",
              "    .dataframe tbody tr th {\n",
              "        vertical-align: top;\n",
              "    }\n",
              "\n",
              "    .dataframe thead th {\n",
              "        text-align: right;\n",
              "    }\n",
              "</style>\n",
              "<table border=\"1\" class=\"dataframe\">\n",
              "  <thead>\n",
              "    <tr style=\"text-align: right;\">\n",
              "      <th></th>\n",
              "      <th>age</th>\n",
              "      <th>workclass</th>\n",
              "      <th>fnlwgt</th>\n",
              "      <th>education</th>\n",
              "      <th>educational-num</th>\n",
              "      <th>marital-status</th>\n",
              "      <th>occupation</th>\n",
              "      <th>relationship</th>\n",
              "      <th>race</th>\n",
              "      <th>gender</th>\n",
              "      <th>capital-gain</th>\n",
              "      <th>capital-loss</th>\n",
              "      <th>hours-per-week</th>\n",
              "      <th>native-country</th>\n",
              "      <th>income</th>\n",
              "    </tr>\n",
              "  </thead>\n",
              "  <tbody>\n",
              "    <tr>\n",
              "      <th>48827</th>\n",
              "      <td>37</td>\n",
              "      <td>Private</td>\n",
              "      <td>198216</td>\n",
              "      <td>Assoc-acdm</td>\n",
              "      <td>12.0</td>\n",
              "      <td>!</td>\n",
              "      <td>Tech-support</td>\n",
              "      <td>Not-in-family</td>\n",
              "      <td>White</td>\n",
              "      <td>Female</td>\n",
              "      <td>0</td>\n",
              "      <td>0</td>\n",
              "      <td>40</td>\n",
              "      <td>United-States</td>\n",
              "      <td>&lt;=50K</td>\n",
              "    </tr>\n",
              "    <tr>\n",
              "      <th>48828</th>\n",
              "      <td>43</td>\n",
              "      <td>Private</td>\n",
              "      <td>260761</td>\n",
              "      <td>HS-grad</td>\n",
              "      <td>9.0</td>\n",
              "      <td>!</td>\n",
              "      <td>Machine-op-inspct</td>\n",
              "      <td>Husband</td>\n",
              "      <td>White</td>\n",
              "      <td>Male</td>\n",
              "      <td>0</td>\n",
              "      <td>0</td>\n",
              "      <td>40</td>\n",
              "      <td>Mexico</td>\n",
              "      <td>&lt;=50K</td>\n",
              "    </tr>\n",
              "    <tr>\n",
              "      <th>48829</th>\n",
              "      <td>65</td>\n",
              "      <td>Self-emp-not-inc</td>\n",
              "      <td>99359</td>\n",
              "      <td>Prof-school</td>\n",
              "      <td>15.0</td>\n",
              "      <td>Never-married</td>\n",
              "      <td>Prof-specialty</td>\n",
              "      <td>Not-in-family</td>\n",
              "      <td>White</td>\n",
              "      <td>Male</td>\n",
              "      <td>1086</td>\n",
              "      <td>0</td>\n",
              "      <td>60</td>\n",
              "      <td>United-States</td>\n",
              "      <td>&lt;=50K</td>\n",
              "    </tr>\n",
              "    <tr>\n",
              "      <th>48830</th>\n",
              "      <td>43</td>\n",
              "      <td>State-gov</td>\n",
              "      <td>255835</td>\n",
              "      <td>Some-college</td>\n",
              "      <td>10.0</td>\n",
              "      <td>Divorced</td>\n",
              "      <td>Adm-clerical</td>\n",
              "      <td>Other-relative</td>\n",
              "      <td>White</td>\n",
              "      <td>Female</td>\n",
              "      <td>0</td>\n",
              "      <td>0</td>\n",
              "      <td>40</td>\n",
              "      <td>United-States</td>\n",
              "      <td>&lt;=50K</td>\n",
              "    </tr>\n",
              "    <tr>\n",
              "      <th>48831</th>\n",
              "      <td>43</td>\n",
              "      <td>Self-emp-not-inc</td>\n",
              "      <td>27242</td>\n",
              "      <td>Some-college</td>\n",
              "      <td>NaN</td>\n",
              "      <td>!</td>\n",
              "      <td>Craft-repair</td>\n",
              "      <td>Husband</td>\n",
              "      <td>White</td>\n",
              "      <td>Male</td>\n",
              "      <td>0</td>\n",
              "      <td>0</td>\n",
              "      <td>50</td>\n",
              "      <td>United-States</td>\n",
              "      <td>&lt;=50K</td>\n",
              "    </tr>\n",
              "    <tr>\n",
              "      <th>48832</th>\n",
              "      <td>32</td>\n",
              "      <td>Private</td>\n",
              "      <td>34066</td>\n",
              "      <td>10th</td>\n",
              "      <td>6.0</td>\n",
              "      <td>!</td>\n",
              "      <td>Handlers-cleaners</td>\n",
              "      <td>Husband</td>\n",
              "      <td>Amer-Indian-Eskimo</td>\n",
              "      <td>Male</td>\n",
              "      <td>0</td>\n",
              "      <td>0</td>\n",
              "      <td>40</td>\n",
              "      <td>United-States</td>\n",
              "      <td>&lt;=50K</td>\n",
              "    </tr>\n",
              "    <tr>\n",
              "      <th>48833</th>\n",
              "      <td>43</td>\n",
              "      <td>Private</td>\n",
              "      <td>84661</td>\n",
              "      <td>Assoc-voc</td>\n",
              "      <td>11.0</td>\n",
              "      <td>!</td>\n",
              "      <td>Sales</td>\n",
              "      <td>Husband</td>\n",
              "      <td>White</td>\n",
              "      <td>Male</td>\n",
              "      <td>0</td>\n",
              "      <td>0</td>\n",
              "      <td>45</td>\n",
              "      <td>United-States</td>\n",
              "      <td>&lt;=50K</td>\n",
              "    </tr>\n",
              "    <tr>\n",
              "      <th>48834</th>\n",
              "      <td>32</td>\n",
              "      <td>Private</td>\n",
              "      <td>116138</td>\n",
              "      <td>Masters</td>\n",
              "      <td>NaN</td>\n",
              "      <td>!</td>\n",
              "      <td>Tech-support</td>\n",
              "      <td>Not-in-family</td>\n",
              "      <td>Asian-Pac-Islander</td>\n",
              "      <td>Male</td>\n",
              "      <td>0</td>\n",
              "      <td>0</td>\n",
              "      <td>11</td>\n",
              "      <td>Taiwan</td>\n",
              "      <td>&lt;=50K</td>\n",
              "    </tr>\n",
              "    <tr>\n",
              "      <th>48835</th>\n",
              "      <td>53</td>\n",
              "      <td>Private</td>\n",
              "      <td>321865</td>\n",
              "      <td>Masters</td>\n",
              "      <td>14.0</td>\n",
              "      <td>!</td>\n",
              "      <td>Exec-managerial</td>\n",
              "      <td>Husband</td>\n",
              "      <td>White</td>\n",
              "      <td>Male</td>\n",
              "      <td>0</td>\n",
              "      <td>0</td>\n",
              "      <td>40</td>\n",
              "      <td>United-States</td>\n",
              "      <td>&gt;50K</td>\n",
              "    </tr>\n",
              "    <tr>\n",
              "      <th>48836</th>\n",
              "      <td>0</td>\n",
              "      <td>Private</td>\n",
              "      <td>310152</td>\n",
              "      <td>Some-college</td>\n",
              "      <td>10.0</td>\n",
              "      <td>!</td>\n",
              "      <td>Protective-serv</td>\n",
              "      <td>Not-in-family</td>\n",
              "      <td>White</td>\n",
              "      <td>Male</td>\n",
              "      <td>0</td>\n",
              "      <td>0</td>\n",
              "      <td>40</td>\n",
              "      <td>United-States</td>\n",
              "      <td>&lt;=50K</td>\n",
              "    </tr>\n",
              "    <tr>\n",
              "      <th>48837</th>\n",
              "      <td>27</td>\n",
              "      <td>Private</td>\n",
              "      <td>257302</td>\n",
              "      <td>Assoc-acdm</td>\n",
              "      <td>12.0</td>\n",
              "      <td>!</td>\n",
              "      <td>Tech-support</td>\n",
              "      <td>Wife</td>\n",
              "      <td>White</td>\n",
              "      <td>Female</td>\n",
              "      <td>0</td>\n",
              "      <td>0</td>\n",
              "      <td>38</td>\n",
              "      <td>United-States</td>\n",
              "      <td>&lt;=50K</td>\n",
              "    </tr>\n",
              "    <tr>\n",
              "      <th>48838</th>\n",
              "      <td>40</td>\n",
              "      <td>Private</td>\n",
              "      <td>154374</td>\n",
              "      <td>HS-grad</td>\n",
              "      <td>9.0</td>\n",
              "      <td>!</td>\n",
              "      <td>Machine-op-inspct</td>\n",
              "      <td>Husband</td>\n",
              "      <td>White</td>\n",
              "      <td>Male</td>\n",
              "      <td>0</td>\n",
              "      <td>0</td>\n",
              "      <td>40</td>\n",
              "      <td>United-States</td>\n",
              "      <td>&gt;50K</td>\n",
              "    </tr>\n",
              "    <tr>\n",
              "      <th>48839</th>\n",
              "      <td>0</td>\n",
              "      <td>Private</td>\n",
              "      <td>151910</td>\n",
              "      <td>HS-grad</td>\n",
              "      <td>9.0</td>\n",
              "      <td>!</td>\n",
              "      <td>Adm-clerical</td>\n",
              "      <td>Unmarried</td>\n",
              "      <td>White</td>\n",
              "      <td>Female</td>\n",
              "      <td>0</td>\n",
              "      <td>0</td>\n",
              "      <td>40</td>\n",
              "      <td>United-States</td>\n",
              "      <td>&lt;=50K</td>\n",
              "    </tr>\n",
              "    <tr>\n",
              "      <th>48840</th>\n",
              "      <td>22</td>\n",
              "      <td>Private</td>\n",
              "      <td>201490</td>\n",
              "      <td>HS-grad</td>\n",
              "      <td>9.0</td>\n",
              "      <td>Never-married</td>\n",
              "      <td>Adm-clerical</td>\n",
              "      <td>Own-child</td>\n",
              "      <td>White</td>\n",
              "      <td>Male</td>\n",
              "      <td>0</td>\n",
              "      <td>0</td>\n",
              "      <td>20</td>\n",
              "      <td>United-States</td>\n",
              "      <td>&lt;=50K</td>\n",
              "    </tr>\n",
              "    <tr>\n",
              "      <th>48841</th>\n",
              "      <td>52</td>\n",
              "      <td>Self-emp-inc</td>\n",
              "      <td>287927</td>\n",
              "      <td>HS-grad</td>\n",
              "      <td>9.0</td>\n",
              "      <td>!</td>\n",
              "      <td>Exec-managerial</td>\n",
              "      <td>Wife</td>\n",
              "      <td>White</td>\n",
              "      <td>Female</td>\n",
              "      <td>15024</td>\n",
              "      <td>0</td>\n",
              "      <td>40</td>\n",
              "      <td>United-States</td>\n",
              "      <td>&gt;50K</td>\n",
              "    </tr>\n",
              "  </tbody>\n",
              "</table>\n",
              "</div>"
            ],
            "text/plain": [
              "       age         workclass  fnlwgt     education  educational-num  \\\n",
              "48827   37           Private  198216    Assoc-acdm             12.0   \n",
              "48828   43           Private  260761       HS-grad              9.0   \n",
              "48829   65  Self-emp-not-inc   99359   Prof-school             15.0   \n",
              "48830   43         State-gov  255835  Some-college             10.0   \n",
              "48831   43  Self-emp-not-inc   27242  Some-college              NaN   \n",
              "48832   32           Private   34066          10th              6.0   \n",
              "48833   43           Private   84661     Assoc-voc             11.0   \n",
              "48834   32           Private  116138       Masters              NaN   \n",
              "48835   53           Private  321865       Masters             14.0   \n",
              "48836    0           Private  310152  Some-college             10.0   \n",
              "48837   27           Private  257302    Assoc-acdm             12.0   \n",
              "48838   40           Private  154374       HS-grad              9.0   \n",
              "48839    0           Private  151910       HS-grad              9.0   \n",
              "48840   22           Private  201490       HS-grad              9.0   \n",
              "48841   52      Self-emp-inc  287927       HS-grad              9.0   \n",
              "\n",
              "      marital-status         occupation    relationship                race  \\\n",
              "48827              !       Tech-support   Not-in-family               White   \n",
              "48828              !  Machine-op-inspct         Husband               White   \n",
              "48829  Never-married     Prof-specialty   Not-in-family               White   \n",
              "48830       Divorced       Adm-clerical  Other-relative               White   \n",
              "48831              !       Craft-repair         Husband               White   \n",
              "48832              !  Handlers-cleaners         Husband  Amer-Indian-Eskimo   \n",
              "48833              !              Sales         Husband               White   \n",
              "48834              !       Tech-support   Not-in-family  Asian-Pac-Islander   \n",
              "48835              !    Exec-managerial         Husband               White   \n",
              "48836              !    Protective-serv   Not-in-family               White   \n",
              "48837              !       Tech-support            Wife               White   \n",
              "48838              !  Machine-op-inspct         Husband               White   \n",
              "48839              !       Adm-clerical       Unmarried               White   \n",
              "48840  Never-married       Adm-clerical       Own-child               White   \n",
              "48841              !    Exec-managerial            Wife               White   \n",
              "\n",
              "       gender  capital-gain  capital-loss  hours-per-week native-country  \\\n",
              "48827  Female             0             0              40  United-States   \n",
              "48828    Male             0             0              40         Mexico   \n",
              "48829    Male          1086             0              60  United-States   \n",
              "48830  Female             0             0              40  United-States   \n",
              "48831    Male             0             0              50  United-States   \n",
              "48832    Male             0             0              40  United-States   \n",
              "48833    Male             0             0              45  United-States   \n",
              "48834    Male             0             0              11         Taiwan   \n",
              "48835    Male             0             0              40  United-States   \n",
              "48836    Male             0             0              40  United-States   \n",
              "48837  Female             0             0              38  United-States   \n",
              "48838    Male             0             0              40  United-States   \n",
              "48839  Female             0             0              40  United-States   \n",
              "48840    Male             0             0              20  United-States   \n",
              "48841  Female         15024             0              40  United-States   \n",
              "\n",
              "      income  \n",
              "48827  <=50K  \n",
              "48828  <=50K  \n",
              "48829  <=50K  \n",
              "48830  <=50K  \n",
              "48831  <=50K  \n",
              "48832  <=50K  \n",
              "48833  <=50K  \n",
              "48834  <=50K  \n",
              "48835   >50K  \n",
              "48836  <=50K  \n",
              "48837  <=50K  \n",
              "48838   >50K  \n",
              "48839  <=50K  \n",
              "48840  <=50K  \n",
              "48841   >50K  "
            ]
          },
          "execution_count": 85,
          "metadata": {},
          "output_type": "execute_result"
        }
      ],
      "source": [
        "# last 15 rows\n",
        "df.tail(15)"
      ]
    },
    {
      "cell_type": "code",
      "execution_count": null,
      "metadata": {
        "id": "kNVBwD1WUnLM",
        "outputId": "f57e25ef-df27-48f0-99c9-8db6d7ebe175"
      },
      "outputs": [
        {
          "data": {
            "text/html": [
              "<div>\n",
              "<style scoped>\n",
              "    .dataframe tbody tr th:only-of-type {\n",
              "        vertical-align: middle;\n",
              "    }\n",
              "\n",
              "    .dataframe tbody tr th {\n",
              "        vertical-align: top;\n",
              "    }\n",
              "\n",
              "    .dataframe thead th {\n",
              "        text-align: right;\n",
              "    }\n",
              "</style>\n",
              "<table border=\"1\" class=\"dataframe\">\n",
              "  <thead>\n",
              "    <tr style=\"text-align: right;\">\n",
              "      <th></th>\n",
              "      <th>age</th>\n",
              "      <th>workclass</th>\n",
              "      <th>fnlwgt</th>\n",
              "      <th>education</th>\n",
              "      <th>educational-num</th>\n",
              "      <th>marital-status</th>\n",
              "      <th>occupation</th>\n",
              "      <th>relationship</th>\n",
              "      <th>race</th>\n",
              "      <th>gender</th>\n",
              "      <th>capital-gain</th>\n",
              "      <th>capital-loss</th>\n",
              "      <th>hours-per-week</th>\n",
              "      <th>native-country</th>\n",
              "      <th>income</th>\n",
              "    </tr>\n",
              "  </thead>\n",
              "  <tbody>\n",
              "    <tr>\n",
              "      <th>23153</th>\n",
              "      <td>52</td>\n",
              "      <td>Private</td>\n",
              "      <td>204322</td>\n",
              "      <td>Assoc-voc</td>\n",
              "      <td>11.0</td>\n",
              "      <td>!</td>\n",
              "      <td>Tech-support</td>\n",
              "      <td>Husband</td>\n",
              "      <td>White</td>\n",
              "      <td>Male</td>\n",
              "      <td>5013</td>\n",
              "      <td>0</td>\n",
              "      <td>40</td>\n",
              "      <td>United-States</td>\n",
              "      <td>&lt;=50K</td>\n",
              "    </tr>\n",
              "    <tr>\n",
              "      <th>30257</th>\n",
              "      <td>38</td>\n",
              "      <td>Private</td>\n",
              "      <td>129102</td>\n",
              "      <td>HS-grad</td>\n",
              "      <td>9.0</td>\n",
              "      <td>!</td>\n",
              "      <td>Exec-managerial</td>\n",
              "      <td>Husband</td>\n",
              "      <td>White</td>\n",
              "      <td>Male</td>\n",
              "      <td>0</td>\n",
              "      <td>0</td>\n",
              "      <td>50</td>\n",
              "      <td>United-States</td>\n",
              "      <td>&lt;=50K</td>\n",
              "    </tr>\n",
              "    <tr>\n",
              "      <th>33838</th>\n",
              "      <td>58</td>\n",
              "      <td>Local-gov</td>\n",
              "      <td>489085</td>\n",
              "      <td>Bachelors</td>\n",
              "      <td>NaN</td>\n",
              "      <td>Married-civ-spouse</td>\n",
              "      <td>Prof-specialty</td>\n",
              "      <td>Husband</td>\n",
              "      <td>Black</td>\n",
              "      <td>Male</td>\n",
              "      <td>0</td>\n",
              "      <td>0</td>\n",
              "      <td>40</td>\n",
              "      <td>United-States</td>\n",
              "      <td>&lt;=50K</td>\n",
              "    </tr>\n",
              "    <tr>\n",
              "      <th>8885</th>\n",
              "      <td>55</td>\n",
              "      <td>Private</td>\n",
              "      <td>142020</td>\n",
              "      <td>HS-grad</td>\n",
              "      <td>9.0</td>\n",
              "      <td>Married-civ-spouse</td>\n",
              "      <td>Exec-managerial</td>\n",
              "      <td>Husband</td>\n",
              "      <td>White</td>\n",
              "      <td>Male</td>\n",
              "      <td>0</td>\n",
              "      <td>0</td>\n",
              "      <td>45</td>\n",
              "      <td>United-States</td>\n",
              "      <td>&lt;=50K</td>\n",
              "    </tr>\n",
              "    <tr>\n",
              "      <th>7348</th>\n",
              "      <td>67</td>\n",
              "      <td>Private</td>\n",
              "      <td>283416</td>\n",
              "      <td>Masters</td>\n",
              "      <td>14.0</td>\n",
              "      <td>!</td>\n",
              "      <td>Prof-specialty</td>\n",
              "      <td>Not-in-family</td>\n",
              "      <td>White</td>\n",
              "      <td>Male</td>\n",
              "      <td>0</td>\n",
              "      <td>0</td>\n",
              "      <td>40</td>\n",
              "      <td>United-States</td>\n",
              "      <td>&lt;=50K</td>\n",
              "    </tr>\n",
              "  </tbody>\n",
              "</table>\n",
              "</div>"
            ],
            "text/plain": [
              "       age  workclass  fnlwgt  education  educational-num      marital-status  \\\n",
              "23153   52    Private  204322  Assoc-voc             11.0                   !   \n",
              "30257   38    Private  129102    HS-grad              9.0                   !   \n",
              "33838   58  Local-gov  489085  Bachelors              NaN  Married-civ-spouse   \n",
              "8885    55    Private  142020    HS-grad              9.0  Married-civ-spouse   \n",
              "7348    67    Private  283416    Masters             14.0                   !   \n",
              "\n",
              "            occupation   relationship   race gender  capital-gain  \\\n",
              "23153     Tech-support        Husband  White   Male          5013   \n",
              "30257  Exec-managerial        Husband  White   Male             0   \n",
              "33838   Prof-specialty        Husband  Black   Male             0   \n",
              "8885   Exec-managerial        Husband  White   Male             0   \n",
              "7348    Prof-specialty  Not-in-family  White   Male             0   \n",
              "\n",
              "       capital-loss  hours-per-week native-country income  \n",
              "23153             0              40  United-States  <=50K  \n",
              "30257             0              50  United-States  <=50K  \n",
              "33838             0              40  United-States  <=50K  \n",
              "8885              0              45  United-States  <=50K  \n",
              "7348              0              40  United-States  <=50K  "
            ]
          },
          "execution_count": 86,
          "metadata": {},
          "output_type": "execute_result"
        }
      ],
      "source": [
        "# random 5 rows\n",
        "df.sample(5)"
      ]
    },
    {
      "cell_type": "markdown",
      "metadata": {
        "id": "6vstOBukUnLN"
      },
      "source": [
        "---------------------------------------------------"
      ]
    },
    {
      "cell_type": "markdown",
      "metadata": {
        "id": "5l4f_RpDUnLN"
      },
      "source": [
        "### 📖 Data Statistics"
      ]
    },
    {
      "cell_type": "markdown",
      "metadata": {
        "id": "qjmJm9t9UnLN"
      },
      "source": [
        "In this cell we want to see some statistics of our dataframe.\n",
        "\n",
        "#### 💭 Questions\n",
        "- print `descriptive statistics` of dataframe. What information does this method provide for each column?\n",
        "- print `shape` of dataframe.\n",
        "- print columns' `data types`.\n",
        "- print a `summary` information of dataframe."
      ]
    },
    {
      "cell_type": "markdown",
      "metadata": {
        "id": "D7VyivQfUnLN"
      },
      "source": [
        "**Write the answer below:** "
      ]
    },
    {
      "cell_type": "code",
      "execution_count": null,
      "metadata": {
        "id": "oZZwTjiuUnLN",
        "outputId": "3b62344d-125b-4c43-d064-9bee6e28b3d1"
      },
      "outputs": [
        {
          "data": {
            "text/html": [
              "<div>\n",
              "<style scoped>\n",
              "    .dataframe tbody tr th:only-of-type {\n",
              "        vertical-align: middle;\n",
              "    }\n",
              "\n",
              "    .dataframe tbody tr th {\n",
              "        vertical-align: top;\n",
              "    }\n",
              "\n",
              "    .dataframe thead th {\n",
              "        text-align: right;\n",
              "    }\n",
              "</style>\n",
              "<table border=\"1\" class=\"dataframe\">\n",
              "  <thead>\n",
              "    <tr style=\"text-align: right;\">\n",
              "      <th></th>\n",
              "      <th>age</th>\n",
              "      <th>fnlwgt</th>\n",
              "      <th>educational-num</th>\n",
              "      <th>capital-gain</th>\n",
              "      <th>capital-loss</th>\n",
              "      <th>hours-per-week</th>\n",
              "    </tr>\n",
              "  </thead>\n",
              "  <tbody>\n",
              "    <tr>\n",
              "      <th>count</th>\n",
              "      <td>48842.000000</td>\n",
              "      <td>4.884200e+04</td>\n",
              "      <td>43958.000000</td>\n",
              "      <td>48842.000000</td>\n",
              "      <td>48842.000000</td>\n",
              "      <td>48842.000000</td>\n",
              "    </tr>\n",
              "    <tr>\n",
              "      <th>mean</th>\n",
              "      <td>34.756910</td>\n",
              "      <td>1.896641e+05</td>\n",
              "      <td>10.081464</td>\n",
              "      <td>1079.067626</td>\n",
              "      <td>87.502314</td>\n",
              "      <td>40.422382</td>\n",
              "    </tr>\n",
              "    <tr>\n",
              "      <th>std</th>\n",
              "      <td>17.410589</td>\n",
              "      <td>1.056040e+05</td>\n",
              "      <td>2.568369</td>\n",
              "      <td>7452.019058</td>\n",
              "      <td>403.004552</td>\n",
              "      <td>12.391444</td>\n",
              "    </tr>\n",
              "    <tr>\n",
              "      <th>min</th>\n",
              "      <td>0.000000</td>\n",
              "      <td>1.228500e+04</td>\n",
              "      <td>1.000000</td>\n",
              "      <td>0.000000</td>\n",
              "      <td>0.000000</td>\n",
              "      <td>1.000000</td>\n",
              "    </tr>\n",
              "    <tr>\n",
              "      <th>25%</th>\n",
              "      <td>24.000000</td>\n",
              "      <td>1.175505e+05</td>\n",
              "      <td>9.000000</td>\n",
              "      <td>0.000000</td>\n",
              "      <td>0.000000</td>\n",
              "      <td>40.000000</td>\n",
              "    </tr>\n",
              "    <tr>\n",
              "      <th>50%</th>\n",
              "      <td>35.000000</td>\n",
              "      <td>1.781445e+05</td>\n",
              "      <td>10.000000</td>\n",
              "      <td>0.000000</td>\n",
              "      <td>0.000000</td>\n",
              "      <td>40.000000</td>\n",
              "    </tr>\n",
              "    <tr>\n",
              "      <th>75%</th>\n",
              "      <td>46.000000</td>\n",
              "      <td>2.376420e+05</td>\n",
              "      <td>12.000000</td>\n",
              "      <td>0.000000</td>\n",
              "      <td>0.000000</td>\n",
              "      <td>45.000000</td>\n",
              "    </tr>\n",
              "    <tr>\n",
              "      <th>max</th>\n",
              "      <td>90.000000</td>\n",
              "      <td>1.490400e+06</td>\n",
              "      <td>16.000000</td>\n",
              "      <td>99999.000000</td>\n",
              "      <td>4356.000000</td>\n",
              "      <td>99.000000</td>\n",
              "    </tr>\n",
              "  </tbody>\n",
              "</table>\n",
              "</div>"
            ],
            "text/plain": [
              "                age        fnlwgt  educational-num  capital-gain  \\\n",
              "count  48842.000000  4.884200e+04     43958.000000  48842.000000   \n",
              "mean      34.756910  1.896641e+05        10.081464   1079.067626   \n",
              "std       17.410589  1.056040e+05         2.568369   7452.019058   \n",
              "min        0.000000  1.228500e+04         1.000000      0.000000   \n",
              "25%       24.000000  1.175505e+05         9.000000      0.000000   \n",
              "50%       35.000000  1.781445e+05        10.000000      0.000000   \n",
              "75%       46.000000  2.376420e+05        12.000000      0.000000   \n",
              "max       90.000000  1.490400e+06        16.000000  99999.000000   \n",
              "\n",
              "       capital-loss  hours-per-week  \n",
              "count  48842.000000    48842.000000  \n",
              "mean      87.502314       40.422382  \n",
              "std      403.004552       12.391444  \n",
              "min        0.000000        1.000000  \n",
              "25%        0.000000       40.000000  \n",
              "50%        0.000000       40.000000  \n",
              "75%        0.000000       45.000000  \n",
              "max     4356.000000       99.000000  "
            ]
          },
          "execution_count": 87,
          "metadata": {},
          "output_type": "execute_result"
        }
      ],
      "source": [
        "# descriptive statistics\n",
        "df.describe()\n",
        "# it provides statistical information like min, max, Avarage adn ... for each column"
      ]
    },
    {
      "cell_type": "code",
      "execution_count": null,
      "metadata": {
        "id": "5YMY_STZUnLN",
        "outputId": "a5bf7e3d-a64e-4cee-c425-1d8d9b955380"
      },
      "outputs": [
        {
          "data": {
            "text/plain": [
              "(48842, 15)"
            ]
          },
          "execution_count": 88,
          "metadata": {},
          "output_type": "execute_result"
        }
      ],
      "source": [
        "# shape of dataframe\n",
        "df.shape"
      ]
    },
    {
      "cell_type": "code",
      "execution_count": null,
      "metadata": {
        "id": "1epv9SPPUnLO",
        "outputId": "1a7ecb02-ba42-40ea-84f4-dcee340947be"
      },
      "outputs": [
        {
          "data": {
            "text/plain": [
              "age                  int64\n",
              "workclass           object\n",
              "fnlwgt               int64\n",
              "education           object\n",
              "educational-num    float64\n",
              "marital-status      object\n",
              "occupation          object\n",
              "relationship        object\n",
              "race                object\n",
              "gender              object\n",
              "capital-gain         int64\n",
              "capital-loss         int64\n",
              "hours-per-week       int64\n",
              "native-country      object\n",
              "income              object\n",
              "dtype: object"
            ]
          },
          "execution_count": 89,
          "metadata": {},
          "output_type": "execute_result"
        }
      ],
      "source": [
        "# columns data types\n",
        "df.dtypes"
      ]
    },
    {
      "cell_type": "code",
      "execution_count": null,
      "metadata": {
        "id": "oCAQ0wnOUnLO",
        "outputId": "8ecc9056-6acc-47fb-f395-1580ff34dde4"
      },
      "outputs": [
        {
          "name": "stdout",
          "output_type": "stream",
          "text": [
            "<class 'pandas.core.frame.DataFrame'>\n",
            "RangeIndex: 48842 entries, 0 to 48841\n",
            "Data columns (total 15 columns):\n",
            " #   Column           Non-Null Count  Dtype  \n",
            "---  ------           --------------  -----  \n",
            " 0   age              48842 non-null  int64  \n",
            " 1   workclass        48842 non-null  object \n",
            " 2   fnlwgt           48842 non-null  int64  \n",
            " 3   education        48842 non-null  object \n",
            " 4   educational-num  43958 non-null  float64\n",
            " 5   marital-status   48842 non-null  object \n",
            " 6   occupation       48842 non-null  object \n",
            " 7   relationship     48842 non-null  object \n",
            " 8   race             48842 non-null  object \n",
            " 9   gender           48842 non-null  object \n",
            " 10  capital-gain     48842 non-null  int64  \n",
            " 11  capital-loss     48842 non-null  int64  \n",
            " 12  hours-per-week   48842 non-null  int64  \n",
            " 13  native-country   48842 non-null  object \n",
            " 14  income           48842 non-null  object \n",
            "dtypes: float64(1), int64(5), object(9)\n",
            "memory usage: 5.6+ MB\n"
          ]
        }
      ],
      "source": [
        "# summary of information\n",
        "df.info()"
      ]
    },
    {
      "cell_type": "markdown",
      "metadata": {
        "id": "0vqEi_7JUnLO"
      },
      "source": [
        "---------------------------------------------"
      ]
    },
    {
      "cell_type": "markdown",
      "metadata": {
        "id": "OW4MxUSrUnLO"
      },
      "source": [
        "### 📖 Selecting Rows/Columns from dataframe.\n",
        "here we want to see how we can select rows and columns of a dataframe.\n",
        "for selecting columns of a dataframe we can use different ways like:\n",
        "- using `loc` or `iloc` methods of Pandas.\n",
        "- just putting the string name of the column in brackets.  \n",
        "  \n",
        "\n",
        "for select rows of a dataframe, again we have several ways:\n",
        "- using `loc` or `iloc` methods.\n",
        "- select the same as list indexing.\n",
        "\n",
        "#### 💭 Questions:\n",
        "- Select and print rows 256 to 512 of `age` with `iloc` and `loc` method. calculate `mean`, `max`, and `min` age for these rows.\n",
        "- Select and print rows 256 to 512 of `age` with giving column names in bracket and indexing. calculate `mean`, `max`, and `min` age for these rows.\n",
        "- Is there any difference between the results of different selection methods"
      ]
    },
    {
      "cell_type": "markdown",
      "metadata": {
        "id": "eWnQsW2PUnLO"
      },
      "source": [
        "**Write the answer below:** "
      ]
    },
    {
      "cell_type": "code",
      "execution_count": 3,
      "metadata": {
        "colab": {
          "base_uri": "https://localhost:8080/"
        },
        "id": "QPkGufQHUnLP",
        "outputId": "d21d52e4-f6ee-4c70-d8da-494be5617dca"
      },
      "outputs": [
        {
          "output_type": "execute_result",
          "data": {
            "text/plain": [
              "256    62\n",
              "257    39\n",
              "258    30\n",
              "259    72\n",
              "260    50\n",
              "       ..\n",
              "508     0\n",
              "509    35\n",
              "510    27\n",
              "511    66\n",
              "512    21\n",
              "Name: age, Length: 257, dtype: int64"
            ]
          },
          "metadata": {},
          "execution_count": 3
        }
      ],
      "source": [
        "# iloc\n",
        "df.iloc[256:513, 0]"
      ]
    },
    {
      "cell_type": "code",
      "execution_count": 4,
      "metadata": {
        "colab": {
          "base_uri": "https://localhost:8080/"
        },
        "id": "LtSsjnC4UnLP",
        "outputId": "301ae480-b001-4f43-cd4b-cd806951db6b"
      },
      "outputs": [
        {
          "output_type": "execute_result",
          "data": {
            "text/plain": [
              "33.09727626459144"
            ]
          },
          "metadata": {},
          "execution_count": 4
        }
      ],
      "source": [
        "# calculate mean, max, min\n",
        "df.iloc[256:513, 0].mean()"
      ]
    },
    {
      "cell_type": "code",
      "execution_count": 5,
      "metadata": {
        "colab": {
          "base_uri": "https://localhost:8080/"
        },
        "id": "V1F4NBhqUnLP",
        "outputId": "3729a691-b9bd-4c85-8d35-1284aae7cd0b"
      },
      "outputs": [
        {
          "output_type": "execute_result",
          "data": {
            "text/plain": [
              "73"
            ]
          },
          "metadata": {},
          "execution_count": 5
        }
      ],
      "source": [
        "df.iloc[256:513, 0].max()"
      ]
    },
    {
      "cell_type": "code",
      "execution_count": 6,
      "metadata": {
        "colab": {
          "base_uri": "https://localhost:8080/"
        },
        "id": "PotSjBEhUnLQ",
        "outputId": "23ea2089-3920-44b0-89de-ebd40f842823"
      },
      "outputs": [
        {
          "output_type": "execute_result",
          "data": {
            "text/plain": [
              "0"
            ]
          },
          "metadata": {},
          "execution_count": 6
        }
      ],
      "source": [
        "df.iloc[256:513, 0].min()"
      ]
    },
    {
      "cell_type": "code",
      "execution_count": 7,
      "metadata": {
        "colab": {
          "base_uri": "https://localhost:8080/",
          "height": 424
        },
        "id": "SiBvUS-WUnLQ",
        "outputId": "384f110a-65d0-402e-d24d-353fab2b9fd9"
      },
      "outputs": [
        {
          "output_type": "execute_result",
          "data": {
            "text/plain": [
              "     age\n",
              "256   62\n",
              "257   39\n",
              "258   30\n",
              "259   72\n",
              "260   50\n",
              "..   ...\n",
              "508    0\n",
              "509   35\n",
              "510   27\n",
              "511   66\n",
              "512   21\n",
              "\n",
              "[257 rows x 1 columns]"
            ],
            "text/html": [
              "\n",
              "  <div id=\"df-fc20a1c4-5e6d-4aba-b492-b352a6a02c22\">\n",
              "    <div class=\"colab-df-container\">\n",
              "      <div>\n",
              "<style scoped>\n",
              "    .dataframe tbody tr th:only-of-type {\n",
              "        vertical-align: middle;\n",
              "    }\n",
              "\n",
              "    .dataframe tbody tr th {\n",
              "        vertical-align: top;\n",
              "    }\n",
              "\n",
              "    .dataframe thead th {\n",
              "        text-align: right;\n",
              "    }\n",
              "</style>\n",
              "<table border=\"1\" class=\"dataframe\">\n",
              "  <thead>\n",
              "    <tr style=\"text-align: right;\">\n",
              "      <th></th>\n",
              "      <th>age</th>\n",
              "    </tr>\n",
              "  </thead>\n",
              "  <tbody>\n",
              "    <tr>\n",
              "      <th>256</th>\n",
              "      <td>62</td>\n",
              "    </tr>\n",
              "    <tr>\n",
              "      <th>257</th>\n",
              "      <td>39</td>\n",
              "    </tr>\n",
              "    <tr>\n",
              "      <th>258</th>\n",
              "      <td>30</td>\n",
              "    </tr>\n",
              "    <tr>\n",
              "      <th>259</th>\n",
              "      <td>72</td>\n",
              "    </tr>\n",
              "    <tr>\n",
              "      <th>260</th>\n",
              "      <td>50</td>\n",
              "    </tr>\n",
              "    <tr>\n",
              "      <th>...</th>\n",
              "      <td>...</td>\n",
              "    </tr>\n",
              "    <tr>\n",
              "      <th>508</th>\n",
              "      <td>0</td>\n",
              "    </tr>\n",
              "    <tr>\n",
              "      <th>509</th>\n",
              "      <td>35</td>\n",
              "    </tr>\n",
              "    <tr>\n",
              "      <th>510</th>\n",
              "      <td>27</td>\n",
              "    </tr>\n",
              "    <tr>\n",
              "      <th>511</th>\n",
              "      <td>66</td>\n",
              "    </tr>\n",
              "    <tr>\n",
              "      <th>512</th>\n",
              "      <td>21</td>\n",
              "    </tr>\n",
              "  </tbody>\n",
              "</table>\n",
              "<p>257 rows × 1 columns</p>\n",
              "</div>\n",
              "      <button class=\"colab-df-convert\" onclick=\"convertToInteractive('df-fc20a1c4-5e6d-4aba-b492-b352a6a02c22')\"\n",
              "              title=\"Convert this dataframe to an interactive table.\"\n",
              "              style=\"display:none;\">\n",
              "        \n",
              "  <svg xmlns=\"http://www.w3.org/2000/svg\" height=\"24px\"viewBox=\"0 0 24 24\"\n",
              "       width=\"24px\">\n",
              "    <path d=\"M0 0h24v24H0V0z\" fill=\"none\"/>\n",
              "    <path d=\"M18.56 5.44l.94 2.06.94-2.06 2.06-.94-2.06-.94-.94-2.06-.94 2.06-2.06.94zm-11 1L8.5 8.5l.94-2.06 2.06-.94-2.06-.94L8.5 2.5l-.94 2.06-2.06.94zm10 10l.94 2.06.94-2.06 2.06-.94-2.06-.94-.94-2.06-.94 2.06-2.06.94z\"/><path d=\"M17.41 7.96l-1.37-1.37c-.4-.4-.92-.59-1.43-.59-.52 0-1.04.2-1.43.59L10.3 9.45l-7.72 7.72c-.78.78-.78 2.05 0 2.83L4 21.41c.39.39.9.59 1.41.59.51 0 1.02-.2 1.41-.59l7.78-7.78 2.81-2.81c.8-.78.8-2.07 0-2.86zM5.41 20L4 18.59l7.72-7.72 1.47 1.35L5.41 20z\"/>\n",
              "  </svg>\n",
              "      </button>\n",
              "      \n",
              "  <style>\n",
              "    .colab-df-container {\n",
              "      display:flex;\n",
              "      flex-wrap:wrap;\n",
              "      gap: 12px;\n",
              "    }\n",
              "\n",
              "    .colab-df-convert {\n",
              "      background-color: #E8F0FE;\n",
              "      border: none;\n",
              "      border-radius: 50%;\n",
              "      cursor: pointer;\n",
              "      display: none;\n",
              "      fill: #1967D2;\n",
              "      height: 32px;\n",
              "      padding: 0 0 0 0;\n",
              "      width: 32px;\n",
              "    }\n",
              "\n",
              "    .colab-df-convert:hover {\n",
              "      background-color: #E2EBFA;\n",
              "      box-shadow: 0px 1px 2px rgba(60, 64, 67, 0.3), 0px 1px 3px 1px rgba(60, 64, 67, 0.15);\n",
              "      fill: #174EA6;\n",
              "    }\n",
              "\n",
              "    [theme=dark] .colab-df-convert {\n",
              "      background-color: #3B4455;\n",
              "      fill: #D2E3FC;\n",
              "    }\n",
              "\n",
              "    [theme=dark] .colab-df-convert:hover {\n",
              "      background-color: #434B5C;\n",
              "      box-shadow: 0px 1px 3px 1px rgba(0, 0, 0, 0.15);\n",
              "      filter: drop-shadow(0px 1px 2px rgba(0, 0, 0, 0.3));\n",
              "      fill: #FFFFFF;\n",
              "    }\n",
              "  </style>\n",
              "\n",
              "      <script>\n",
              "        const buttonEl =\n",
              "          document.querySelector('#df-fc20a1c4-5e6d-4aba-b492-b352a6a02c22 button.colab-df-convert');\n",
              "        buttonEl.style.display =\n",
              "          google.colab.kernel.accessAllowed ? 'block' : 'none';\n",
              "\n",
              "        async function convertToInteractive(key) {\n",
              "          const element = document.querySelector('#df-fc20a1c4-5e6d-4aba-b492-b352a6a02c22');\n",
              "          const dataTable =\n",
              "            await google.colab.kernel.invokeFunction('convertToInteractive',\n",
              "                                                     [key], {});\n",
              "          if (!dataTable) return;\n",
              "\n",
              "          const docLinkHtml = 'Like what you see? Visit the ' +\n",
              "            '<a target=\"_blank\" href=https://colab.research.google.com/notebooks/data_table.ipynb>data table notebook</a>'\n",
              "            + ' to learn more about interactive tables.';\n",
              "          element.innerHTML = '';\n",
              "          dataTable['output_type'] = 'display_data';\n",
              "          await google.colab.output.renderOutput(dataTable, element);\n",
              "          const docLink = document.createElement('div');\n",
              "          docLink.innerHTML = docLinkHtml;\n",
              "          element.appendChild(docLink);\n",
              "        }\n",
              "      </script>\n",
              "    </div>\n",
              "  </div>\n",
              "  "
            ]
          },
          "metadata": {},
          "execution_count": 7
        }
      ],
      "source": [
        "# loc\n",
        "df.loc[256:512, [\"age\"]]"
      ]
    },
    {
      "cell_type": "code",
      "execution_count": 10,
      "metadata": {
        "colab": {
          "base_uri": "https://localhost:8080/"
        },
        "id": "PKAvIJigUnLQ",
        "outputId": "aa10674e-fada-4f2c-bb12-09599de20ba4"
      },
      "outputs": [
        {
          "output_type": "execute_result",
          "data": {
            "text/plain": [
              "256    62\n",
              "257    39\n",
              "258    30\n",
              "259    72\n",
              "260    50\n",
              "       ..\n",
              "508     0\n",
              "509    35\n",
              "510    27\n",
              "511    66\n",
              "512    21\n",
              "Name: age, Length: 257, dtype: int64"
            ]
          },
          "metadata": {},
          "execution_count": 10
        }
      ],
      "source": [
        "# brackets and indexing\n",
        "df['age'][256:513]"
      ]
    },
    {
      "cell_type": "code",
      "execution_count": 11,
      "metadata": {
        "colab": {
          "base_uri": "https://localhost:8080/"
        },
        "id": "Qgd_d-viUnLQ",
        "outputId": "9fd75826-809b-4b98-fb49-5c36eeb90d38"
      },
      "outputs": [
        {
          "output_type": "execute_result",
          "data": {
            "text/plain": [
              "33.09727626459144"
            ]
          },
          "metadata": {},
          "execution_count": 11
        }
      ],
      "source": [
        "# calculate mean, max, min\n",
        "df['age'][256:513].mean()"
      ]
    },
    {
      "cell_type": "code",
      "execution_count": 12,
      "metadata": {
        "colab": {
          "base_uri": "https://localhost:8080/"
        },
        "id": "DhSPwKXBUnLQ",
        "outputId": "c15ca6c1-b902-4e23-a7c6-7d9fa3b7b197"
      },
      "outputs": [
        {
          "output_type": "execute_result",
          "data": {
            "text/plain": [
              "73"
            ]
          },
          "metadata": {},
          "execution_count": 12
        }
      ],
      "source": [
        "df['age'][256:513].max()"
      ]
    },
    {
      "cell_type": "code",
      "execution_count": 13,
      "metadata": {
        "colab": {
          "base_uri": "https://localhost:8080/"
        },
        "id": "14CwkUPVUnLR",
        "outputId": "1221bc60-04c7-4387-94d3-68bcea2cfd98"
      },
      "outputs": [
        {
          "output_type": "execute_result",
          "data": {
            "text/plain": [
              "0"
            ]
          },
          "metadata": {},
          "execution_count": 13
        }
      ],
      "source": [
        "df['age'][256:513].min()"
      ]
    },
    {
      "cell_type": "markdown",
      "metadata": {
        "id": "TjI64hPFUnLR"
      },
      "source": [
        "--------------------------------------"
      ]
    },
    {
      "cell_type": "markdown",
      "metadata": {
        "id": "YTcBo9EUUnLR"
      },
      "source": [
        "### 📖 Data Cleaning\n"
      ]
    },
    {
      "cell_type": "markdown",
      "metadata": {
        "id": "pWnsMbcmUnLR"
      },
      "source": [
        "Text data can get quite messy. Real-world data sets are riddled with incorrect characters, improper letter casings, whitespace, and more. The process of cleaning data is called wrangling or munging. Often, the majority of our data analysis is dedicated to munging. We may know the insight we want to derive early on, but the difficulty lies in arranging the data in a suitable shape for the manipulation. Luckily for us, one of the primary motivations behind pandas was easing the difficulty of cleaning up improperly formatted text values."
      ]
    },
    {
      "cell_type": "markdown",
      "metadata": {
        "id": "g5bYxlp3UnLR"
      },
      "source": [
        "#### 💭 Questions:\n",
        "- check duplicated values. if there exist, remove them and keep the first one.\n",
        "- check dataframe for unrelated values. if there exist, replace unrelated values in dataframe with `np.nan`\n",
        "- find the number of nan values for each column\n",
        "- handle missing/nan values with different methods (`dropping column`, `impute with proper value`)\n"
      ]
    },
    {
      "cell_type": "markdown",
      "metadata": {
        "id": "TTKBiAhJUnLR"
      },
      "source": [
        "**Write the answer below:** "
      ]
    },
    {
      "cell_type": "code",
      "execution_count": 14,
      "metadata": {
        "colab": {
          "base_uri": "https://localhost:8080/"
        },
        "id": "HWNGV2K0UnLR",
        "outputId": "5af7ac7e-58d6-4ad7-bb53-e998b3b6e5d0"
      },
      "outputs": [
        {
          "output_type": "execute_result",
          "data": {
            "text/plain": [
              "0        False\n",
              "1        False\n",
              "2        False\n",
              "3        False\n",
              "4        False\n",
              "         ...  \n",
              "48837    False\n",
              "48838    False\n",
              "48839    False\n",
              "48840    False\n",
              "48841    False\n",
              "Length: 48842, dtype: bool"
            ]
          },
          "metadata": {},
          "execution_count": 14
        }
      ],
      "source": [
        "# check for duplicates\n",
        "df.duplicated()"
      ]
    },
    {
      "cell_type": "code",
      "source": [
        "df.duplicated().value_counts()"
      ],
      "metadata": {
        "colab": {
          "base_uri": "https://localhost:8080/"
        },
        "id": "vNl2XSgIVrwc",
        "outputId": "401d69b0-6b37-47b1-e8f6-f79de41bcc01"
      },
      "execution_count": 15,
      "outputs": [
        {
          "output_type": "execute_result",
          "data": {
            "text/plain": [
              "False    48814\n",
              "True        28\n",
              "dtype: int64"
            ]
          },
          "metadata": {},
          "execution_count": 15
        }
      ]
    },
    {
      "cell_type": "code",
      "execution_count": 16,
      "metadata": {
        "id": "XfR_IGGOUnLR"
      },
      "outputs": [],
      "source": [
        "# remove duplicates\n",
        "df = df.drop_duplicates(keep='first')"
      ]
    },
    {
      "cell_type": "code",
      "execution_count": 17,
      "metadata": {
        "id": "4LVariWZUnLR"
      },
      "outputs": [],
      "source": [
        "# replace unrelated values\n",
        "df.age = df.age.replace({0:np.nan,})\n",
        "df = df.replace({'!':np.nan, '?':np.nan})"
      ]
    },
    {
      "cell_type": "code",
      "execution_count": 18,
      "metadata": {
        "colab": {
          "base_uri": "https://localhost:8080/"
        },
        "id": "BA8FtI8KUnLS",
        "outputId": "2123688b-9b74-4b6a-b1c2-8fa038ccc97e"
      },
      "outputs": [
        {
          "output_type": "execute_result",
          "data": {
            "text/plain": [
              "age                 4884\n",
              "workclass           2794\n",
              "fnlwgt                 0\n",
              "education              0\n",
              "educational-num     4884\n",
              "marital-status     36607\n",
              "occupation          2804\n",
              "relationship           0\n",
              "race                   0\n",
              "gender                 0\n",
              "capital-gain           0\n",
              "capital-loss           0\n",
              "hours-per-week         0\n",
              "native-country       857\n",
              "income                 0\n",
              "dtype: int64"
            ]
          },
          "metadata": {},
          "execution_count": 18
        }
      ],
      "source": [
        "# find numbers of missing values for each column\n",
        "df.isna().sum()"
      ]
    },
    {
      "cell_type": "code",
      "execution_count": 19,
      "metadata": {
        "id": "RMX5pDBnUnLS"
      },
      "outputs": [],
      "source": [
        "# handle missing values\n",
        "# drop 'marital-status, capital-gain and capital-loss columns. because they have more than 70 percent nan values\n",
        "df = df.drop(['marital-status' , 'capital-gain', 'capital-loss'], axis=1)\n",
        "# filling age column with median age\n",
        "df.age = df.age.fillna(df.age.median())\n",
        "# filling missing string values with 'missing' \n",
        "df[['workclass','occupation','native-country']] = df[['workclass','occupation','native-country']].fillna('missing')\n",
        "# recreate the eduactional-num column by encoding education column\n",
        "df['educational-num'] = df['education'].astype('category').cat.codes"
      ]
    },
    {
      "cell_type": "code",
      "execution_count": 20,
      "metadata": {
        "colab": {
          "base_uri": "https://localhost:8080/"
        },
        "id": "G2i1jWwBUnLS",
        "outputId": "968c2794-2214-4088-d2fb-3426cc175510"
      },
      "outputs": [
        {
          "output_type": "execute_result",
          "data": {
            "text/plain": [
              "age                0\n",
              "workclass          0\n",
              "fnlwgt             0\n",
              "education          0\n",
              "educational-num    0\n",
              "occupation         0\n",
              "relationship       0\n",
              "race               0\n",
              "gender             0\n",
              "hours-per-week     0\n",
              "native-country     0\n",
              "income             0\n",
              "dtype: int64"
            ]
          },
          "metadata": {},
          "execution_count": 20
        }
      ],
      "source": [
        "df.isna().sum()"
      ]
    },
    {
      "cell_type": "markdown",
      "metadata": {
        "id": "1zwyiJOWUnLS"
      },
      "source": [
        "--------------------------------"
      ]
    },
    {
      "cell_type": "markdown",
      "metadata": {
        "id": "dvP-r2yqUnLS"
      },
      "source": [
        "### 📖 Final Processing and Saving Dataframes\n",
        "After cleaning data, in this section, you are going to do som final processes and save the processed dataframe as a `csv` file.\n",
        "\n",
        "#### 💭 Questions:\n",
        "- calculate the 1st and 3rd `quantile` of the `age` column and their distance from `median (second quantile)`. which of the quantiles (1st or 3rd) is closer to the median?\n",
        "- Add a new column to dataframe with the name `age_category`. If the age of a person is less than 20 assign the value of this column to 1. if the age is between 20 and 30, age_category's value must be 2. assign 3 to age_category if the age is between 30 and 40. and assign 4 if the age is more than 40.\n",
        "- count number of values in each category for the `age_category` feature.\n",
        "- (Bonus) create a new column with the name `hours_in_year`. calculate the hours that each person works during the year.\n",
        "- (Bonus) In this Question, you are going to use values of multiple columns. create a `avrege_hour_income` column. If a person's income is more than 50K, divide 120 by the number of hours he\\she works during the year. If a person has an income less than 50, divide 50 by the number of hours he\\she works during the year.\n",
        "- (Bonus) print the maximum income per average which you calculated in the last question.\n",
        "- Save the dataframe as a `csv` file with proper `encoding` and dropping the `index` with the name of `clean_adults_income.csv`\n"
      ]
    },
    {
      "cell_type": "markdown",
      "metadata": {
        "id": "7lfeY9ScUnLS"
      },
      "source": [
        "**Write the answer below:**   \n",
        "(Hint: work with `lambda` functions and usefull methods of `pandas`)"
      ]
    },
    {
      "cell_type": "code",
      "execution_count": null,
      "metadata": {
        "id": "FEy_0hWcUnLS",
        "outputId": "ffaf99eb-214b-4497-f991-69a4b6921b4b"
      },
      "outputs": [
        {
          "data": {
            "text/plain": [
              "29.0"
            ]
          },
          "execution_count": 113,
          "metadata": {},
          "output_type": "execute_result"
        }
      ],
      "source": [
        "# Calculate Quatiles\n",
        "df.age.quantile(0.25)"
      ]
    },
    {
      "cell_type": "code",
      "execution_count": null,
      "metadata": {
        "id": "ciXV4b6mUnLS",
        "outputId": "984bb6dd-7da6-40a4-e704-7b45a6567d96"
      },
      "outputs": [
        {
          "data": {
            "text/plain": [
              "46.0"
            ]
          },
          "execution_count": 114,
          "metadata": {},
          "output_type": "execute_result"
        }
      ],
      "source": [
        "df.age.quantile(0.75)"
      ]
    },
    {
      "cell_type": "code",
      "execution_count": null,
      "metadata": {
        "id": "AZ-K4eKzUnLT"
      },
      "outputs": [],
      "source": [
        "# add age_category column\n",
        "def categorize_age(age):\n",
        "    cat = 1\n",
        "    if age >20 and age <=30:\n",
        "        cat = 2\n",
        "    elif age > 30 and age<=40:\n",
        "        cat = 3\n",
        "    else: \n",
        "        cat = 4\n",
        "    return cat\n",
        "\n",
        "df['age_category'] = df.age.apply(lambda x : categorize_age(x))"
      ]
    },
    {
      "cell_type": "code",
      "execution_count": null,
      "metadata": {
        "id": "QLn6mo-tUnLT",
        "outputId": "056e878f-8299-412c-e02f-8ceb3a7fa2e0"
      },
      "outputs": [
        {
          "data": {
            "text/plain": [
              "4    21419\n",
              "3    16445\n",
              "2    10950\n",
              "Name: age_category, dtype: int64"
            ]
          },
          "execution_count": 116,
          "metadata": {},
          "output_type": "execute_result"
        }
      ],
      "source": [
        "# count number of values\n",
        "df.age_category.value_counts()"
      ]
    },
    {
      "cell_type": "code",
      "execution_count": null,
      "metadata": {
        "id": "yvKOBia5UnLT"
      },
      "outputs": [],
      "source": [
        "# (Bonus) create new column hours_in_year\n",
        "# we have 53 week in a year\n",
        "df['hours_in_year'] =  df['hours-per-week'] * 53"
      ]
    },
    {
      "cell_type": "code",
      "execution_count": null,
      "metadata": {
        "id": "Q4y2mMezUnLT"
      },
      "outputs": [],
      "source": [
        "# (Bonus) create avrege_hour_income column\n",
        "def average_income(income, hour_in_year):\n",
        "    average = 0\n",
        "    if income == '<=50K':\n",
        "        average = 50 / hour_in_year\n",
        "    else:\n",
        "        average = 120 / hour_in_year\n",
        "    return average\n",
        "\n",
        "df['avarage_hour_income'] = df.apply(lambda x : average_income(x.income, x.hours_in_year) ,axis=1)\n",
        "        "
      ]
    },
    {
      "cell_type": "code",
      "execution_count": null,
      "metadata": {
        "id": "xgvJa8X6UnLT",
        "outputId": "c1f00949-6d60-44c1-df55-556c25601be2"
      },
      "outputs": [
        {
          "data": {
            "text/plain": [
              "2.2641509433962264"
            ]
          },
          "execution_count": 123,
          "metadata": {},
          "output_type": "execute_result"
        }
      ],
      "source": [
        "# (Bonus) max and min avrege_hour_income\n",
        "df['avarage_hour_income'].max()"
      ]
    },
    {
      "cell_type": "code",
      "execution_count": null,
      "metadata": {
        "id": "_7WLg7MVUnLT",
        "outputId": "7089b321-339b-48de-9347-095433d274a9"
      },
      "outputs": [
        {
          "data": {
            "text/plain": [
              "0.00952925481227368"
            ]
          },
          "execution_count": 124,
          "metadata": {},
          "output_type": "execute_result"
        }
      ],
      "source": [
        "df['avarage_hour_income'].min()"
      ]
    },
    {
      "cell_type": "code",
      "execution_count": null,
      "metadata": {
        "id": "OBS3vhhDUnLT"
      },
      "outputs": [],
      "source": [
        "# save csv\n",
        "df.to_csv('clean_adults_income.csv', encoding='utf-8', index=False)"
      ]
    },
    {
      "cell_type": "markdown",
      "metadata": {
        "id": "b-iIilreUnLT"
      },
      "source": [
        "# Good Luck 😉"
      ]
    },
    {
      "cell_type": "markdown",
      "metadata": {
        "id": "EKu309HUUnLU"
      },
      "source": [
        "# Reference:\n",
        "- Pandas in Action, Boris Paskhaver, Manning Publication."
      ]
    }
  ],
  "metadata": {
    "kernelspec": {
      "display_name": "Python 3.8.8 ('base')",
      "language": "python",
      "name": "python3"
    },
    "language_info": {
      "codemirror_mode": {
        "name": "ipython",
        "version": 3
      },
      "file_extension": ".py",
      "mimetype": "text/x-python",
      "name": "python",
      "nbconvert_exporter": "python",
      "pygments_lexer": "ipython3",
      "version": "3.8.8"
    },
    "orig_nbformat": 4,
    "vscode": {
      "interpreter": {
        "hash": "a90aeebcf29d64a654773811cc170cb25061cb2498f10ac689db374c7bf325de"
      }
    },
    "colab": {
      "name": "handson4_solution.ipynb",
      "provenance": [],
      "collapsed_sections": []
    }
  },
  "nbformat": 4,
  "nbformat_minor": 0
}