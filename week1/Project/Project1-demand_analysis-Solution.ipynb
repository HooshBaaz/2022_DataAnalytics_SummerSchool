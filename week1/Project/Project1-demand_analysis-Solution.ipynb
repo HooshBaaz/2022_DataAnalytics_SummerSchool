{
 "cells": [
  {
   "cell_type": "code",
   "execution_count": 1,
   "id": "1186cf64",
   "metadata": {},
   "outputs": [],
   "source": [
    "import json\n",
    "  \n",
    "# read json data file\n",
    "f=open('taxi_requests.json')\n",
    "data = json.load(f)\n",
    "f.close()\n",
    "\n",
    "login_times=data['request_time']\n",
    "\n",
    "# uncomment next line to see how the data looks like\n",
    "#display(login_times) "
   ]
  },
  {
   "cell_type": "code",
   "execution_count": 2,
   "id": "32d35eb7",
   "metadata": {},
   "outputs": [],
   "source": [
    "# convert time string to timestamps\n",
    "from datetime import datetime, timedelta, timezone\n",
    "tz = timezone(timedelta(hours=+4), 'UTC+4')\n",
    "timestamps=[datetime.strptime(login_times[i], '%Y-%m-%d %H:%M:%S').replace(tzinfo=tz).timestamp() for i in range(len(login_times))]\n",
    "#timestamps"
   ]
  },
  {
   "cell_type": "code",
   "execution_count": 3,
   "id": "a8bbd897",
   "metadata": {},
   "outputs": [
    {
     "name": "stdout",
     "output_type": "stream",
     "text": [
      "[58398.0, 58570.0, 58597.0, 58596.0, 59181.0, 58901.0, 58336.0, 59747.0, 59738.0, 60472.0]\n"
     ]
    },
    {
     "data": {
      "text/plain": [
       "datetime.datetime(1970, 1, 1, 16, 12, 16)"
      ]
     },
     "execution_count": 3,
     "metadata": {},
     "output_type": "execute_result"
    }
   ],
   "source": [
    "import numpy as np\n",
    "print(timestamps[:10])\n",
    "\n",
    "timestamps = np.sort(timestamps)\n",
    "\n",
    "days = np.array([datetime.utcfromtimestamp(tstamp).day for tstamp in timestamps])\n",
    "months = np.array([datetime.utcfromtimestamp(tstamp).month for tstamp in timestamps])\n",
    "years = np.array([datetime.utcfromtimestamp(tstamp).year for tstamp in timestamps])\n",
    "hours = np.array([datetime.utcfromtimestamp(tstamp).hour for tstamp in timestamps])\n",
    "minutes = np.array([datetime.utcfromtimestamp(tstamp).minute for tstamp in timestamps])\n",
    "seconds = np.array([datetime.utcfromtimestamp(tstamp).second for tstamp in timestamps])\n",
    "weekdays = np.array([datetime.utcfromtimestamp(tstamp).strftime('%A') for tstamp in timestamps])\n",
    "weekdays_number = np.array([datetime.utcfromtimestamp(tstamp).strftime('%w') for tstamp in timestamps], dtype='int')\n",
    "\n",
    "datetime(year=years[0], month=months[0], day=days[0], hour=hours[0], minute=minutes[0], second=seconds[0])"
   ]
  },
  {
   "cell_type": "markdown",
   "id": "d11ea248",
   "metadata": {},
   "source": [
    "# Written questions\n",
    "\n",
    "Please search online and read the documentation for strptime() and timestamp() and write down short answers to the following questions:\n",
    "\n",
    "A- What does the previous cell do? it uses strptime to get timestamps\n",
    "\n",
    "B- What does the concept of \"timestamp\" mean? What are its type and unit?\n",
    "\n",
    "C- Is the variable \"timestamps\" a list or a numpy array?\n",
    "\n",
    "D- Which day of week (Sunday, Monday, ...) is 1970-01-01?\n",
    "\n",
    "E- Which function can convert a timestamp back to datetime?\n"
   ]
  },
  {
   "cell_type": "markdown",
   "id": "33c6c4d8",
   "metadata": {},
   "source": [
    "# Project questions\n",
    "\n",
    "Explore data, write code, and search online to answer the following questions about the data:\n",
    "\n",
    "1- How many days are there in the data?\n",
    "\n",
    "2- Which date was the busiest date (the day with the most requests)? Which date was the second busiest date?\n",
    "\n",
    "3- Which hour was the busiest hour (the hour with the most requests)?\n",
    "\n",
    "4- Are there any two requests that happened at the same time?\n",
    "\n",
    "5- What is the longest gap between two consequent requests?\n",
    "\n",
    "6- Overall, does the volume of requests increase or decrease over time?\n",
    "\n",
    "7- Bonus: For each day calculate the average request time for all requests between 6:00 AM and 9:00 AM\n",
    "\n",
    "8- Bonus: Which day of week is the busiest?\n",
    "\n",
    "9- Bonus: Calculate the average number of requests for each of the 7*24 hours of the week.\n",
    "\n",
    "10- Bonus: Which dates other than the standard weekend days were holidays?"
   ]
  },
  {
   "cell_type": "markdown",
   "id": "2cee5cf6",
   "metadata": {},
   "source": [
    "## Question 1"
   ]
  },
  {
   "cell_type": "code",
   "execution_count": 30,
   "id": "c4cc0756",
   "metadata": {},
   "outputs": [
    {
     "name": "stdout",
     "output_type": "stream",
     "text": [
      "Number of unique days in the dataset = 103\n"
     ]
    }
   ],
   "source": [
    "all_dates = [datetime(year=years[i], month=months[i], day=days[i]).strftime('%Y-%m-%d') for i in range(len(days))]\n",
    "print(f'Number of unique days in the dataset = {np.unique(all_dates).size}')"
   ]
  },
  {
   "cell_type": "markdown",
   "id": "590c2ad9",
   "metadata": {},
   "source": [
    "## Question 2\n",
    "\n",
    "Here is an answer to problem 2. We advise to try to solve this problem before you see the answer below\n"
   ]
  },
  {
   "cell_type": "code",
   "execution_count": 36,
   "id": "dd16a91f",
   "metadata": {},
   "outputs": [
    {
     "name": "stdout",
     "output_type": "stream",
     "text": [
      "the busiest day is day number  1970-04-03\n",
      "the second busiest day is data number  1970-03-14\n"
     ]
    }
   ],
   "source": [
    "all_dates = [datetime(year=years[i], month=months[i], day=days[i]).strftime('%Y-%m-%d') for i in range(len(days))]\n",
    "unique, counts = np.unique(all_dates, return_counts=True)\n",
    "maxday=np.argmax(counts) \n",
    "print(\"the busiest day is day number \",unique[maxday])\n",
    "second_maxday = np.argsort(counts)[-2]\n",
    "print('the second busiest day is data number ', unique[second_maxday])"
   ]
  },
  {
   "cell_type": "markdown",
   "id": "0c13c836",
   "metadata": {},
   "source": [
    "## Question 3"
   ]
  },
  {
   "cell_type": "code",
   "execution_count": 57,
   "id": "ae3b191b",
   "metadata": {},
   "outputs": [
    {
     "name": "stdout",
     "output_type": "stream",
     "text": [
      "The busiest hour = 18 with 6607 requests.\n"
     ]
    },
    {
     "data": {
      "image/png": "[encoded data removed]",
      "text/plain": [
       "<Figure size 432x288 with 1 Axes>"
      ]
     },
     "metadata": {
      "needs_background": "light"
     },
     "output_type": "display_data"
    }
   ],
   "source": [
    "import matplotlib.pyplot as plt\n",
    "\n",
    "hh, hh_count = np.unique(hours, return_counts=True)\n",
    "print(f'The busiest hour = {hh[np.argmax(hh_count)]} with {hh_count[np.argmax(hh_count)]} requests.')\n",
    "\n",
    "plt.hist(hours, bins=24)\n",
    "plt.axvline(np.argmax(hh_count), c='red')\n",
    "plt.show()"
   ]
  },
  {
   "cell_type": "markdown",
   "id": "bbc03767",
   "metadata": {},
   "source": [
    "## Question 4"
   ]
  },
  {
   "cell_type": "code",
   "execution_count": 61,
   "id": "5c2eb0f9",
   "metadata": {},
   "outputs": [
    {
     "name": "stdout",
     "output_type": "stream",
     "text": [
      "Total duplications: 1745\n"
     ]
    }
   ],
   "source": [
    "all_dates = [datetime(year=years[i], month=months[i], day=days[i], hour=hours[i], minute=minutes[i], second=seconds[i]).strftime('%Y-%m-%d %H:%M:%S') for i in range(len(days))]\n",
    "duplicate_requests, duplication_counts = np.unique(all_dates, return_counts=True)\n",
    "total_dup_counts = 0\n",
    "for dup_req, dup_count in zip(duplicate_requests, duplication_counts):\n",
    "    if dup_count > 1:\n",
    "        # print(f'Time: {dup_req}\\tCounts: {dup_count}')\n",
    "        # total_dup_counts += dup_count\n",
    "        total_dup_counts += 1\n",
    "\n",
    "print(f'Total duplications: {total_dup_counts}')"
   ]
  },
  {
   "cell_type": "markdown",
   "id": "09e95f27",
   "metadata": {},
   "source": [
    "## Question 5"
   ]
  },
  {
   "cell_type": "code",
   "execution_count": 66,
   "id": "9f6f5073",
   "metadata": {},
   "outputs": [
    {
     "data": {
      "text/plain": [
       "(644046.0, 649547.0, 5501.0)"
      ]
     },
     "execution_count": 66,
     "metadata": {},
     "output_type": "execute_result"
    }
   ],
   "source": [
    "timestamps = np.sort(timestamps)\n",
    "diff_timestamps = np.diff(timestamps)   # timestamps are sorted\n",
    "max_diff = np.argmax(diff_timestamps)\n",
    "timestamps[max_diff], timestamps[max_diff+1], diff_timestamps[max_diff]"
   ]
  },
  {
   "cell_type": "markdown",
   "id": "79f63e30",
   "metadata": {},
   "source": [
    "## Question 6"
   ]
  },
  {
   "cell_type": "code",
   "execution_count": 10,
   "id": "57ae340c",
   "metadata": {},
   "outputs": [
    {
     "name": "stdout",
     "output_type": "stream",
     "text": [
      "[ 7615  6678  7410  7545  9625  9676 10706 12535 10549 10803]\n"
     ]
    },
    {
     "data": {
      "image/png": "[encoded data removed]",
      "text/plain": [
       "<Figure size 432x288 with 1 Axes>"
      ]
     },
     "metadata": {
      "needs_background": "light"
     },
     "output_type": "display_data"
    }
   ],
   "source": [
    "import matplotlib.pyplot as plt\n",
    "req_nums_in_bin, _ = np.histogram(timestamps, bins=10)\n",
    "print(req_nums_in_bin)\n",
    "\n",
    "plt.plot(req_nums_in_bin, marker='.')\n",
    "plt.plot([-0.5, len(req_nums_in_bin)-0.5], [req_nums_in_bin[0], req_nums_in_bin[-1]], c='red')\n",
    "plt.show()\n"
   ]
  },
  {
   "cell_type": "markdown",
   "id": "7f43c1ee",
   "metadata": {},
   "source": [
    "## Question 7"
   ]
  },
  {
   "cell_type": "code",
   "execution_count": 11,
   "id": "3784f0d8",
   "metadata": {},
   "outputs": [
    {
     "data": {
      "text/plain": [
       "(1, 12, 8)"
      ]
     },
     "execution_count": 11,
     "metadata": {},
     "output_type": "execute_result"
    }
   ],
   "source": [
    "req_id = np.arange(0, len(timestamps))\n",
    "# req_matrix = np.zeros((1, 12, 32, 24))     # year, months, days, hours\n",
    "req_matrix = np.zeros((len(req_id), 1, 12, 8, 24))     # unique_id, year, months, weekdays, hours\n",
    "req_matrix[req_id, years-1970, months, weekdays_number, hours] = 1\n",
    "between_6_9 = req_matrix[:, :, :, :, 6:9]\n",
    "result = req_matrix.sum(axis=4).sum(axis=0)\n",
    "result.shape"
   ]
  },
  {
   "cell_type": "markdown",
   "id": "8399db5c",
   "metadata": {},
   "source": [
    "## Question 8"
   ]
  },
  {
   "cell_type": "code",
   "execution_count": 109,
   "id": "fdd3d687",
   "metadata": {},
   "outputs": [
    {
     "name": "stdout",
     "output_type": "stream",
     "text": [
      "['Saturday' 'Friday' 'Sunday' 'Thursday' 'Wednesday' 'Tuesday' 'Monday']\n"
     ]
    }
   ],
   "source": [
    "all_dates = [datetime(year=years[i], month=months[i], day=days[i], hour=hours[i], minute=minutes[i], second=seconds[i]).strftime('%A') for i in range(len(days))]\n",
    "dd, dd_count = np.unique(all_dates, return_counts=True)\n",
    "print(dd[np.argsort(dd_count)][::-1])"
   ]
  },
  {
   "cell_type": "markdown",
   "id": "7b201b1c",
   "metadata": {},
   "source": [
    "## Question 9"
   ]
  },
  {
   "cell_type": "code",
   "execution_count": 12,
   "id": "62c88a62",
   "metadata": {},
   "outputs": [
    {
     "data": {
      "text/plain": [
       "(8, 24)"
      ]
     },
     "execution_count": 12,
     "metadata": {},
     "output_type": "execute_result"
    }
   ],
   "source": [
    "req_id = np.arange(0, len(timestamps))\n",
    "req_matrix = np.zeros((len(req_id), 1, 12, 8, 24))     # unique_id, year, months, weekdays, hours\n",
    "req_matrix[req_id, years-1970, months, weekdays_number, hours] = 1\n",
    "avg_req_days_hours = req_matrix.sum(axis=0).sum(axis=0).sum(axis=0) / (1 * 7)\n",
    "avg_req_days_hours.shape"
   ]
  },
  {
   "cell_type": "markdown",
   "id": "d1b21bf8",
   "metadata": {},
   "source": [
    "## Question 10"
   ]
  },
  {
   "cell_type": "code",
   "execution_count": 162,
   "id": "7f28c9bb",
   "metadata": {},
   "outputs": [
    {
     "data": {
      "image/png": "[encoded data removed]",
      "text/plain": [
       "<Figure size 432x288 with 1 Axes>"
      ]
     },
     "metadata": {
      "needs_background": "light"
     },
     "output_type": "display_data"
    }
   ],
   "source": [
    "import matplotlib.pyplot as plt\n",
    "\n",
    "weekdays_avg_req = req_matrix.sum(axis=0).sum(axis=-1)\n",
    "avg_weekends = weekdays_avg_req[:, :, 3:5].mean()\n",
    "plt.plot(weekdays_avg_req[:, :, :-1].sum(axis=0).sum(axis=0)/(1*12))\n",
    "plt.gca().set_xticks(np.arange(0, 7))\n",
    "plt.gca().set_xticklabels(['Mon', 'Tue', 'Wed', 'Thu', 'Fri', 'Sat', 'Sun'])\n",
    "plt.show()"
   ]
  },
  {
   "cell_type": "code",
   "execution_count": 164,
   "id": "0bb721a0",
   "metadata": {},
   "outputs": [
    {
     "data": {
      "text/plain": [
       "972.9166666666666"
      ]
     },
     "execution_count": 164,
     "metadata": {},
     "output_type": "execute_result"
    }
   ],
   "source": [
    "avg_weekends"
   ]
  },
  {
   "cell_type": "code",
   "execution_count": 177,
   "id": "b0233ab5",
   "metadata": {},
   "outputs": [
    {
     "data": {
      "text/plain": [
       "array(['1970-01-10', '1970-01-24', '1970-02-08', '1970-03-01',\n",
       "       '1970-04-12'], dtype='<U10')"
      ]
     },
     "execution_count": 177,
     "metadata": {},
     "output_type": "execute_result"
    }
   ],
   "source": [
    "all_weekends = [datetime(year=years[i], month=months[i], day=days[i]).strftime('%w') for i in range(len(days)) if weekdays[i] in ['Thursday', 'Friday']]\n",
    "all_weekend_days = np.unique(\n",
    "    [datetime(year=years[i], month=months[i], day=days[i]).strftime('%Y-%m-%d') for i in range(len(days)) if weekdays[i] in ['Thursday', 'Friday']]\n",
    ")\n",
    "\n",
    "all_nonweekends = [datetime(year=years[i], month=months[i], day=days[i]).strftime('%Y-%m-%d') for i in range(len(days)) if weekdays[i] not in ['Thursday', 'Friday']]\n",
    "_, mean_req_weekends = np.unique(all_weekends, return_counts=True)\n",
    "mean_req_weekends = mean_req_weekends.sum() / len(all_weekend_days)\n",
    "mean_req_weekends\n",
    "unique, counts = np.unique(all_nonweekends, return_counts=True)\n",
    "delta = 50\n",
    "unique[np.abs(counts - avg_weekends) < delta]"
   ]
  }
 ],
 "metadata": {
  "kernelspec": {
   "display_name": "Python 3.8.5 ('base')",
   "language": "python",
   "name": "python3"
  },
  "language_info": {
   "codemirror_mode": {
    "name": "ipython",
    "version": 3
   },
   "file_extension": ".py",
   "mimetype": "text/x-python",
   "name": "python",
   "nbconvert_exporter": "python",
   "pygments_lexer": "ipython3",
   "version": "3.8.5"
  },
  "vscode": {
   "interpreter": {
    "hash": "25aba1949f44877099d449300e326e4451e69b41f5f01d7de2dc51cdf7c75fa4"
   }
  }
 },
 "nbformat": 4,
 "nbformat_minor": 5
}
