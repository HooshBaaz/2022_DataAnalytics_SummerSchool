{
 "cells": [
  {
   "cell_type": "markdown",
   "id": "08ef7026-8c46-426c-b687-a95985c117e7",
   "metadata": {
    "tags": []
   },
   "source": [
    "<img style=\"float: right;\" src=\"attachment:04f31c53-483e-4bae-a4ef-aeed484c3692.png\">\n",
    "\n",
    "# Exploratory Analysis of Torob Search Data\n",
    "\n",
    "Greetings and a warm welcome from Torob Data Team!\n",
    "\n",
    "We are very excited to share with you the Torob's search data for the task of exploratory data analysis as part of OpenAI Summer School 2022. The data consists of users' search logs as well as their clicks on search results in Torob. It also includes information for a sample of the products and product categories. In this notebook, you will analyze this data and answer some questions with the goal of practicing your data analysis skills (especially the ability to work with Pandas) and also extract insightful information from our users' searches and their interaction with the search results.\n",
    "\n",
    "Note that our original daily search data is very large (you may need gigabytes of RAM and disk space to handle the data of just one day!). So, for practical purposes and due to the size constraints, the original data has been sampled and reduced, and what you'll work with is just a small fraction of the data of one week. \n",
    "\n",
    "The sections marked with a triangular flag (🚩) are those which you need to read and answer. Allright, without further ado let's get started!\n",
    "\n",
    "(NOTE: Here is the link to the guideline document of the project: https://docs.google.com/document/d/1r46gWcSXwvxxpS92cOqqA7pLuX1Vq673rokgwtnafb8/edit?usp=sharing)"
   ]
  },
  {
   "cell_type": "markdown",
   "id": "fade52bf-d9c1-478d-b67c-cde75938b09a",
   "metadata": {},
   "source": [
    "---"
   ]
  },
  {
   "cell_type": "markdown",
   "id": "0585c2a0-1e1e-4d39-8d51-e15ba19c991a",
   "metadata": {},
   "source": [
    "## Import modules/libraries\n",
    "\n",
    "So, as usual, we first need to import the neccessary libraries and modules which we would use:"
   ]
  },
  {
   "cell_type": "code",
   "execution_count": 1,
   "id": "58237104-a28e-4ca4-883b-2f534ee8cc64",
   "metadata": {},
   "outputs": [],
   "source": [
    "import pandas as pd\n",
    "import matplotlib.pyplot as plt\n",
    "import numpy as np"
   ]
  },
  {
   "cell_type": "markdown",
   "id": "f093fda3-f41e-4a78-b18d-5d88a3680f2d",
   "metadata": {},
   "source": [
    "---"
   ]
  },
  {
   "cell_type": "markdown",
   "id": "d5e3e7b2-10e0-4f11-8671-70b47e299af0",
   "metadata": {
    "tags": []
   },
   "source": [
    "## Load and Inspect Data\n",
    "\n",
    "In this section we load the data from given files, and then we take a quick look at their structure and make sure they have been loaded properly."
   ]
  },
  {
   "cell_type": "markdown",
   "id": "74a0b0e7-6c09-4f39-8ee4-1149d9ca48d4",
   "metadata": {},
   "source": [
    "### 🚩Load data from disk\n",
    "\n",
    "First, we need to load the data from disk as Pandas dataframes. There are four different dataframes which need to be loaded:\n",
    "- Search logs, stored in `search_logs.pkl`.\n",
    "- Search click logs, stored in `search_click_logs.pkl`.\n",
    "- Products info, stored in `products.pkl`.\n",
    "- Product categories info, stored in `categories.pkl`.\n",
    "\n",
    "Let's load them all and store each of them in a separate variable:"
   ]
  },
  {
   "cell_type": "markdown",
   "id": "de4f1863-860f-4e85-a59b-1d76423d0761",
   "metadata": {},
   "source": [
    "**Write the answer below:** \\\n",
    "(Hint: Since they are stored as *pickled* files, we can easily use `pd.read_pickle` function.)"
   ]
  },
  {
   "cell_type": "code",
   "execution_count": 2,
   "id": "cedef7aa-0c8f-4761-a1c9-999adb77bdf8",
   "metadata": {},
   "outputs": [],
   "source": [
    "SDF= pd.read_pickle(\"data\\search_logs.pkl\") # search data table\n",
    "CDF= pd.read_pickle(\"data\\search_click_logs.pkl\") #Click table\n",
    "PDF= pd.read_pickle(\"data\\products.pkl\") # Products table\n",
    "GDF= pd.read_pickle(\"data\\categories.pkl\") # categories Table\n"
   ]
  },
  {
   "cell_type": "markdown",
   "id": "09fc00d6-0d63-4087-a7a5-bbcb9a22f022",
   "metadata": {
    "tags": []
   },
   "source": [
    "### 🚩A quick peek at the data\n",
    "\n",
    "To quickly get a feel of the strucure of the data and see if it has been loaded correctly, we can check the first few rows of the dataframes. Let's take a look at the first five rows of each dataframe we loaded in the previous step:"
   ]
  },
  {
   "cell_type": "markdown",
   "id": "0c66d0e0-3e59-4c9b-98c0-c271fbfe7b71",
   "metadata": {},
   "source": [
    "**Write the answer below:** \\\n",
    "(Hint: heads or tails?!)"
   ]
  },
  {
   "cell_type": "code",
   "execution_count": 3,
   "id": "4ade041d-ed7a-4445-ad58-0d9243be2cfc",
   "metadata": {},
   "outputs": [
    {
     "data": {
      "text/html": [
       "<div>\n",
       "<style scoped>\n",
       "    .dataframe tbody tr th:only-of-type {\n",
       "        vertical-align: middle;\n",
       "    }\n",
       "\n",
       "    .dataframe tbody tr th {\n",
       "        vertical-align: top;\n",
       "    }\n",
       "\n",
       "    .dataframe thead th {\n",
       "        text-align: right;\n",
       "    }\n",
       "</style>\n",
       "<table border=\"1\" class=\"dataframe\">\n",
       "  <thead>\n",
       "    <tr style=\"text-align: right;\">\n",
       "      <th></th>\n",
       "      <th>id</th>\n",
       "      <th>raw_query</th>\n",
       "      <th>result</th>\n",
       "      <th>datetime</th>\n",
       "      <th>category_id</th>\n",
       "      <th>user_id</th>\n",
       "    </tr>\n",
       "  </thead>\n",
       "  <tbody>\n",
       "    <tr>\n",
       "      <th>539284</th>\n",
       "      <td>komsy</td>\n",
       "      <td>گیره تزیینی مو</td>\n",
       "      <td>[5453845, 8144670, 929409, 2560009, 2945123, 1...</td>\n",
       "      <td>2022-05-17 11:40:45.256000+00:00</td>\n",
       "      <td>NaN</td>\n",
       "      <td>HBGXD</td>\n",
       "    </tr>\n",
       "    <tr>\n",
       "      <th>539285</th>\n",
       "      <td>rgtin</td>\n",
       "      <td>دراپ بنر بی تی اس</td>\n",
       "      <td>[4651071, 7207811, 3198227, 5668360, 3934514, ...</td>\n",
       "      <td>2022-05-16 17:22:19.306000+00:00</td>\n",
       "      <td>NaN</td>\n",
       "      <td>RKJDP</td>\n",
       "    </tr>\n",
       "    <tr>\n",
       "      <th>539286</th>\n",
       "      <td>ouixi</td>\n",
       "      <td>مینی فرز رونیکس</td>\n",
       "      <td>[3627110, 6731253, 3386983, 678951, 5285940, 3...</td>\n",
       "      <td>2022-05-18 11:55:34.127000+00:00</td>\n",
       "      <td>NaN</td>\n",
       "      <td>QGIDE</td>\n",
       "    </tr>\n",
       "    <tr>\n",
       "      <th>539287</th>\n",
       "      <td>cnemi</td>\n",
       "      <td>t295</td>\n",
       "      <td>[3789177, 1968708, 459464, 5077881, 6612780, 1...</td>\n",
       "      <td>2022-05-14 10:50:27.468000+00:00</td>\n",
       "      <td>NaN</td>\n",
       "      <td>XHCNF</td>\n",
       "    </tr>\n",
       "    <tr>\n",
       "      <th>539288</th>\n",
       "      <td>afnwn</td>\n",
       "      <td>سرویس قابلمه</td>\n",
       "      <td>[7674912, 3037094, 3876156, 8439562, 746455, 4...</td>\n",
       "      <td>2022-05-17 10:59:08.572000+00:00</td>\n",
       "      <td>NaN</td>\n",
       "      <td>MVVMZ</td>\n",
       "    </tr>\n",
       "  </tbody>\n",
       "</table>\n",
       "</div>"
      ],
      "text/plain": [
       "           id          raw_query  \\\n",
       "539284  komsy     گیره تزیینی مو   \n",
       "539285  rgtin  دراپ بنر بی تی اس   \n",
       "539286  ouixi    مینی فرز رونیکس   \n",
       "539287  cnemi               t295   \n",
       "539288  afnwn       سرویس قابلمه   \n",
       "\n",
       "                                                   result  \\\n",
       "539284  [5453845, 8144670, 929409, 2560009, 2945123, 1...   \n",
       "539285  [4651071, 7207811, 3198227, 5668360, 3934514, ...   \n",
       "539286  [3627110, 6731253, 3386983, 678951, 5285940, 3...   \n",
       "539287  [3789177, 1968708, 459464, 5077881, 6612780, 1...   \n",
       "539288  [7674912, 3037094, 3876156, 8439562, 746455, 4...   \n",
       "\n",
       "                               datetime  category_id user_id  \n",
       "539284 2022-05-17 11:40:45.256000+00:00          NaN   HBGXD  \n",
       "539285 2022-05-16 17:22:19.306000+00:00          NaN   RKJDP  \n",
       "539286 2022-05-18 11:55:34.127000+00:00          NaN   QGIDE  \n",
       "539287 2022-05-14 10:50:27.468000+00:00          NaN   XHCNF  \n",
       "539288 2022-05-17 10:59:08.572000+00:00          NaN   MVVMZ  "
      ]
     },
     "execution_count": 3,
     "metadata": {},
     "output_type": "execute_result"
    }
   ],
   "source": [
    "SDF.tail()"
   ]
  },
  {
   "cell_type": "code",
   "execution_count": 4,
   "id": "1e341885-10a1-4c62-9e02-6a5103c514ec",
   "metadata": {},
   "outputs": [
    {
     "data": {
      "text/html": [
       "<div>\n",
       "<style scoped>\n",
       "    .dataframe tbody tr th:only-of-type {\n",
       "        vertical-align: middle;\n",
       "    }\n",
       "\n",
       "    .dataframe tbody tr th {\n",
       "        vertical-align: top;\n",
       "    }\n",
       "\n",
       "    .dataframe thead th {\n",
       "        text-align: right;\n",
       "    }\n",
       "</style>\n",
       "<table border=\"1\" class=\"dataframe\">\n",
       "  <thead>\n",
       "    <tr style=\"text-align: right;\">\n",
       "      <th></th>\n",
       "      <th>id</th>\n",
       "      <th>datetime</th>\n",
       "      <th>search_id</th>\n",
       "      <th>rank</th>\n",
       "    </tr>\n",
       "  </thead>\n",
       "  <tbody>\n",
       "    <tr>\n",
       "      <th>0</th>\n",
       "      <td>jstyz</td>\n",
       "      <td>2022-05-13 19:30:14.030000+00:00</td>\n",
       "      <td>iitnm</td>\n",
       "      <td>1</td>\n",
       "    </tr>\n",
       "    <tr>\n",
       "      <th>1</th>\n",
       "      <td>ewusk</td>\n",
       "      <td>2022-05-13 19:30:24.290000+00:00</td>\n",
       "      <td>scjlb</td>\n",
       "      <td>2</td>\n",
       "    </tr>\n",
       "    <tr>\n",
       "      <th>2</th>\n",
       "      <td>osnio</td>\n",
       "      <td>2022-05-13 19:30:24.394000+00:00</td>\n",
       "      <td>ohuqq</td>\n",
       "      <td>6</td>\n",
       "    </tr>\n",
       "    <tr>\n",
       "      <th>3</th>\n",
       "      <td>expgi</td>\n",
       "      <td>2022-05-13 19:30:30.500000+00:00</td>\n",
       "      <td>pzrcn</td>\n",
       "      <td>3</td>\n",
       "    </tr>\n",
       "    <tr>\n",
       "      <th>4</th>\n",
       "      <td>srgdy</td>\n",
       "      <td>2022-05-13 19:30:32.884000+00:00</td>\n",
       "      <td>mhlmr</td>\n",
       "      <td>5</td>\n",
       "    </tr>\n",
       "  </tbody>\n",
       "</table>\n",
       "</div>"
      ],
      "text/plain": [
       "      id                         datetime search_id  rank\n",
       "0  jstyz 2022-05-13 19:30:14.030000+00:00     iitnm     1\n",
       "1  ewusk 2022-05-13 19:30:24.290000+00:00     scjlb     2\n",
       "2  osnio 2022-05-13 19:30:24.394000+00:00     ohuqq     6\n",
       "3  expgi 2022-05-13 19:30:30.500000+00:00     pzrcn     3\n",
       "4  srgdy 2022-05-13 19:30:32.884000+00:00     mhlmr     5"
      ]
     },
     "execution_count": 4,
     "metadata": {},
     "output_type": "execute_result"
    }
   ],
   "source": [
    "CDF.head()"
   ]
  },
  {
   "cell_type": "code",
   "execution_count": 5,
   "id": "5517ab9a-daca-432f-9dce-ad53aa60d745",
   "metadata": {},
   "outputs": [
    {
     "data": {
      "text/html": [
       "<div>\n",
       "<style scoped>\n",
       "    .dataframe tbody tr th:only-of-type {\n",
       "        vertical-align: middle;\n",
       "    }\n",
       "\n",
       "    .dataframe tbody tr th {\n",
       "        vertical-align: top;\n",
       "    }\n",
       "\n",
       "    .dataframe thead th {\n",
       "        text-align: right;\n",
       "    }\n",
       "</style>\n",
       "<table border=\"1\" class=\"dataframe\">\n",
       "  <thead>\n",
       "    <tr style=\"text-align: right;\">\n",
       "      <th></th>\n",
       "      <th>id</th>\n",
       "      <th>title</th>\n",
       "      <th>category_id</th>\n",
       "    </tr>\n",
       "  </thead>\n",
       "  <tbody>\n",
       "    <tr>\n",
       "      <th>108041</th>\n",
       "      <td>1985506</td>\n",
       "      <td>اسلایم سارا در انواع طرح و نوع متنوع با کیفیت ...</td>\n",
       "      <td>4062</td>\n",
       "    </tr>\n",
       "    <tr>\n",
       "      <th>108042</th>\n",
       "      <td>5278787</td>\n",
       "      <td>پک تخصصی کُرگیری(2دستگاه،5مته و 48سگمنت)</td>\n",
       "      <td>3830</td>\n",
       "    </tr>\n",
       "    <tr>\n",
       "      <th>108043</th>\n",
       "      <td>8977011</td>\n",
       "      <td>پیراهن مردانه Dior مدل 28793</td>\n",
       "      <td>4107</td>\n",
       "    </tr>\n",
       "    <tr>\n",
       "      <th>108044</th>\n",
       "      <td>2157337</td>\n",
       "      <td>پیراهن مردانه Dior مدل 28794</td>\n",
       "      <td>4107</td>\n",
       "    </tr>\n",
       "    <tr>\n",
       "      <th>108045</th>\n",
       "      <td>8432560</td>\n",
       "      <td>کیف دخترانه مدل جدید شیک کد 7929</td>\n",
       "      <td>4810</td>\n",
       "    </tr>\n",
       "  </tbody>\n",
       "</table>\n",
       "</div>"
      ],
      "text/plain": [
       "             id                                              title  \\\n",
       "108041  1985506  اسلایم سارا در انواع طرح و نوع متنوع با کیفیت ...   \n",
       "108042  5278787           پک تخصصی کُرگیری(2دستگاه،5مته و 48سگمنت)   \n",
       "108043  8977011                       پیراهن مردانه Dior مدل 28793   \n",
       "108044  2157337                       پیراهن مردانه Dior مدل 28794   \n",
       "108045  8432560                   کیف دخترانه مدل جدید شیک کد 7929   \n",
       "\n",
       "        category_id  \n",
       "108041         4062  \n",
       "108042         3830  \n",
       "108043         4107  \n",
       "108044         4107  \n",
       "108045         4810  "
      ]
     },
     "execution_count": 5,
     "metadata": {},
     "output_type": "execute_result"
    }
   ],
   "source": [
    "PDF.tail()"
   ]
  },
  {
   "cell_type": "code",
   "execution_count": 6,
   "id": "a01d412a-abc2-4bf4-bfe6-d23caa4cfbce",
   "metadata": {},
   "outputs": [
    {
     "data": {
      "text/html": [
       "<div>\n",
       "<style scoped>\n",
       "    .dataframe tbody tr th:only-of-type {\n",
       "        vertical-align: middle;\n",
       "    }\n",
       "\n",
       "    .dataframe tbody tr th {\n",
       "        vertical-align: top;\n",
       "    }\n",
       "\n",
       "    .dataframe thead th {\n",
       "        text-align: right;\n",
       "    }\n",
       "</style>\n",
       "<table border=\"1\" class=\"dataframe\">\n",
       "  <thead>\n",
       "    <tr style=\"text-align: right;\">\n",
       "      <th></th>\n",
       "      <th>title</th>\n",
       "      <th>id</th>\n",
       "      <th>parent_category_id</th>\n",
       "    </tr>\n",
       "  </thead>\n",
       "  <tbody>\n",
       "    <tr>\n",
       "      <th>2148</th>\n",
       "      <td>کتاب‌خوان و کاغذ دیجیتال</td>\n",
       "      <td>9180</td>\n",
       "      <td>98.0</td>\n",
       "    </tr>\n",
       "    <tr>\n",
       "      <th>760</th>\n",
       "      <td>سایر تجهیزات آکواریوم</td>\n",
       "      <td>3161</td>\n",
       "      <td>1467.0</td>\n",
       "    </tr>\n",
       "    <tr>\n",
       "      <th>1249</th>\n",
       "      <td>محافظ تخت و کوسن کودک</td>\n",
       "      <td>2547</td>\n",
       "      <td>434.0</td>\n",
       "    </tr>\n",
       "    <tr>\n",
       "      <th>1260</th>\n",
       "      <td>مینی کامپیوتر</td>\n",
       "      <td>6089</td>\n",
       "      <td>100.0</td>\n",
       "    </tr>\n",
       "    <tr>\n",
       "      <th>545</th>\n",
       "      <td>مکمل استخوان ساز و افزایش قد</td>\n",
       "      <td>1897</td>\n",
       "      <td>3834.0</td>\n",
       "    </tr>\n",
       "  </tbody>\n",
       "</table>\n",
       "</div>"
      ],
      "text/plain": [
       "                             title    id  parent_category_id\n",
       "2148      کتاب‌خوان و کاغذ دیجیتال  9180                98.0\n",
       "760          سایر تجهیزات آکواریوم  3161              1467.0\n",
       "1249         محافظ تخت و کوسن کودک  2547               434.0\n",
       "1260                 مینی کامپیوتر  6089               100.0\n",
       "545   مکمل استخوان ساز و افزایش قد  1897              3834.0"
      ]
     },
     "execution_count": 6,
     "metadata": {},
     "output_type": "execute_result"
    }
   ],
   "source": [
    "GDF.sample(5)"
   ]
  },
  {
   "cell_type": "markdown",
   "id": "5a441b8a-7098-4c96-82e9-568a8096d014",
   "metadata": {},
   "source": [
    "---"
   ]
  },
  {
   "cell_type": "markdown",
   "id": "9b074fc3-710c-4cd8-afcd-ac8ee0b9e9ff",
   "metadata": {},
   "source": [
    "## Data Validation\n",
    "\n",
    "Before starting our analysis, it's a good practice to validate the consistency of the data values and constraints with our expectations. There are various validity checks that could be done, and below we give you two examples."
   ]
  },
  {
   "cell_type": "markdown",
   "id": "b10cfa25-2316-442c-8a05-29ab6f2914fc",
   "metadata": {
    "tags": []
   },
   "source": [
    "### 🚩Validate uniquness of ID columns\n",
    "\n",
    "For example, we can confirm whether all the unique ID columns (i.e. `id` column) have no duplicate values for all the dataframes we have. Let's check this for all the four dataframes:"
   ]
  },
  {
   "cell_type": "markdown",
   "id": "ad9f7982-de77-4a36-bae2-81223c2017c3",
   "metadata": {},
   "source": [
    "**Write the answer below:**"
   ]
  },
  {
   "cell_type": "code",
   "execution_count": 7,
   "id": "2a4ff33a-8a91-48d2-b47a-2badb8ccef2d",
   "metadata": {},
   "outputs": [
    {
     "name": "stdout",
     "output_type": "stream",
     "text": [
      "there are 0 duplicated rows in search logs\n",
      "there are 0 duplicated rows in Product info\n",
      "there are 0 duplicated rows in search click logs\n",
      "there are 0 duplicated rows in Product categories info\n"
     ]
    }
   ],
   "source": [
    "print(\"there are\", SDF.id.duplicated().sum(), \"duplicated rows in search logs\")\n",
    "print(\"there are\", PDF.id.duplicated().sum(), \"duplicated rows in Product info\")\n",
    "print(\"there are\", CDF.id.duplicated().sum(), \"duplicated rows in search click logs\")\n",
    "print(\"there are\", GDF.id.duplicated().sum(), \"duplicated rows in Product categories info\")"
   ]
  },
  {
   "cell_type": "markdown",
   "id": "29761e60-4006-4019-a269-3aa5fb8a8097",
   "metadata": {},
   "source": [
    "### 🚩Validate all the search clicks have a valid rank value\n",
    "\n",
    "Here, we would like to check two things about the rank of search click records: 1) they have no NaN value, 2) they are all between 0 and 9 (because searches have at most 10 results). Let's do these checks:"
   ]
  },
  {
   "cell_type": "markdown",
   "id": "a51d1afd-e4f3-4056-8d04-c387444962bd",
   "metadata": {},
   "source": [
    "**Write the answer below:**"
   ]
  },
  {
   "cell_type": "code",
   "execution_count": 8,
   "id": "3dd1c351-4298-4455-ac64-5f64b96848f5",
   "metadata": {},
   "outputs": [
    {
     "name": "stdout",
     "output_type": "stream",
     "text": [
      "there are 0 Rank values greater than 9\n",
      "there are 0 NaN Rank values \n"
     ]
    }
   ],
   "source": [
    "print(\"there are\", (CDF['rank']>10).sum(), \"Rank values greater than 9\")\n",
    "print(\"there are\", (CDF['rank'].isna()).sum(), \"NaN Rank values \")"
   ]
  },
  {
   "cell_type": "markdown",
   "id": "f0564ad2-ba53-4b7c-87b4-1a17ed4a1e6d",
   "metadata": {},
   "source": [
    "---"
   ]
  },
  {
   "cell_type": "markdown",
   "id": "f649f30d-f971-4a45-90cf-6103149b31b9",
   "metadata": {
    "tags": []
   },
   "source": [
    "## Exploratory Data Analysis (EDA)\n",
    "\n",
    "Now that we have loaded the data, we are ready to start the processing and analysis of our data."
   ]
  },
  {
   "cell_type": "markdown",
   "id": "a5c5b0fb-5c65-42da-868b-7783933cc5ba",
   "metadata": {
    "tags": []
   },
   "source": [
    "### 🚩Number of searches and search clicks\n",
    "\n",
    "The most basic stat we can get from our data is the number of searches and search clicks we have. Let's find and print them:"
   ]
  },
  {
   "cell_type": "markdown",
   "id": "36a3a791-cd0a-4fb9-ad55-ba61356c5b09",
   "metadata": {},
   "source": [
    "**Write the answer below:**"
   ]
  },
  {
   "cell_type": "code",
   "execution_count": 9,
   "id": "c9e03c0b-4e03-4b4a-bca2-9446434349d7",
   "metadata": {},
   "outputs": [
    {
     "name": "stdout",
     "output_type": "stream",
     "text": [
      "there are  539289 serach logs in dataset\n",
      "there are  295692 serach click logs in dataset\n"
     ]
    }
   ],
   "source": [
    "print('there are ', SDF.id.count(), 'serach logs in dataset')\n",
    "print('there are ', CDF.id.count(), 'serach click logs in dataset')"
   ]
  },
  {
   "cell_type": "markdown",
   "id": "b8e0fe09-7a3f-4926-bf3c-4433cdc08002",
   "metadata": {},
   "source": [
    "### 🚩Number of unique search queries\n",
    "\n",
    "We can also calculate the number of unique search queries."
   ]
  },
  {
   "cell_type": "markdown",
   "id": "98e017c5-c22e-4837-a893-20066542b7ba",
   "metadata": {},
   "source": [
    "**Write the answer below:**"
   ]
  },
  {
   "cell_type": "code",
   "execution_count": 10,
   "id": "39d84e83-8a1a-4a33-9c96-bf4a8fb8ea0d",
   "metadata": {},
   "outputs": [
    {
     "name": "stdout",
     "output_type": "stream",
     "text": [
      "there are 260193 unique raw search query values in the dataset\n"
     ]
    }
   ],
   "source": [
    "print('there are', SDF['raw_query'].nunique(),'unique raw search query values in the dataset')"
   ]
  },
  {
   "cell_type": "markdown",
   "id": "6da1fe55-d215-49e6-bea4-4678cbd69449",
   "metadata": {},
   "source": [
    "### 🚩Number of unique users\n",
    "\n",
    "Another basic stat is the number of unique users who searched on Torob. We can use `user_id` column to calculate this:"
   ]
  },
  {
   "cell_type": "markdown",
   "id": "ec8679da-d9b1-46aa-ba2d-8791dfb4251c",
   "metadata": {},
   "source": [
    "**Write the answer below:**"
   ]
  },
  {
   "cell_type": "code",
   "execution_count": 11,
   "id": "abac1487-d97e-406a-84ce-30d92eee481e",
   "metadata": {},
   "outputs": [
    {
     "name": "stdout",
     "output_type": "stream",
     "text": [
      "there are 311083 unique users in the dataset\n"
     ]
    }
   ],
   "source": [
    "print('there are', SDF['user_id'].nunique(),'unique users in the dataset')"
   ]
  },
  {
   "cell_type": "markdown",
   "id": "4fcac2f9-b364-4216-9c78-7952048472f3",
   "metadata": {
    "tags": []
   },
   "source": [
    "### 🚩Most frequent search queries\n",
    "\n",
    "We would like to know which search queries are the most popular (i.e. most frequent). We can use the \"search logs\" data to find the answer. Find the top 20 most searched queries along with their number of searches:"
   ]
  },
  {
   "cell_type": "markdown",
   "id": "b8ec3e4f-3921-4875-87c3-9cf270dc6978",
   "metadata": {},
   "source": [
    "**Write the answer below:**"
   ]
  },
  {
   "cell_type": "code",
   "execution_count": 12,
   "id": "3b677ef6-9531-4fcd-b4d4-093a4db1d0b2",
   "metadata": {},
   "outputs": [
    {
     "name": "stdout",
     "output_type": "stream",
     "text": [
      "Top 20 of most popular search queries are\n"
     ]
    },
    {
     "data": {
      "text/plain": [
       "['iphone',\n",
       " 'دلار امریکا ',\n",
       " 'کفش',\n",
       " 'روغن',\n",
       " 'لپ تاپ ایسوس',\n",
       " 'دوربین عکاسی',\n",
       " 'شیر',\n",
       " 'دوچرخه 26',\n",
       " 'xbox series s',\n",
       " 'لباس عروس',\n",
       " 'گوشی',\n",
       " 'روغن موتور',\n",
       " 'ماکروویو',\n",
       " 'xiaomi 12 pro',\n",
       " 'کاغذ a4',\n",
       " 'تلویزیون',\n",
       " 'گوشی سامسونگ',\n",
       " 'دوچرخه',\n",
       " 'یخچال',\n",
       " 'روغن خوراکی']"
      ]
     },
     "execution_count": 12,
     "metadata": {},
     "output_type": "execute_result"
    }
   ],
   "source": [
    "# get top 20 most frequent names\n",
    "n = 20\n",
    "print('Top 20 of most popular search queries are')\n",
    "SDF['raw_query'].value_counts()[:n].index.tolist()\n",
    "#"
   ]
  },
  {
   "cell_type": "markdown",
   "id": "a826f78a-01a8-4d5a-a1da-524f814e6794",
   "metadata": {},
   "source": [
    "### 🚩Distribution of length of search queries\n",
    "\n",
    "We expect that the majority of search queries consist of at most three words. Let's confirm our expectation by calculating the number of words in each search query and then aggregate these values to see how the length of queries is distributed (i.e. find the distribution of number of words in search queries):"
   ]
  },
  {
   "cell_type": "markdown",
   "id": "0151cf2b-17aa-477f-8d90-c9940fa9953e",
   "metadata": {},
   "source": [
    "**Write the answer below:**  \n",
    "(Hint: for the sake of simplicity, you can assume that in each search query the words are separated from each other by one or more whitespace characters. Yes, we know this is a simplification and has errors, but it's a good approximation. Further, note that the `str` acessor in Pandas gives you a lot of good methods for processing columns of type string and list.)"
   ]
  },
  {
   "cell_type": "code",
   "execution_count": 13,
   "id": "4d86acba-45dd-45c2-8e6a-b8275cb51803",
   "metadata": {},
   "outputs": [
    {
     "data": {
      "image/png": "[encoded data removed]",
      "text/plain": [
       "<Figure size 720x576 with 1 Axes>"
      ]
     },
     "metadata": {
      "needs_background": "light"
     },
     "output_type": "display_data"
    }
   ],
   "source": [
    "Word_counts= SDF.raw_query.str.count(' ')+1\n",
    "\n",
    "plt.figure(figsize=(10,8))\n",
    "plt.hist(Word_counts, bins= max(Word_counts)-1)\n",
    "# Tamiz kari\n",
    "plt.xlabel('words in search query')\n",
    "plt.ylabel('number')\n",
    "plt.rcParams.update({'font.size': 22}) # change fontsize of axis to 22\n",
    "#"
   ]
  },
  {
   "cell_type": "markdown",
   "id": "12d23d55-81b4-4f47-a8be-25a3e5bec123",
   "metadata": {
    "tags": []
   },
   "source": [
    "### 🚩Most common words in search queries\n",
    "\n",
    "Which words were most commonly used in the search queries? Find the top 20 most common words along with their number of occurrences in search queries:"
   ]
  },
  {
   "cell_type": "markdown",
   "id": "f1184224-d79e-417e-86b4-827bf3d2e8b1",
   "metadata": {},
   "source": [
    "**Write the answer below:**  \n",
    "(Hint: split + explode!!!)"
   ]
  },
  {
   "cell_type": "code",
   "execution_count": 14,
   "id": "a154d403-9fac-4dbb-a738-1040998ee942",
   "metadata": {},
   "outputs": [
    {
     "name": "stdout",
     "output_type": "stream",
     "text": [
      "Top 20 of most popular search words are\n"
     ]
    },
    {
     "data": {
      "text/plain": [
       "['گوشی',\n",
       " 'روغن',\n",
       " 'iphone',\n",
       " 'موتور',\n",
       " 'کفش',\n",
       " 'pro',\n",
       " 'دوچرخه',\n",
       " 'سامسونگ',\n",
       " 'لباس',\n",
       " 'ماشین',\n",
       " 'پراید',\n",
       " 'ساعت',\n",
       " 'کولر',\n",
       " 'برقی',\n",
       " 'ای',\n",
       " 'تاپ',\n",
       " 'مردانه',\n",
       " 'دوربین',\n",
       " 'لپ',\n",
       " 'یخچال']"
      ]
     },
     "execution_count": 14,
     "metadata": {},
     "output_type": "execute_result"
    }
   ],
   "source": [
    "Word_List= SDF.raw_query.str.split(' ').explode() # transforming raw query to list of search query words\n",
    "Word_List= Word_List.drop(Word_List[Word_List.str.len()<1].index) # droping space rows of the list\n",
    "print('Top 20 of most popular search words are')\n",
    "Word_List.value_counts()[:n].index.tolist()"
   ]
  },
  {
   "cell_type": "markdown",
   "id": "904a3414-33b1-495e-a917-a8dced4ae7ed",
   "metadata": {
    "tags": []
   },
   "source": [
    "### 🚩Localize date and time values\n",
    "\n",
    "Currently, the date & time values in the search and search-click dataframes are stored in UTC timezone. This is a best-pratice to store timestamp values in UTC when the data is stored in databases; however, for our next time-based analyses to be more understandable, we need to convert them all to Tehran timezone.\n",
    "\n",
    "Convert and replace the `datetime` columns in both search and search-click dataframes:"
   ]
  },
  {
   "cell_type": "markdown",
   "id": "78602831-ce6e-4246-af72-35f1857fe338",
   "metadata": {},
   "source": [
    "**Write the answer below:**  \n",
    "(Hint: in Pandas, datetime columns have a `dt` accessor which offers some methods for manipulation of datetime values. Here, you should look for `tz_convert` method and use `'Asia/Tehran'` as the timezone.)"
   ]
  },
  {
   "cell_type": "code",
   "execution_count": 15,
   "id": "ef5902df",
   "metadata": {},
   "outputs": [
    {
     "data": {
      "text/html": [
       "<div>\n",
       "<style scoped>\n",
       "    .dataframe tbody tr th:only-of-type {\n",
       "        vertical-align: middle;\n",
       "    }\n",
       "\n",
       "    .dataframe tbody tr th {\n",
       "        vertical-align: top;\n",
       "    }\n",
       "\n",
       "    .dataframe thead th {\n",
       "        text-align: right;\n",
       "    }\n",
       "</style>\n",
       "<table border=\"1\" class=\"dataframe\">\n",
       "  <thead>\n",
       "    <tr style=\"text-align: right;\">\n",
       "      <th></th>\n",
       "      <th>id</th>\n",
       "      <th>raw_query</th>\n",
       "      <th>result</th>\n",
       "      <th>datetime</th>\n",
       "      <th>category_id</th>\n",
       "      <th>user_id</th>\n",
       "    </tr>\n",
       "  </thead>\n",
       "  <tbody>\n",
       "    <tr>\n",
       "      <th>0</th>\n",
       "      <td>qahft</td>\n",
       "      <td>سرویس ملامین نشکن</td>\n",
       "      <td>[7840591, 1784875, 6716428, 6135112, 7103618, ...</td>\n",
       "      <td>2022-05-16 13:17:22.701000+00:00</td>\n",
       "      <td>NaN</td>\n",
       "      <td>MPOHZ</td>\n",
       "    </tr>\n",
       "    <tr>\n",
       "      <th>1</th>\n",
       "      <td>rxcka</td>\n",
       "      <td>جارو برقی</td>\n",
       "      <td>[451703, 8801989, 8977506, 4665205, 5219768, 5...</td>\n",
       "      <td>2022-05-18 11:24:02.385000+00:00</td>\n",
       "      <td>4792.0</td>\n",
       "      <td>NZPJN</td>\n",
       "    </tr>\n",
       "    <tr>\n",
       "      <th>2</th>\n",
       "      <td>fnafq</td>\n",
       "      <td>دسته ps4</td>\n",
       "      <td>[1457782, 5150503, 5921870, 909372, 9738201, 1...</td>\n",
       "      <td>2022-05-14 19:35:31.691000+00:00</td>\n",
       "      <td>NaN</td>\n",
       "      <td>NRMQA</td>\n",
       "    </tr>\n",
       "    <tr>\n",
       "      <th>3</th>\n",
       "      <td>ofpva</td>\n",
       "      <td>کلو تریمازول</td>\n",
       "      <td>[404198, 812389, 339213, 929557, 3632184, 7764...</td>\n",
       "      <td>2022-05-14 18:20:55.328000+00:00</td>\n",
       "      <td>NaN</td>\n",
       "      <td>WRYZT</td>\n",
       "    </tr>\n",
       "    <tr>\n",
       "      <th>4</th>\n",
       "      <td>usiey</td>\n",
       "      <td>قرص فولی کوژن</td>\n",
       "      <td>[8103652, 7283604, 4030781, 4756913, 3259566, ...</td>\n",
       "      <td>2022-05-13 19:50:03.519000+00:00</td>\n",
       "      <td>3196.0</td>\n",
       "      <td>TJLWU</td>\n",
       "    </tr>\n",
       "  </tbody>\n",
       "</table>\n",
       "</div>"
      ],
      "text/plain": [
       "      id          raw_query  \\\n",
       "0  qahft  سرویس ملامین نشکن   \n",
       "1  rxcka          جارو برقی   \n",
       "2  fnafq          دسته ps4    \n",
       "3  ofpva       کلو تریمازول   \n",
       "4  usiey      قرص فولی کوژن   \n",
       "\n",
       "                                              result  \\\n",
       "0  [7840591, 1784875, 6716428, 6135112, 7103618, ...   \n",
       "1  [451703, 8801989, 8977506, 4665205, 5219768, 5...   \n",
       "2  [1457782, 5150503, 5921870, 909372, 9738201, 1...   \n",
       "3  [404198, 812389, 339213, 929557, 3632184, 7764...   \n",
       "4  [8103652, 7283604, 4030781, 4756913, 3259566, ...   \n",
       "\n",
       "                          datetime  category_id user_id  \n",
       "0 2022-05-16 13:17:22.701000+00:00          NaN   MPOHZ  \n",
       "1 2022-05-18 11:24:02.385000+00:00       4792.0   NZPJN  \n",
       "2 2022-05-14 19:35:31.691000+00:00          NaN   NRMQA  \n",
       "3 2022-05-14 18:20:55.328000+00:00          NaN   WRYZT  \n",
       "4 2022-05-13 19:50:03.519000+00:00       3196.0   TJLWU  "
      ]
     },
     "execution_count": 15,
     "metadata": {},
     "output_type": "execute_result"
    }
   ],
   "source": [
    "SDF.head()"
   ]
  },
  {
   "cell_type": "code",
   "execution_count": 16,
   "id": "30c0903a-8ff0-437c-add6-2c0f664679f2",
   "metadata": {},
   "outputs": [
    {
     "data": {
      "text/html": [
       "<div>\n",
       "<style scoped>\n",
       "    .dataframe tbody tr th:only-of-type {\n",
       "        vertical-align: middle;\n",
       "    }\n",
       "\n",
       "    .dataframe tbody tr th {\n",
       "        vertical-align: top;\n",
       "    }\n",
       "\n",
       "    .dataframe thead th {\n",
       "        text-align: right;\n",
       "    }\n",
       "</style>\n",
       "<table border=\"1\" class=\"dataframe\">\n",
       "  <thead>\n",
       "    <tr style=\"text-align: right;\">\n",
       "      <th></th>\n",
       "      <th>id</th>\n",
       "      <th>raw_query</th>\n",
       "      <th>result</th>\n",
       "      <th>datetime</th>\n",
       "      <th>category_id</th>\n",
       "      <th>user_id</th>\n",
       "    </tr>\n",
       "  </thead>\n",
       "  <tbody>\n",
       "    <tr>\n",
       "      <th>0</th>\n",
       "      <td>qahft</td>\n",
       "      <td>سرویس ملامین نشکن</td>\n",
       "      <td>[7840591, 1784875, 6716428, 6135112, 7103618, ...</td>\n",
       "      <td>2022-05-16 17:47:22.701000+04:30</td>\n",
       "      <td>NaN</td>\n",
       "      <td>MPOHZ</td>\n",
       "    </tr>\n",
       "    <tr>\n",
       "      <th>1</th>\n",
       "      <td>rxcka</td>\n",
       "      <td>جارو برقی</td>\n",
       "      <td>[451703, 8801989, 8977506, 4665205, 5219768, 5...</td>\n",
       "      <td>2022-05-18 15:54:02.385000+04:30</td>\n",
       "      <td>4792.0</td>\n",
       "      <td>NZPJN</td>\n",
       "    </tr>\n",
       "    <tr>\n",
       "      <th>2</th>\n",
       "      <td>fnafq</td>\n",
       "      <td>دسته ps4</td>\n",
       "      <td>[1457782, 5150503, 5921870, 909372, 9738201, 1...</td>\n",
       "      <td>2022-05-15 00:05:31.691000+04:30</td>\n",
       "      <td>NaN</td>\n",
       "      <td>NRMQA</td>\n",
       "    </tr>\n",
       "    <tr>\n",
       "      <th>3</th>\n",
       "      <td>ofpva</td>\n",
       "      <td>کلو تریمازول</td>\n",
       "      <td>[404198, 812389, 339213, 929557, 3632184, 7764...</td>\n",
       "      <td>2022-05-14 22:50:55.328000+04:30</td>\n",
       "      <td>NaN</td>\n",
       "      <td>WRYZT</td>\n",
       "    </tr>\n",
       "    <tr>\n",
       "      <th>4</th>\n",
       "      <td>usiey</td>\n",
       "      <td>قرص فولی کوژن</td>\n",
       "      <td>[8103652, 7283604, 4030781, 4756913, 3259566, ...</td>\n",
       "      <td>2022-05-14 00:20:03.519000+04:30</td>\n",
       "      <td>3196.0</td>\n",
       "      <td>TJLWU</td>\n",
       "    </tr>\n",
       "  </tbody>\n",
       "</table>\n",
       "</div>"
      ],
      "text/plain": [
       "      id          raw_query  \\\n",
       "0  qahft  سرویس ملامین نشکن   \n",
       "1  rxcka          جارو برقی   \n",
       "2  fnafq          دسته ps4    \n",
       "3  ofpva       کلو تریمازول   \n",
       "4  usiey      قرص فولی کوژن   \n",
       "\n",
       "                                              result  \\\n",
       "0  [7840591, 1784875, 6716428, 6135112, 7103618, ...   \n",
       "1  [451703, 8801989, 8977506, 4665205, 5219768, 5...   \n",
       "2  [1457782, 5150503, 5921870, 909372, 9738201, 1...   \n",
       "3  [404198, 812389, 339213, 929557, 3632184, 7764...   \n",
       "4  [8103652, 7283604, 4030781, 4756913, 3259566, ...   \n",
       "\n",
       "                          datetime  category_id user_id  \n",
       "0 2022-05-16 17:47:22.701000+04:30          NaN   MPOHZ  \n",
       "1 2022-05-18 15:54:02.385000+04:30       4792.0   NZPJN  \n",
       "2 2022-05-15 00:05:31.691000+04:30          NaN   NRMQA  \n",
       "3 2022-05-14 22:50:55.328000+04:30          NaN   WRYZT  \n",
       "4 2022-05-14 00:20:03.519000+04:30       3196.0   TJLWU  "
      ]
     },
     "execution_count": 16,
     "metadata": {},
     "output_type": "execute_result"
    }
   ],
   "source": [
    "SDF.datetime= SDF.datetime.dt.tz_convert('Asia/Tehran')\n",
    "SDF.head()"
   ]
  },
  {
   "cell_type": "markdown",
   "id": "42c81965-7584-41d0-9b52-640836bacf82",
   "metadata": {
    "tags": []
   },
   "source": [
    "### 🚩Number of searches and search-clicks per weekday\n",
    "\n",
    "Now that we have converted the datetime to Tehran timezone, we are interested to know how many searches and search-clicks exist per weekday (i.e. Saturday, Sunday, Monday, etc.). We expect that both of these numbers to be a bit lower on weekends (i.e. Thursday and Friday).\n",
    "\n",
    "Calculate the number of searches and search-clicks per weekday and plot both alongside each other in a single bar plot:"
   ]
  },
  {
   "cell_type": "markdown",
   "id": "88f6b2f7-a997-4088-ae50-e9163b9d5213",
   "metadata": {},
   "source": [
    "**Write the answer below:**  \n",
    "(Hint: again, you can use the methods which exist via `dt` accessor to get the weekday of datetime values. As a challenge, try to write all the calculations and plotting in just a single python statement by using method chaining... a lot!)"
   ]
  },
  {
   "cell_type": "code",
   "execution_count": 17,
   "id": "a6bbfecd-4c81-443d-bce7-a0d90e06d363",
   "metadata": {},
   "outputs": [
    {
     "name": "stdout",
     "output_type": "stream",
     "text": [
      "Search per day is as follows:\n",
      "       datetime\n",
      "index          \n",
      "0         77720\n",
      "1         79031\n",
      "2         77305\n",
      "3         74457\n",
      "4         73723\n",
      "5         80032\n",
      "6         77021\n",
      "\n",
      " click per day is as follows:\n",
      "       datetime\n",
      "index          \n",
      "0         42949\n",
      "1         42556\n",
      "2         42611\n",
      "3         41032\n",
      "4         41024\n",
      "5         43580\n",
      "6         41940\n",
      "as expected click per day and search per day drops at weekends (3-4 :thr- fri)\n"
     ]
    }
   ],
   "source": [
    "print('Search per day is as follows:')\n",
    "print((SDF['datetime'].dt.weekday).value_counts().reset_index().sort_values('index').set_index('index'))\n",
    "#         get week day   count searches per weekday         sort values \n",
    "print('\\n click per day is as follows:')\n",
    "print((CDF['datetime'].dt.weekday).value_counts().reset_index().sort_values('index').set_index('index'))\n",
    "#         get week day   count clicks per weekday         sort values \n",
    "print('as expected click per day and search per day drops at weekends (3-4 :thr- fri)')\n",
    "#"
   ]
  },
  {
   "cell_type": "markdown",
   "id": "c16dce97-ac29-44a7-8bd3-bed31ca7e5b9",
   "metadata": {
    "tags": []
   },
   "source": [
    "### 🚩Number of searches and search-clicks per hour of day\n",
    "\n",
    "Next, we would like to know which hour during the day has the most search traffic.\n",
    "\n",
    "Calculate the number of searches and search-clicks per hour and plot both alongside each other in a single bar plot (note that we are just interested in the hour regardless of the specific day; so the result should be aggregated based on hour **over all the days**):"
   ]
  },
  {
   "cell_type": "markdown",
   "id": "550e810e-9e8a-4377-a347-a2d53779c1e8",
   "metadata": {},
   "source": [
    "**Write the answer below:**  \n",
    "(Hint: again, `dt` accessor is your friend here as well!)"
   ]
  },
  {
   "cell_type": "code",
   "execution_count": 18,
   "id": "cbe17079-54c4-47c8-b46d-30a9f3227d99",
   "metadata": {},
   "outputs": [
    {
     "data": {
      "image/png": "[encoded data removed]",
      "text/plain": [
       "<Figure size 1440x720 with 1 Axes>"
      ]
     },
     "metadata": {
      "needs_background": "light"
     },
     "output_type": "display_data"
    }
   ],
   "source": [
    "df_hour=((SDF['datetime'].dt.hour).value_counts().reset_index().sort_values('index')).set_index('index').rename(columns={'datetime':'search_hour'})\n",
    "#         get week day   count searches per hour         sort values                                     rename for plot \n",
    "df_hour['click_hour']=((CDF['datetime'].dt.hour).value_counts().reset_index().sort_values('index')).set_index('index').datetime\n",
    "#         get week day   count searches per hour         sort values                        \n",
    "df_hour.plot.bar()\n",
    "plt.xlabel('hour')\n",
    "plt.ylabel('search request')\n",
    "plt.title('search request per hour')\n",
    "fig = plt.gcf()\n",
    "fig.set_size_inches(20, 10)\n",
    "#"
   ]
  },
  {
   "cell_type": "markdown",
   "id": "3a45dac8-e7bc-4f5c-a556-09f65b102f3c",
   "metadata": {
    "tags": []
   },
   "source": [
    "### 🚩Top 10 most frequent search queries per weekday\n",
    "\n",
    "Now, instead of calculating the most frequent queries over all the timeframe of the data, we would like to find the top 10 most frequent queries per weekday (note that we don't need the number of searches for each query; we are just interested in the queries themeselves)."
   ]
  },
  {
   "cell_type": "markdown",
   "id": "f553734f-9abc-42a2-805e-871e3b01d9b7",
   "metadata": {},
   "source": [
    "**Write the answer below:**  "
   ]
  },
  {
   "cell_type": "code",
   "execution_count": 19,
   "id": "af77fde1-be61-4ead-ab41-da43a5149ae9",
   "metadata": {},
   "outputs": [
    {
     "data": {
      "text/html": [
       "<div>\n",
       "<style scoped>\n",
       "    .dataframe tbody tr th:only-of-type {\n",
       "        vertical-align: middle;\n",
       "    }\n",
       "\n",
       "    .dataframe tbody tr th {\n",
       "        vertical-align: top;\n",
       "    }\n",
       "\n",
       "    .dataframe thead th {\n",
       "        text-align: right;\n",
       "    }\n",
       "</style>\n",
       "<table border=\"1\" class=\"dataframe\">\n",
       "  <thead>\n",
       "    <tr style=\"text-align: right;\">\n",
       "      <th></th>\n",
       "      <th>0</th>\n",
       "      <th>1</th>\n",
       "      <th>2</th>\n",
       "      <th>3</th>\n",
       "      <th>4</th>\n",
       "      <th>5</th>\n",
       "      <th>6</th>\n",
       "      <th>7</th>\n",
       "      <th>8</th>\n",
       "      <th>9</th>\n",
       "    </tr>\n",
       "  </thead>\n",
       "  <tbody>\n",
       "    <tr>\n",
       "      <th>Mon</th>\n",
       "      <td>iphone</td>\n",
       "      <td>دوچرخه 26</td>\n",
       "      <td>روغن</td>\n",
       "      <td>کفش</td>\n",
       "      <td>روغن موتور</td>\n",
       "      <td>لپ تاپ ایسوس</td>\n",
       "      <td>دوربین عکاسی</td>\n",
       "      <td>xbox series s</td>\n",
       "      <td>شیر</td>\n",
       "      <td>کفش زنانه</td>\n",
       "    </tr>\n",
       "    <tr>\n",
       "      <th>Thu</th>\n",
       "      <td>iphone</td>\n",
       "      <td>دلار امریکا</td>\n",
       "      <td>کفش</td>\n",
       "      <td>لباس عروس</td>\n",
       "      <td>روغن</td>\n",
       "      <td>شیر</td>\n",
       "      <td>xiaomi 12 pro</td>\n",
       "      <td>کاغذ a4</td>\n",
       "      <td>لپ تاپ ایسوس</td>\n",
       "      <td>دوربین عکاسی</td>\n",
       "    </tr>\n",
       "    <tr>\n",
       "      <th>Wed</th>\n",
       "      <td>iphone</td>\n",
       "      <td>دلار امریکا</td>\n",
       "      <td>کفش</td>\n",
       "      <td>لباس عروس</td>\n",
       "      <td>شیر</td>\n",
       "      <td>روغن</td>\n",
       "      <td>لپ تاپ ایسوس</td>\n",
       "      <td>xiaomi 12 pro</td>\n",
       "      <td>کاغذ a4</td>\n",
       "      <td>دوربین عکاسی</td>\n",
       "    </tr>\n",
       "    <tr>\n",
       "      <th>Thr</th>\n",
       "      <td>iphone</td>\n",
       "      <td>دلار امریکا</td>\n",
       "      <td>کفش</td>\n",
       "      <td>لباس عروس</td>\n",
       "      <td>شیر</td>\n",
       "      <td>روغن</td>\n",
       "      <td>لپ تاپ ایسوس</td>\n",
       "      <td>دوربین عکاسی</td>\n",
       "      <td>xiaomi 12 pro</td>\n",
       "      <td>کاغذ a4</td>\n",
       "    </tr>\n",
       "    <tr>\n",
       "      <th>Fri</th>\n",
       "      <td>iphone</td>\n",
       "      <td>دلار امریکا</td>\n",
       "      <td>کفش</td>\n",
       "      <td>لباس عروس</td>\n",
       "      <td>شیر</td>\n",
       "      <td>دوربین عکاسی</td>\n",
       "      <td>xiaomi 12 pro</td>\n",
       "      <td>لپ تاپ ایسوس</td>\n",
       "      <td>کاغذ a4</td>\n",
       "      <td>روغن</td>\n",
       "    </tr>\n",
       "    <tr>\n",
       "      <th>Sat</th>\n",
       "      <td>iphone</td>\n",
       "      <td>روغن</td>\n",
       "      <td>کفش</td>\n",
       "      <td>روغن موتور</td>\n",
       "      <td>دوچرخه 26</td>\n",
       "      <td>دوربین عکاسی</td>\n",
       "      <td>مبل</td>\n",
       "      <td>لپ تاپ ایسوس</td>\n",
       "      <td>xbox series s</td>\n",
       "      <td>کولر ابی</td>\n",
       "    </tr>\n",
       "    <tr>\n",
       "      <th>Sun</th>\n",
       "      <td>iphone</td>\n",
       "      <td>روغن خوراکی</td>\n",
       "      <td>دوچرخه 26</td>\n",
       "      <td>روغن</td>\n",
       "      <td>کفش</td>\n",
       "      <td>روغن موتور</td>\n",
       "      <td>لپ تاپ ایسوس</td>\n",
       "      <td>دوربین عکاسی</td>\n",
       "      <td>xbox series s</td>\n",
       "      <td>گوشی</td>\n",
       "    </tr>\n",
       "  </tbody>\n",
       "</table>\n",
       "</div>"
      ],
      "text/plain": [
       "          0             1          2           3           4             5  \\\n",
       "Mon  iphone     دوچرخه 26       روغن         کفش  روغن موتور  لپ تاپ ایسوس   \n",
       "Thu  iphone  دلار امریکا         کفش   لباس عروس        روغن           شیر   \n",
       "Wed  iphone  دلار امریکا         کفش   لباس عروس         شیر          روغن   \n",
       "Thr  iphone  دلار امریکا         کفش   لباس عروس         شیر          روغن   \n",
       "Fri  iphone  دلار امریکا         کفش   لباس عروس         شیر  دوربین عکاسی   \n",
       "Sat  iphone          روغن        کفش  روغن موتور   دوچرخه 26  دوربین عکاسی   \n",
       "Sun  iphone   روغن خوراکی  دوچرخه 26        روغن         کفش    روغن موتور   \n",
       "\n",
       "                 6              7              8             9  \n",
       "Mon   دوربین عکاسی  xbox series s            شیر     کفش زنانه  \n",
       "Thu  xiaomi 12 pro        کاغذ a4   لپ تاپ ایسوس  دوربین عکاسی  \n",
       "Wed   لپ تاپ ایسوس  xiaomi 12 pro        کاغذ a4  دوربین عکاسی  \n",
       "Thr   لپ تاپ ایسوس   دوربین عکاسی  xiaomi 12 pro       کاغذ a4  \n",
       "Fri  xiaomi 12 pro   لپ تاپ ایسوس        کاغذ a4          روغن  \n",
       "Sat            مبل   لپ تاپ ایسوس  xbox series s      کولر ابی  \n",
       "Sun   لپ تاپ ایسوس   دوربین عکاسی  xbox series s          گوشی  "
      ]
     },
     "execution_count": 19,
     "metadata": {},
     "output_type": "execute_result"
    }
   ],
   "source": [
    "SDF['weekday']= SDF.datetime.dt.weekday\n",
    "n=10\n",
    "\n",
    "top_n_query= np.reshape(SDF.groupby(['weekday'])['raw_query'].value_counts().groupby(level=0).nlargest(n).index.get_level_values(2),(7,n))\n",
    "#reshape values to Weekday and top 10 , Groupby and count                                     get top 10 search count indexes\n",
    "pd.DataFrame(top_n_query, columns= range(0,n), index= ['Mon', 'Thu', 'Wed', 'Thr', 'Fri', 'Sat', 'Sun'])\n",
    "#"
   ]
  },
  {
   "cell_type": "markdown",
   "id": "3a33b8ac-ecf5-4b6d-9987-24f12dfcd38a",
   "metadata": {
    "tags": []
   },
   "source": [
    "### 🚩Number of searches per user\n",
    "\n",
    "Next, we would like to know how many of the searches are done by our regular visitors or loyal users.\n",
    "\n",
    "Calculate the number of searches per user such that we could know the number of users with at most 3 searches, between 4 and 9 searches, and at least 10 searches."
   ]
  },
  {
   "cell_type": "markdown",
   "id": "d20eef5c-667f-4e6e-9373-8270616cab9e",
   "metadata": {},
   "source": [
    "**Write the answer below:**  "
   ]
  },
  {
   "cell_type": "code",
   "execution_count": 20,
   "id": "310135a3-525d-4d91-948c-a3fc9d0d2465",
   "metadata": {},
   "outputs": [
    {
     "data": {
      "text/html": [
       "<div>\n",
       "<style scoped>\n",
       "    .dataframe tbody tr th:only-of-type {\n",
       "        vertical-align: middle;\n",
       "    }\n",
       "\n",
       "    .dataframe tbody tr th {\n",
       "        vertical-align: top;\n",
       "    }\n",
       "\n",
       "    .dataframe thead th {\n",
       "        text-align: right;\n",
       "    }\n",
       "</style>\n",
       "<table border=\"1\" class=\"dataframe\">\n",
       "  <thead>\n",
       "    <tr style=\"text-align: right;\">\n",
       "      <th></th>\n",
       "      <th>search_per_user</th>\n",
       "    </tr>\n",
       "    <tr>\n",
       "      <th>cond</th>\n",
       "      <th></th>\n",
       "    </tr>\n",
       "  </thead>\n",
       "  <tbody>\n",
       "    <tr>\n",
       "      <th>4&lt; &lt;10</th>\n",
       "      <td>22223</td>\n",
       "    </tr>\n",
       "    <tr>\n",
       "      <th>&lt;3</th>\n",
       "      <td>287049</td>\n",
       "    </tr>\n",
       "    <tr>\n",
       "      <th>&gt;10</th>\n",
       "      <td>1811</td>\n",
       "    </tr>\n",
       "  </tbody>\n",
       "</table>\n",
       "</div>"
      ],
      "text/plain": [
       "        search_per_user\n",
       "cond                   \n",
       "4< <10            22223\n",
       "<3               287049\n",
       ">10                1811"
      ]
     },
     "execution_count": 20,
     "metadata": {},
     "output_type": "execute_result"
    }
   ],
   "source": [
    "SDF.head()\n",
    "Idcount= SDF.user_id.value_counts().to_frame('search_per_user')\n",
    "Idcount['cond']= np.logical_and(Idcount>3,Idcount<10 ) *1 + (Idcount >10)*2\n",
    "Idcount['cond'].replace([2,1,0],['>10','4< <10' ,'<3'],inplace= True);\n",
    "Idcount.groupby(['cond']).count()\n",
    "#"
   ]
  },
  {
   "cell_type": "code",
   "execution_count": 33,
   "id": "8733baa1",
   "metadata": {},
   "outputs": [
    {
     "data": {
      "text/html": [
       "<div>\n",
       "<style scoped>\n",
       "    .dataframe tbody tr th:only-of-type {\n",
       "        vertical-align: middle;\n",
       "    }\n",
       "\n",
       "    .dataframe tbody tr th {\n",
       "        vertical-align: top;\n",
       "    }\n",
       "\n",
       "    .dataframe thead th {\n",
       "        text-align: right;\n",
       "    }\n",
       "</style>\n",
       "<table border=\"1\" class=\"dataframe\">\n",
       "  <thead>\n",
       "    <tr style=\"text-align: right;\">\n",
       "      <th></th>\n",
       "      <th>id</th>\n",
       "      <th>raw_query</th>\n",
       "      <th>result</th>\n",
       "      <th>datetime</th>\n",
       "      <th>category_id</th>\n",
       "      <th>user_id</th>\n",
       "      <th>weekday</th>\n",
       "      <th>result_size</th>\n",
       "    </tr>\n",
       "  </thead>\n",
       "  <tbody>\n",
       "    <tr>\n",
       "      <th>4546</th>\n",
       "      <td>djmvy</td>\n",
       "      <td>hq 282</td>\n",
       "      <td>[4850472, 8733550, 4498860, 3442734, 7169745, ...</td>\n",
       "      <td>2022-05-16 15:39:56.685000+04:30</td>\n",
       "      <td>NaN</td>\n",
       "      <td>NDQAS</td>\n",
       "      <td>0</td>\n",
       "      <td>10</td>\n",
       "    </tr>\n",
       "    <tr>\n",
       "      <th>5285</th>\n",
       "      <td>szlag</td>\n",
       "      <td>v 256</td>\n",
       "      <td>[1106998, 4193441, 8162505, 3341893, 5562767, ...</td>\n",
       "      <td>2022-05-16 11:32:32.809000+04:30</td>\n",
       "      <td>NaN</td>\n",
       "      <td>NDQAS</td>\n",
       "      <td>0</td>\n",
       "      <td>10</td>\n",
       "    </tr>\n",
       "    <tr>\n",
       "      <th>7695</th>\n",
       "      <td>dkqmy</td>\n",
       "      <td>v 168</td>\n",
       "      <td>[2341040, 4623263, 3783227, 835874, 6685996, 2...</td>\n",
       "      <td>2022-05-20 15:19:54.046000+04:30</td>\n",
       "      <td>NaN</td>\n",
       "      <td>NDQAS</td>\n",
       "      <td>4</td>\n",
       "      <td>10</td>\n",
       "    </tr>\n",
       "    <tr>\n",
       "      <th>9547</th>\n",
       "      <td>pwgye</td>\n",
       "      <td>dsp 90325</td>\n",
       "      <td>[8994576, 8163096, 212121, 2578518, 4314093, 7...</td>\n",
       "      <td>2022-05-15 14:25:23.604000+04:30</td>\n",
       "      <td>NaN</td>\n",
       "      <td>NDQAS</td>\n",
       "      <td>6</td>\n",
       "      <td>10</td>\n",
       "    </tr>\n",
       "    <tr>\n",
       "      <th>11667</th>\n",
       "      <td>yeeel</td>\n",
       "      <td>km i32s</td>\n",
       "      <td>[9108504, 4658519, 6466760, 6583539, 2562721, ...</td>\n",
       "      <td>2022-05-15 21:12:52.472000+04:30</td>\n",
       "      <td>NaN</td>\n",
       "      <td>NDQAS</td>\n",
       "      <td>6</td>\n",
       "      <td>10</td>\n",
       "    </tr>\n",
       "    <tr>\n",
       "      <th>...</th>\n",
       "      <td>...</td>\n",
       "      <td>...</td>\n",
       "      <td>...</td>\n",
       "      <td>...</td>\n",
       "      <td>...</td>\n",
       "      <td>...</td>\n",
       "      <td>...</td>\n",
       "      <td>...</td>\n",
       "    </tr>\n",
       "    <tr>\n",
       "      <th>534134</th>\n",
       "      <td>witcu</td>\n",
       "      <td>v 076</td>\n",
       "      <td>[5212427, 9829932, 11589, 1815806, 3371748, 99...</td>\n",
       "      <td>2022-05-15 11:45:13.393000+04:30</td>\n",
       "      <td>NaN</td>\n",
       "      <td>NDQAS</td>\n",
       "      <td>6</td>\n",
       "      <td>10</td>\n",
       "    </tr>\n",
       "    <tr>\n",
       "      <th>537489</th>\n",
       "      <td>hxprr</td>\n",
       "      <td>km 1753</td>\n",
       "      <td>[3258118, 7329489, 6248091, 6667402, 1124448, ...</td>\n",
       "      <td>2022-05-18 11:37:11.203000+04:30</td>\n",
       "      <td>NaN</td>\n",
       "      <td>NDQAS</td>\n",
       "      <td>2</td>\n",
       "      <td>10</td>\n",
       "    </tr>\n",
       "    <tr>\n",
       "      <th>537934</th>\n",
       "      <td>bcupe</td>\n",
       "      <td>hq 2217</td>\n",
       "      <td>[7575587, 9385946, 6421355, 8733550, 6035065, ...</td>\n",
       "      <td>2022-05-17 15:53:02.645000+04:30</td>\n",
       "      <td>NaN</td>\n",
       "      <td>NDQAS</td>\n",
       "      <td>1</td>\n",
       "      <td>10</td>\n",
       "    </tr>\n",
       "    <tr>\n",
       "      <th>538572</th>\n",
       "      <td>ugeas</td>\n",
       "      <td>hq 282</td>\n",
       "      <td>[4850472, 8733550, 3442734, 4498860, 7169745, ...</td>\n",
       "      <td>2022-05-15 13:11:43.912000+04:30</td>\n",
       "      <td>NaN</td>\n",
       "      <td>NDQAS</td>\n",
       "      <td>6</td>\n",
       "      <td>10</td>\n",
       "    </tr>\n",
       "    <tr>\n",
       "      <th>539203</th>\n",
       "      <td>yhopm</td>\n",
       "      <td>v 020</td>\n",
       "      <td>[8836037, 8422479, 5473612, 3698860, 9148472, ...</td>\n",
       "      <td>2022-05-15 12:41:54.345000+04:30</td>\n",
       "      <td>NaN</td>\n",
       "      <td>NDQAS</td>\n",
       "      <td>6</td>\n",
       "      <td>10</td>\n",
       "    </tr>\n",
       "  </tbody>\n",
       "</table>\n",
       "<p>407 rows × 8 columns</p>\n",
       "</div>"
      ],
      "text/plain": [
       "           id  raw_query                                             result  \\\n",
       "4546    djmvy     hq 282  [4850472, 8733550, 4498860, 3442734, 7169745, ...   \n",
       "5285    szlag      v 256  [1106998, 4193441, 8162505, 3341893, 5562767, ...   \n",
       "7695    dkqmy      v 168  [2341040, 4623263, 3783227, 835874, 6685996, 2...   \n",
       "9547    pwgye  dsp 90325  [8994576, 8163096, 212121, 2578518, 4314093, 7...   \n",
       "11667   yeeel    km i32s  [9108504, 4658519, 6466760, 6583539, 2562721, ...   \n",
       "...       ...        ...                                                ...   \n",
       "534134  witcu      v 076  [5212427, 9829932, 11589, 1815806, 3371748, 99...   \n",
       "537489  hxprr    km 1753  [3258118, 7329489, 6248091, 6667402, 1124448, ...   \n",
       "537934  bcupe    hq 2217  [7575587, 9385946, 6421355, 8733550, 6035065, ...   \n",
       "538572  ugeas     hq 282  [4850472, 8733550, 3442734, 4498860, 7169745, ...   \n",
       "539203  yhopm      v 020  [8836037, 8422479, 5473612, 3698860, 9148472, ...   \n",
       "\n",
       "                               datetime  category_id user_id  weekday  \\\n",
       "4546   2022-05-16 15:39:56.685000+04:30          NaN   NDQAS        0   \n",
       "5285   2022-05-16 11:32:32.809000+04:30          NaN   NDQAS        0   \n",
       "7695   2022-05-20 15:19:54.046000+04:30          NaN   NDQAS        4   \n",
       "9547   2022-05-15 14:25:23.604000+04:30          NaN   NDQAS        6   \n",
       "11667  2022-05-15 21:12:52.472000+04:30          NaN   NDQAS        6   \n",
       "...                                 ...          ...     ...      ...   \n",
       "534134 2022-05-15 11:45:13.393000+04:30          NaN   NDQAS        6   \n",
       "537489 2022-05-18 11:37:11.203000+04:30          NaN   NDQAS        2   \n",
       "537934 2022-05-17 15:53:02.645000+04:30          NaN   NDQAS        1   \n",
       "538572 2022-05-15 13:11:43.912000+04:30          NaN   NDQAS        6   \n",
       "539203 2022-05-15 12:41:54.345000+04:30          NaN   NDQAS        6   \n",
       "\n",
       "        result_size  \n",
       "4546             10  \n",
       "5285             10  \n",
       "7695             10  \n",
       "9547             10  \n",
       "11667            10  \n",
       "...             ...  \n",
       "534134           10  \n",
       "537489           10  \n",
       "537934           10  \n",
       "538572           10  \n",
       "539203           10  \n",
       "\n",
       "[407 rows x 8 columns]"
      ]
     },
     "execution_count": 33,
     "metadata": {},
     "output_type": "execute_result"
    }
   ],
   "source": [
    "SDF[SDF.user_id== 'NDQAS']"
   ]
  },
  {
   "cell_type": "markdown",
   "id": "44c7bc72-c66a-4db4-b7a4-2a7a9ee0bc29",
   "metadata": {
    "tags": []
   },
   "source": [
    "### 🚩Number of searches with or without a category\n",
    "\n",
    "For some of the searches, a product category is also selected by the user which limits the search results to only the products in the selected category. We would like to find the number of these searches and compare it against searches without category.\n",
    "\n",
    "Calculate the number of searches with and without a selected category by users:"
   ]
  },
  {
   "cell_type": "markdown",
   "id": "62c996fd-2b22-41f8-af39-79428d19de2d",
   "metadata": {},
   "source": [
    "**Write the answer below:**  \n",
    "(Hint: if `category_id` is `NaN` for a search record, it means that search was performed without selecting a category; and consider that Pandas is very NA-friendly and also has methods for detecting `NaN` values.)"
   ]
  },
  {
   "cell_type": "code",
   "execution_count": 21,
   "id": "55323439-31fc-494a-b4d7-78d17b220af0",
   "metadata": {},
   "outputs": [
    {
     "name": "stdout",
     "output_type": "stream",
     "text": [
      "searches with no category are 410049 compared to searches with category 129240\n"
     ]
    }
   ],
   "source": [
    "print('searches with no category are', SDF.category_id.isna().sum(),'compared to searches with category', SDF.category_id.notna().sum())"
   ]
  },
  {
   "cell_type": "markdown",
   "id": "123f587a-31ef-4218-aa44-e060e8b7b84f",
   "metadata": {
    "tags": []
   },
   "source": [
    "### 🚩Most frequent search queries among searches with a category\n",
    "\n",
    "This is the same as the earlier exercise for finding the most frequent search queries, but it only consider searches with a selected category by user.\n",
    "\n",
    "Find the top 10 most frequent search queries among searches with a category, along with their number of searches:"
   ]
  },
  {
   "cell_type": "markdown",
   "id": "7440e672-e96f-4321-b323-b257807e1f7f",
   "metadata": {},
   "source": [
    "**Write the answer below:**  "
   ]
  },
  {
   "cell_type": "code",
   "execution_count": 37,
   "id": "16bf56a4-d017-4a6a-bdbb-7887b7b281fa",
   "metadata": {},
   "outputs": [
    {
     "data": {
      "text/plain": [
       "['روغن',\n",
       " 'گوشی',\n",
       " 'تلویزیون',\n",
       " 'یخچال',\n",
       " 'موتور',\n",
       " 'دوچرخه',\n",
       " 'کولر',\n",
       " 'ps5',\n",
       " 'شیایومی',\n",
       " 'هارد']"
      ]
     },
     "execution_count": 37,
     "metadata": {},
     "output_type": "execute_result"
    }
   ],
   "source": [
    "n=10\n",
    "SDF[SDF.category_id.notna()].raw_query.value_counts()[:n].index.tolist()"
   ]
  },
  {
   "cell_type": "markdown",
   "id": "43c7a24a-84d9-4aa4-9fa5-01e027261f68",
   "metadata": {
    "tags": []
   },
   "source": [
    "### 🚩Distribution of search clicks over different ranks\n",
    "\n",
    "Is it more likely that the users click on the top search results instead of the lower ranked results? To find out, we need to compute the distribution of search-clicks over different ranks (i.e. number of search-clicks per rank of the clicked product in the search result).\n",
    "\n",
    "Plot the distribution of number of search-clicks over different ranks using a bar plot:"
   ]
  },
  {
   "cell_type": "markdown",
   "id": "915c9895-cd19-4caf-9c16-9d167056e5ec",
   "metadata": {},
   "source": [
    "**Write the answer below:**  "
   ]
  },
  {
   "cell_type": "code",
   "execution_count": 23,
   "id": "54e876bc-82a2-4533-a95e-c17ceabb1529",
   "metadata": {},
   "outputs": [
    {
     "data": {
      "text/plain": [
       "<AxesSubplot:xlabel='rank'>"
      ]
     },
     "execution_count": 23,
     "metadata": {},
     "output_type": "execute_result"
    },
    {
     "data": {
      "image/png": "[encoded data removed]",
      "text/plain": [
       "<Figure size 432x288 with 1 Axes>"
      ]
     },
     "metadata": {
      "needs_background": "light"
     },
     "output_type": "display_data"
    }
   ],
   "source": [
    "CDF.groupby(\"rank\").count().id.plot.bar()"
   ]
  },
  {
   "cell_type": "markdown",
   "id": "003e752f-9213-4c8c-8d91-726d24ce7c3b",
   "metadata": {
    "tags": []
   },
   "source": [
    "### 🚩Number of searches per number of search results\n",
    "\n",
    "How many of the searches have zero search result? How many of them have only 1 or 2 results? To find out, we can compute the distribution of number of searches per number of search-results.\n",
    "\n",
    "Calculate the full distribution of number of searches per number of search results:"
   ]
  },
  {
   "cell_type": "markdown",
   "id": "5f7c38cc-3f04-4465-ab0c-348edce777c8",
   "metadata": {},
   "source": [
    "**Write the answer below:**  "
   ]
  },
  {
   "cell_type": "code",
   "execution_count": 24,
   "id": "8be7bedf-9dd7-4864-a990-2dd95a2bf8d6",
   "metadata": {},
   "outputs": [
    {
     "name": "stdout",
     "output_type": "stream",
     "text": [
      "distriution of search reulsts is as follows:\n"
     ]
    },
    {
     "data": {
      "text/plain": [
       "0       7938\n",
       "1       2142\n",
       "2       1606\n",
       "3       1245\n",
       "4       1025\n",
       "5        855\n",
       "6        868\n",
       "7        763\n",
       "8        791\n",
       "9        659\n",
       "10    521397\n",
       "Name: result_size, dtype: int64"
      ]
     },
     "execution_count": 24,
     "metadata": {},
     "output_type": "execute_result"
    }
   ],
   "source": [
    "SDF['result_size']= (SDF.result.str.len())\n",
    "print('distriution of search reulsts is as follows:')\n",
    "SDF.result_size.value_counts().sort_index()\n",
    "#"
   ]
  },
  {
   "cell_type": "markdown",
   "id": "c21cb978-c189-4ba5-95b6-77274f6fefa1",
   "metadata": {
    "tags": []
   },
   "source": [
    "### 🚩Most searched categories\n",
    "\n",
    "Find the categories with the most of number of searches. We would like to know the ID of the categories as well as their **title**."
   ]
  },
  {
   "cell_type": "markdown",
   "id": "19318de6-3a29-4436-9fe9-bb47a9b7683c",
   "metadata": {},
   "source": [
    "**Write the answer below:**  \n",
    "(Hint: we can calculate the ID of most searched categories from \"search logs\" dataframe, but to find their title we should also use the \"categories\" dataframe; hence you probably need to perform a \"join\"/\"merge\" operation to combine the information from two dataframes.)"
   ]
  },
  {
   "cell_type": "code",
   "execution_count": 25,
   "id": "41bc6332-e7ec-4fc7-9dcb-e3c42614ff10",
   "metadata": {},
   "outputs": [
    {
     "name": "stdout",
     "output_type": "stream",
     "text": [
      "top 10 of most saerched categories are as follows:\n"
     ]
    },
    {
     "data": {
      "text/plain": [
       "['گوشی موبایل',\n",
       " 'روغن خوراکی',\n",
       " 'لپ تاپ و نوت بوک',\n",
       " 'هدفون، هدست و هندزفری',\n",
       " 'کارت گرافیک',\n",
       " 'تلویزیون',\n",
       " 'کیف و کاور گوشی',\n",
       " 'لوازم تزئینی خودرو',\n",
       " 'کولر گازی',\n",
       " 'موتور سیکلت']"
      ]
     },
     "execution_count": 25,
     "metadata": {},
     "output_type": "execute_result"
    }
   ],
   "source": [
    "MGSDF= pd.merge( \n",
    "    SDF,\n",
    "    GDF,\n",
    "    left_on=\"category_id\",\n",
    "    right_on=\"id\",\n",
    ")\n",
    "print('top 10 of most saerched categories are as follows:')\n",
    "MGSDF[MGSDF.category_id.notna()].title.value_counts()[:n].index.tolist()"
   ]
  },
  {
   "cell_type": "markdown",
   "id": "1e2c3d99-6129-442f-83e8-a617573fba0a",
   "metadata": {
    "tags": []
   },
   "source": [
    "### 🚩Number of clicks per searches\n",
    "\n",
    "We would like to know how many of the searches have gotten no clicks, or how many of them have gotten more than one clicks. To find out, we should compute the distribution of number of clicks per searches:"
   ]
  },
  {
   "cell_type": "markdown",
   "id": "24285ec6-acd2-44d0-ac0a-f7d1798f038e",
   "metadata": {},
   "source": [
    "**Write the answer below:**  \n",
    "(Hint: the search data and search-click data are in two different dataframes. So again we may need to perform a join/merge operation)."
   ]
  },
  {
   "cell_type": "code",
   "execution_count": 38,
   "id": "2afb8155-28d5-4778-8749-c97b6da0f7f3",
   "metadata": {},
   "outputs": [
    {
     "data": {
      "text/plain": [
       "Text(0.5, 0, 'clicks per search')"
      ]
     },
     "execution_count": 38,
     "metadata": {},
     "output_type": "execute_result"
    },
    {
     "data": {
      "image/png": "[encoded data removed]",
      "text/plain": [
       "<Figure size 432x288 with 1 Axes>"
      ]
     },
     "metadata": {
      "needs_background": "light"
     },
     "output_type": "display_data"
    }
   ],
   "source": [
    "MCSDF= pd.merge( \n",
    "    SDF,\n",
    "    CDF,\n",
    "    left_on=\"id\",\n",
    "    right_on=\"search_id\",\n",
    "    how='left'\n",
    ")\n",
    "MCSDF['isclicked']= MCSDF.id_y.notna()\n",
    "click_per_serach= (MCSDF.groupby(['id_x']).isclicked.sum())\n",
    "plt.hist(click_per_serach, bins=range(0,34) )\n",
    "plt.yscale('log') #loghartmic scale\n",
    "plt.xlabel('clicks per search')\n",
    "#"
   ]
  },
  {
   "cell_type": "markdown",
   "id": "b2bf91c4-e1cb-46dd-9390-0a97bf4aeeaa",
   "metadata": {
    "tags": []
   },
   "source": [
    "### 🚩Most clicked products\n",
    "\n",
    "We are interested to know which product are the most popular. For that, we can count the clicks of each product and consider the most clicked products as the most popular ones. So let's find the top 20 most clicked products (we would like to know the ID, title and number of clicks for those products):"
   ]
  },
  {
   "cell_type": "markdown",
   "id": "12378660-3414-4128-9c65-4f539d0cf6ca",
   "metadata": {},
   "source": [
    "**Write the answer below:**  \n",
    "(Hint: here we also need to combine information from multiple dataframes; to find the ID of clicked products, we need to consider both of \"search logs\" and \"search clicks\" dataframes, and for finding product info we additionally need the \"products\" dataframe.)"
   ]
  },
  {
   "cell_type": "code",
   "execution_count": 27,
   "id": "3c412aaf-6952-42cf-b1d6-2dfcfaab8746",
   "metadata": {},
   "outputs": [],
   "source": [
    "MCSDF= pd.merge( \n",
    "    CDF,\n",
    "    SDF,\n",
    "    left_on=\"search_id\",\n",
    "    right_on=\"id\",\n",
    ")\n",
    "pid= np.zeros(len(MCSDF))\n",
    "for i in range(len(MCSDF)):\n",
    "    pid[i]=MCSDF.result.values[i][MCSDF['rank'].values[i]]"
   ]
  },
  {
   "cell_type": "code",
   "execution_count": 28,
   "id": "57718779",
   "metadata": {},
   "outputs": [
    {
     "data": {
      "text/plain": [
       "['گوشی اپل iPhone 13 Pro max (Not Active) | حافظه 256 گیگابایت',\n",
       " 'گوشی شیائومی Redmi Note 11 | حافظه 128 رم 6 گیگابایت',\n",
       " 'روغن نیمه جامد غنجه 4کیلویی',\n",
       " 'گوشی سامسونگ A32  | حافظه 128 رم 6 گیگابایت',\n",
       " 'روغن آفتابگردان غنی شده با ویتامین دی810 گرم اویلا',\n",
       " 'روغن نیمه جامد حاوی امگا3 مناسب پخت و پز لادن - 5 کیلوگرم',\n",
       " ' گوشی سامسونگ S21 FE 5G | حافظه 256 رم 8 گیگابایت ',\n",
       " 'گوشی شیائومی 11T Pro 5G | حافظه 256 رم 12 گیگابایت',\n",
       " 'گوشی شیائومی Poco F3 5G | حافظه 256 رم 8 گیگابایت',\n",
       " 'گوشی سامسونگ A13 | حافظه 64 رم 4 گیگابایت',\n",
       " 'گوشی اپل (استوک) iPhone 11 Pro | حافظه 256 گیگابایت',\n",
       " 'گوشی سامسونگ S22 Ultra 5G | حافظه 256 رم 12 گیگابایت',\n",
       " 'گوشی سامسونگ A12 Nacho | حافظه 64 رم 4 گیگابایت',\n",
       " 'گوشی شیائومی Redmi Note 11 Pro | حافظه 128 رم 8 گیگابایت',\n",
       " 'گوشی سامسونگ A52 | حافظه 128 رم 8 گیگابایت',\n",
       " 'کنسول بازی مایکروسافت Xbox Series S | حافظه 512 گیگابایت',\n",
       " 'گوشی اپل (استوک) iPhone 11 | حافظه 128 گیگابایت',\n",
       " 'گوشی شیائومی POCO X3 Pro | حافظه 256 رم 8 گیگابایت',\n",
       " 'گوشی سامسونگ A52s 5G | حافظه 128 رم 8 گیگابایت',\n",
       " 'کنسول بازی سونی PlayStation 5 استاندارد']"
      ]
     },
     "execution_count": 28,
     "metadata": {},
     "output_type": "execute_result"
    }
   ],
   "source": [
    "MCSDF['product_id']= pid\n",
    "MCSPDF=  pd.merge( \n",
    "    MCSDF,\n",
    "    PDF,\n",
    "    left_on=\"product_id\",\n",
    "    right_on=\"id\",\n",
    ")\n",
    "n=20\n",
    "MCSPDF.title.value_counts()[:n].index.tolist()"
   ]
  },
  {
   "cell_type": "markdown",
   "id": "2fd84446-488e-452a-b557-94754b50709c",
   "metadata": {
    "tags": []
   },
   "source": [
    "### 🚩Most clicked categories\n",
    "\n",
    "And finally, we would like to know which categories of the products have the most clicks. In other words, we would like to find out products of which categories have gotten the most clicks in total. Let's find the top 10 most clicked categories, including the ID and title of the categories as well as the total number of clicks for each of those categories:"
   ]
  },
  {
   "cell_type": "markdown",
   "id": "3a52f2dc-f667-49d5-aaff-d63d21b44476",
   "metadata": {},
   "source": [
    "**Write the answer below:**  \n",
    "(Hint: again, to calculate this, we need to combine the information of multiple dataframes... actually, all of them!)"
   ]
  },
  {
   "cell_type": "code",
   "execution_count": 29,
   "id": "6bdb730a-76d4-4357-a6fe-33200b4390dd",
   "metadata": {},
   "outputs": [
    {
     "data": {
      "text/plain": [
       "['گوشی موبایل',\n",
       " 'روغن خوراکی',\n",
       " 'هدفون، هدست و هندزفری',\n",
       " 'لپ تاپ و نوت بوک',\n",
       " 'تلویزیون',\n",
       " 'کیف و کاور گوشی',\n",
       " 'کارت گرافیک',\n",
       " 'ساعت و مچ بند هوشمند',\n",
       " 'کتاب و مجلات',\n",
       " 'ماشین اصلاح و ریش\\u200c تراش',\n",
       " 'اسپرسو ساز',\n",
       " 'اسپیکر و سیستم صوتی',\n",
       " 'دوچرخه شهری سایز 26 و بالاتر',\n",
       " 'کولر گازی',\n",
       " 'دریل و پیچ گوشتی برقی و شارژی',\n",
       " 'ساعت مچی عقربه\\u200c ای و دیجیتالی',\n",
       " 'تبلت',\n",
       " 'فکری، پازل و لگو',\n",
       " 'دوربین عکاسی و فیلمبرداری',\n",
       " 'کنسول بازی Xbox']"
      ]
     },
     "execution_count": 29,
     "metadata": {},
     "output_type": "execute_result"
    }
   ],
   "source": [
    "MCSPGDF=  pd.merge( \n",
    "    MCSPDF,\n",
    "    GDF,\n",
    "    left_on=\"category_id_y\",\n",
    "    right_on=\"id\",\n",
    "    suffixes=('_M','_G')\n",
    ")\n",
    "    # to avoid same name ids\n",
    "\n",
    "MCSPGDF.title_G.value_counts()[:n].index.tolist()"
   ]
  }
 ],
 "metadata": {
  "kernelspec": {
   "display_name": "Python 3 (ipykernel)",
   "language": "python",
   "name": "python3"
  },
  "language_info": {
   "codemirror_mode": {
    "name": "ipython",
    "version": 3
   },
   "file_extension": ".py",
   "mimetype": "text/x-python",
   "name": "python",
   "nbconvert_exporter": "python",
   "pygments_lexer": "ipython3",
   "version": "3.9.7"
  }
 },
 "nbformat": 4,
 "nbformat_minor": 5
}
