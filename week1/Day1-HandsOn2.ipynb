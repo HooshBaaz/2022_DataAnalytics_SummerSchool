{
 "cells": [
  {
   "cell_type": "markdown",
   "id": "5934db74-8dec-4632-b79d-f3fa27538c61",
   "metadata": {},
   "source": [
    "\n",
    "<img src=\"../assets/logo3.png\" width=\"200\" height=\"200\" >\n",
    "<div style=\"display:block\"><br><br>\n",
    "    <div style=\"display:block\" align=left display=block> \n",
    "        <font size=5><b>Day 1 Hands-On 2 - Python Basics 2</b></font><br>\n",
    "        <hr/>\n",
    "</div>\n"
   ]
  },
  {
   "cell_type": "markdown",
   "id": "9fd23a03-33df-4962-9e9f-134aa20ae9cb",
   "metadata": {},
   "source": [
    "#### 1- Given the list of all 2-digit numbers, calculate the mean and standard deviation of all numbers in this list."
   ]
  },
  {
   "cell_type": "code",
   "execution_count": null,
   "id": "87d9eba2",
   "metadata": {},
   "outputs": [],
   "source": [
    "'''Enter your code here'''"
   ]
  },
  {
   "cell_type": "markdown",
   "id": "c8972597-736a-4718-a903-64d230f83390",
   "metadata": {},
   "source": [
    "#### 2- write a code to print all possible permutations of length n.\n",
    "\n",
    "For example, given n=3, we have 6 permutations: [1,2,3],[1,3,2],[2,1,3],[2,3,1],[3,1,2],[3,2,1]"
   ]
  },
  {
   "cell_type": "code",
   "execution_count": null,
   "id": "34cc1708",
   "metadata": {},
   "outputs": [],
   "source": [
    "'''Enter your code here'''"
   ]
  },
  {
   "cell_type": "markdown",
   "id": "67efed32-f7e4-4e5c-9cf4-05135f46bb3e",
   "metadata": {},
   "source": [
    "#### 3- given a long text, count the number of occurences of all words in the text in a python dictionary."
   ]
  },
  {
   "cell_type": "code",
   "execution_count": null,
   "id": "8328f1e6-6b21-4453-a494-dc5f021827a9",
   "metadata": {},
   "outputs": [],
   "source": [
    "'''Enter your code here'''"
   ]
  },
  {
   "cell_type": "markdown",
   "id": "164819ed-0558-49c4-bd5c-50bac8a00c84",
   "metadata": {},
   "source": [
    "#### 4- A directed graph is given with dictionary d. Count how many separate cycles there are in this graph\n"
   ]
  },
  {
   "cell_type": "code",
   "execution_count": 29,
   "id": "41b1d7f4",
   "metadata": {},
   "outputs": [
    {
     "name": "stdout",
     "output_type": "stream",
     "text": [
      "{0: 2, 1: 8, 2: 4, 3: 9, 4: 1, 5: 6, 6: 7, 7: 3, 8: 0, 9: 5}\n"
     ]
    }
   ],
   "source": [
    "import numpy as np\n",
    "np.random.seed(0)\n",
    "n=10\n",
    "perm=np.random.permutation(10)\n",
    "d={i:perm[i] for i in range(n)}\n",
    "print(d)"
   ]
  },
  {
   "cell_type": "code",
   "execution_count": null,
   "id": "758bd70c-2d5a-48ae-b222-ebca99c4a6b6",
   "metadata": {},
   "outputs": [],
   "source": [
    "'''Enter your code here'''"
   ]
  }
 ],
 "metadata": {
  "kernelspec": {
   "display_name": "Python 3 (ipykernel)",
   "language": "python",
   "name": "python3"
  },
  "language_info": {
   "codemirror_mode": {
    "name": "ipython",
    "version": 3
   },
   "file_extension": ".py",
   "mimetype": "text/x-python",
   "name": "python",
   "nbconvert_exporter": "python",
   "pygments_lexer": "ipython3",
   "version": "3.8.12"
  }
 },
 "nbformat": 4,
 "nbformat_minor": 5
}
