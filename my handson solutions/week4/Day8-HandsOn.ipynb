{
 "cells": [
  {
   "cell_type": "markdown",
   "metadata": {
    "id": "GonyFIkHM2sL"
   },
   "source": [
    "<img src=\"../assets/logo3.png\" width=\"200\" height=\"200\" >\n",
    "\n",
    "<div style=\"display:block\"><br><br>\n",
    "    <div style=\"display:block\" align=left display=block> \n",
    "        <font size=5><b>Day8 - HandsOn - Introduction to Neural Networks with Keras</b></font><br>\n",
    "        <hr/>\n",
    "\n",
    "</div>\n",
    "\n",
    "<pre>\n",
    ".\n",
    "├── Keras\n",
    "│\n",
    "├── Perceptron\n",
    "│\n",
    "├── Multi-layer Perceptron\n",
    "│\n",
    "├── Neural Networks\n",
    "│ \n",
    "├── <b>Task:</b> Tensorflow Playground\n",
    "│ \n",
    "├── <b>Task:</b> Building an Image classifier with Keras\n",
    "│\n",
    "├── <b>Task:</b> Regression with MLP\n",
    "│\n",
    "├── <b>Task:</b> Saving and Loading models\n",
    "│\n",
    "└── <b>Task:</b> Hyperparameter tuning\n",
    "</pre>"
   ]
  },
  {
   "cell_type": "markdown",
   "metadata": {
    "id": "DKfpwLcOM2sM"
   },
   "source": [
    "***Warning: Run the following HandsOn with Colab. Tensorflow might take a while to install on your machine, but it is already integrated in Google Colab***\n",
    "\n",
    "<hr>\n",
    "<hr>\n",
    "<hr>\n",
    "<hr>\n",
    "<hr>\n",
    "<hr>\n",
    "\n",
    "# Keras\n",
    "\n",
    "Keras is an open-source software library that provides a Python interface for artificial <b>neural networks</b>. Keras acts as an interface for the ```TensorFlow``` library.  So let's import Tensorflow and other libraries first.\n",
    "\n",
    "To give a high overview of what neural networks are, we will look at a Perceptron, and how we can extend that to make Multi-Layer Perceptrons, a simple case of neural networks.\n",
    "\n",
    "<hr>"
   ]
  },
  {
   "cell_type": "markdown",
   "metadata": {
    "id": "X2ZAIneAkDVW"
   },
   "source": [
    "\n",
    "\n",
    "# Perceptron\n",
    "\n",
    "A perceptron is very similar to what we saw in logistic regression. It is a linear combination of all the features that pass through an activation function. Pay attention to the following figure:\n",
    "\n",
    "![perceptron.png](https://gcdnb.pbrd.co/images/zSSxbGpihTzS.png?o=1)\n",
    "\n",
    "The inputs are each multiplied by a weight and summed up. There is a bias term as well just like logistic regression. The activation function in the above example was a simple Sign function (output 1 if above 0, otherwise output 0). \n",
    "<br>\n",
    "\n",
    "**Some of the other possible Activation functions are:**\n",
    "\n",
    "![activation-functions3.jpg](https://gcdnb.pbrd.co/images/Fd6wzVGT6O0l.jpg?o=1)\n",
    "\n",
    "The choice of activation function depends on what we wanna do. For example, do we want probabilities? Are we doing classification or regression? How many classes do we have in our data? \n",
    "The activation function of a perceptron can be linear if we want to do regression on its output, and it can be a sigmoid if we are doing a binary classification. When the output of the perceptron is input to another perceptron (Which is called a Multi Layer Perceptron), we can use Tanh, Relu, and similar activation functions."
   ]
  },
  {
   "cell_type": "markdown",
   "metadata": {
    "id": "r2JQ8l-3mGzz"
   },
   "source": [
    "<hr>\n",
    "\n",
    "# Multi-layer Perceptron\n",
    "\n",
    "A perceptron itself is only powerful enough to learn simple and linear functions. However, we can combine perceptrons to learn complex and non-linear functions easily. For example, in the following figure, by combining 2 perceptrons with linear decision boundaries, we can learn a non-linear decision boundary:\n",
    "\n",
    "![mlppp.png](https://gcdnb.pbrd.co/images/3jRpTA4eAAn5.png?o=1)\n",
    "\n",
    "We call this a multi-layer perceptron (MLP). MLPs are a special case of Neural Networks. Today we will play around with them using ```Keras``` and ```Tensorflow```.\n",
    "\n",
    "![mlp.png](https://gcdnb.pbrd.co/images/YiVE0AUG3IvC.png?o=1)\n",
    "\n",
    "<hr>\n",
    "\n",
    "# Neural Networks\n",
    "\n",
    "\n",
    "A neural network can learn complex relationships and patterns in the data and be used for many machine learning tasks.\n",
    "<br> In fact, Machine Learning is dominated by neural networks. They're everywhere nowadays. Deep neural networks are simply neural networks with many hidden layers.\n",
    "\n",
    "Pros:\n",
    "- Unbelievably high performance\n",
    "- Beyond Classification & Regression\n",
    "- No need to think, the model thinks for you!\n",
    "\n",
    "Cons:\n",
    "- Not interpretable\n",
    "- Data hungry\n",
    "- Training is long\n",
    "\n",
    "Types of neural networks:\n",
    "- Convolutional neural networks (CNNs)\n",
    "- Recurrent neural networks\n",
    "- Autoencoders\n",
    "- Feed-Forward neural networks\n",
    "\n",
    "Applications:\n",
    "- Everywhere! Especially when we have a lot of data"
   ]
  },
  {
   "cell_type": "markdown",
   "metadata": {
    "id": "NeIVmfWrnPdL"
   },
   "source": [
    "<hr>\n",
    "\n",
    "# <b>Task:</b> Tensorflow Playground\n",
    "\n",
    "Visit Tensorflow Playground website using this [link](https://playground.tensorflow.org/#activation=tanh&batchSize=10&dataset=circle&regDataset=reg-plane&learningRate=0.03&regularizationRate=0&noise=0&networkShape=4,2&seed=0.51598&showTestData=false&discretize=false&percTrainData=50&x=true&y=true&xTimesY=false&xSquared=false&ySquared=false&cosX=false&sinX=false&cosY=false&sinY=false&collectStats=false&problem=classification&initZero=false&hideText=false)\n",
    "\n",
    "TensorFlow Playground is an interactive web app that allows users to test artificial intelligence (AI) algorithms with Google's TensorFlow machine learning libraries. You can create MLPs and test them with different configurations on some predefined data. For example, you can experiment with number of layers, number of neurons in each layer, the data itself (Spiral, Circle, Gaussian, XOR) and ...\n",
    "\n",
    "#### Your task:\n",
    "\n",
    "- Using ***Gaussian*** data, apply 1 hidden layer and 1 neuron, then click on start to train the model. (Keep everything else constant)\n",
    "\n",
    "... as you can see, the model can successfully draw a line between the blue and the orange class.\n",
    "\n",
    "- Now change the data to ***Circle***. Can the model successfully draw a line between the 2 classes?\n",
    "\n",
    "... as you can see, the data is not linearly seperable, so we cannot draw a line between the classes.\n",
    "\n",
    "- Now only using one hidden layer and the same data, add neurons one by one and train the model. Can we successfully seperate the classes by adding neurons?\n",
    "\n",
    "... as you can see, by adding neurons we can seperate the classes.\n",
    "\n",
    "- Now apply your model on the ***Spiral*** data. Can you train the model to seperate the classes only using 1 hidden layer? Try adding more hidden layers until you can!\n",
    "\n",
    "You can also change the ***Problem Type*** to ***Regression*** instead of ***Classification***, or play around with different ***Activation Functions*** like ***TanH***, ***Relu***, ***Linear***, and ...  \n"
   ]
  },
  {
   "cell_type": "markdown",
   "metadata": {
    "id": "XGWyFldyM2sX"
   },
   "source": [
    "<hr>\n",
    "<hr>\n",
    "<hr>\n",
    "<hr>\n",
    "<hr>\n",
    "<hr>\n",
    "\n",
    "# <b>Task:</b> Building an Image Classifier"
   ]
  },
  {
   "cell_type": "markdown",
   "metadata": {
    "id": "6oV5M-a3v0DX"
   },
   "source": [
    "Import libraries"
   ]
  },
  {
   "cell_type": "code",
   "execution_count": 3,
   "metadata": {
    "id": "uiTriZQGM2sY"
   },
   "outputs": [
    {
     "ename": "ModuleNotFoundError",
     "evalue": "No module named 'tensorflow'",
     "output_type": "error",
     "traceback": [
      "\u001b[1;31m---------------------------------------------------------------------------\u001b[0m",
      "\u001b[1;31mModuleNotFoundError\u001b[0m                       Traceback (most recent call last)",
      "\u001b[1;32m~\\AppData\\Local\\Temp/ipykernel_10392/706481512.py\u001b[0m in \u001b[0;36m<module>\u001b[1;34m\u001b[0m\n\u001b[1;32m----> 1\u001b[1;33m \u001b[1;32mimport\u001b[0m \u001b[0mtensorflow\u001b[0m \u001b[1;32mas\u001b[0m \u001b[0mtf\u001b[0m\u001b[1;33m\u001b[0m\u001b[1;33m\u001b[0m\u001b[0m\n\u001b[0m\u001b[0;32m      2\u001b[0m \u001b[1;32mfrom\u001b[0m \u001b[0mtensorflow\u001b[0m \u001b[1;32mimport\u001b[0m \u001b[0mkeras\u001b[0m\u001b[1;33m\u001b[0m\u001b[1;33m\u001b[0m\u001b[0m\n",
      "\u001b[1;31mModuleNotFoundError\u001b[0m: No module named 'tensorflow'"
     ]
    }
   ],
   "source": [
    "import tensorflow as tf\n",
    "from tensorflow import keras"
   ]
  },
  {
   "cell_type": "markdown",
   "metadata": {
    "id": "ZbJYgXLGM2sa"
   },
   "source": [
    "Today we want to use the fashion MNIST dataset. `keras.datasets` has a number of popular datasets. Our data contains images, each 28x28 pixels. Each pixel intensity is represented as a byte (0 to 255). The labels are the class IDs, ranging from 0 to 9 (each representing a clothing class like T-shirt, Coat, ...). The dataset is already split to a training set and a test set. \n",
    "\n",
    "- Run the code below to obtain the dataset."
   ]
  },
  {
   "cell_type": "code",
   "execution_count": null,
   "metadata": {
    "id": "F4ZkczyaM2sa"
   },
   "outputs": [],
   "source": [
    "fashion_mnist = keras.datasets.fashion_mnist\n",
    "(X_train_full, y_train_full), (X_test, y_test) = fashion_mnist.load_data()"
   ]
  },
  {
   "cell_type": "code",
   "execution_count": null,
   "metadata": {
    "colab": {
     "base_uri": "https://localhost:8080/"
    },
    "id": "rTpxAmHBM2sb",
    "outputId": "b27363bb-4336-4ba1-98d3-4dfeabd0559c"
   },
   "outputs": [],
   "source": [
    "X_train_full.shape"
   ]
  },
  {
   "cell_type": "markdown",
   "metadata": {
    "id": "kR_yD0-pM2sc"
   },
   "source": [
    "<hr>\n",
    "\n",
    "Now let's preprocess our data. We want to have a validation set as well as the test set.\n",
    "\n",
    "- Split the training set into a validation set and a (smaller) training set \n",
    "- Scale the pixel intensities down to the 0-1 range and convert them to floats"
   ]
  },
  {
   "cell_type": "code",
   "execution_count": 2,
   "metadata": {
    "id": "mYqTqZyn0atT"
   },
   "outputs": [
    {
     "ename": "NameError",
     "evalue": "name 'train_test_split' is not defined",
     "output_type": "error",
     "traceback": [
      "\u001b[1;31m---------------------------------------------------------------------------\u001b[0m",
      "\u001b[1;31mNameError\u001b[0m                                 Traceback (most recent call last)",
      "\u001b[1;32m~\\AppData\\Local\\Temp/ipykernel_10392/1151483300.py\u001b[0m in \u001b[0;36m<module>\u001b[1;34m\u001b[0m\n\u001b[0;32m      1\u001b[0m \u001b[1;34m''''write your code here'''\u001b[0m\u001b[1;33m\u001b[0m\u001b[1;33m\u001b[0m\u001b[0m\n\u001b[1;32m----> 2\u001b[1;33m X_train, X_val, y_train, y_val = train_test_split(X_train, y_train, \n\u001b[0m\u001b[0;32m      3\u001b[0m     test_size=0.25, random_state= 8)\n\u001b[0;32m      4\u001b[0m \u001b[1;33m\u001b[0m\u001b[0m\n\u001b[0;32m      5\u001b[0m \u001b[0mX_train\u001b[0m\u001b[1;33m[\u001b[0m\u001b[1;36m1\u001b[0m\u001b[1;33m]\u001b[0m\u001b[1;33m\u001b[0m\u001b[1;33m\u001b[0m\u001b[0m\n",
      "\u001b[1;31mNameError\u001b[0m: name 'train_test_split' is not defined"
     ]
    }
   ],
   "source": [
    "''''write your code here'''\n",
    "X_train, X_val, y_train, y_val = train_test_split(X_train, y_train, \n",
    "    test_size=0.25, random_state= 8)\n",
    "\n",
    "X_train[1]"
   ]
  },
  {
   "cell_type": "markdown",
   "metadata": {
    "id": "_DswTkjqM2sc"
   },
   "source": [
    "<hr>\n",
    "\n",
    "The code below plots the first image in the training set (with a `'binary'`\n",
    " color map)\n",
    " - Run the code"
   ]
  },
  {
   "cell_type": "code",
   "execution_count": null,
   "metadata": {
    "colab": {
     "base_uri": "https://localhost:8080/",
     "height": 248
    },
    "id": "u9H3FEu6M2sd",
    "outputId": "3d54fca1-494a-493c-ca10-e4d10d3407b1"
   },
   "outputs": [],
   "source": [
    "plt.imshow(X_train[0], cmap=\"binary\")\n",
    "plt.axis('off')\n",
    "plt.show()"
   ]
  },
  {
   "cell_type": "markdown",
   "metadata": {
    "id": "RTNwp9zVM2se"
   },
   "source": [
    "<hr>\n",
    "\n",
    "The name of each class is as follows:\n",
    "\n",
    "- Run the code"
   ]
  },
  {
   "cell_type": "code",
   "execution_count": null,
   "metadata": {
    "id": "0NmvYgsuM2se"
   },
   "outputs": [],
   "source": [
    "class_names = [\"T-shirt/top\", \"Trouser\", \"Pullover\", \"Dress\", \"Coat\",\n",
    "               \"Sandal\", \"Shirt\", \"Sneaker\", \"Bag\", \"Ankle boot\"]"
   ]
  },
  {
   "cell_type": "markdown",
   "metadata": {
    "id": "W5Zg3m8dM2sg"
   },
   "source": [
    "<hr>\n",
    "\n",
    "- Plot a sample of the images in the dataset together with its labels similar to following image:"
   ]
  },
  {
   "cell_type": "code",
   "execution_count": null,
   "metadata": {
    "colab": {
     "base_uri": "https://localhost:8080/",
     "height": 308
    },
    "id": "e8vf7Z4YM2sg",
    "outputId": "22fc7a50-1479-4400-ed2f-deda32ef1b40"
   },
   "outputs": [],
   "source": [
    "''''write your code'''"
   ]
  },
  {
   "cell_type": "markdown",
   "metadata": {
    "id": "R_MFRxBNiicH"
   },
   "source": [
    "<hr>\n",
    "\n",
    "- Run the code below to set the random seeds"
   ]
  },
  {
   "cell_type": "code",
   "execution_count": null,
   "metadata": {
    "id": "jt8O8OZ8M2sh"
   },
   "outputs": [],
   "source": [
    "keras.backend.clear_session()\n",
    "np.random.seed(42)\n",
    "tf.random.set_seed(42)"
   ]
  },
  {
   "cell_type": "markdown",
   "metadata": {
    "id": "4WPm6JCZg8Oo"
   },
   "source": [
    "As you can see in the following figure, perceptrons and activation functions can be used as building blocks of bigger networks to classify a dataset. For example in the following image, your network has a 3 dimentional input and two dense layers, one final layer and four outputs. The first Dense layer has three perceptrons and the second one has two. ***Dense layers are connected to all of their input and outputs***. "
   ]
  },
  {
   "cell_type": "markdown",
   "metadata": {
    "id": "NncwYfE7hh0F"
   },
   "source": [
    "![image.png](data:image/png;base64,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)"
   ]
  },
  {
   "cell_type": "markdown",
   "metadata": {
    "id": "Iv-5v8eVglYd"
   },
   "source": [
    "<hr>\n",
    "\n",
    "- Build the following architecture to train on our dataset using ```keras```"
   ]
  },
  {
   "cell_type": "markdown",
   "metadata": {
    "id": "ErdwVTRfg5qR"
   },
   "source": [
    "![image.png](data:image/png;base64,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)"
   ]
  },
  {
   "cell_type": "code",
   "execution_count": null,
   "metadata": {
    "id": "FExIhf81M2sg"
   },
   "outputs": [],
   "source": [
    "# Build a sequential keras model\n",
    "model = keras.models.Sequential()\n",
    "# Add a Flatten layer\n",
    "model.add(keras.layers.Flatten(''''write your code here'''))\n",
    "# Add 2 dense layers with relu activation\n",
    "model.add(keras.layers.Dense(''''write your code here''')\n",
    "model.add(keras.layers.Dense(''''write your code here''')\n",
    "# Add a final dense layer with Softmax activation\n",
    "model.add(keras.layers.Dense(''''write your code here''')"
   ]
  },
  {
   "cell_type": "markdown",
   "metadata": {
    "id": "gINx0qtRjB6S"
   },
   "source": [
    "<hr>\n",
    "\n",
    "- Print layers of a network using Keras commands\n",
    "\n"
   ]
  },
  {
   "cell_type": "code",
   "execution_count": null,
   "metadata": {
    "colab": {
     "base_uri": "https://localhost:8080/"
    },
    "id": "omI6lj3wM2sh",
    "outputId": "a7d40304-64ff-4737-d1df-47ddda097a93"
   },
   "outputs": [],
   "source": [
    "''''write your code here'''"
   ]
  },
  {
   "cell_type": "markdown",
   "metadata": {
    "id": "_rJBz9_dy3TL"
   },
   "source": [
    "<hr>\n",
    "\n",
    "- Print model summary\n"
   ]
  },
  {
   "cell_type": "code",
   "execution_count": null,
   "metadata": {
    "colab": {
     "base_uri": "https://localhost:8080/"
    },
    "id": "_gz5yBZ7M2sh",
    "outputId": "6ffb3b99-672a-4eea-c65e-caf697df092e"
   },
   "outputs": [],
   "source": [
    "''''write your code here'''"
   ]
  },
  {
   "cell_type": "markdown",
   "metadata": {
    "id": "lYo9tMh3y8Be"
   },
   "source": [
    "- Print weights, biases and shape of each layer"
   ]
  },
  {
   "cell_type": "code",
   "execution_count": null,
   "metadata": {
    "id": "xPKq5hWKM2si"
   },
   "outputs": [],
   "source": [
    "''''first layer shape'''"
   ]
  },
  {
   "cell_type": "code",
   "execution_count": null,
   "metadata": {
    "id": "rvH5sEWyM2si"
   },
   "outputs": [],
   "source": [
    "''''first layer weights'''"
   ]
  },
  {
   "cell_type": "code",
   "execution_count": null,
   "metadata": {
    "id": "ilpUqVZjM2sj"
   },
   "outputs": [],
   "source": [
    "''''first layer biases'''"
   ]
  },
  {
   "cell_type": "markdown",
   "metadata": {
    "id": "wSr84TZDji1A"
   },
   "source": [
    "<hr>\n",
    "\n",
    "- Compile the model using ```model.compile``` function. Use a ***sparse categorical crossentropy*** loss, ***SGD*** optimizer, and ***accuracy*** as the metric."
   ]
  },
  {
   "cell_type": "code",
   "execution_count": null,
   "metadata": {
    "id": "-6fcNhVLz9em"
   },
   "outputs": [],
   "source": [
    "model.compile('''enter your code here''')"
   ]
  },
  {
   "cell_type": "markdown",
   "metadata": {
    "id": "q6IXL2RuzxOL"
   },
   "source": [
    "<hr>\n",
    "\n",
    "Now the backbone of our model is ready and we can train it!\n",
    "\n",
    "- Fit the model on the training data for 20 epochs. Also use the validation data we created."
   ]
  },
  {
   "cell_type": "code",
   "execution_count": null,
   "metadata": {
    "id": "brL2QuI10FzR"
   },
   "outputs": [],
   "source": [
    "history = model.fit('''enter your code here''')"
   ]
  },
  {
   "cell_type": "markdown",
   "metadata": {
    "id": "VsKuEpiS2Rnu"
   },
   "source": [
    "<hr>\n",
    "\n",
    "Now we can access the training and validation loss, as well as accuracy (because we defined accuracy as a metric when compiling our model) by using ```history```"
   ]
  },
  {
   "cell_type": "code",
   "execution_count": null,
   "metadata": {
    "colab": {
     "base_uri": "https://localhost:8080/"
    },
    "id": "thR_CelPM2sl",
    "outputId": "dd6044b4-d0b0-41dc-ee94-8449b4f01297"
   },
   "outputs": [],
   "source": [
    "history.params"
   ]
  },
  {
   "cell_type": "code",
   "execution_count": null,
   "metadata": {
    "colab": {
     "base_uri": "https://localhost:8080/"
    },
    "id": "orMTIJ00M2sl",
    "outputId": "3a0b1f34-e682-4a24-ef9c-e53dadf5360c"
   },
   "outputs": [],
   "source": [
    "print(history.epoch)"
   ]
  },
  {
   "cell_type": "code",
   "execution_count": null,
   "metadata": {
    "colab": {
     "base_uri": "https://localhost:8080/"
    },
    "id": "yTVxFHuF0UQ_",
    "outputId": "f1c4d6a3-fb87-43c7-fe78-3f09054e6918"
   },
   "outputs": [],
   "source": [
    "history.history.keys()"
   ]
  },
  {
   "cell_type": "code",
   "execution_count": null,
   "metadata": {
    "colab": {
     "base_uri": "https://localhost:8080/"
    },
    "id": "MwYaXyN2M2sl",
    "outputId": "eb05390a-ca35-4318-d3f8-18d6b82ea80e"
   },
   "outputs": [],
   "source": [
    "history.history['loss']"
   ]
  },
  {
   "cell_type": "markdown",
   "metadata": {
    "id": "R1vfS4EAj8VA"
   },
   "source": [
    "<hr>\n",
    "\n",
    "- Plot the ```history.history``` and interpret it. (Your plot should show loss, accuracy, val_loss, and val_accuracy in one figure just like the figure below:)"
   ]
  },
  {
   "cell_type": "code",
   "execution_count": null,
   "metadata": {
    "colab": {
     "base_uri": "https://localhost:8080/",
     "height": 386
    },
    "id": "SMmBpKnIM2sl",
    "outputId": "30b2673a-91ad-439c-f351-7c6620a9eb6f"
   },
   "outputs": [],
   "source": [
    "'''enter your code here'''"
   ]
  },
  {
   "cell_type": "markdown",
   "metadata": {
    "id": "Vq1nUTAPkGJ2"
   },
   "source": [
    "<hr>\n",
    "\n",
    "- Now evaluate your model on the test dataset using ```model.evaluate``` and interprate the results."
   ]
  },
  {
   "cell_type": "code",
   "execution_count": null,
   "metadata": {
    "id": "I1bO0o-B3Aa7"
   },
   "outputs": [],
   "source": [
    "model.evaluate('''enter your code here''')"
   ]
  },
  {
   "cell_type": "code",
   "execution_count": null,
   "metadata": {
    "colab": {
     "base_uri": "https://localhost:8080/"
    },
    "id": "JJGNmQPVM2sl",
    "outputId": "c2bca533-cf93-4166-d46e-24e73f12cd31"
   },
   "outputs": [],
   "source": [
    "model.evaluate(X_test, y_test)"
   ]
  },
  {
   "cell_type": "markdown",
   "metadata": {
    "id": "mpwttjdMkNat"
   },
   "source": [
    "<hr>\n",
    "\n",
    "Let's get 3 random images from the data and predict their label using your model.\n",
    "\n",
    "- Run the code"
   ]
  },
  {
   "cell_type": "code",
   "execution_count": null,
   "metadata": {
    "colab": {
     "base_uri": "https://localhost:8080/"
    },
    "id": "Jv6q64cMM2sm",
    "outputId": "8d11dc94-3513-439d-e56c-c4280ebdeefe"
   },
   "outputs": [],
   "source": [
    "X_new = X_test[:6]\n",
    "y_proba = model.predict(X_new)"
   ]
  },
  {
   "cell_type": "markdown",
   "metadata": {
    "id": "47g3r0pA31Zi"
   },
   "source": [
    "This is the prediction of our model:"
   ]
  },
  {
   "cell_type": "code",
   "execution_count": null,
   "metadata": {
    "colab": {
     "base_uri": "https://localhost:8080/"
    },
    "id": "IG0JcR8OM2sm",
    "outputId": "b24b3bc6-54c2-4628-e4a7-e2d08b4f8d2c"
   },
   "outputs": [],
   "source": [
    "y_pred = np.argmax(model.predict(X_new), axis=-1)"
   ]
  },
  {
   "cell_type": "code",
   "execution_count": null,
   "metadata": {
    "colab": {
     "base_uri": "https://localhost:8080/"
    },
    "id": "iZSXo799M2sm",
    "outputId": "7e85e53c-e929-4ddc-993d-5bd6cfc31182"
   },
   "outputs": [],
   "source": [
    "np.array(class_names)[y_pred]"
   ]
  },
  {
   "cell_type": "markdown",
   "metadata": {
    "id": "zvnnivFS34Qt"
   },
   "source": [
    "This is the true label:"
   ]
  },
  {
   "cell_type": "code",
   "execution_count": null,
   "metadata": {
    "colab": {
     "base_uri": "https://localhost:8080/"
    },
    "id": "4qdt8lRPM2sn",
    "outputId": "1732b78f-3a95-4cc9-9b6f-211764fa49c2"
   },
   "outputs": [],
   "source": [
    "y_new = np.array(class_names)[y_test[:3]]\n",
    "y_new"
   ]
  },
  {
   "cell_type": "markdown",
   "metadata": {
    "id": "RL44mR7S4Tl1"
   },
   "source": [
    "- Plot the images, true labels, and predictions of these 3 samples in one figure."
   ]
  },
  {
   "cell_type": "code",
   "execution_count": null,
   "metadata": {
    "id": "wCihq3yMM2sn"
   },
   "outputs": [],
   "source": [
    "'''enter your code here'''"
   ]
  },
  {
   "cell_type": "markdown",
   "metadata": {
    "id": "Scx-R0juT0RM"
   },
   "source": [
    "<hr>\n",
    "<hr>\n",
    "<hr>\n",
    "<hr>\n",
    "<hr>\n",
    "<hr>\n",
    "<hr>\n",
    "<hr>\n",
    "<hr>\n",
    "\n",
    "\n",
    "# <b>Task:</b> Regression *MLP*"
   ]
  },
  {
   "cell_type": "markdown",
   "metadata": {
    "id": "LjLaHdhlUMMT"
   },
   "source": [
    "In this section we are going to build a regression MLP that predicts house prices with `keras` using `California housing dataset `. "
   ]
  },
  {
   "cell_type": "code",
   "execution_count": null,
   "metadata": {
    "id": "I8lACfbPVnDg"
   },
   "outputs": [],
   "source": [
    "# import libraries\n",
    "from sklearn.datasets import fetch_california_housing\n",
    "from sklearn.model_selection import train_test_split\n",
    "from sklearn.preprocessing import StandardScaler\n",
    "import tensorflow\n",
    "import keras\n",
    "import matplotlib.pyplot as plt\n",
    "import pandas as pd"
   ]
  },
  {
   "cell_type": "markdown",
   "metadata": {
    "id": "ot-mqCgU5FTl"
   },
   "source": [
    "<hr>\n",
    "\n",
    "- Split the data into train, test and validation sets.\n",
    "\n",
    "HINT: you can use `sklearn` for this part"
   ]
  },
  {
   "cell_type": "code",
   "execution_count": null,
   "metadata": {
    "id": "ZRwmtMrJW71Z"
   },
   "outputs": [],
   "source": [
    "#split\n",
    "housing = fetch_california_housing()\n",
    "X = housing.data\n",
    "y = housing.target\n",
    "\n",
    "X_train_full, X_test, y_train_full, y_test = '''split to train and test'''\n",
    "X_train, X_valid, y_train, y_valid = '''further split train to train and validation'''"
   ]
  },
  {
   "cell_type": "markdown",
   "metadata": {
    "id": "pHTlPnBD6FaO"
   },
   "source": [
    "<hr>\n",
    "\n",
    "Many machine learning algorithms work better when features are on a relatively similar scale and close to normally distributed.\n",
    "\n",
    "- Normalize and scale the dataset with StandardScaler().\n",
    "\n",
    "HINT: you can use sklearn for this part"
   ]
  },
  {
   "cell_type": "code",
   "execution_count": null,
   "metadata": {
    "id": "yYPdqZVfW9sI"
   },
   "outputs": [],
   "source": [
    "# scale\n",
    "scaler = StandardScaler()\n",
    "'''Scale the datasets here'''"
   ]
  },
  {
   "cell_type": "markdown",
   "metadata": {
    "id": "xjkdrLJMW--u"
   },
   "source": [
    "Now that we have prepared the dataset, we are going to build and train a model with the following instructions:\n",
    "\n",
    "*   First layer : a linear  layer with 30 neurons and relu as activation function\n",
    "*   Second layer: a linear layer with one neuron and linear activation function\n",
    "\n"
   ]
  },
  {
   "cell_type": "code",
   "execution_count": null,
   "metadata": {
    "id": "elAUnKtC63XA"
   },
   "outputs": [],
   "source": [
    "#model\n",
    "model = keras.models.Sequential([\n",
    "    '''Enter your code here'''\n",
    "])"
   ]
  },
  {
   "cell_type": "markdown",
   "metadata": {
    "id": "tqQTegeKYs3T"
   },
   "source": [
    "<hr>\n",
    "\n",
    "#### Train the model\n",
    "\n",
    "In this part, we are going to first compile our model, then train it for **20** epochs.\n",
    "\n",
    "When compiling the model, set the hyperparameters as below:\n",
    "- Objective: mean_squared_error\n",
    "- Optimizer : SGD\n",
    "- Learning rate: 1e-3\n"
   ]
  },
  {
   "cell_type": "code",
   "execution_count": null,
   "metadata": {
    "id": "t1JDshig7jr3"
   },
   "outputs": [],
   "source": [
    "#complile and fit the model"
   ]
  },
  {
   "cell_type": "markdown",
   "metadata": {
    "id": "xjz1pqAoaVw5"
   },
   "source": [
    "<hr>\n",
    "\n",
    "#### Evaluate the model"
   ]
  },
  {
   "cell_type": "markdown",
   "metadata": {
    "id": "NsGy1hjna_T-"
   },
   "source": [
    "After training, we want to evaluate our model\n",
    "\n",
    "\n",
    "*   Calculate loss for test data\n",
    "\n"
   ]
  },
  {
   "cell_type": "code",
   "execution_count": null,
   "metadata": {
    "id": "5zL_1HbI8IaU"
   },
   "outputs": [],
   "source": [
    "'''enter your code here'''"
   ]
  },
  {
   "cell_type": "markdown",
   "metadata": {
    "id": "RcsaRUbF759Q"
   },
   "source": [
    "\n",
    "<hr>\n",
    "\n",
    "*   Plot training and validation loss similar to the image below"
   ]
  },
  {
   "cell_type": "code",
   "execution_count": null,
   "metadata": {
    "colab": {
     "base_uri": "https://localhost:8080/",
     "height": 269
    },
    "id": "bhVUEgwdbkSY",
    "outputId": "984d0c0a-3c48-4e23-e58a-d95cdf82a6e1"
   },
   "outputs": [],
   "source": [
    "'''enter your code here'''"
   ]
  },
  {
   "cell_type": "markdown",
   "metadata": {
    "id": "wW9PaRhj7-Gp"
   },
   "source": [
    "<hr>\n",
    "\n",
    "*   Select three datapoints fom the test data and print the model prediction and true label for these datapoints.\n"
   ]
  },
  {
   "cell_type": "code",
   "execution_count": null,
   "metadata": {
    "id": "Vf5wJm9J70AH"
   },
   "outputs": [],
   "source": [
    "'''enter your code here'''"
   ]
  },
  {
   "cell_type": "markdown",
   "metadata": {
    "id": "b1fCE8cicfEe"
   },
   "source": [
    "<hr>\n",
    "<hr>\n",
    "<hr>\n",
    "<hr>\n",
    "<hr>\n",
    "<hr>\n",
    "<hr>\n",
    "<hr>\n",
    "<hr>\n",
    "\n",
    "# <b>Task:</b> Saving and Restoring"
   ]
  },
  {
   "cell_type": "markdown",
   "metadata": {
    "id": "TKy2vEQkcjic"
   },
   "source": [
    "We can save our model after training and load it whenever we need it.\n",
    "\n",
    "*   Save the model\n",
    "*   Load the model\n",
    "*   Select a test datapoint randomly and predict a sample from the test set with the loaded model.\n",
    "*   Save only the model weights\n",
    "*   Load only the model weights\n",
    "\n"
   ]
  },
  {
   "cell_type": "code",
   "execution_count": null,
   "metadata": {
    "id": "jbSoac618o9H"
   },
   "outputs": [],
   "source": [
    "# save the model"
   ]
  },
  {
   "cell_type": "code",
   "execution_count": null,
   "metadata": {
    "id": "UPQ5gtSl8pQy"
   },
   "outputs": [],
   "source": [
    "# load the model"
   ]
  },
  {
   "cell_type": "code",
   "execution_count": null,
   "metadata": {
    "id": "EMLRvMQY8qCM"
   },
   "outputs": [],
   "source": [
    "# prediction with loaded model"
   ]
  },
  {
   "cell_type": "code",
   "execution_count": null,
   "metadata": {
    "id": "myzx5nnW8qg6"
   },
   "outputs": [],
   "source": [
    "# save weights"
   ]
  },
  {
   "cell_type": "code",
   "execution_count": null,
   "metadata": {
    "id": "wg8AXdS98rVw"
   },
   "outputs": [],
   "source": [
    "#load weights"
   ]
  },
  {
   "cell_type": "markdown",
   "metadata": {
    "id": "RQ6YmFJuM2s2"
   },
   "source": [
    "<hr>\n",
    "<hr>\n",
    "<hr>\n",
    "<hr>\n",
    "<hr>\n",
    "<hr>\n",
    "<hr>\n",
    "<hr>\n",
    "<hr>\n",
    "\n",
    "# <b>Task:</b> Hyperparameter Tuning\n"
   ]
  },
  {
   "cell_type": "markdown",
   "metadata": {
    "id": "AHxKXSf0-Ou8"
   },
   "source": [
    "Parameters which define the model architecture are referred to as hyperparameters and thus this process of searching for the ideal model architecture is referred to as hyperparameter tuning.\n",
    "\n",
    "**NOTE**: hyperparameters are not model parameters and they cannot be directly trained from the data. \n",
    "\n",
    "Hyperparameter tuning methods:\n",
    "- **Grid search**: the most basic hyperparameter tuning method. With this technique, we simply build a model for each possible combination of all of the hyperparameter values provided, evaluating each model, and selecting the architecture which produces the best results.\n",
    "\n",
    "- **Random search**: Random search differs from grid search in that we longer provide a discrete set of values to explore for each hyperparameter; rather, we provide a statistical distribution for each hyperparameter from which values may be randomly sampled.\n",
    "\n",
    "<p align=\"center\">\n",
    "<img width=70% src=\"https://www.jeremyjordan.me/content/images/2017/11/grid_vs_random.png\" />\n",
    "</p>"
   ]
  },
  {
   "cell_type": "code",
   "execution_count": null,
   "metadata": {
    "id": "hcgmiXQVM2s3"
   },
   "outputs": [],
   "source": [
    "# Clearing the session\n",
    "# useful when you're creating multiple models in succession, such as during hyperparameter search or cross-validation.\n",
    "keras.backend.clear_session()\n",
    "np.random.seed(42)"
   ]
  },
  {
   "cell_type": "markdown",
   "metadata": {
    "id": "BhL6M9K5qhkU"
   },
   "source": [
    "Define a function for building model. In the function, the model should be created and compiled and the ready to be trained model should be returned. We use the same data as the Regression Task, ```california housing```. So you can use the X_train, y_train, X_val, y_val you already have.\n",
    "\n",
    "This function take following inputs:\n",
    "- `n_hidden`: number of hidden layers\n",
    "- `n_neurons`: number of neurons in each hidden layer\n",
    "- `learning_rate`\n",
    "\n",
    "**NOTE**: Use `ReLu` activation function for all layers except output layer.\n",
    "\n",
    "**NOTE**: Use `SGD` optimizer and `MSE` loss."
   ]
  },
  {
   "cell_type": "code",
   "execution_count": null,
   "metadata": {
    "id": "gZ1zVgTq2F7r"
   },
   "outputs": [],
   "source": [
    "def build_model(n_hidden=1, n_neurons=30, learning_rate=3e-3):\n",
    "    model = keras.models.Sequential()\n",
    "    model.add(keras.layers.InputLayer(input_shape=[8]))\n",
    "    \n",
    "    '''enter code to add the other layers'''\n",
    "\n",
    "    optimizer = keras.optimizers.SGD('''enter code''')\n",
    "    model.compile('''enter code to add the other layers''')\n",
    "    return model"
   ]
  },
  {
   "cell_type": "markdown",
   "metadata": {
    "id": "mBgzGPMP5Zyj"
   },
   "source": [
    "Define hyperparameters value ranges:\n",
    "- `n_hidden`: 1-2-3-4\n",
    "- `n_neurons`: 50-60-70-80-90-100\n",
    "- `learning_rate`: 3e-4, ..., 3e-2"
   ]
  },
  {
   "cell_type": "code",
   "execution_count": null,
   "metadata": {
    "id": "YVkBgzAt2tBz"
   },
   "outputs": [],
   "source": [
    "param_distribs = {\n",
    "    \"n_hidden\": '''enter code''',\n",
    "    \"n_neurons\": '''enter code''',\n",
    "    \"learning_rate\": np.linspace(3e-4, 3e-2, 50).tolist()\n",
    "}"
   ]
  },
  {
   "cell_type": "markdown",
   "metadata": {
    "id": "Rvxm23F9M2s6"
   },
   "source": [
    "<hr>\n",
    "\n",
    "- Use `RandomizedSearchCV` class in sklearn for randomized hyperparameter tunning. \n",
    "\n",
    "**NOTE**: Set `n_iter`=10 and `cv`=3 for `RandomizedSearchCV`. fit each model for 25 `epoch` and `early stopping` by `patience` equals to 5.\n",
    "\n",
    "**HINT**: CrossValidation a robust estimate of the performance of a model on unseen data. It does this by splitting the training dataset into k subsets, taking turns training models on all subsets except one, which is held out, and evaluating model performance on the held-out validation dataset. The process is repeated until all subsets are given an opportunity to be the held-out validation set. The performance measure is then averaged across all models that are created.\n",
    "\n",
    "**HINT**: EarlyStopping is a method that allows you to specify an arbitrary large number of training epochs and stop training once the model performance stops improving on a hold out validation dataset. [link](https://keras.io/api/callbacks/early_stopping/)\n",
    "\n",
    "**NOTE**: Executing hyperparameter tuning take long time (~10min)"
   ]
  },
  {
   "cell_type": "code",
   "execution_count": null,
   "metadata": {
    "id": "NcYj_jBF29F3"
   },
   "outputs": [],
   "source": [
    "from sklearn.model_selection import RandomizedSearchCV\n",
    "\n",
    "# this line wrap keras model to be compatiable with sklearn library\n",
    "keras_reg = keras.wrappers.scikit_learn.KerasRegressor(build_model)\n",
    "\n",
    "rnd_search_cv = RandomizedSearchCV('''enter code here''')\n",
    "rnd_search_cv.fit('''enter code here''')"
   ]
  },
  {
   "cell_type": "markdown",
   "metadata": {
    "id": "qFrDi-BU5nj1"
   },
   "source": [
    "<hr>\n",
    "\n",
    "- What is the best model's params ?!"
   ]
  },
  {
   "cell_type": "code",
   "execution_count": null,
   "metadata": {
    "id": "1sM7jyWx3PR2"
   },
   "outputs": [],
   "source": [
    "'''enter code here'''"
   ]
  },
  {
   "cell_type": "markdown",
   "metadata": {
    "id": "3ftVExaz5rQA"
   },
   "source": [
    "<hr>\n",
    "\n",
    "- What is the best score the model can obtain ?!"
   ]
  },
  {
   "cell_type": "code",
   "execution_count": null,
   "metadata": {
    "id": "pjj6lgFIM2s7",
    "outputId": "7706b124-f903-427f-a69c-2145a9205220"
   },
   "outputs": [],
   "source": [
    "'''enter code here'''"
   ]
  },
  {
   "cell_type": "markdown",
   "metadata": {
    "id": "z9m6O0mW5wIU"
   },
   "source": [
    "<hr>\n",
    "\n",
    "- Get best model and evaluate it with test data"
   ]
  },
  {
   "cell_type": "code",
   "execution_count": null,
   "metadata": {
    "id": "l3_REDgs3Wr5"
   },
   "outputs": [],
   "source": [
    "'''enter code here'''"
   ]
  },
  {
   "cell_type": "markdown",
   "metadata": {
    "id": "9MIRm6KS3YNp"
   },
   "source": [
    "<hr>\n",
    "<hr>\n",
    "<hr>\n",
    "<hr>\n",
    "<hr>\n",
    "<hr>\n",
    "\n",
    "# Good Luck :) \n"
   ]
  }
 ],
 "metadata": {
  "colab": {
   "collapsed_sections": [
    "XGWyFldyM2sX",
    "Scx-R0juT0RM",
    "b1fCE8cicfEe",
    "RQ6YmFJuM2s2"
   ],
   "name": "Day8-HandsOn.ipynb",
   "provenance": []
  },
  "kernelspec": {
   "display_name": "Python 3 (ipykernel)",
   "language": "python",
   "name": "python3"
  },
  "language_info": {
   "codemirror_mode": {
    "name": "ipython",
    "version": 3
   },
   "file_extension": ".py",
   "mimetype": "text/x-python",
   "name": "python",
   "nbconvert_exporter": "python",
   "pygments_lexer": "ipython3",
   "version": "3.9.7"
  },
  "nav_menu": {
   "height": "264px",
   "width": "369px"
  },
  "toc": {
   "navigate_menu": true,
   "number_sections": true,
   "sideBar": true,
   "threshold": 6,
   "toc_cell": false,
   "toc_section_display": "block",
   "toc_window_display": false
  }
 },
 "nbformat": 4,
 "nbformat_minor": 1
}
