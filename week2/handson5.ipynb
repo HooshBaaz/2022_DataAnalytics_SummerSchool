{
 "cells": [
  {
   "cell_type": "markdown",
   "metadata": {},
   "source": [
    "<img src=\"../assets/logo3.png\" width=\"200\" height=\"200\" align = center>\n",
    "\n",
    "<div style=\"display:block\"><br><br>\n",
    "    <div style=\"display:block\" align=left display=block> \n",
    "        <font size=5><b>HandsOn 5 - Advanced Pandas in Action</b></font><br>\n",
    "        <hr/>\n",
    "\n",
    "</div>\n",
    "\n",
    "<pre>\n",
    ".\n",
    "├── Importing Modules/Libraries\n",
    "│\n",
    "├── Load data from local disk\n",
    "│\n",
    "├── Working with clean Dataframe\n",
    "│ \n",
    "├── Create Pivot Tables from datafarme\n",
    "│\n",
    "├── Groupby Object\n",
    "│\n",
    "└── Merge and Join\n",
    "</pre>"
   ]
  },
  {
   "cell_type": "markdown",
   "metadata": {},
   "source": [
    "Pandas is a library for data analysis built on top of the Python programming language. A library (also called a package) is a collection of code for solving problems in a specific field of endeavor. Pandas is a toolbox for data manipulation operations: sorting, filtering, cleaning, deduping, aggregating, pivoting, and more. The epicenter of Python’s vast data science ecosystem, pandas pairs well with other libraries for statistics, natural language processing, machine learning, data visualization, and more.\n",
    "\n",
    "The sections marked with a Thinking Emoji (💭) are those which you need to read and answer. All right, without further ado let's get started!\n",
    "\n",
    "In this handsOn you are going to work on the dataset that you have cleaned in the last handsOn."
   ]
  },
  {
   "cell_type": "markdown",
   "metadata": {},
   "source": [
    "## Importing Modules/Libraries"
   ]
  },
  {
   "cell_type": "code",
   "execution_count": 2,
   "metadata": {},
   "outputs": [],
   "source": [
    "import pandas as pd\n",
    "import numpy as np"
   ]
  },
  {
   "cell_type": "markdown",
   "metadata": {},
   "source": [
    "-----------------------------------"
   ]
  },
  {
   "cell_type": "markdown",
   "metadata": {},
   "source": [
    "### 📖 Load data from local disk\n",
    "First, we need to load the data from local disk as a Pandas dataframe.\n",
    "- use the `clean_adults_income.csv` dataset from last handson!"
   ]
  },
  {
   "cell_type": "markdown",
   "metadata": {},
   "source": [
    "**Write the answer below:**  "
   ]
  },
  {
   "cell_type": "code",
   "execution_count": null,
   "metadata": {},
   "outputs": [],
   "source": []
  },
  {
   "cell_type": "markdown",
   "metadata": {},
   "source": [
    "------------------------------------------"
   ]
  },
  {
   "cell_type": "markdown",
   "metadata": {},
   "source": [
    "### 📖 Working with clean Dataframe\n",
    "Now you have cleaned the dataframe. in this Section, we are going to work with this clean dataframe.\n",
    "\n",
    "#### 💭 Questions\n",
    "- rename the `hours-per-week` to `hours`.\n",
    "- print unique values of `education` and `income` column.\n",
    "- count the number of each  unique value in `race` column\n",
    "- calculate mean hour for persons of `white` race and with income `less than 50K`"
   ]
  },
  {
   "cell_type": "markdown",
   "metadata": {},
   "source": [
    "**Write the answer below:**  "
   ]
  },
  {
   "cell_type": "code",
   "execution_count": null,
   "metadata": {},
   "outputs": [],
   "source": [
    "# rename column name"
   ]
  },
  {
   "cell_type": "code",
   "execution_count": null,
   "metadata": {},
   "outputs": [],
   "source": [
    "# print unique values"
   ]
  },
  {
   "cell_type": "code",
   "execution_count": null,
   "metadata": {},
   "outputs": [],
   "source": [
    "#  count values"
   ]
  },
  {
   "cell_type": "code",
   "execution_count": null,
   "metadata": {},
   "outputs": [],
   "source": [
    "# calculate mean hour hour for the condition"
   ]
  },
  {
   "cell_type": "markdown",
   "metadata": {},
   "source": [
    "--------------"
   ]
  },
  {
   "cell_type": "markdown",
   "metadata": {},
   "source": [
    "### 📖 Create Pivot Tables from datafarme\n",
    "A pivot table aggregates a column’s values and groups the results by using other columns’ values. The word aggregate describes a summary computation that involves multiple values. Example aggregations include average, sum, median, and count. A pivot table in pandas is similar to the Pivot Table feature in Microsoft Excel.\n",
    "\n",
    "#### 💭 Questions\n",
    "- 1- use `mean` aggregation function to calculate the average for columns based on unique each `education` as an index. explain the results in a markdown cell.\n",
    "- 2- with considering `education` as an index, calculate `maximum` of hours for each `income`. Can we conclude that high incomes always require more working hours?\n",
    "- 3- (Bonus) calculate `min` age for each `income` and each `gender` with considering `race` as index.\n",
    "- 4- (Bonus) calculate `mean` hours for each `race`  and each `income` with considering `occupation` as an index. Can you tell us what the `NaNs` are in the result?"
   ]
  },
  {
   "cell_type": "markdown",
   "metadata": {},
   "source": [
    "**Write the answer below:**  "
   ]
  },
  {
   "cell_type": "code",
   "execution_count": null,
   "metadata": {},
   "outputs": [],
   "source": [
    "# 1"
   ]
  },
  {
   "cell_type": "markdown",
   "metadata": {},
   "source": [
    "!Expalain results here!"
   ]
  },
  {
   "cell_type": "code",
   "execution_count": null,
   "metadata": {},
   "outputs": [],
   "source": [
    "# 2"
   ]
  },
  {
   "cell_type": "code",
   "execution_count": null,
   "metadata": {},
   "outputs": [],
   "source": [
    "# 3 (Bonus)"
   ]
  },
  {
   "cell_type": "code",
   "execution_count": null,
   "metadata": {},
   "outputs": [],
   "source": [
    "# 4 (Bonus)"
   ]
  },
  {
   "cell_type": "markdown",
   "metadata": {},
   "source": [
    "------------------------------------"
   ]
  },
  {
   "cell_type": "markdown",
   "metadata": {},
   "source": [
    "### 📖 Groupby Object"
   ]
  },
  {
   "cell_type": "markdown",
   "metadata": {},
   "source": [
    "The pandas library’s GroupBy object is a storage container for grouping DataFrame rows into buckets. It provides a set of methods to aggregate and analyze each independent group in the collection. It allows us to extract rows at specific index positions within each group. It also offers a convenient way to iterate over the groups of rows. There’s lots of power packed into a GroupBy object, so let’s see what it’s capable of doing.\n",
    "\n",
    "#### 💭 Questions\n",
    "- 1- calculate `max` and `min` of features for each `gender` and `income`. Which gender has the maximum avarage per hour income?\n",
    "- 2- calculate `mean` and `count` of `age` for each `gender` and `income`. Can you see any relationship between these three parameters (`age`, `gender` and `income`)?\n",
    "- 3- (Bonus) for all persons with `white` race or `Adm-clerical` Occupation and all educations except `11th`, calculate `mean` and `median` for each `gender` and `income`."
   ]
  },
  {
   "cell_type": "code",
   "execution_count": null,
   "metadata": {},
   "outputs": [],
   "source": [
    "# 1"
   ]
  },
  {
   "cell_type": "code",
   "execution_count": null,
   "metadata": {},
   "outputs": [],
   "source": [
    "# 2"
   ]
  },
  {
   "cell_type": "code",
   "execution_count": null,
   "metadata": {},
   "outputs": [],
   "source": [
    "# 3(Bonus)"
   ]
  },
  {
   "cell_type": "markdown",
   "metadata": {},
   "source": [
    "-------------------------"
   ]
  },
  {
   "cell_type": "markdown",
   "metadata": {},
   "source": [
    "### 📖 Merge and Join\n",
    "Pandas provide various facilities for easily combining Series or DataFrame with various kinds of set logic for the indexes and relational algebra functionality in the case of join / merge-type operations. \n",
    "\n",
    "Both join and merge can be used to combine two dataframes but the join method combines two dataframes on the basis of their indexes whereas the merge method is more versatile and allows us to specify columns beside the index to join on for both dataframes.\n",
    "\n",
    "#### 💭 Questions\n",
    "- Let’s first create two dataframes to show the effect of the two methods.\n"
   ]
  },
  {
   "cell_type": "markdown",
   "metadata": {},
   "source": [
    "Dataframe1:"
   ]
  },
  {
   "cell_type": "markdown",
   "metadata": {},
   "source": [
    "| id | ML | RL | Bigdata |  \n",
    "| :- | -: | :-: | :-: |\n",
    "| 81010 | 20 | 16 | 19\n",
    "| 81011 | 18.5 | 20 | 14\n",
    "| 81012 | 15 | 19.6 | 19.5\n",
    "| 81013 | 19.9 | 19.49 | 19"
   ]
  },
  {
   "cell_type": "markdown",
   "metadata": {},
   "source": [
    "Dataframe2:"
   ]
  },
  {
   "cell_type": "markdown",
   "metadata": {},
   "source": [
    "| id | GPA | UNI |\n",
    "| :- | -: | :-: |\n",
    "| 81011 | 19 | T0\n",
    "| 81012 | 18.5 | T1\n",
    "| 81013 | 17 | T2\n",
    "| 81014 | 19.9 | T5\n",
    "| 81015 | 20 | T3"
   ]
  },
  {
   "cell_type": "markdown",
   "metadata": {},
   "source": [
    "**Write the answer below:**  "
   ]
  },
  {
   "cell_type": "code",
   "execution_count": null,
   "metadata": {},
   "outputs": [],
   "source": [
    "# create DFs"
   ]
  },
  {
   "cell_type": "markdown",
   "metadata": {},
   "source": [
    "#### 💭 Questions\n",
    "- merge two dataframe based on `id` columns. (the default mode or `how` parameter of this method is `inner`)\n",
    "- merge two dataframes based on the `id` columns and `Outer` mode\n",
    "- (Bonus) merge two dataframes based `id` columns and `left` and `right` mode\n",
    "- (Bonus) what's the difference Between `inner` and `outer` mode? write your answer in a markdown cell"
   ]
  },
  {
   "cell_type": "markdown",
   "metadata": {},
   "source": [
    "**Write the answer below:**  "
   ]
  },
  {
   "cell_type": "code",
   "execution_count": null,
   "metadata": {},
   "outputs": [],
   "source": [
    "# inner merge on id"
   ]
  },
  {
   "cell_type": "code",
   "execution_count": null,
   "metadata": {},
   "outputs": [],
   "source": [
    "# outer merge on id"
   ]
  },
  {
   "cell_type": "code",
   "execution_count": 4,
   "metadata": {},
   "outputs": [],
   "source": [
    "# (Bonus) left and right merge"
   ]
  },
  {
   "cell_type": "markdown",
   "metadata": {},
   "source": [
    "(Bonus) difference of inner and outer"
   ]
  },
  {
   "cell_type": "markdown",
   "metadata": {},
   "source": [
    "#### 💭 Questions\n",
    "- join dataframe1 with dataframe2 \n",
    "- join dataframe1 with dataframe2 on the `id` column  \n",
    "(hint) you need to set the id column as an index column."
   ]
  },
  {
   "cell_type": "markdown",
   "metadata": {},
   "source": [
    "**Write the answer below:**  "
   ]
  },
  {
   "cell_type": "code",
   "execution_count": null,
   "metadata": {},
   "outputs": [],
   "source": [
    "# join two dataframes"
   ]
  },
  {
   "cell_type": "code",
   "execution_count": null,
   "metadata": {},
   "outputs": [],
   "source": [
    "# join based on id column"
   ]
  },
  {
   "cell_type": "markdown",
   "metadata": {},
   "source": [
    "# Good Luck 😉"
   ]
  },
  {
   "cell_type": "markdown",
   "metadata": {},
   "source": [
    "# Reference:\n",
    "- Pandas in Action, Boris Paskhaver, Manning Publication."
   ]
  }
 ],
 "metadata": {
  "kernelspec": {
   "display_name": "Python 3.8.2 64-bit",
   "language": "python",
   "name": "python3"
  },
  "language_info": {
   "codemirror_mode": {
    "name": "ipython",
    "version": 3
   },
   "file_extension": ".py",
   "mimetype": "text/x-python",
   "name": "python",
   "nbconvert_exporter": "python",
   "pygments_lexer": "ipython3",
   "version": "3.8.2"
  },
  "orig_nbformat": 4,
  "vscode": {
   "interpreter": {
    "hash": "5c3183615832a26a6e752fe1c57826911e31ec709aa29e730b8e3637a0be59be"
   }
  }
 },
 "nbformat": 4,
 "nbformat_minor": 2
}
