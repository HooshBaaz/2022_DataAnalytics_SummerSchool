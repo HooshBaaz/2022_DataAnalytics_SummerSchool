{
 "cells": [
  {
   "cell_type": "code",
   "execution_count": 1,
   "id": "1186cf64",
   "metadata": {},
   "outputs": [],
   "source": [
    "import json\n",
    "  \n",
    "# read json data file\n",
    "f=open('taxi_requests.json')\n",
    "data = json.load(f)\n",
    "f.close()\n",
    "\n",
    "login_times=data['request_time']\n",
    "\n",
    "# uncomment next line to see how the data looks like\n",
    "#display(login_times) "
   ]
  },
  {
   "cell_type": "code",
   "execution_count": 2,
   "id": "32d35eb7",
   "metadata": {},
   "outputs": [
    {
     "name": "stdout",
     "output_type": "stream",
     "text": [
      "56598.0\n",
      "<class 'float'>\n"
     ]
    }
   ],
   "source": [
    "# convert time string to timestamps\n",
    "from datetime import datetime\n",
    "from datetime import timezone,timedelta\n",
    "\n",
    "tz_ir = timezone(timedelta(hours=4, minutes=30), 'Asia/Tehran')\n",
    "\n",
    "timestamps=[datetime.strptime(login_times[i], '%Y-%m-%d %H:%M:%S').replace(tzinfo=tz_ir).timestamp() for i in range(len(login_times))]\n",
    "print(timestamps[0])\n",
    "print(type(timestamps[0]))\n",
    "#timestamps"
   ]
  },
  {
   "cell_type": "markdown",
   "id": "d11ea248",
   "metadata": {},
   "source": [
    "# Written questions\n",
    "\n",
    "Please search online and read the documentation for strptime() and timestamp() and write down short answers to the following questions:\n",
    "\n",
    "A- What does the previous cell do? it uses strptime to get timestamps\n",
    "\n",
    "B- What does the concept of \"timestamp\" mean? What are its type and unit?\n",
    "A timestamp is encoded information generally used in UNIX, which indicates the date and time at which a particular event has occurred.\n",
    "its type is float and its unit is in milliseconds\n",
    "\n",
    "C- Is the variable \"timestamps\" a list or a numpy array?\n",
    "it is a list and it can be converted to numpy array\n",
    "\n",
    "D- Which day of week (Sunday, Monday, ...) is 1970-01-01?\n",
    "it is Thuseday\n",
    "\n",
    "E- Which function can convert a timestamp back to datetime?\n",
    "strptime is used to decode timestamp into datetime"
   ]
  },
  {
   "cell_type": "markdown",
   "id": "33c6c4d8",
   "metadata": {},
   "source": [
    "# Project questions\n",
    "\n",
    "Explore data, write code, and search online to answer the following questions about the data:\n",
    "\n",
    "1- How many days are there in the data?\n",
    "\n",
    "2- Which date was the busiest date (the day with the most requests)? Which date was the second busiest date?\n",
    "\n",
    "3- Which hour was the busiest hour (the hour with the most requests)?\n",
    "\n",
    "4- Are there any two requests that happened at the same time?\n",
    "\n",
    "5- What is the longest gap between two consequent requests?\n",
    "\n",
    "6- Overall, does the volume of requests increase or decrease over time?\n",
    "\n",
    "7- Bonus: For each day calculate the average request time for all requests between 6:00 AM and 9:00 AM\n",
    "\n",
    "8- Bonus: Which day of week is the busiest?\n",
    "\n",
    "9- Bonus: Calculate the average number of requests for each of the 7*24 hours of the week.\n",
    "\n",
    "10- Bonus: Which dates other than the standard weekend days were holidays?"
   ]
  },
  {
   "cell_type": "markdown",
   "id": "8fd1476d",
   "metadata": {},
   "source": [
    "# Prepration "
   ]
  },
  {
   "cell_type": "code",
   "execution_count": 3,
   "id": "4e783084",
   "metadata": {},
   "outputs": [],
   "source": [
    "import numpy as np \n",
    "from collections import Counter\n",
    "First_day_weekday=3\n",
    "\n",
    "#arrays\n",
    "npTimestamp= np.array(timestamps).astype(int) # changing timestamps to numpy\n",
    "DayArray= (npTimestamp// (24*60*60)).astype(int) # Find day number for each timestamp\n",
    "HourArray= ((npTimestamp/60/60)% (24)).astype(int) # Find Request hour\n",
    "WeekDayArray= ((npTimestamp// (24*60*60)+First_day_weekday)%7).astype(int) # Find weeekday number\n",
    "\n",
    "# total parameters\n",
    "Total_days_of_dataset= max(DayArray)-min(DayArray)\n",
    "Total_weeks= Total_days_of_dataset//7 # num of weeks of the dataset"
   ]
  },
  {
   "cell_type": "markdown",
   "id": "9d3b4257",
   "metadata": {},
   "source": [
    "# Solution to Q1\n",
    "How many days are there in the data?"
   ]
  },
  {
   "cell_type": "code",
   "execution_count": 4,
   "id": "bb24cc98",
   "metadata": {},
   "outputs": [
    {
     "name": "stdout",
     "output_type": "stream",
     "text": [
      "Time duration of data set is 103 days\n"
     ]
    }
   ],
   "source": [
    "print('Time duration of data set is', Total_days_of_dataset+1, 'days')# adding 1 day for counting the first day"
   ]
  },
  {
   "cell_type": "markdown",
   "id": "eb100a4f",
   "metadata": {},
   "source": [
    "# Solution to Q2\n",
    " Which date was the busiest date (the day with the most requests)? Which date was the second busiest date?"
   ]
  },
  {
   "cell_type": "code",
   "execution_count": 5,
   "id": "dbd634d2",
   "metadata": {},
   "outputs": [
    {
     "name": "stdout",
     "output_type": "stream",
     "text": [
      "Buisiest_day is 92\n",
      "second Buisiest_day is 72\n"
     ]
    }
   ],
   "source": [
    "Dcounter= Counter(DayArray) # find request per day\n",
    "print ('Buisiest_day is' ,Dcounter.most_common(1)[0][0])\n",
    "print ('second Buisiest_day is' ,Dcounter.most_common(2)[1][0])"
   ]
  },
  {
   "cell_type": "markdown",
   "id": "e0cf9c1f",
   "metadata": {},
   "source": [
    "# Solution to Q3\n",
    "3- Which hour was the busiest hour (the hour with the most requests)?"
   ]
  },
  {
   "cell_type": "code",
   "execution_count": 6,
   "id": "d1cb6d70",
   "metadata": {},
   "outputs": [
    {
     "name": "stdout",
     "output_type": "stream",
     "text": [
      "Buisiest hour is 18\n"
     ]
    }
   ],
   "source": [
    "Hcounter= Counter(HourArray) # find request per day\n",
    "Busiest_hour= Hcounter.most_common(1)[0][0] #find buisiest hour\n",
    "print ('Buisiest hour is' ,Busiest_hour)"
   ]
  },
  {
   "cell_type": "markdown",
   "id": "011a8c6d",
   "metadata": {},
   "source": [
    "# Solution to Q4\n",
    "4- Are there any two requests that happened at the same time?"
   ]
  },
  {
   "cell_type": "code",
   "execution_count": 7,
   "id": "f948a3d1",
   "metadata": {},
   "outputs": [
    {
     "name": "stdout",
     "output_type": "stream",
     "text": [
      "Yes there are  92 of them, for example first one happend at\n",
      "1970-01-03 23:17:58\n"
     ]
    }
   ],
   "source": [
    "Same_time_request_arg= np.where (np.diff (npTimestamp)==0) # if diffrence is zero then requests are at the same time\n",
    "print('Yes there are ',len(Same_time_request_arg[0]), 'of them, for example first one happend at')\n",
    "print(login_times[ Same_time_request_arg[0][0]])"
   ]
  },
  {
   "cell_type": "markdown",
   "id": "4a9615dc",
   "metadata": {},
   "source": [
    "# Solution to Q5\n",
    "5- What is the longest gap between two consequent requests?"
   ]
  },
  {
   "cell_type": "code",
   "execution_count": 8,
   "id": "5727228e",
   "metadata": {},
   "outputs": [
    {
     "name": "stdout",
     "output_type": "stream",
     "text": [
      "max time between consequent requests is 5999 seconds\n"
     ]
    }
   ],
   "source": [
    "print('max time between consequent requests is', np.max (np.diff (npTimestamp)),'seconds')"
   ]
  },
  {
   "cell_type": "markdown",
   "id": "0e34628f",
   "metadata": {},
   "source": [
    "# Solution to Q6\n",
    "6- Overall, does the volume of requests increase or decrease over time?"
   ]
  },
  {
   "cell_type": "code",
   "execution_count": 9,
   "id": "43b13400",
   "metadata": {},
   "outputs": [
    {
     "name": "stdout",
     "output_type": "stream",
     "text": [
      "It it is gradually increasing\n"
     ]
    },
    {
     "data": {
      "image/png": "[encoded data removed]",
      "text/plain": [
       "<Figure size 432x288 with 1 Axes>"
      ]
     },
     "metadata": {
      "needs_background": "light"
     },
     "output_type": "display_data"
    }
   ],
   "source": [
    "from matplotlib import pyplot as plt\n",
    "plt.hist(DayArray, bins=10)\n",
    "print('It it is gradually increasing')"
   ]
  },
  {
   "cell_type": "markdown",
   "id": "f481c395",
   "metadata": {},
   "source": [
    "# Solution to Q7\n",
    "7- Bonus: For each day calculate the average request time for all requests between 6:00 AM and 9:00 AM"
   ]
  },
  {
   "cell_type": "code",
   "execution_count": 10,
   "id": "6265c32b",
   "metadata": {},
   "outputs": [],
   "source": [
    "morning_request= ((np.logical_and((HourArray>5) ,(HourArray<9) )))\n",
    "for n in range(1,len(Dcounter)):\n",
    "    Day_n_requests= (DayArray==n)\n",
    "    morning_request_day= np.where( (np.logical_and( Day_n_requests, morning_request)))\n",
    "    Average_Morning_request= np.mean( npTimestamp[morning_request_day])\n",
    "#     print('average morning request time for day', n ,'is',\n",
    "#           ((Average_Morning_request/3600)%24 ).astype(int),':',\n",
    "#           ((Average_Morning_request/60)% (60) ).astype(int),':',\n",
    "#           ((Average_Morning_request)% (60 )).astype(int))"
   ]
  },
  {
   "cell_type": "markdown",
   "id": "8d94b3db",
   "metadata": {},
   "source": [
    "# Solution to Q8\n",
    "8- Bonus: Which day of week is the busiest?"
   ]
  },
  {
   "cell_type": "code",
   "execution_count": 11,
   "id": "4733e684",
   "metadata": {},
   "outputs": [
    {
     "name": "stdout",
     "output_type": "stream",
     "text": [
      "Buisiest Week day is 5 shanbeh\n"
     ]
    }
   ],
   "source": [
    "Weekcounter= Counter(WeekDayArray) # find request per day\n",
    "print ('Buisiest Week day is' ,Weekcounter.most_common(1)[0][0] ,'shanbeh')"
   ]
  },
  {
   "cell_type": "markdown",
   "id": "2938b73d",
   "metadata": {},
   "source": [
    "# Solution to Q9\n",
    "9- Bonus: Calculate the average number of requests for each of the 7*24 hours of the week."
   ]
  },
  {
   "cell_type": "code",
   "execution_count": 12,
   "id": "9c6a3f58",
   "metadata": {},
   "outputs": [],
   "source": [
    "import pandas as pd\n",
    "df= pd.DataFrame(zip(DayArray, HourArray, WeekDayArray, morning_request ), index=npTimestamp,\n",
    "                columns= ['Day','Hour','WeekDay','ismorning'])\n",
    "WeekHourTable= df.groupby(['WeekDay']).Hour.value_counts()/Total_weeks\n",
    "# print(WeekHourTable)"
   ]
  },
  {
   "cell_type": "markdown",
   "id": "a343d308",
   "metadata": {},
   "source": [
    "# Solution to Q10\n",
    "10- Bonus: Which dates other than the standard weekend days were holidays?"
   ]
  },
  {
   "cell_type": "code",
   "execution_count": 13,
   "id": "7fbb0e42",
   "metadata": {},
   "outputs": [
    {
     "name": "stdout",
     "output_type": "stream",
     "text": [
      "WeekDay\n",
      "0    159.428571\n",
      "1    157.785714\n",
      "2    167.714286\n",
      "3    180.785714\n",
      "4    181.000000\n",
      "5     94.642857\n",
      "6     88.642857\n",
      "Name: ismorning, dtype: float64\n",
      "thresold is  50\n"
     ]
    }
   ],
   "source": [
    "avg_morning_request_non_weekend= df.groupby(['WeekDay']).ismorning.sum()/Total_weeks\n",
    "print(avg_morning_request_non_weekend)\n",
    "threshold= 50 # (max - min) /2\n",
    "print('thresold is ',round(threshold))"
   ]
  },
  {
   "cell_type": "code",
   "execution_count": 14,
   "id": "2de928f0",
   "metadata": {},
   "outputs": [
    {
     "name": "stdout",
     "output_type": "stream",
     "text": [
      "Day 1 is weekend\n",
      "because total morning requests 129 has decreased alot from the 181 (the average of the weekday) \n",
      "Day 8 is weekend\n",
      "because total morning requests 130 has decreased alot from the 181 (the average of the weekday) \n",
      "Day 21 is weekend\n",
      "because total morning requests 122 has decreased alot from the 181 (the average of the weekday) \n",
      "Day 32 is weekend\n",
      "because total morning requests 47 has decreased alot from the 159 (the average of the weekday) \n"
     ]
    }
   ],
   "source": [
    "morning_request_per_day= df.groupby(['Day','WeekDay']).ismorning.sum().reset_index(name='counts')\n",
    "for i in range(1, Total_days_of_dataset) :\n",
    "    if((morning_request_per_day.WeekDay[i] <5 )): # the day is not weekend\n",
    "         if (morning_request_per_day.counts[i]< (avg_morning_request_non_weekend[morning_request_per_day.WeekDay[i]]- threshold)):\n",
    "         # daily morning request < average of that weekday - threshold\n",
    "            print('Day',i,'is weekend')\n",
    "            print('because total morning requests',morning_request_per_day.counts[i],'has decreased alot from the',\n",
    "            round(avg_morning_request_non_weekend[morning_request_per_day.WeekDay[i]]) ,'(the average of the weekday) ')"
   ]
  },
  {
   "cell_type": "markdown",
   "id": "590c2ad9",
   "metadata": {},
   "source": [
    "# Sample answer to problem 2\n",
    "\n",
    "Here is an answer to problem 2. We advise to try to solve this problem before you see the answer below\n"
   ]
  },
  {
   "cell_type": "code",
   "execution_count": 15,
   "id": "dd16a91f",
   "metadata": {},
   "outputs": [
    {
     "name": "stdout",
     "output_type": "stream",
     "text": [
      "the busiest day is day number  92\n"
     ]
    }
   ],
   "source": [
    "day_number=np.array(timestamps).astype(int)//(24*60*60) # find day number for all requests\n",
    "unique, counts = np.unique(day_number, return_counts=True) # find how many requests are in each day\n",
    "maxday=np.argmax(counts) # find the day with the maximum requests\n",
    "print(\"the busiest day is day number \",unique[maxday])"
   ]
  },
  {
   "cell_type": "code",
   "execution_count": null,
   "id": "755e1dac",
   "metadata": {},
   "outputs": [],
   "source": []
  },
  {
   "cell_type": "code",
   "execution_count": null,
   "id": "76f59245",
   "metadata": {},
   "outputs": [],
   "source": []
  }
 ],
 "metadata": {
  "kernelspec": {
   "display_name": "Python 3 (ipykernel)",
   "language": "python",
   "name": "python3"
  },
  "language_info": {
   "codemirror_mode": {
    "name": "ipython",
    "version": 3
   },
   "file_extension": ".py",
   "mimetype": "text/x-python",
   "name": "python",
   "nbconvert_exporter": "python",
   "pygments_lexer": "ipython3",
   "version": "3.9.7"
  }
 },
 "nbformat": 4,
 "nbformat_minor": 5
}
