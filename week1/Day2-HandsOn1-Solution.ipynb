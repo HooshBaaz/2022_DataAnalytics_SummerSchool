{
 "cells": [
  {
   "cell_type": "markdown",
   "metadata": {},
   "source": [
    "\n",
    "<img src=\"../assets/logo3.png\" width=\"200\" height=\"200\" >\n",
    "<div style=\"display:block\"><br><br>\n",
    "    <div style=\"display:block\" align=left display=block> \n",
    "        <font size=5><b>Day 2 Hands-On 1 (Solution) - Numpy Basics</b></font><br>\n",
    "        <hr/>\n",
    "</div>"
   ]
  },
  {
   "cell_type": "markdown",
   "metadata": {},
   "source": [
    "**Execute the cell below. By running this cell, a dataset will be loaded from `patents_small.csv` file. In this notebook, you are asked to analyze this data in several ways. There are three numpy arrays in this dataset:**\n",
    "- `patent_number`: a unique identifier for each patetnt\n",
    "- `patent features`: a vector of 16 features describing several properties of each patent\n",
    "- `category`: the category to which a patent belongs "
   ]
  },
  {
   "cell_type": "code",
   "execution_count": 2,
   "metadata": {},
   "outputs": [],
   "source": [
    "import pandas as pd\n",
    "import numpy as np\n",
    "\n",
    "df = pd.read_csv('patents.csv')\n",
    "df.head()\n",
    "patent_number = df['publication_number'].to_numpy()\n",
    "patent_features = df['patent_embedding'].to_numpy()\n",
    "temp = []\n",
    "for i in range(patent_features.size):\n",
    "    s = str(patent_features[i])\n",
    "    s1 = s.replace(r'\\n', '')\n",
    "    temp.append(\n",
    "        np.array(s.split()[1:-1], dtype='float')[:16]\n",
    "    )\n",
    "\n",
    "patent_features = np.stack(temp)\n",
    "patent_category = df['category']"
   ]
  },
  {
   "cell_type": "markdown",
   "metadata": {},
   "source": [
    "<hr />"
   ]
  },
  {
   "cell_type": "markdown",
   "metadata": {},
   "source": [
    "#### 1- Which patent has the highest norm? (Eucledian distance from origin)\n"
   ]
  },
  {
   "cell_type": "code",
   "execution_count": 4,
   "metadata": {},
   "outputs": [
    {
     "name": "stdout",
     "output_type": "stream",
     "text": [
      "[[0.1219383  0.19354777 0.16784897 ... 0.11544574 0.13356323 0.13686935]]\n",
      "max 0.3530806305286102\n",
      "max id 10839\n",
      "category: 5 - patent: CH-527846-A\n"
     ]
    }
   ],
   "source": [
    "import scipy.spatial.distance as ssd\n",
    "\n",
    "# method 1\n",
    "norms=np.sqrt(np.sum(patent_features**2,axis=1))\n",
    "\n",
    "# method 2\n",
    "origin = np.zeros((1, 16))\n",
    "norms = ssd.cdist(origin, patent_features)\n",
    "\n",
    "print(norms)\n",
    "print('max', np.max(norms))\n",
    "print('max id', np.argmax(norms))\n",
    "print('category:',patent_category[np.argmax(norms)], '- patent:', patent_number[np.argmax(norms)])"
   ]
  },
  {
   "cell_type": "code",
   "execution_count": 44,
   "metadata": {},
   "outputs": [
    {
     "data": {
      "text/plain": [
       "True"
      ]
     },
     "execution_count": 44,
     "metadata": {},
     "output_type": "execute_result"
    }
   ],
   "source": [
    "0.1+0.2+0.7==1"
   ]
  },
  {
   "cell_type": "markdown",
   "metadata": {},
   "source": [
    "#### 2- Find the two patents that are the farthest from eachother."
   ]
  },
  {
   "cell_type": "code",
   "execution_count": 11,
   "metadata": {},
   "outputs": [],
   "source": [
    "import scipy.spatial.distance as ssd\n",
    "\n",
    "norms=ssd.cdist(patent_features,patent_features)"
   ]
  },
  {
   "cell_type": "code",
   "execution_count": 19,
   "metadata": {
    "scrolled": true
   },
   "outputs": [
    {
     "name": "stdout",
     "output_type": "stream",
     "text": [
      "1661 9236\n",
      "0.5612983586484407\n",
      "0.5612983586484407\n"
     ]
    }
   ],
   "source": [
    "# method 1 for finding the max index in a 2D matrix\n",
    "m = np.argmax(norms)\n",
    "row, column = np.unravel_index(m,norms.shape)\n",
    "\n",
    "# method 2\n",
    "row = m // norms.shape[0]\n",
    "column = m % norms.shape[0]\n",
    "\n",
    "print(row, column)\n",
    "print(norms[row, column])\n",
    "print(np.max(norms))"
   ]
  },
  {
   "cell_type": "markdown",
   "metadata": {},
   "source": [
    "#### 3- Write a function that, given a patent number, finds its nearest neighbour.\n"
   ]
  },
  {
   "cell_type": "code",
   "execution_count": 20,
   "metadata": {},
   "outputs": [
    {
     "name": "stdout",
     "output_type": "stream",
     "text": [
      "(array([10839]),)\n"
     ]
    }
   ],
   "source": [
    "dists = ssd.cdist(patent_features, patent_features)"
   ]
  },
  {
   "cell_type": "code",
   "execution_count": 26,
   "metadata": {},
   "outputs": [
    {
     "data": {
      "text/plain": [
       "6364"
      ]
     },
     "execution_count": 26,
     "metadata": {},
     "output_type": "execute_result"
    }
   ],
   "source": [
    "def nearest_neighbor(p_number):\n",
    "    p_index = np.where(patent_number == p_number)[0][0]\n",
    "    nearest_id = np.argsort(dists[p_index])[1]\n",
    "    return nearest_id\n",
    "\n",
    "nearest_neighbor('CH-527846-A')"
   ]
  },
  {
   "cell_type": "markdown",
   "metadata": {},
   "source": [
    "#### 4- For each patent category, find the cluster center. This quantity is computed by taking average of all patents associated with each cluster."
   ]
  },
  {
   "cell_type": "code",
   "execution_count": 27,
   "metadata": {},
   "outputs": [
    {
     "name": "stdout",
     "output_type": "stream",
     "text": [
      "[array([ 0.01021772,  0.0140427 , -0.03571764,  0.05286253, -0.04302765,\n",
      "       -0.00263517,  0.02233755, -0.04675915,  0.01272022,  0.03165236,\n",
      "        0.01146286, -0.00024609,  0.01377522,  0.00555212,  0.02024696,\n",
      "       -0.04467966]), array([ 0.01211396, -0.0304879 ,  0.05560378, -0.03702774,  0.00110319,\n",
      "        0.01892597, -0.04493763,  0.01639101,  0.03405147,  0.01160055,\n",
      "       -0.0039251 ,  0.01961012,  0.0012078 ,  0.02051051, -0.04779424,\n",
      "       -0.01136447]), array([ 0.01086092, -0.02427292,  0.06917166, -0.04593048, -0.02812299,\n",
      "       -0.0124727 , -0.04987288,  0.00655626,  0.0098301 , -0.01550384,\n",
      "        0.00122531,  0.00426678,  0.00017979,  0.02210309, -0.02753392,\n",
      "       -0.00829946]), array([ 0.01844678,  0.00991557, -0.05545595,  0.02615103, -0.07078419,\n",
      "       -0.0115121 ,  0.04539117, -0.05906673, -0.02173693,  0.00203886,\n",
      "        0.00052992,  0.02329754, -0.03247548,  0.03103352,  0.0140693 ,\n",
      "       -0.06104154]), array([ 0.01498087,  0.02345642, -0.00569218,  0.04002896, -0.03471142,\n",
      "        0.00468704,  0.01612199, -0.03838371,  0.00732594,  0.00352215,\n",
      "        0.00011503,  0.01232852, -0.01395763,  0.00333184,  0.04570635,\n",
      "       -0.0292569 ]), array([ 0.01717531,  0.01595333, -0.03129371,  0.05920419, -0.05942006,\n",
      "       -0.03559038, -0.01542298, -0.05486974,  0.00243557,  0.004506  ,\n",
      "       -0.02005723,  0.00059813, -0.00323446,  0.00388401,  0.01666861,\n",
      "       -0.02052029]), array([ 0.02380652, -0.00299412,  0.0480317 , -0.03110474,  0.00233771,\n",
      "        0.0145927 , -0.0331035 ,  0.00962097,  0.00774661,  0.00056323,\n",
      "        0.01158552, -0.00853263,  0.00206507,  0.04807342, -0.03418843,\n",
      "        0.00104518]), array([ 8.79519076e-03, -4.88311352e-02,  2.29908733e-02, -5.66476866e-02,\n",
      "       -9.19576819e-03,  4.12041488e-02, -5.63686219e-02, -1.33915669e-02,\n",
      "        1.58014840e-02,  1.14049335e-05,  1.64819622e-02, -2.36509750e-02,\n",
      "        1.72316331e-02,  2.15542465e-02, -5.94789040e-02, -1.30144330e-02])]\n"
     ]
    }
   ],
   "source": [
    "centroids = []\n",
    "for cat in patent_category.unique():\n",
    "    cat_patents = patent_features[patent_category==cat]\n",
    "    centroids.append(\n",
    "        np.mean(cat_patents, axis=0)\n",
    "    )\n",
    "\n",
    "print(centroids)"
   ]
  },
  {
   "cell_type": "markdown",
   "metadata": {},
   "source": [
    "#### 5- How many patents have a nearest neighbour that is in the same category?"
   ]
  },
  {
   "cell_type": "code",
   "execution_count": 30,
   "metadata": {},
   "outputs": [
    {
     "name": "stdout",
     "output_type": "stream",
     "text": [
      "13000\n"
     ]
    }
   ],
   "source": [
    "nearest_neighbor_category = []\n",
    "for patent in patent_number:\n",
    "    nearest_patent = nearest_neighbor(patent)\n",
    "    nearest_category = patent_category[nearest_patent]\n",
    "    nearest_neighbor_category.append(nearest_category)\n",
    "\n",
    "nearest_neighbor_category = np.array(nearest_neighbor_category)\n",
    "result = np.sum(patent_category == nearest_neighbor_category)\n",
    "print(result)"
   ]
  },
  {
   "cell_type": "markdown",
   "metadata": {},
   "source": [
    "#### 6- What is the average and std of distances between every pair of patents?\n"
   ]
  },
  {
   "cell_type": "code",
   "execution_count": 31,
   "metadata": {},
   "outputs": [
    {
     "name": "stdout",
     "output_type": "stream",
     "text": [
      "mean pair distance = 0.1774779588870755, std pair distance = 0.06172153433074445\n"
     ]
    }
   ],
   "source": [
    "dists = ssd.cdist(patent_features, patent_features)\n",
    "mean_pair_distance = np.mean(dists)\n",
    "std_pair_distance = np.std(dists)\n",
    "\n",
    "print(f'mean pair distance = {mean_pair_distance}, std pair distance = {std_pair_distance}')"
   ]
  },
  {
   "cell_type": "markdown",
   "metadata": {},
   "source": [
    "#### 7- What is the average and std of distances between every pair of patents within a category? Using these calculated quantities, which cluster do you think is more condensed? Which one is more scattered?"
   ]
  },
  {
   "cell_type": "code",
   "execution_count": 35,
   "metadata": {},
   "outputs": [
    {
     "name": "stdout",
     "output_type": "stream",
     "text": [
      "[0.10235593475072612, 0.1040055310233456, 0.13098792252469746, 0.14095499322691948, 0.13610883703695129, 0.13874011203724912, 0.13052366960262599, 0.13459851471369638]\n",
      "[0.030560683465341895, 0.03180215536017749, 0.03973015614729102, 0.04403433221841342, 0.04026897604426641, 0.04483107158434705, 0.03853325352892595, 0.04241648037596702]\n",
      "the most scattered cluster:  3\n",
      "the most condensed cluster:  0\n"
     ]
    }
   ],
   "source": [
    "distance_means, distance_stds = [], []\n",
    "for i in patent_category.unique():\n",
    "    cat_patents = patent_features[patent_category==i]\n",
    "    within_pair_distance = ssd.cdist(cat_patents, cat_patents)\n",
    "    distance_means.append(\n",
    "        np.mean(within_pair_distance)\n",
    "    )\n",
    "    distance_stds.append(\n",
    "        np.std(within_pair_distance)\n",
    "    )\n",
    "\n",
    "print(distance_means)\n",
    "print(distance_stds)\n",
    "print('the most scattered cluster: ', np.argmax(distance_means))\n",
    "print('the most condensed cluster: ', np.argmin(distance_means))"
   ]
  }
 ],
 "metadata": {
  "kernelspec": {
   "display_name": "Python 3 (ipykernel)",
   "language": "python",
   "name": "python3"
  },
  "language_info": {
   "codemirror_mode": {
    "name": "ipython",
    "version": 3
   },
   "file_extension": ".py",
   "mimetype": "text/x-python",
   "name": "python",
   "nbconvert_exporter": "python",
   "pygments_lexer": "ipython3",
   "version": "3.8.12"
  },
  "vscode": {
   "interpreter": {
    "hash": "25aba1949f44877099d449300e326e4451e69b41f5f01d7de2dc51cdf7c75fa4"
   }
  }
 },
 "nbformat": 4,
 "nbformat_minor": 4
}
