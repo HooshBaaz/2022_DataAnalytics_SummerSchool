{
 "cells": [
  {
   "cell_type": "markdown",
   "metadata": {},
   "source": [
    "<img src=\"../assets/logo3.png\" width=\"200\" height=\"200\" align = center>\n",
    "\n",
    "<div style=\"display:block\"><br><br>\n",
    "    <div style=\"display:block\" align=left display=block> \n",
    "        <font size=5><b>Day 6 HandsOn - Introduction to Regression</b></font><br>\n",
    "        <hr/>\n",
    "\n",
    "</div>\n",
    "\n",
    "In this hands-on session, you will practice applying regression analysis on a dataset to *predict* a variable based on one or several other variables. Regression Analysis is known as one of predictive methods."
   ]
  },
  {
   "cell_type": "code",
   "execution_count": 1,
   "metadata": {},
   "outputs": [],
   "source": [
    "import numpy as np\n",
    "import pandas as pd\n",
    "import matplotlib.pyplot as plt"
   ]
  },
  {
   "cell_type": "markdown",
   "metadata": {},
   "source": [
    "## Data Exploration"
   ]
  },
  {
   "cell_type": "markdown",
   "metadata": {},
   "source": [
    "**Load the house price datast from `house_price.csv` and inspect its variables. You may use pandas profiling for this purpose.**"
   ]
  },
  {
   "cell_type": "code",
   "execution_count": null,
   "metadata": {},
   "outputs": [],
   "source": []
  },
  {
   "cell_type": "markdown",
   "metadata": {},
   "source": [
    "**1. Use np.corr() method to calculate correlation matrix between every pair of variables in the dataset.**\n",
    "\n",
    "**2. Visualize the correlation matrix with a heatmap. You may use Matplotlib or Seaborn.**\n",
    "\n",
    "**3. Find the variable that is the most correlated with house price (`SalePrice` column).**"
   ]
  },
  {
   "cell_type": "code",
   "execution_count": null,
   "metadata": {},
   "outputs": [],
   "source": []
  },
  {
   "cell_type": "markdown",
   "metadata": {},
   "source": [
    "**1. Find top 5 variables that are the most correlated with house price.**\n",
    "\n",
    "**2. Draw a heatmap for correlation matrix between these 5 variables and house price.**\n"
   ]
  },
  {
   "cell_type": "code",
   "execution_count": null,
   "metadata": {},
   "outputs": [],
   "source": []
  },
  {
   "cell_type": "markdown",
   "metadata": {},
   "source": [
    "## Univariate Regression Model"
   ]
  },
  {
   "cell_type": "markdown",
   "metadata": {},
   "source": [
    "**1. Split the dataset into training set and valdation/test set. Your training set should be ~80% of your data.**\n",
    "\n",
    "**2. Using sklearn.LinearRegression() model, fit a linear regression model on the training set to predict `SalePrice` only based on the variable that is most correlated with `SalePrice`.**\n",
    "\n",
    "**3. Now, run your model on validation/test set and calculated the mean squared error. Report the error.**"
   ]
  },
  {
   "cell_type": "code",
   "execution_count": null,
   "metadata": {},
   "outputs": [],
   "source": [
    "from sklearn.linear_model import LinearRegression\n",
    "model = LinearRegression()\n",
    "# ..."
   ]
  },
  {
   "cell_type": "markdown",
   "metadata": {},
   "source": [
    "**1. Draw a scatter plot for `SalePrice` and the variable you employed to predict `SalePrice`.**\n",
    "\n",
    "**2. In this scatter plot, visualize the regression line.**\n",
    "\n",
    "**3. Do you think this linear model could predict the price in a reasonably accurate way?**"
   ]
  },
  {
   "cell_type": "code",
   "execution_count": null,
   "metadata": {},
   "outputs": [],
   "source": []
  },
  {
   "cell_type": "markdown",
   "metadata": {},
   "source": [
    "**Repeat the above analysis with a polynomial regression model with degree=2.**"
   ]
  },
  {
   "cell_type": "code",
   "execution_count": null,
   "metadata": {},
   "outputs": [],
   "source": [
    "from sklearn.preprocessing import PolynomialFeatures\n",
    "from sklearn.linear_model import LinearRegression\n",
    "\n",
    "poly = PolynomialFeatures(degree=2)\n",
    "poly_features = poly.fit_transform(\n",
    "    # ... your data\n",
    ")\n",
    "model = LinearRegression()\n",
    "# ..."
   ]
  },
  {
   "cell_type": "markdown",
   "metadata": {},
   "source": [
    "## Multivariate Regression Model"
   ]
  },
  {
   "cell_type": "markdown",
   "metadata": {},
   "source": [
    "**1. Fit a linear regression model on training set to predict `SalePrice` based on the top 5 most correlated variables that you found earlier.**\n",
    "\n",
    "**2. Predict house price on validation/test set.**\n",
    "\n",
    "**3. Calculate the mean squeared error for the predictions of model. Do you think adding new variables to the model mitigated the error?**"
   ]
  },
  {
   "cell_type": "code",
   "execution_count": null,
   "metadata": {},
   "outputs": [],
   "source": [
    "from sklearn.metrics import mean_squared_error\n",
    "# ..."
   ]
  }
 ],
 "metadata": {
  "kernelspec": {
   "display_name": "Python 3 (ipykernel)",
   "language": "python",
   "name": "python3"
  },
  "language_info": {
   "codemirror_mode": {
    "name": "ipython",
    "version": 3
   },
   "file_extension": ".py",
   "mimetype": "text/x-python",
   "name": "python",
   "nbconvert_exporter": "python",
   "pygments_lexer": "ipython3",
   "version": "3.8.12"
  },
  "vscode": {
   "interpreter": {
    "hash": "25aba1949f44877099d449300e326e4451e69b41f5f01d7de2dc51cdf7c75fa4"
   }
  }
 },
 "nbformat": 4,
 "nbformat_minor": 4
}
