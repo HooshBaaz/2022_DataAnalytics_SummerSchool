{
 "cells": [
  {
   "cell_type": "markdown",
   "metadata": {},
   "source": [
    "\n",
    "<img src=\"../assets/logo3.png\" width=\"200\" height=\"200\" >\n",
    "<div style=\"display:block\"><br><br>\n",
    "    <div style=\"display:block\" align=left display=block> \n",
    "        <font size=5><b>HandsOn 5 - Crawling the web with Beautiful Soup</b></font><br>\n",
    "        <hr/>\n",
    "</div>\n"
   ]
  },
  {
   "cell_type": "markdown",
   "metadata": {},
   "source": [
    "<pre>\n",
    "$ ( click to jump on task )\n",
    ".\n",
    "├── Introduction\n",
    "│   └── Jupyter hack!!\n",
    "│\n",
    "├── Working with Beautiful Soup\n",
    "│   └── Searching with Beautiful Soup\n",
    "│ \n",
    "├── <a href=\"#Task1\">Task1: Football Table</a> (Morning session)\n",
    "│\n",
    "└── <a href=\"#Task2\">Task2: Phone Shop</a> (Afternoon session)\n",
    "\n",
    "</pre>\n"
   ]
  },
  {
   "cell_type": "markdown",
   "metadata": {},
   "source": [
    "The sections marked with a Thinking Emoji (💭) are those which you need to read and answer. All right, without further ado let's get started!\n",
    "\n",
    "<b><span style=\"color:Red\">You might encounter difficulties sending a Request to Iranian websites using <span style=\"color:Green\">Google Colab</span>. This is because Colab uses a Foreign IP and It gets blocked when trying to access these websites. Please use <span style=\"color:Green\">Jupyter Notebook</span> for this Hands-On exercise. </span></b>"
   ]
  },
  {
   "cell_type": "markdown",
   "metadata": {},
   "source": [
    "<hr />\n",
    "\n",
    "# Introduction"
   ]
  },
  {
   "cell_type": "markdown",
   "metadata": {},
   "source": [
    "In this Hands-On excercise, you will work with these concepts:\n",
    "- Web Scraping & Data Collection using Requests and Beautiful Soup\n",
    "- Advanced Data Cleaning using Pandas and Regex"
   ]
  },
  {
   "cell_type": "markdown",
   "metadata": {},
   "source": [
    "<hr />\n",
    "\n",
    "### Jupyter hack!! \n",
    "\n",
    "Run the code below. Now by clicking TAB when writing code, you get a list of all functions and objects and you can enjoy auto completion. I recommend going wild with this feature and using it always! You can also use SHIFT + TAB in front of any function or variable to see its information."
   ]
  },
  {
   "cell_type": "code",
   "execution_count": 1,
   "metadata": {},
   "outputs": [],
   "source": [
    "%config Completer.use_jedi = False"
   ]
  },
  {
   "cell_type": "markdown",
   "metadata": {},
   "source": [
    "<hr />\n",
    "\n",
    "# 📖 Working with Beautiful Soup\n",
    "\n",
    "We can send a GET request to any webpage and get frontend's source code. Raw source code is usually messy and difficult to parse... \n",
    "\n",
    "💭 Run the code below to get the source code for https://python.org."
   ]
  },
  {
   "cell_type": "code",
   "execution_count": null,
   "metadata": {},
   "outputs": [],
   "source": [
    "import requests\n",
    "\n",
    "url = 'https://python.org'\n",
    "response = requests.get(url)\n",
    "\n",
    "print(response.encoding)\n",
    "print(response.apparent_encoding)\n",
    "\n",
    "print(response.text[:3000])"
   ]
  },
  {
   "cell_type": "markdown",
   "metadata": {},
   "source": [
    "The response is in the form of a very long string! It's difficult to access each HTML tag and attribute like this. The string is very messy as well...\n",
    "\n",
    "<hr />\n",
    "\n",
    "All you need is a <b><span style=\"color:green\">beautiful soup</span></b>! \n",
    "\n",
    "<b><span style=\"color:green\">Beautiful soup</span></b> is a Python library for pulling data out of HTML and XML files. It works with your favorite parser to provide idiomatic ways of navigating, searching, and modifying the parse tree. It commonly saves programmers hours or days of work.\n",
    "\n",
    "💭 Please install it in your conda environment: <br>\n",
    "\n",
    "<code> !conda install -y -c anaconda beautifulsoup4 </code>"
   ]
  },
  {
   "cell_type": "code",
   "execution_count": null,
   "metadata": {},
   "outputs": [],
   "source": [
    "'''\n",
    "You can install beautiful soup here\n",
    "'''"
   ]
  },
  {
   "cell_type": "markdown",
   "metadata": {},
   "source": [
    "💭 Now run the code below:"
   ]
  },
  {
   "cell_type": "code",
   "execution_count": null,
   "metadata": {},
   "outputs": [],
   "source": [
    "from bs4 import BeautifulSoup\n",
    "\n",
    "# beautiful soup takes the source code and a parser as input\n",
    "soup = BeautifulSoup(response.text, 'html.parser')\n",
    "\n",
    "print(soup)"
   ]
  },
  {
   "cell_type": "markdown",
   "metadata": {},
   "source": [
    "The data looks much prettier now. <b><span style=\"color:green\">Beautiful Soup</span></b> detects all HTML tags, so we can access these tags by using its built in functions!\n",
    "\n",
    "### 📖 But what are these \"HTML tags\" anyway?\n",
    "These HTML tags are exactly what you see when you press <b>F12</b> on a webpage. Everything that you see as a user inside a website is associated with one of these tags. If you don't believe me, right click on any element in a webpage and click on the <b>Inspect Element</b> botton. You will see which tag the element you clicked on belongs to! \n",
    "\n",
    "<img src=\"../assets/day5-handson-im.png\" height=\"200\" >\n",
    "\n",
    "#### 💭 try it for yourself! \n",
    "Visit <b>www.python.org</b>, right click on the <b>Community</b> botton, then click on the <b>Inspect Element</b> botton. It should look like the figure above:\n",
    "\n",
    "\n",
    "We can see that this element belongs to an <b><a\\></b> tag inside another <b><li\\></b> tag. In HTML, <b><a\\> </b> tag defines a hyperlink and <b><li\\></b> tag defines an item in a list. Each tag has some attributes. For example, the <b><a\\></b> tag here has a link (href) and a text value ('Community').\n",
    "<hr />\n",
    "\n",
    "### 📖 Searching with Beautiful Soup\n",
    "\n",
    "<b><span style=\"color:green\">Beautiful soup</span></b> allows you to search through the source code by tag names and their attributes. The code below finds the first <b><a\\></b> tag in python.org which satisfies the given conditions.\n",
    "    \n",
    "💭 try it for yourself!"
   ]
  },
  {
   "cell_type": "code",
   "execution_count": 3,
   "metadata": {},
   "outputs": [
    {
     "name": "stdout",
     "output_type": "stream",
     "text": [
      "<a href=\"/community-landing/\">Community</a>\n"
     ]
    }
   ],
   "source": [
    "# Can add any attributes we want to the function\n",
    "\n",
    "print(soup.find('a', href=\"/community-landing/\"))"
   ]
  },
  {
   "cell_type": "markdown",
   "metadata": {},
   "source": [
    "💭 Notice that there are sometimes many ways to search for the same tag:"
   ]
  },
  {
   "cell_type": "code",
   "execution_count": 4,
   "metadata": {},
   "outputs": [
    {
     "name": "stdout",
     "output_type": "stream",
     "text": [
      "<a href=\"#content\" title=\"Skip to content\">Skip to content</a>\n"
     ]
    }
   ],
   "source": [
    "print(soup.find('a', href=\"#content\"))"
   ]
  },
  {
   "cell_type": "code",
   "execution_count": 5,
   "metadata": {},
   "outputs": [
    {
     "name": "stdout",
     "output_type": "stream",
     "text": [
      "<a href=\"#content\" title=\"Skip to content\">Skip to content</a>\n"
     ]
    }
   ],
   "source": [
    "print(soup.find('a', text=\"Skip to content\"))"
   ]
  },
  {
   "cell_type": "markdown",
   "metadata": {},
   "source": [
    "<hr />\n",
    "\n",
    "#### 📖 What if we need to find every element that satisfies a condition?\n",
    "\n",
    "💭 Run the code below to find every <b> <a\\> </b> tag that exists in python.org!"
   ]
  },
  {
   "cell_type": "code",
   "execution_count": null,
   "metadata": {},
   "outputs": [],
   "source": [
    "a = soup.findAll('a')\n",
    "a"
   ]
  },
  {
   "cell_type": "markdown",
   "metadata": {},
   "source": [
    "<hr />\n",
    "\n",
    "#### 📖 What if we want to access the attributes of all those tags? \n",
    "Just imagine if the search result was a dictionary!\n",
    "\n",
    "💭 Run the code below to extract the links (href)."
   ]
  },
  {
   "cell_type": "code",
   "execution_count": null,
   "metadata": {},
   "outputs": [],
   "source": [
    "for i in a:\n",
    "    print(i['href'])"
   ]
  },
  {
   "cell_type": "markdown",
   "metadata": {},
   "source": [
    "<hr />\n",
    "\n",
    "#### 📖 Fancier functions\n",
    " There are two other functions, ```select_one``` and ```select``` that work in a similar fashion to ```find``` and ```findAll```, but these functions are more powerful. They allow defining complex conditions by <b><span style=\"color:green\">CSS</span></b> syntax!\n",
    "\n",
    "Below you can see some examples for <b><span style=\"color:green\">CSS</span></b> syntax. (Check out the documentation for more awesome tricks!)\n",
    "\n",
    "- a > b: I want an <b\\> tag that is inside a <a\\> tag\n",
    "- c#d: I want a <c\\> tag with its 'id' attribute equal to 'c'\n",
    "- e.f: I want an <e\\> tag with its 'class' attribute equal to 'd'\n",
    "\n",
    "💭 Run the code below. It finds <b>the first</b> <div\\> with id='nojs' which is inside another <div\\>. "
   ]
  },
  {
   "cell_type": "code",
   "execution_count": 8,
   "metadata": {},
   "outputs": [
    {
     "data": {
      "text/plain": [
       "<div class=\"do-not-print\" id=\"nojs\">\n",
       "<p><strong>Notice:</strong> While JavaScript is not essential for this website, your interaction with the content will be limited. Please turn JavaScript on for the full experience. </p>\n",
       "</div>"
      ]
     },
     "execution_count": 8,
     "metadata": {},
     "output_type": "execute_result"
    }
   ],
   "source": [
    "show = soup.select_one('div > div#nojs')\n",
    "show"
   ]
  },
  {
   "cell_type": "markdown",
   "metadata": {},
   "source": [
    "What if we want to access the text of this tag?"
   ]
  },
  {
   "cell_type": "code",
   "execution_count": 9,
   "metadata": {},
   "outputs": [
    {
     "data": {
      "text/plain": [
       "'\\nNotice: While JavaScript is not essential for this website, your interaction with the content will be limited. Please turn JavaScript on for the full experience. \\n'"
      ]
     },
     "execution_count": 9,
     "metadata": {},
     "output_type": "execute_result"
    }
   ],
   "source": [
    "show.text"
   ]
  },
  {
   "cell_type": "markdown",
   "metadata": {},
   "source": [
    " 💭 Run the code below. It finds <b>all</b> <div\\>s with class='do-not-print' inside another <div\\>."
   ]
  },
  {
   "cell_type": "code",
   "execution_count": null,
   "metadata": {},
   "outputs": [],
   "source": [
    "show = soup.select('div > div.do-not-print')\n",
    "show"
   ]
  },
  {
   "cell_type": "markdown",
   "metadata": {},
   "source": [
    "<hr />\n",
    "\n",
    "## 💭💭💭Task 1: Football table💭💭💭\n",
    "\n",
    "<a name=\"Task1\"></a>\n",
    "\n",
    "The goal of this exercise is to familiarize you more with Inspecting HTML source codes by extracting information from a static table in varzesh3.com.\n",
    "\n",
    "💭 Please visit this <b>[link](https://www.varzesh3.com/football/league/900578/%D9%84%DB%8C%DA%AF-%D8%A8%D8%B1%D8%AA%D8%B1-%D8%A7%DB%8C%D8%B1%D8%A7%D9%86-1400-1401)</b> and look at the table. It's the data for Iran's football league (1400-1401).\n",
    "\n",
    "💭 Run the code below to load the table.\n",
    "\n",
    "<b><span style=\"color:red\">When working with Persian letters, sometimes <b><span style=\"color:green\">requests</span></b> can get the encoding wrong and show strange characters. If this happens, restart the kernel and run the code below again.</span></b>\n"
   ]
  },
  {
   "cell_type": "code",
   "execution_count": null,
   "metadata": {},
   "outputs": [],
   "source": [
    "import requests\n",
    "from bs4 import BeautifulSoup\n",
    "\n",
    "url = 'https://www.varzesh3.com/football/league/900578/%D9%84%DB%8C%DA%AF-%D8%A8%D8%B1%D8%AA%D8%B1-%D8%A7%DB%8C%D8%B1%D8%A7%D9%86-1400-1401'\n",
    "\n",
    "response = requests.get(url)\n",
    "soup = BeautifulSoup(response.text, 'html.parser')\n",
    "table = soup.find('table')\n",
    "table "
   ]
  },
  {
   "cell_type": "markdown",
   "metadata": {},
   "source": [
    "💭 By inspecting the tag names in the webpage youre trying to crawl, give a short description of what each represent:\n",
    "\n",
    " - ```<thead>```: \n",
    " - ```<tr>```:\n",
    " - ```<th>```:\n",
    " - ```<tbody>```:\n",
    " - ```<td>```:\n",
    "\n",
    "<hr />"
   ]
  },
  {
   "cell_type": "markdown",
   "metadata": {},
   "source": [
    "💭 Explain briefly what this code is doing. What should the missing value stand for?\n",
    "\n",
    "...."
   ]
  },
  {
   "cell_type": "code",
   "execution_count": 13,
   "metadata": {},
   "outputs": [
    {
     "name": "stdout",
     "output_type": "stream",
     "text": [
      "['رتبه']\n",
      "['']\n",
      "['بازی']\n",
      "['برد']\n",
      "['مساوی']\n",
      "['باخت']\n",
      "[' گل -/+']\n",
      "['تفاضل ']\n",
      "['امتياز']\n",
      "['5 بازی آخر   ']\n"
     ]
    }
   ],
   "source": [
    "rows = table.find_all('tr')\n",
    "for row in rows:\n",
    "    for head in row.find_all('th'):\n",
    "        print([head.text])"
   ]
  },
  {
   "cell_type": "markdown",
   "metadata": {},
   "source": [
    "<hr />\n",
    "\n",
    "💭 Explain briefly what this code is doing. \n",
    "\n",
    "..."
   ]
  },
  {
   "cell_type": "code",
   "execution_count": null,
   "metadata": {},
   "outputs": [],
   "source": [
    "for row in rows:        \n",
    "    for body in row.find_all('td'):\n",
    "        print([body.text])"
   ]
  },
  {
   "cell_type": "markdown",
   "metadata": {},
   "source": [
    "<hr />\n",
    "\n",
    "📖 As you see, some of the lines have extra spacings, or extra characters like \"\\n\", \"\\r\" or extra spaces. We can use ```replace('a', 'b')``` function on any string to deal with these. \n",
    "\n",
    "💭 Use the aforementioned function to remove these extra characters from the table in the code below."
   ]
  },
  {
   "cell_type": "code",
   "execution_count": null,
   "metadata": {},
   "outputs": [],
   "source": [
    "rows = table.find_all('tr')\n",
    "\n",
    "datas = []\n",
    "\n",
    "for row in rows:\n",
    "    data = []\n",
    "    for head in row.find_all('th'):\n",
    "        h = head.text\n",
    "        \n",
    "        ''' Enter your code here'''\n",
    "\n",
    "        data.append(h)\n",
    "    for body in row.find_all('td'):\n",
    "        b = body.text\n",
    "        \n",
    "        ''' Enter your code here'''\n",
    "        \n",
    "        data.append(b)\n",
    "    datas.append(data)\n",
    "\n",
    "datas"
   ]
  },
  {
   "cell_type": "markdown",
   "metadata": {},
   "source": [
    "<hr />\n",
    "\n",
    "💭 Convert ```datas``` to a pandas DataFrame with proper column names & no empty rows or columns"
   ]
  },
  {
   "cell_type": "code",
   "execution_count": null,
   "metadata": {},
   "outputs": [],
   "source": [
    "import pandas as pd\n",
    "\n",
    "''' Enter your code here'''"
   ]
  },
  {
   "cell_type": "markdown",
   "metadata": {},
   "source": [
    "<hr />\n",
    "\n",
    "💭 Run these 2 code blocks"
   ]
  },
  {
   "cell_type": "code",
   "execution_count": null,
   "metadata": {},
   "outputs": [],
   "source": [
    "df.head()"
   ]
  },
  {
   "cell_type": "code",
   "execution_count": null,
   "metadata": {},
   "outputs": [],
   "source": [
    "df.info()"
   ]
  },
  {
   "cell_type": "markdown",
   "metadata": {},
   "source": [
    "<hr />\n",
    "\n",
    "💭 Create Two Columns for GS (Goals Scored) and GA (Goals Against) \n",
    "(همون گل زده و گل خورده خودمون)"
   ]
  },
  {
   "cell_type": "code",
   "execution_count": null,
   "metadata": {},
   "outputs": [],
   "source": [
    "''' Enter your code here'''"
   ]
  },
  {
   "cell_type": "markdown",
   "metadata": {},
   "source": [
    "<hr />\n",
    "\n",
    "💭 Which team has most losses?"
   ]
  },
  {
   "cell_type": "code",
   "execution_count": null,
   "metadata": {},
   "outputs": [],
   "source": [
    "''' Enter your code here'''"
   ]
  },
  {
   "cell_type": "markdown",
   "metadata": {},
   "source": [
    "<hr />\n",
    "\n",
    "\n",
    "💭 Which team has most goal difference? (Difference between the GS and GA) "
   ]
  },
  {
   "cell_type": "code",
   "execution_count": null,
   "metadata": {},
   "outputs": [],
   "source": [
    "''' Enter your code here'''"
   ]
  },
  {
   "cell_type": "markdown",
   "metadata": {},
   "source": [
    "<hr />\n",
    "\n",
    "\n",
    "💭 which team was the best during last 3 games? (Use the column with the ✔s)"
   ]
  },
  {
   "cell_type": "code",
   "execution_count": null,
   "metadata": {},
   "outputs": [],
   "source": [
    "''' Enter your code here'''"
   ]
  },
  {
   "cell_type": "markdown",
   "metadata": {
    "jp-MarkdownHeadingCollapsed": true,
    "tags": []
   },
   "source": [
    " <hr />\n",
    "The code snippet below can be used to display Persian and Arabic strings beautifully when plotting in Python. \n",
    "\n",
    "- Please add the package ```arabic_reshaper``` by this command: ```!conda install -c conda-forge arabic_reshaper```\n",
    "- Please add the package ```bidi``` by this command: ```!conda install -c conda-forge python-bidi```"
   ]
  },
  {
   "cell_type": "code",
   "execution_count": null,
   "metadata": {},
   "outputs": [],
   "source": [
    "'''\n",
    "You can install the packages here\n",
    "'''"
   ]
  },
  {
   "cell_type": "code",
   "execution_count": null,
   "metadata": {},
   "outputs": [],
   "source": [
    "# The code \n",
    "import matplotlib.pyplot as plt\n",
    "import arabic_reshaper\n",
    "from bidi.algorithm import get_display\n",
    "def reshaper(text_list):\n",
    "    for i in range(len(text_list)):\n",
    "        text_list[i] = get_display(arabic_reshaper.reshape(u'%s' %str(text_list[i])))\n",
    "    return text_list"
   ]
  },
  {
   "cell_type": "markdown",
   "metadata": {},
   "source": [
    " 💭 Plot Total Scores and The Scores of the last 3 games in one single bar plot. Please use the code snippet above for displaying the team names.\n",
    " (Your answer should look like the provided figure)\n"
   ]
  },
  {
   "cell_type": "code",
   "execution_count": 17,
   "metadata": {},
   "outputs": [
    {
     "data": {
      "image/png": "[encoded data removed]",
      "text/plain": [
       "<Figure size 720x504 with 1 Axes>"
      ]
     },
     "metadata": {
      "needs_background": "light"
     },
     "output_type": "display_data"
    }
   ],
   "source": [
    "plt.figure(figsize=(10,7))\n",
    "x_axis = reshaper(df[''].values)\n",
    "plt.bar(x_axis, df['امتياز'].astype('int').values, label='Total Score')\n",
    "plt.bar(x_axis, df['last3'].values, label='last 3 game Score')\n",
    "plt.xticks(rotation=45)\n",
    "plt.legend()\n",
    "plt.show()"
   ]
  },
  {
   "cell_type": "code",
   "execution_count": null,
   "metadata": {},
   "outputs": [],
   "source": [
    "''' Enter your code here'''"
   ]
  },
  {
   "cell_type": "markdown",
   "metadata": {},
   "source": [
    "<hr />\n",
    "<hr />\n",
    "<hr />\n",
    "<hr />\n",
    "<hr />\n",
    "<hr />\n",
    "<hr />\n",
    "<hr />\n",
    "<hr />\n",
    "<hr />\n",
    "<hr />\n",
    "<hr />\n",
    "<hr />\n",
    "\n",
    "## 💭💭💭Task 2: Phone Shop💭💭💭\n",
    "\n",
    "<a name=\"Task2\"></a>\n",
    "\n",
    "📖 Now let's search for a nice new phone in <b>technolife</b> by crawling it. :) <br />\n",
    "Below you can see the URL of the first page in the phone section <br />\n",
    "https://www.technolife.ir/product/list/69_800_801/%D8%AA%D9%85%D8%A7%D9%85%DB%8C-%DA%AF%D9%88%D8%B4%DB%8C%E2%80%8C%D9%87%D8%A7?code=69_800_801&plp=%D8%AA%D9%85%D8%A7%D9%85%DB%8C-%DA%AF%D9%88%D8%B4%DB%8C%E2%80%8C%D9%87%D8%A7&page=1\n",
    "\n",
    "<b>Notes</b>\n",
    "- if we want to crawl laptops from all pages, we should change the URL accordingly (For example, ```page=1``` should change to ```page=2```.\n",
    "In this example, we want to crawl the first 10 pages.\n",
    "- Crawling 10 pages might take a while to finish, so begin with just a few pages and increase the number when you're sure about your code. Using ```tqdm``` library helps by showing a progress bar! install it with ```pip``` or ```conda``` before running the code below.\n"
   ]
  },
  {
   "cell_type": "code",
   "execution_count": null,
   "metadata": {},
   "outputs": [],
   "source": [
    "'''\n",
    "You can install tqdm here\n",
    "'''"
   ]
  },
  {
   "cell_type": "markdown",
   "metadata": {},
   "source": [
    "\n",
    "### 💭 Crawling and saving the info\n",
    "💭 Open the URL above and Inspect the web page and their elements like title, price , ... to familiarize yourself with them."
   ]
  },
  {
   "cell_type": "markdown",
   "metadata": {},
   "source": [
    "<hr />\n",
    "💭 Complete the crawling code below...\n",
    "\n",
    "\n",
    "\n",
    "<b>Notes:</b> Please apply no preprocessing or data cleaning! <b>Just save the raw data</b>. You can also change the pages by manipulating the URL in the ```For``` loop below. Your results should look like the table provided in the output cell below."
   ]
  },
  {
   "cell_type": "code",
   "execution_count": 1,
   "metadata": {},
   "outputs": [
    {
     "name": "stderr",
     "output_type": "stream",
     "text": [
      "100%|██████████| 9/9 [00:14<00:00,  1.58s/it]\n"
     ]
    },
    {
     "data": {
      "text/html": [
       "<div>\n",
       "<style scoped>\n",
       "    .dataframe tbody tr th:only-of-type {\n",
       "        vertical-align: middle;\n",
       "    }\n",
       "\n",
       "    .dataframe tbody tr th {\n",
       "        vertical-align: top;\n",
       "    }\n",
       "\n",
       "    .dataframe thead th {\n",
       "        text-align: right;\n",
       "    }\n",
       "</style>\n",
       "<table border=\"1\" class=\"dataframe\">\n",
       "  <thead>\n",
       "    <tr style=\"text-align: right;\">\n",
       "      <th></th>\n",
       "      <th>title</th>\n",
       "      <th>hard disk</th>\n",
       "      <th>size</th>\n",
       "      <th>camera</th>\n",
       "      <th>battery</th>\n",
       "      <th>price</th>\n",
       "    </tr>\n",
       "  </thead>\n",
       "  <tbody>\n",
       "    <tr>\n",
       "      <th>0</th>\n",
       "      <td>گوشی موبايل سامسونگ مدل گلکسی A32 4G دو سیم کا...</td>\n",
       "      <td>128</td>\n",
       "      <td>6.4</td>\n",
       "      <td>64</td>\n",
       "      <td>5000</td>\n",
       "      <td>6,199,000</td>\n",
       "    </tr>\n",
       "    <tr>\n",
       "      <th>1</th>\n",
       "      <td>گوشی موبايل نوکيا مدل 105 (2019) ظرفیت 4 مگابا...</td>\n",
       "      <td>4</td>\n",
       "      <td>1.77</td>\n",
       "      <td></td>\n",
       "      <td>800</td>\n",
       "      <td>635,000</td>\n",
       "    </tr>\n",
       "    <tr>\n",
       "      <th>2</th>\n",
       "      <td>گوشی موبایل سامسونگ مدل  Galaxy A13  ظرفیت 64 ...</td>\n",
       "      <td>64</td>\n",
       "      <td>6.6</td>\n",
       "      <td>50</td>\n",
       "      <td>5000</td>\n",
       "      <td>4,555,000</td>\n",
       "    </tr>\n",
       "    <tr>\n",
       "      <th>3</th>\n",
       "      <td>گوشی موبايل سامسونگ مدل Galaxy A52s 5G ظرفیت 2...</td>\n",
       "      <td>256</td>\n",
       "      <td>6.5</td>\n",
       "      <td>64</td>\n",
       "      <td>4500</td>\n",
       "      <td>11,899,000</td>\n",
       "    </tr>\n",
       "    <tr>\n",
       "      <th>4</th>\n",
       "      <td>گوشی موبايل نوکيا مدل 106 (2018) ظرفیت 4 مگابا...</td>\n",
       "      <td>4</td>\n",
       "      <td>1.8</td>\n",
       "      <td></td>\n",
       "      <td>800</td>\n",
       "      <td>630,000</td>\n",
       "    </tr>\n",
       "    <tr>\n",
       "      <th>...</th>\n",
       "      <td>...</td>\n",
       "      <td>...</td>\n",
       "      <td>...</td>\n",
       "      <td>...</td>\n",
       "      <td>...</td>\n",
       "      <td>...</td>\n",
       "    </tr>\n",
       "    <tr>\n",
       "      <th>283</th>\n",
       "      <td>گوشی موبایل شیائومی Redmi Note 10S ظرفیت 128 گ...</td>\n",
       "      <td>64</td>\n",
       "      <td>128</td>\n",
       "      <td>6.43</td>\n",
       "      <td>5000</td>\n",
       "      <td>5,559,000</td>\n",
       "    </tr>\n",
       "    <tr>\n",
       "      <th>284</th>\n",
       "      <td>گوشی موبایل نوکیا 150 (2020)</td>\n",
       "      <td>4</td>\n",
       "      <td>2.4</td>\n",
       "      <td>VGA</td>\n",
       "      <td>1020</td>\n",
       "      <td>1,129,000</td>\n",
       "    </tr>\n",
       "    <tr>\n",
       "      <th>285</th>\n",
       "      <td>گوشی موبایل نوکیا مدل G10 ظرفیت 64 گیگابایت - ...</td>\n",
       "      <td>64</td>\n",
       "      <td>6.52</td>\n",
       "      <td>13</td>\n",
       "      <td>5050</td>\n",
       "      <td>3,369,000</td>\n",
       "    </tr>\n",
       "    <tr>\n",
       "      <th>286</th>\n",
       "      <td>گوشی موبایل شیائومی مدل Poco M4 Pro - ظرفیت 25...</td>\n",
       "      <td>256</td>\n",
       "      <td>6.43</td>\n",
       "      <td>64</td>\n",
       "      <td>5000</td>\n",
       "      <td>6,449,000</td>\n",
       "    </tr>\n",
       "    <tr>\n",
       "      <th>287</th>\n",
       "      <td>گوشی موبایل شیائومی مدل 11T Pro 5G ظرفیت 256 گ...</td>\n",
       "      <td>256</td>\n",
       "      <td>6.67</td>\n",
       "      <td>108</td>\n",
       "      <td>5000</td>\n",
       "      <td>12,959,000</td>\n",
       "    </tr>\n",
       "  </tbody>\n",
       "</table>\n",
       "<p>288 rows × 6 columns</p>\n",
       "</div>"
      ],
      "text/plain": [
       "                                                 title hard disk  size camera  \\\n",
       "0    گوشی موبايل سامسونگ مدل گلکسی A32 4G دو سیم کا...       128   6.4     64   \n",
       "1    گوشی موبايل نوکيا مدل 105 (2019) ظرفیت 4 مگابا...         4  1.77          \n",
       "2    گوشی موبایل سامسونگ مدل  Galaxy A13  ظرفیت 64 ...        64   6.6     50   \n",
       "3    گوشی موبايل سامسونگ مدل Galaxy A52s 5G ظرفیت 2...       256   6.5     64   \n",
       "4    گوشی موبايل نوکيا مدل 106 (2018) ظرفیت 4 مگابا...         4   1.8          \n",
       "..                                                 ...       ...   ...    ...   \n",
       "283  گوشی موبایل شیائومی Redmi Note 10S ظرفیت 128 گ...        64   128   6.43   \n",
       "284                       گوشی موبایل نوکیا 150 (2020)         4   2.4    VGA   \n",
       "285  گوشی موبایل نوکیا مدل G10 ظرفیت 64 گیگابایت - ...        64  6.52     13   \n",
       "286  گوشی موبایل شیائومی مدل Poco M4 Pro - ظرفیت 25...       256  6.43     64   \n",
       "287  گوشی موبایل شیائومی مدل 11T Pro 5G ظرفیت 256 گ...       256  6.67    108   \n",
       "\n",
       "    battery       price  \n",
       "0      5000   6,199,000  \n",
       "1       800     635,000  \n",
       "2      5000   4,555,000  \n",
       "3      4500  11,899,000  \n",
       "4       800     630,000  \n",
       "..      ...         ...  \n",
       "283    5000   5,559,000  \n",
       "284    1020   1,129,000  \n",
       "285    5050   3,369,000  \n",
       "286    5000   6,449,000  \n",
       "287    5000  12,959,000  \n",
       "\n",
       "[288 rows x 6 columns]"
      ]
     },
     "execution_count": 1,
     "metadata": {},
     "output_type": "execute_result"
    }
   ],
   "source": [
    "import requests\n",
    "from bs4 import BeautifulSoup \n",
    "import pandas as pd\n",
    "from tqdm import tqdm\n",
    "\n",
    "url = 'https://www.technolife.ir/product/list/69_800_801/%D8%AA%D9%85%D8%A7%D9%85%DB%8C-%DA%AF%D9%88%D8%B4%DB%8C%E2%80%8C%D9%87%D8%A7?code=69_800_801&plp=%D8%AA%D9%85%D8%A7%D9%85%DB%8C-%DA%AF%D9%88%D8%B4%DB%8C%E2%80%8C%D9%87%D8%A7&page='\n",
    "\n",
    "result = []\n",
    "\n",
    "for page in tqdm(range(1, 10)):\n",
    "    \n",
    "    '''' Enter your code here to Change the URL page '''\n",
    "    # new_url = \n",
    "    \n",
    "    # Get page with requests, and create an instance of Beautiful Soup\n",
    "    # page =\n",
    "    # soup = \n",
    "    \n",
    "    # Get product list\n",
    "    products = soup.select('div#productsList>ul>li')\n",
    "    \n",
    "    for p in products:\n",
    "        # Get product title\n",
    "        title = p.select('a.ProductComp_product_title__bOrf5>strong')[0].text\n",
    "\n",
    "        # Get product price\n",
    "        price = -1\n",
    "\n",
    "        offer_section = p.select_one('div.ProductComp_product_off_box__OfLBa')\n",
    "        \n",
    "        if not offer_section:\n",
    "            # there is no offer for this product (main price)\n",
    "            # price = \n",
    "        else:\n",
    "            # there is offer for this product (offer price)\n",
    "            '''' Enter your code here to extract product offer price '''\n",
    "            # price = \n",
    "        \n",
    "        # Get product specs (hard disk/screen size/camera/battery)\n",
    "        '''' Enter your code here to extract product specs '''\n",
    "        # hard_disk = \n",
    "        # size = \n",
    "        # camera =\n",
    "        # battery = \n",
    "        \n",
    "        result.append({\n",
    "            'title': title,\n",
    "            'hard disk': hard_disk,\n",
    "            'size': size,\n",
    "            'camera': camera,\n",
    "            'battery': battery,\n",
    "            'price': price\n",
    "        })\n",
    "\n",
    "# Saving dictionary in a dataframe\n",
    "data = pd.DataFrame(result)\n",
    "data"
   ]
  },
  {
   "cell_type": "markdown",
   "metadata": {},
   "source": [
    "<hr />"
   ]
  },
  {
   "cell_type": "markdown",
   "metadata": {},
   "source": [
    "### 💭 Clean the pandas dataframe\n",
    "<a name=\"Task2:clean\"></a>\n",
    "\n",
    " - Fix data types\n",
    "   - `hard disk` -> `int`\n",
    "   - `size` -> `float`\n",
    "   - `camera` -> `float`\n",
    "   - `battery` -> `int`\n",
    "   - `price` -> `int`\n",
    " - Normalize Arabic characters\n",
    " - Extract RAM inforamtion. (Use Regex)\n",
    " - Clean `title` column\n",
    "   - Remove redundant words (e.g. گوشی)\n",
    "   - Remove parts related to RAM/Storage information\n",
    "   - Remove non-word characters (e.g. -)\n",
    " \n",
    " You can play around with your <b><span style=\"color:green\">Regex</span></b> patterns <b>[here](https://regexr.com/)</b>"
   ]
  },
  {
   "cell_type": "code",
   "execution_count": 2,
   "metadata": {},
   "outputs": [],
   "source": [
    "# Fix data types \n",
    "# (Pay attention that some columns need a little extra work, try to see the unique values before converting!)\n",
    "\n",
    "'''Enter your code here'''"
   ]
  },
  {
   "cell_type": "code",
   "execution_count": 4,
   "metadata": {},
   "outputs": [],
   "source": [
    "# Normalize Arabic characters (Use the provided function)\n",
    "\n",
    "def normalize_char(txt):\n",
    "    txt = txt.replace('ك', 'ک')\n",
    "    txt = txt.replace('دِ', 'د')\n",
    "    txt = txt.replace('زِ', 'ز')\n",
    "    txt = txt.replace('ذِ', 'ذ')\n",
    "    txt = txt.replace('شِ', 'ش')\n",
    "    txt = txt.replace('سِ', 'س')\n",
    "    txt = txt.replace('ى', 'ی')\n",
    "    txt = txt.replace('ي', 'ی')\n",
    "    return txt\n",
    "\n",
    "'''Enter your code here'''"
   ]
  },
  {
   "cell_type": "code",
   "execution_count": 5,
   "metadata": {},
   "outputs": [],
   "source": [
    "# Extract RAM using Regex (Pay close attention to how the information looks like in different phones)\n",
    "import re \n",
    "\n",
    "'''Enter your code here'''\n",
    "# data['ram'] = "
   ]
  },
  {
   "cell_type": "code",
   "execution_count": 6,
   "metadata": {},
   "outputs": [],
   "source": [
    "# Clean title column (Hint: use Replace and Regex)\n",
    "\n",
    "'''Enter your code here'''\n",
    "# data['title'] = "
   ]
  },
  {
   "cell_type": "markdown",
   "metadata": {},
   "source": [
    "<hr />\n",
    "\n",
    "💭 Run these 2 code blocks at the end of your task"
   ]
  },
  {
   "cell_type": "code",
   "execution_count": null,
   "metadata": {},
   "outputs": [],
   "source": [
    "data.info()"
   ]
  },
  {
   "cell_type": "code",
   "execution_count": null,
   "metadata": {},
   "outputs": [],
   "source": [
    "data"
   ]
  },
  {
   "cell_type": "markdown",
   "metadata": {},
   "source": [
    "<hr />\n",
    "\n",
    "### 💭Learn more about the data\n",
    "\n",
    "Good job so far. Now let's gain some insights from the data we crawled!\n",
    "\n",
    "<a name=\"Task2:clean\"></a>\n",
    "\n",
    "💭 Show me all Samsung (سامسونگ) phones that have a 128GB hard disk."
   ]
  },
  {
   "cell_type": "code",
   "execution_count": null,
   "metadata": {},
   "outputs": [],
   "source": [
    "'''Enter your code here'''"
   ]
  },
  {
   "cell_type": "markdown",
   "metadata": {},
   "source": [
    "<hr />\n",
    "\n",
    "💭 Show me the phone with most battery capacity."
   ]
  },
  {
   "cell_type": "code",
   "execution_count": null,
   "metadata": {},
   "outputs": [],
   "source": [
    "'''Enter your code here'''"
   ]
  },
  {
   "cell_type": "markdown",
   "metadata": {},
   "source": [
    "<hr />\n",
    "\n",
    "💭 Categorize `price` column into below ranges and tell me how many phones there are from each price catgory is?:\n",
    "- (0.0, 1000000.0] : very low\n",
    "- (1000000.0, 5000000.0] : low\n",
    "- (5000000.0, 10000000.0] : mid\n",
    "- (10000000.0, 20000000.0] : high\n",
    "- (20000000.0, inf] : very high\n",
    "\n",
    "<b>HINT</b>: use `pd.cut` method\n",
    "\n",
    " "
   ]
  },
  {
   "cell_type": "code",
   "execution_count": null,
   "metadata": {},
   "outputs": [],
   "source": [
    "'''Enter your code here'''"
   ]
  },
  {
   "cell_type": "markdown",
   "metadata": {},
   "source": [
    "<hr />\n",
    "\n",
    "💭 plot `stacked bar plot` for count of each brand's price category. (Your table should look like the one in the output cell)\n",
    "- consider these brands:\n",
    "    - نوکیا\n",
    "    - سامسونگ\n",
    "    - شیائومی\n",
    "    - اپل"
   ]
  },
  {
   "cell_type": "code",
   "execution_count": 78,
   "metadata": {},
   "outputs": [
    {
     "data": {
      "image/png": "[encoded data removed]",
      "text/plain": [
       "<Figure size 720x504 with 1 Axes>"
      ]
     },
     "metadata": {
      "needs_background": "light"
     },
     "output_type": "display_data"
    }
   ],
   "source": [
    "'''Enter your code here'''"
   ]
  },
  {
   "cell_type": "markdown",
   "metadata": {},
   "source": [
    "<hr />\n",
    "\n",
    "💭 plot `Side-by-Side Boxplot` for price of phones with hard disk capacity of `64, 128 and 256`. (Your table should look like the one provided in the output cell)"
   ]
  },
  {
   "cell_type": "code",
   "execution_count": 77,
   "metadata": {},
   "outputs": [
    {
     "data": {
      "image/png": "[encoded data removed]",
      "text/plain": [
       "<Figure size 720x504 with 1 Axes>"
      ]
     },
     "metadata": {
      "needs_background": "light"
     },
     "output_type": "display_data"
    }
   ],
   "source": [
    "'''Enter your code here'''"
   ]
  },
  {
   "cell_type": "markdown",
   "metadata": {},
   "source": [
    "<hr />\n",
    "<hr />\n",
    "\n",
    "<span style=\"color:green\">\n",
    "    \n",
    "- Get crawling! but always treat the data & its owners with respect. There are a number of online articles about ethics of crawling. Check them out if you are interested. :)  \n",
    "    \n",
    "- Also learning Selenium and Spyder libraries is recommended if you're interested in advanced crawling!\n",
    "\n",
    "</span>\n",
    "\n",
    "\n",
    "<hr />\n",
    "<hr />\n",
    "\n",
    "# Good Luck 😉\n",
    "\n",
    "# More on crawling:\n",
    "- An awesome free Persian <b><a  href=https://programming.tosinso.com/fa/videos/8506/%D8%AF%D9%88%D8%B1%D9%87-%D8%A2%D9%85%D9%88%D8%B2%D8%B4%DB%8C-%D8%B1%D8%A7%DB%8C%DA%AF%D8%A7%D9%86-Web-Scraping-%D8%A8%D8%A7-%D8%B2%D8%A8%D8%A7%D9%86-%D8%A8%D8%B1%D9%86%D8%A7%D9%85%D9%87-%D9%86%D9%88%DB%8C%D8%B3%DB%8C-%D9%BE%D8%A7%DB%8C%D8%AA%D9%88%D9%86 > course</a></b>. "
   ]
  }
 ],
 "metadata": {
  "interpreter": {
   "hash": "5cbadbd7b17c2b3baa05a492ce9c4ab2cc7d01fc00a9236738a5fe671a76b80a"
  },
  "kernelspec": {
   "display_name": "Python 3 (ipykernel)",
   "language": "python",
   "name": "python3"
  },
  "language_info": {
   "codemirror_mode": {
    "name": "ipython",
    "version": 3
   },
   "file_extension": ".py",
   "mimetype": "text/x-python",
   "name": "python",
   "nbconvert_exporter": "python",
   "pygments_lexer": "ipython3",
   "version": "3.8.12"
  },
  "vscode": {
   "interpreter": {
    "hash": "5c3183615832a26a6e752fe1c57826911e31ec709aa29e730b8e3637a0be59be"
   }
  }
 },
 "nbformat": 4,
 "nbformat_minor": 4
}
